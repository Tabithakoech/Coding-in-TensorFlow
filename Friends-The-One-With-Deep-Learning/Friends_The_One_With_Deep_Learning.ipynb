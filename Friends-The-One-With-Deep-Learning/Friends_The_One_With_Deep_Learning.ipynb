{
  "nbformat": 4,
  "nbformat_minor": 0,
  "metadata": {
    "accelerator": "GPU",
    "colab": {
      "name": "Friends: The One With Deep Learning",
      "provenance": [],
      "collapsed_sections": [],
      "include_colab_link": true
    },
    "kernelspec": {
      "display_name": "Python 3",
      "name": "python3"
    }
  },
  "cells": [
    {
      "cell_type": "markdown",
      "metadata": {
        "id": "view-in-github",
        "colab_type": "text"
      },
      "source": [
        "<a href=\"https://colab.research.google.com/github/georgezoto/Coding-in-TensorFlow/blob/master/Friends-The-One-With-Deep-Learning/Friends_The_One_With_Deep_Learning.ipynb\" target=\"_parent\"><img src=\"https://colab.research.google.com/assets/colab-badge.svg\" alt=\"Open In Colab\"/></a>"
      ]
    },
    {
      "cell_type": "markdown",
      "metadata": {
        "id": "WTmp5aHhzqQt",
        "colab_type": "text"
      },
      "source": [
        "# Friends: The One With Deep Learning\n",
        "\n",
        "\n",
        "Image and meetup info here\n",
        "\n",
        "\n",
        "\n",
        "# Welcome to EmotionX 2019, the shared task of SocialNLP 2019.\n",
        "# SocialNLP: EmotionX 2019 Challenge https://sites.google.com/view/emotionx2019/home\n",
        "# EmotionLines: Emotional Dialogue Dataset http://doraemon.iis.sinica.edu.tw/emotionlines/index.html\n",
        "# EmotionLines: An Emotion Corpus of Multi-Party Conversations https://arxiv.org/pdf/1802.08379.pdf\n",
        "# SocialNLP 2018 EmotionX Challenge Overview: Recognizing Emotions in Dialogues https://www.aclweb.org/anthology/W18-3505.pdf"
      ]
    },
    {
      "cell_type": "code",
      "metadata": {
        "id": "LwCUPmutJYFD",
        "colab_type": "code",
        "colab": {
          "base_uri": "https://localhost:8080/",
          "height": 51
        },
        "outputId": "c8fac275-6e83-46be-959b-148d3f874a7c"
      },
      "source": [
        "#Data pre-processing\n",
        "import os\n",
        "import zipfile\n",
        "\n",
        "#TensorFlow\n",
        "import tensorflow as tf\n",
        "import tensorflow_hub as hub\n",
        "print(tf.__version__)\n",
        "print(hub.__version__)\n",
        "\n",
        "#Random seed for reproduciable results\n",
        "import random\n",
        "seed = 51\n",
        "tf.random.set_seed(seed)\n",
        "random.seed(seed)"
      ],
      "execution_count": 1,
      "outputs": [
        {
          "output_type": "stream",
          "text": [
            "2.3.0\n",
            "0.8.0\n"
          ],
          "name": "stdout"
        }
      ]
    },
    {
      "cell_type": "code",
      "metadata": {
        "id": "kj8rPFeJKKHD",
        "colab_type": "code",
        "colab": {}
      },
      "source": [
        "import urllib.request\n",
        "#'https://goo.gl/rzfLf5'\n",
        "EmotionLines_Friends_Dataset = 'https://drive.google.com/u/0/uc?id=1Koxs2pVSmmO_-LWDGx3uUODVHY1yNrTM&export=download'\n",
        "urllib.request.urlretrieve(EmotionLines_Friends_Dataset, '/tmp/EmotionLines_Friends_Dataset.tar.gz');"
      ],
      "execution_count": 2,
      "outputs": []
    },
    {
      "cell_type": "code",
      "metadata": {
        "id": "m2vGU4QzMyaQ",
        "colab_type": "code",
        "colab": {}
      },
      "source": [
        "#!wget --no-check-certificate \\\n",
        "#'https://drive.google.com/u/0/uc?id=1Koxs2pVSmmO_-LWDGx3uUODVHY1yNrTM&export=download'\\\n",
        "# -O /tmp/EmotionLines_Friends_Dataset.tar.gz"
      ],
      "execution_count": 3,
      "outputs": []
    },
    {
      "cell_type": "code",
      "metadata": {
        "id": "OrKH8sXILE_t",
        "colab_type": "code",
        "colab": {}
      },
      "source": [
        "import tarfile\n",
        "tar = tarfile.open('/tmp/EmotionLines_Friends_Dataset.tar.gz', \"r:gz\")\n",
        "tar.extractall()\n",
        "tar.close()"
      ],
      "execution_count": 4,
      "outputs": []
    },
    {
      "cell_type": "code",
      "metadata": {
        "id": "K0QxEDwJKKJZ",
        "colab_type": "code",
        "colab": {}
      },
      "source": [
        "import json\n",
        "friends_train_path = '/content/EmotionLines/Friends/friends_train.json'\n",
        "friends_validation_path = '/content/EmotionLines/Friends/friends_dev.json'\n",
        "friends_test_path = '/content/EmotionLines/Friends/friends_test.json'\n",
        "\n",
        "with open(friends_train_path, 'r') as f:\n",
        "    friends_train = json.load(f)\n",
        "\n",
        "with open(friends_validation_path, 'r') as f:\n",
        "    friends_validation = json.load(f)\n",
        "\n",
        "with open(friends_test_path, 'r') as f:\n",
        "    friends_test = json.load(f)    "
      ],
      "execution_count": 5,
      "outputs": []
    },
    {
      "cell_type": "code",
      "metadata": {
        "id": "RI4y_s7mO7VA",
        "colab_type": "code",
        "colab": {
          "base_uri": "https://localhost:8080/",
          "height": 34
        },
        "outputId": "918fe8de-44d3-4cb4-9c42-0495811325c8"
      },
      "source": [
        "type(friends_train)"
      ],
      "execution_count": 6,
      "outputs": [
        {
          "output_type": "execute_result",
          "data": {
            "text/plain": [
              "list"
            ]
          },
          "metadata": {
            "tags": []
          },
          "execution_count": 6
        }
      ]
    },
    {
      "cell_type": "code",
      "metadata": {
        "id": "M7FjaIQdO7W2",
        "colab_type": "code",
        "colab": {
          "base_uri": "https://localhost:8080/",
          "height": 34
        },
        "outputId": "d33f17d1-4766-4ff1-b71a-489ada486fe3"
      },
      "source": [
        "print(len(friends_train), len(friends_validation), len(friends_test))"
      ],
      "execution_count": 7,
      "outputs": [
        {
          "output_type": "stream",
          "text": [
            "720 80 200\n"
          ],
          "name": "stdout"
        }
      ]
    },
    {
      "cell_type": "code",
      "metadata": {
        "id": "UhxV_CZUO_gE",
        "colab_type": "code",
        "colab": {
          "base_uri": "https://localhost:8080/",
          "height": 221
        },
        "outputId": "d5a0be22-0153-4317-9460-7019afb54f5e"
      },
      "source": [
        "friends_train[0][:3]"
      ],
      "execution_count": 8,
      "outputs": [
        {
          "output_type": "execute_result",
          "data": {
            "text/plain": [
              "[{'annotation': '4100000',\n",
              "  'emotion': 'neutral',\n",
              "  'speaker': 'Chandler',\n",
              "  'utterance': 'also I was the point person on my company\\x92s transition from the KL-5 to GR-6 system.'},\n",
              " {'annotation': '5000000',\n",
              "  'emotion': 'neutral',\n",
              "  'speaker': 'The Interviewer',\n",
              "  'utterance': 'You must\\x92ve had your hands full.'},\n",
              " {'annotation': '5000000',\n",
              "  'emotion': 'neutral',\n",
              "  'speaker': 'Chandler',\n",
              "  'utterance': 'That I did. That I did.'}]"
            ]
          },
          "metadata": {
            "tags": []
          },
          "execution_count": 8
        }
      ]
    },
    {
      "cell_type": "code",
      "metadata": {
        "id": "XYAJ7HTFO_iL",
        "colab_type": "code",
        "colab": {
          "base_uri": "https://localhost:8080/",
          "height": 34
        },
        "outputId": "be0e9f3c-6bd0-47b8-e316-936348439e50"
      },
      "source": [
        "len(friends_train[0])"
      ],
      "execution_count": 9,
      "outputs": [
        {
          "output_type": "execute_result",
          "data": {
            "text/plain": [
              "23"
            ]
          },
          "metadata": {
            "tags": []
          },
          "execution_count": 9
        }
      ]
    },
    {
      "cell_type": "code",
      "metadata": {
        "id": "HPgZAio7PGsI",
        "colab_type": "code",
        "colab": {
          "base_uri": "https://localhost:8080/",
          "height": 221
        },
        "outputId": "2e35fcbc-f5e5-4cf7-e9ca-3138e7691599"
      },
      "source": [
        "friends_train[0][:3]"
      ],
      "execution_count": 10,
      "outputs": [
        {
          "output_type": "execute_result",
          "data": {
            "text/plain": [
              "[{'annotation': '4100000',\n",
              "  'emotion': 'neutral',\n",
              "  'speaker': 'Chandler',\n",
              "  'utterance': 'also I was the point person on my company\\x92s transition from the KL-5 to GR-6 system.'},\n",
              " {'annotation': '5000000',\n",
              "  'emotion': 'neutral',\n",
              "  'speaker': 'The Interviewer',\n",
              "  'utterance': 'You must\\x92ve had your hands full.'},\n",
              " {'annotation': '5000000',\n",
              "  'emotion': 'neutral',\n",
              "  'speaker': 'Chandler',\n",
              "  'utterance': 'That I did. That I did.'}]"
            ]
          },
          "metadata": {
            "tags": []
          },
          "execution_count": 10
        }
      ]
    },
    {
      "cell_type": "markdown",
      "metadata": {
        "id": "mDCzM16XuSm4",
        "colab_type": "text"
      },
      "source": [
        "### Inspiration from David's choice to combine speaker with the utterance\n",
        "https://github.com/dcpatton/NLP/blob/master/Friends_NLP.ipynb"
      ]
    },
    {
      "cell_type": "code",
      "metadata": {
        "id": "SHS-jiNwPVzm",
        "colab_type": "code",
        "colab": {}
      },
      "source": [
        "#training dataset\n",
        "train_utterance = []\n",
        "train_emotion = []\n",
        "train_speaker = []\n",
        "\n",
        "for dialogue in friends_train:\n",
        "  for line in dialogue:\n",
        "    train_utterance.append(line['utterance'])\n",
        "    \n",
        "    #Neutral, Joy, Sadness, Fear, Anger, Surprise, Disgust, Non-Neutral\n",
        "    e = line['emotion']\n",
        "\n",
        "    int_emotion = 0\n",
        "    if e == 'neutral':\n",
        "      int_emotion = 0\n",
        "    elif e == 'joy':\n",
        "      int_emotion = 1\n",
        "    elif e == 'sadness':\n",
        "      int_emotion = 2\n",
        "    elif e == 'fear':\n",
        "      int_emotion = 3\n",
        "    elif e == 'anger':\n",
        "      int_emotion = 4\n",
        "    elif e == 'surprise':\n",
        "      int_emotion = 5\n",
        "    elif e == 'disgust':\n",
        "      int_emotion = 6\n",
        "    elif e == 'non-neutral':\n",
        "      int_emotion = 7\n",
        "\n",
        "    train_emotion.append(int_emotion)\n",
        "    train_speaker.append(line['speaker'])\n",
        "\n",
        "#validation dataset\n",
        "validation_utterance = []\n",
        "validation_emotion = []\n",
        "validation_speaker = []\n",
        "\n",
        "for dialogue in friends_validation:\n",
        "  for line in dialogue:\n",
        "    validation_utterance.append(line['utterance'])\n",
        "\n",
        "    #Neutral, Joy, Sadness, Fear, Anger, Surprise, Disgust, Non-Neutral\n",
        "    e = line['emotion']\n",
        "\n",
        "    int_emotion = 0\n",
        "    if e == 'neutral':\n",
        "      int_emotion = 0\n",
        "    elif e == 'joy':\n",
        "      int_emotion = 1\n",
        "    elif e == 'sadness':\n",
        "      int_emotion = 2\n",
        "    elif e == 'fear':\n",
        "      int_emotion = 3\n",
        "    elif e == 'anger':\n",
        "      int_emotion = 4\n",
        "    elif e == 'surprise':\n",
        "      int_emotion = 5\n",
        "    elif e == 'disgust':\n",
        "      int_emotion = 6\n",
        "    elif e == 'non-neutral':\n",
        "      int_emotion = 7\n",
        "\n",
        "    validation_emotion.append(int_emotion)\n",
        "    validation_speaker.append(line['speaker'])"
      ],
      "execution_count": 11,
      "outputs": []
    },
    {
      "cell_type": "code",
      "metadata": {
        "id": "53fUV2beQFcw",
        "colab_type": "code",
        "colab": {
          "base_uri": "https://localhost:8080/",
          "height": 34
        },
        "outputId": "3d0628fc-7518-40fe-b99e-4581298c698a"
      },
      "source": [
        "len(train_utterance)"
      ],
      "execution_count": 174,
      "outputs": [
        {
          "output_type": "execute_result",
          "data": {
            "text/plain": [
              "10561"
            ]
          },
          "metadata": {
            "tags": []
          },
          "execution_count": 174
        }
      ]
    },
    {
      "cell_type": "code",
      "metadata": {
        "id": "J9LtaMH4QJTX",
        "colab_type": "code",
        "colab": {
          "base_uri": "https://localhost:8080/",
          "height": 88
        },
        "outputId": "0bde669d-2ae7-457a-d4af-c08459d8230b"
      },
      "source": [
        "for s, u, e in zip(train_utterance[:3], train_utterance[:3], train_emotion[:3]):\n",
        "  print(s, u, e)"
      ],
      "execution_count": 175,
      "outputs": [
        {
          "output_type": "stream",
          "text": [
            "also I was the point person on my companys transition from the KL-5 to GR-6 system. also I was the point person on my companys transition from the KL-5 to GR-6 system. 0\n",
            "You mustve had your hands full. You mustve had your hands full. 0\n",
            "That I did. That I did. That I did. That I did. 0\n"
          ],
          "name": "stdout"
        }
      ]
    },
    {
      "cell_type": "code",
      "metadata": {
        "id": "x7R7wLeZJYHA",
        "colab_type": "code",
        "colab": {}
      },
      "source": [
        "from tensorflow.keras.preprocessing.text import Tokenizer\n",
        "from tensorflow.keras.preprocessing.sequence import pad_sequences"
      ],
      "execution_count": 176,
      "outputs": []
    },
    {
      "cell_type": "code",
      "metadata": {
        "id": "hvRfLe10PV5x",
        "colab_type": "code",
        "colab": {}
      },
      "source": [
        "num_classes = 7\n",
        "#The total of seven labels are Neutral, Joy, Sadness, Fear, Anger, Surprise, and Disgust\n",
        "\n",
        "vocab_size = 1000\n",
        "embedding_dim = 16\n",
        "max_length = 120\n",
        "trunc_type='post'\n",
        "padding_type='post'\n",
        "oov_tok = \"<OOV>\"\n",
        "#training_size = 20000"
      ],
      "execution_count": 177,
      "outputs": []
    },
    {
      "cell_type": "code",
      "metadata": {
        "id": "Nhq81T2NQxO3",
        "colab_type": "code",
        "colab": {}
      },
      "source": [
        "tokenizer = Tokenizer(num_words=vocab_size, oov_token=oov_tok)\n",
        "tokenizer.fit_on_texts(train_utterance)"
      ],
      "execution_count": 178,
      "outputs": []
    },
    {
      "cell_type": "code",
      "metadata": {
        "id": "lBVO7C_HQxRV",
        "colab_type": "code",
        "colab": {
          "base_uri": "https://localhost:8080/",
          "height": 1000
        },
        "outputId": "957c42c3-43dc-4a39-834c-57b99f547f50"
      },
      "source": [
        "word_index = tokenizer.word_index\n",
        "word_index"
      ],
      "execution_count": 179,
      "outputs": [
        {
          "output_type": "execute_result",
          "data": {
            "text/plain": [
              "{'<OOV>': 1,\n",
              " 'i': 2,\n",
              " 'you': 3,\n",
              " 'the': 4,\n",
              " 'to': 5,\n",
              " 'a': 6,\n",
              " 'and': 7,\n",
              " 'oh': 8,\n",
              " 'it': 9,\n",
              " 'that': 10,\n",
              " 'no': 11,\n",
              " 'what': 12,\n",
              " 'is': 13,\n",
              " 'this': 14,\n",
              " 'me': 15,\n",
              " 'okay': 16,\n",
              " 'so': 17,\n",
              " 'yeah': 18,\n",
              " 'just': 19,\n",
              " 'of': 20,\n",
              " 'my': 21,\n",
              " 'in': 22,\n",
              " 'have': 23,\n",
              " 'we': 24,\n",
              " 'hey': 25,\n",
              " 'do': 26,\n",
              " 'i\\x92m': 27,\n",
              " 'well': 28,\n",
              " 'know': 29,\n",
              " 'on': 30,\n",
              " 'all': 31,\n",
              " 'not': 32,\n",
              " 'are': 33,\n",
              " 'for': 34,\n",
              " 'right': 35,\n",
              " 'was': 36,\n",
              " 'with': 37,\n",
              " 'but': 38,\n",
              " 'be': 39,\n",
              " 'go': 40,\n",
              " 'your': 41,\n",
              " 'don\\x92t': 42,\n",
              " 'like': 43,\n",
              " 'gonna': 44,\n",
              " 'get': 45,\n",
              " 'here': 46,\n",
              " 'it\\x92s': 47,\n",
              " 'out': 48,\n",
              " 'really': 49,\n",
              " 'uh': 50,\n",
              " 'can': 51,\n",
              " 'about': 52,\n",
              " \"i'm\": 53,\n",
              " 'up': 54,\n",
              " 'he': 55,\n",
              " 'think': 56,\n",
              " 'look': 57,\n",
              " 'there': 58,\n",
              " 'that\\x92s': 59,\n",
              " 'how': 60,\n",
              " 'now': 61,\n",
              " 'her': 62,\n",
              " 'one': 63,\n",
              " 'if': 64,\n",
              " 'at': 65,\n",
              " 'got': 66,\n",
              " 'mean': 67,\n",
              " 'see': 68,\n",
              " 'you\\x92re': 69,\n",
              " 'come': 70,\n",
              " 'god': 71,\n",
              " 'why': 72,\n",
              " 'him': 73,\n",
              " 'did': 74,\n",
              " 'ross': 75,\n",
              " 'good': 76,\n",
              " 'she': 77,\n",
              " 'sorry': 78,\n",
              " 'want': 79,\n",
              " \"it's\": 80,\n",
              " 'they': 81,\n",
              " 'tell': 82,\n",
              " 'joey': 83,\n",
              " 'great': 84,\n",
              " 'when': 85,\n",
              " 'hi': 86,\n",
              " 'guys': 87,\n",
              " 'y\\x92know': 88,\n",
              " 'yes': 89,\n",
              " \"don't\": 90,\n",
              " \"y'know\": 91,\n",
              " 'going': 92,\n",
              " 'would': 93,\n",
              " 'umm': 94,\n",
              " 'some': 95,\n",
              " 'then': 96,\n",
              " 'could': 97,\n",
              " 'were': 98,\n",
              " 'back': 99,\n",
              " 'because': 100,\n",
              " 'time': 101,\n",
              " 'too': 102,\n",
              " 'had': 103,\n",
              " 'little': 104,\n",
              " 'say': 105,\n",
              " 'can\\x92t': 106,\n",
              " 'who': 107,\n",
              " 'love': 108,\n",
              " 'something': 109,\n",
              " 'been': 110,\n",
              " 'chandler': 111,\n",
              " \"that's\": 112,\n",
              " 'wait': 113,\n",
              " 'as': 114,\n",
              " 'thank': 115,\n",
              " 'guy': 116,\n",
              " 'or': 117,\n",
              " \"you're\": 118,\n",
              " 'ok': 119,\n",
              " 'phoebe': 120,\n",
              " 'huh': 121,\n",
              " 'should': 122,\n",
              " 'wanna': 123,\n",
              " 'an': 124,\n",
              " 'monica': 125,\n",
              " 'rachel': 126,\n",
              " 'over': 127,\n",
              " 'from': 128,\n",
              " 'doing': 129,\n",
              " 'his': 130,\n",
              " 'am': 131,\n",
              " 'said': 132,\n",
              " 'them': 133,\n",
              " 'make': 134,\n",
              " 'i\\x92ll': 135,\n",
              " 'we\\x92re': 136,\n",
              " 'us': 137,\n",
              " 'thing': 138,\n",
              " 'take': 139,\n",
              " 'will': 140,\n",
              " 'never': 141,\n",
              " 'people': 142,\n",
              " 'sure': 143,\n",
              " 'please': 144,\n",
              " 'ah': 145,\n",
              " 'maybe': 146,\n",
              " 'much': 147,\n",
              " 'where': 148,\n",
              " 'let': 149,\n",
              " 'still': 150,\n",
              " 'man': 151,\n",
              " 'does': 152,\n",
              " 'listen': 153,\n",
              " 'by': 154,\n",
              " 'down': 155,\n",
              " 'again': 156,\n",
              " 'way': 157,\n",
              " 'um': 158,\n",
              " 'off': 159,\n",
              " 'two': 160,\n",
              " 'very': 161,\n",
              " 'wow': 162,\n",
              " 'actually': 163,\n",
              " 'give': 164,\n",
              " 'fine': 165,\n",
              " 'need': 166,\n",
              " 'first': 167,\n",
              " 'our': 168,\n",
              " 'believe': 169,\n",
              " 'he\\x92s': 170,\n",
              " 'i\\x92ve': 171,\n",
              " 'even': 172,\n",
              " 'pheebs': 173,\n",
              " 'didn\\x92t': 174,\n",
              " 'thanks': 175,\n",
              " 'thought': 176,\n",
              " 'big': 177,\n",
              " 'whoa': 178,\n",
              " \"can't\": 179,\n",
              " 'only': 180,\n",
              " 'nice': 181,\n",
              " 'night': 182,\n",
              " 'has': 183,\n",
              " 'more': 184,\n",
              " 'before': 185,\n",
              " 'work': 186,\n",
              " 'place': 187,\n",
              " 'call': 188,\n",
              " 'other': 189,\n",
              " 'gotta': 190,\n",
              " 'these': 191,\n",
              " 'hello': 192,\n",
              " 'stuff': 193,\n",
              " 'stop': 194,\n",
              " 'talk': 195,\n",
              " 'she\\x92s': 196,\n",
              " 'feel': 197,\n",
              " 'ya': 198,\n",
              " 'bye': 199,\n",
              " \"he's\": 200,\n",
              " 'ever': 201,\n",
              " 'lot': 202,\n",
              " 'any': 203,\n",
              " 'those': 204,\n",
              " 'there\\x92s': 205,\n",
              " 'nothing': 206,\n",
              " 'put': 207,\n",
              " 'anything': 208,\n",
              " 'married': 209,\n",
              " 'things': 210,\n",
              " 'last': 211,\n",
              " 'baby': 212,\n",
              " 'remember': 213,\n",
              " 'girl': 214,\n",
              " 'new': 215,\n",
              " 'what\\x92s': 216,\n",
              " 'pretty': 217,\n",
              " 'let\\x92s': 218,\n",
              " \"i'll\": 219,\n",
              " 'rach': 220,\n",
              " 'went': 221,\n",
              " 'happened': 222,\n",
              " 'told': 223,\n",
              " 'wanted': 224,\n",
              " 'ohh': 225,\n",
              " 'into': 226,\n",
              " 'room': 227,\n",
              " 'they\\x92re': 228,\n",
              " 'better': 229,\n",
              " 'around': 230,\n",
              " 'made': 231,\n",
              " 'honey': 232,\n",
              " 'guess': 233,\n",
              " \"didn't\": 234,\n",
              " 'kinda': 235,\n",
              " 'play': 236,\n",
              " 'name': 237,\n",
              " 'talking': 238,\n",
              " \"we're\": 239,\n",
              " 'care': 240,\n",
              " 'help': 241,\n",
              " 'wedding': 242,\n",
              " 'always': 243,\n",
              " 'totally': 244,\n",
              " 'happy': 245,\n",
              " 'best': 246,\n",
              " 'together': 247,\n",
              " 'having': 248,\n",
              " 'kind': 249,\n",
              " 'ooh': 250,\n",
              " 'date': 251,\n",
              " 'thinking': 252,\n",
              " 'pick': 253,\n",
              " 'day': 254,\n",
              " \"what's\": 255,\n",
              " 'fun': 256,\n",
              " 'friends': 257,\n",
              " 'getting': 258,\n",
              " 'phone': 259,\n",
              " 'friend': 260,\n",
              " 'left': 261,\n",
              " 'woman': 262,\n",
              " 'next': 263,\n",
              " 'ask': 264,\n",
              " 'bad': 265,\n",
              " 'second': 266,\n",
              " 'stupid': 267,\n",
              " \"i've\": 268,\n",
              " 'which': 269,\n",
              " 'wrong': 270,\n",
              " 'tonight': 271,\n",
              " 'doesn\\x92t': 272,\n",
              " 'ow': 273,\n",
              " 'five': 274,\n",
              " \"she's\": 275,\n",
              " 'else': 276,\n",
              " 'ready': 277,\n",
              " 'yet': 278,\n",
              " 'done': 279,\n",
              " 'job': 280,\n",
              " 'whole': 281,\n",
              " 'another': 282,\n",
              " 'eat': 283,\n",
              " 'funny': 284,\n",
              " 'hear': 285,\n",
              " 'coming': 286,\n",
              " 'than': 287,\n",
              " 'stay': 288,\n",
              " 'problem': 289,\n",
              " 'home': 290,\n",
              " 'years': 291,\n",
              " 'try': 292,\n",
              " 'find': 293,\n",
              " 'later': 294,\n",
              " 'ring': 295,\n",
              " 'old': 296,\n",
              " 'long': 297,\n",
              " 'after': 298,\n",
              " 'i\\x92d': 299,\n",
              " 'check': 300,\n",
              " 'tomorrow': 301,\n",
              " 'might': 302,\n",
              " 'such': 303,\n",
              " 'trying': 304,\n",
              " 'looking': 305,\n",
              " 'game': 306,\n",
              " 'today': 307,\n",
              " 'called': 308,\n",
              " 'we\\x92ll': 309,\n",
              " 'anyway': 310,\n",
              " 'idea': 311,\n",
              " \"let's\": 312,\n",
              " 'probably': 313,\n",
              " 'someone': 314,\n",
              " 'course': 315,\n",
              " 'may': 316,\n",
              " '\\x91cause': 317,\n",
              " 'leave': 318,\n",
              " 'myself': 319,\n",
              " 'money': 320,\n",
              " 'ho': 321,\n",
              " 'real': 322,\n",
              " 'happen': 323,\n",
              " 'three': 324,\n",
              " 'hard': 325,\n",
              " 'away': 326,\n",
              " 'came': 327,\n",
              " 'move': 328,\n",
              " 'hot': 329,\n",
              " 'enough': 330,\n",
              " \"they're\": 331,\n",
              " 'supposed': 332,\n",
              " 'life': 333,\n",
              " 'keep': 334,\n",
              " 'mine': 335,\n",
              " 'mom': 336,\n",
              " 'party': 337,\n",
              " 'being': 338,\n",
              " 'every': 339,\n",
              " 'coffee': 340,\n",
              " 'wants': 341,\n",
              " 'ben': 342,\n",
              " 'crazy': 343,\n",
              " 'part': 344,\n",
              " 'minute': 345,\n",
              " 'weird': 346,\n",
              " 'bing': 347,\n",
              " 'hand': 348,\n",
              " 'year': 349,\n",
              " 'hold': 350,\n",
              " 'serious': 351,\n",
              " 'each': 352,\n",
              " 'took': 353,\n",
              " 'women': 354,\n",
              " 'matter': 355,\n",
              " 'ha': 356,\n",
              " 'morning': 357,\n",
              " 'sex': 358,\n",
              " 'saying': 359,\n",
              " 'wouldn\\x92t': 360,\n",
              " 'everybody': 361,\n",
              " 'apartment': 362,\n",
              " 'anymore': 363,\n",
              " 'dad': 364,\n",
              " 'naked': 365,\n",
              " \"there's\": 366,\n",
              " 'high': 367,\n",
              " 'dinner': 368,\n",
              " 'telling': 369,\n",
              " 'hmm': 370,\n",
              " 'show': 371,\n",
              " 'bring': 372,\n",
              " 'knew': 373,\n",
              " 'either': 374,\n",
              " 'head': 375,\n",
              " 'same': 376,\n",
              " 'knows': 377,\n",
              " 'you\\x92ve': 378,\n",
              " 'father': 379,\n",
              " 'their': 380,\n",
              " 'dr': 381,\n",
              " 'turn': 382,\n",
              " 'you\\x92ll': 383,\n",
              " 'says': 384,\n",
              " 'world': 385,\n",
              " 'start': 386,\n",
              " 'both': 387,\n",
              " 'most': 388,\n",
              " 'hours': 389,\n",
              " 'sleep': 390,\n",
              " 'amazing': 391,\n",
              " 'looks': 392,\n",
              " 'mr': 393,\n",
              " 'marry': 394,\n",
              " 'seen': 395,\n",
              " 'excuse': 396,\n",
              " 'anyone': 397,\n",
              " 'use': 398,\n",
              " 'alright': 399,\n",
              " 'house': 400,\n",
              " 'hang': 401,\n",
              " 'though': 402,\n",
              " 'watch': 403,\n",
              " 'geller': 404,\n",
              " 'saw': 405,\n",
              " 'live': 406,\n",
              " 'janice': 407,\n",
              " 'minutes': 408,\n",
              " 'kiss': 409,\n",
              " 'half': 410,\n",
              " 'also': 411,\n",
              " 'wish': 412,\n",
              " 'late': 413,\n",
              " 'since': 414,\n",
              " 'until': 415,\n",
              " 'chance': 416,\n",
              " 'yourself': 417,\n",
              " 'question': 418,\n",
              " 'anybody': 419,\n",
              " 'deal': 420,\n",
              " 'wearing': 421,\n",
              " 'lost': 422,\n",
              " 'everything': 423,\n",
              " 'who\\x92s': 424,\n",
              " 'couple': 425,\n",
              " 'comes': 426,\n",
              " 'forget': 427,\n",
              " 'joe': 428,\n",
              " 'open': 429,\n",
              " 'without': 430,\n",
              " 'kids': 431,\n",
              " 'beautiful': 432,\n",
              " 'ahh': 433,\n",
              " 'meet': 434,\n",
              " 'food': 435,\n",
              " 'dude': 436,\n",
              " 'four': 437,\n",
              " 'break': 438,\n",
              " 'read': 439,\n",
              " 'making': 440,\n",
              " 'pants': 441,\n",
              " 'person': 442,\n",
              " 'bit': 443,\n",
              " \"doesn't\": 444,\n",
              " 'throw': 445,\n",
              " 'understand': 446,\n",
              " 'asked': 447,\n",
              " 'kidding': 448,\n",
              " 'own': 449,\n",
              " 'mind': 450,\n",
              " 'glad': 451,\n",
              " 'walk': 452,\n",
              " 'won\\x92t': 453,\n",
              " 'already': 454,\n",
              " 'school': 455,\n",
              " 'cool': 456,\n",
              " \"we'll\": 457,\n",
              " 'through': 458,\n",
              " 'absolutely': 459,\n",
              " 'once': 460,\n",
              " 'doctor': 461,\n",
              " 'cannot': 462,\n",
              " 'bed': 463,\n",
              " 'hurt': 464,\n",
              " 'hate': 465,\n",
              " 'number': 466,\n",
              " 'sweet': 467,\n",
              " 'sister': 468,\n",
              " \"i'd\": 469,\n",
              " 'promise': 470,\n",
              " 'must': 471,\n",
              " 'somebody': 472,\n",
              " 'ten': 473,\n",
              " 'while': 474,\n",
              " 'under': 475,\n",
              " 'mad': 476,\n",
              " 'alone': 477,\n",
              " 'babies': 478,\n",
              " 'kill': 479,\n",
              " 'wear': 480,\n",
              " 'girls': 481,\n",
              " 'times': 482,\n",
              " 'hell': 483,\n",
              " 'used': 484,\n",
              " 'couldn\\x92t': 485,\n",
              " 'cute': 486,\n",
              " 'makes': 487,\n",
              " 'gone': 488,\n",
              " \"won't\": 489,\n",
              " \"'\": 490,\n",
              " 'started': 491,\n",
              " 'bob': 492,\n",
              " 'haven\\x92t': 493,\n",
              " 'sounds': 494,\n",
              " 'different': 495,\n",
              " 'yep': 496,\n",
              " 'true': 497,\n",
              " 'miss': 498,\n",
              " 'kid': 499,\n",
              " \"wasn't\": 500,\n",
              " 'sit': 501,\n",
              " 'wasn\\x92t': 502,\n",
              " 'gay': 503,\n",
              " 'sir': 504,\n",
              " 'ugh': 505,\n",
              " 'worry': 506,\n",
              " 'hope': 507,\n",
              " 'between': 508,\n",
              " 'found': 509,\n",
              " 'exactly': 510,\n",
              " 'buddy': 511,\n",
              " 'able': 512,\n",
              " 'working': 513,\n",
              " 'gave': 514,\n",
              " \"you've\": 515,\n",
              " 'movie': 516,\n",
              " 'important': 517,\n",
              " 'bet': 518,\n",
              " 'brother': 519,\n",
              " 'buy': 520,\n",
              " 'gets': 521,\n",
              " 'story': 522,\n",
              " 'book': 523,\n",
              " 'easy': 524,\n",
              " 'carol': 525,\n",
              " 'sweetie': 526,\n",
              " 'goes': 527,\n",
              " 'parents': 528,\n",
              " 'plan': 529,\n",
              " 'free': 530,\n",
              " 'broke': 531,\n",
              " 'boy': 532,\n",
              " 'ball': 533,\n",
              " 'unbelievable': 534,\n",
              " '\\x91em': 535,\n",
              " \"isn't\": 536,\n",
              " 'six': 537,\n",
              " 'cut': 538,\n",
              " 'feeling': 539,\n",
              " 'kathy': 540,\n",
              " 'city': 541,\n",
              " 'soon': 542,\n",
              " 'picture': 543,\n",
              " 'pay': 544,\n",
              " 'isn\\x92t': 545,\n",
              " 'here\\x92s': 546,\n",
              " 'hour': 547,\n",
              " 'relax': 548,\n",
              " 'liked': 549,\n",
              " 'thanksgiving': 550,\n",
              " 'end': 551,\n",
              " 'huge': 552,\n",
              " 'means': 553,\n",
              " 'perfect': 554,\n",
              " 'green': 555,\n",
              " 'face': 556,\n",
              " 'small': 557,\n",
              " 'message': 558,\n",
              " 'machine': 559,\n",
              " 'everyone': 560,\n",
              " 'mrs': 561,\n",
              " 'win': 562,\n",
              " 'family': 563,\n",
              " 'candy': 564,\n",
              " 'car': 565,\n",
              " \"'cause\": 566,\n",
              " 'mon': 567,\n",
              " 'asleep': 568,\n",
              " 'realize': 569,\n",
              " 'table': 570,\n",
              " 'wh': 571,\n",
              " 'clothes': 572,\n",
              " 'dance': 573,\n",
              " 'girlfriend': 574,\n",
              " 'men': 575,\n",
              " 'word': 576,\n",
              " 'eh': 577,\n",
              " 'lady': 578,\n",
              " 'shower': 579,\n",
              " 'seeing': 580,\n",
              " 'brought': 581,\n",
              " 'touch': 582,\n",
              " 'pregnant': 583,\n",
              " 'hit': 584,\n",
              " 'its': 585,\n",
              " 'moving': 586,\n",
              " 'close': 587,\n",
              " 'museum': 588,\n",
              " 'son': 589,\n",
              " 'marriage': 590,\n",
              " 'eyes': 591,\n",
              " 'fire': 592,\n",
              " 'uhh': 593,\n",
              " 'bathroom': 594,\n",
              " 'many': 595,\n",
              " 'david': 596,\n",
              " 'taking': 597,\n",
              " 'figure': 598,\n",
              " 'street': 599,\n",
              " \"you'd\": 600,\n",
              " 'ass': 601,\n",
              " 'scared': 602,\n",
              " 'asking': 603,\n",
              " 'almost': 604,\n",
              " 'aww': 605,\n",
              " 'birthday': 606,\n",
              " 'you\\x92d': 607,\n",
              " 'playing': 608,\n",
              " 'lives': 609,\n",
              " 'song': 610,\n",
              " 'soup': 611,\n",
              " 'seven': 612,\n",
              " 'roommate': 613,\n",
              " 'seem': 614,\n",
              " 'thinks': 615,\n",
              " 'building': 616,\n",
              " 'line': 617,\n",
              " 'fell': 618,\n",
              " 'stand': 619,\n",
              " 'reason': 620,\n",
              " 'dead': 621,\n",
              " 'rest': 622,\n",
              " 'blue': 623,\n",
              " 'talked': 624,\n",
              " 'few': 625,\n",
              " 'change': 626,\n",
              " 'bag': 627,\n",
              " 'bitch': 628,\n",
              " 'tickets': 629,\n",
              " 'seriously': 630,\n",
              " 'fact': 631,\n",
              " 'smell': 632,\n",
              " 'whatever': 633,\n",
              " 'office': 634,\n",
              " 'ohhh': 635,\n",
              " 'special': 636,\n",
              " 'side': 637,\n",
              " 'aw': 638,\n",
              " 'fault': 639,\n",
              " 'aren\\x92t': 640,\n",
              " 'lose': 641,\n",
              " 'emily': 642,\n",
              " \"who's\": 643,\n",
              " 'heard': 644,\n",
              " 'spend': 645,\n",
              " 'monica\\x92s': 646,\n",
              " 'week': 647,\n",
              " 'eye': 648,\n",
              " 'dog': 649,\n",
              " 'least': 650,\n",
              " 'restaurant': 651,\n",
              " 'porn': 652,\n",
              " 'stick': 653,\n",
              " 'list': 654,\n",
              " 'plans': 655,\n",
              " 'dum': 656,\n",
              " \"we've\": 657,\n",
              " 'sick': 658,\n",
              " 'spent': 659,\n",
              " 'heads': 660,\n",
              " 'answer': 661,\n",
              " 'meant': 662,\n",
              " 'shut': 663,\n",
              " 'top': 664,\n",
              " 'moment': 665,\n",
              " 'nobody': 666,\n",
              " \"wouldn't\": 667,\n",
              " 'shouldn\\x92t': 668,\n",
              " 'fast': 669,\n",
              " 'grandmother': 670,\n",
              " 'ew': 671,\n",
              " 'welcome': 672,\n",
              " 'terrible': 673,\n",
              " 'won': 674,\n",
              " 'quick': 675,\n",
              " 'doin\\x92': 676,\n",
              " 'quit': 677,\n",
              " 'richard': 678,\n",
              " 'loved': 679,\n",
              " 'team': 680,\n",
              " '8': 681,\n",
              " 'forgot': 682,\n",
              " 'living': 683,\n",
              " 'moved': 684,\n",
              " 'bucks': 685,\n",
              " 'card': 686,\n",
              " '2': 687,\n",
              " 'run': 688,\n",
              " 'definitely': 689,\n",
              " \"you'll\": 690,\n",
              " 'joshua': 691,\n",
              " 'shirt': 692,\n",
              " 'ago': 693,\n",
              " 'yours': 694,\n",
              " 'underwear': 695,\n",
              " 'floor': 696,\n",
              " 'wife': 697,\n",
              " 'feels': 698,\n",
              " 'questions': 699,\n",
              " 'shoot': 700,\n",
              " 'bought': 701,\n",
              " 'boxes': 702,\n",
              " 'susan': 703,\n",
              " 'don’t': 704,\n",
              " 'red': 705,\n",
              " 'write': 706,\n",
              " 'e': 707,\n",
              " 'shot': 708,\n",
              " 'class': 709,\n",
              " 'hands': 710,\n",
              " '30': 711,\n",
              " 'apparently': 712,\n",
              " 'route': 713,\n",
              " 'happens': 714,\n",
              " 'boyfriend': 715,\n",
              " 'hair': 716,\n",
              " 'luck': 717,\n",
              " \"couldn't\": 718,\n",
              " 'weeks': 719,\n",
              " 'heart': 720,\n",
              " 'daddy': 721,\n",
              " 'ones': 722,\n",
              " 'surprise': 723,\n",
              " 'excited': 724,\n",
              " 'box': 725,\n",
              " 'against': 726,\n",
              " 'how\\x92s': 727,\n",
              " 'chef': 728,\n",
              " 'stuck': 729,\n",
              " 'turned': 730,\n",
              " 'lie': 731,\n",
              " 'chick': 732,\n",
              " 'tired': 733,\n",
              " 'months': 734,\n",
              " 'hole': 735,\n",
              " 'decided': 736,\n",
              " 'lunch': 737,\n",
              " 'third': 738,\n",
              " 'felt': 739,\n",
              " 'drunk': 740,\n",
              " '10': 741,\n",
              " 'days': 742,\n",
              " 'cookies': 743,\n",
              " 'idiot': 744,\n",
              " 'store': 745,\n",
              " 'front': 746,\n",
              " 'town': 747,\n",
              " \"haven't\": 748,\n",
              " 'owe': 749,\n",
              " 'cup': 750,\n",
              " 'door': 751,\n",
              " 'chandler\\x92s': 752,\n",
              " 'sometimes': 753,\n",
              " 'window': 754,\n",
              " 'porsche': 755,\n",
              " 'light': 756,\n",
              " 'business': 757,\n",
              " 'die': 758,\n",
              " 'mother': 759,\n",
              " 'frank': 760,\n",
              " 'mail': 761,\n",
              " 'chip': 762,\n",
              " 'point': 763,\n",
              " 'sucks': 764,\n",
              " 'wrote': 765,\n",
              " 'mark': 766,\n",
              " 'jealous': 767,\n",
              " 'scene': 768,\n",
              " 'london': 769,\n",
              " 'damn': 770,\n",
              " 'cat': 771,\n",
              " 'loves': 772,\n",
              " 'water': 773,\n",
              " 'tribbiani': 774,\n",
              " 'completely': 775,\n",
              " 'sweater': 776,\n",
              " 'eight': 777,\n",
              " 'mistake': 778,\n",
              " 'ran': 779,\n",
              " 'seems': 780,\n",
              " 'clear': 781,\n",
              " 'less': 782,\n",
              " 'neither': 783,\n",
              " 'calling': 784,\n",
              " 'would\\x92ve': 785,\n",
              " 'missed': 786,\n",
              " 'looked': 787,\n",
              " 'sitting': 788,\n",
              " 'trust': 789,\n",
              " 'stripper': 790,\n",
              " 'fight': 791,\n",
              " 'dollars': 792,\n",
              " 'needs': 793,\n",
              " 'taste': 794,\n",
              " '1': 795,\n",
              " 'fair': 796,\n",
              " 'weekend': 797,\n",
              " 'set': 798,\n",
              " 'pete': 799,\n",
              " 'died': 800,\n",
              " 'news': 801,\n",
              " 'entire': 802,\n",
              " 'rule': 803,\n",
              " 'knock': 804,\n",
              " 'mess': 805,\n",
              " 'leg': 806,\n",
              " 'interested': 807,\n",
              " 'sad': 808,\n",
              " 'nooo': 809,\n",
              " 'figured': 810,\n",
              " 'suck': 811,\n",
              " 'park': 812,\n",
              " 'imagine': 813,\n",
              " \"c'mon\": 814,\n",
              " 'speak': 815,\n",
              " 'grade': 816,\n",
              " 'grab': 817,\n",
              " 'pass': 818,\n",
              " 'watching': 819,\n",
              " 'bigger': 820,\n",
              " 'guy\\x92s': 821,\n",
              " 'damnit': 822,\n",
              " 'nah': 823,\n",
              " 'starts': 824,\n",
              " 'drake': 825,\n",
              " 'actor': 826,\n",
              " 'alan': 827,\n",
              " 'full': 828,\n",
              " 'empty': 829,\n",
              " 'inside': 830,\n",
              " 'wondering': 831,\n",
              " 'finally': 832,\n",
              " 'so\\x85': 833,\n",
              " 'professor': 834,\n",
              " 'middle': 835,\n",
              " 'difference': 836,\n",
              " 'pizza': 837,\n",
              " 'straight': 838,\n",
              " 'switch': 839,\n",
              " 'yay': 840,\n",
              " 'nervous': 841,\n",
              " 'although': 842,\n",
              " 'met': 843,\n",
              " 'breaking': 844,\n",
              " 'calm': 845,\n",
              " 'audition': 846,\n",
              " \"here's\": 847,\n",
              " 'mike': 848,\n",
              " 'interesting': 849,\n",
              " 'tv': 850,\n",
              " 'smart': 851,\n",
              " 'kissed': 852,\n",
              " 'duck': 853,\n",
              " 'king': 854,\n",
              " 'gimme': 855,\n",
              " 'rules': 856,\n",
              " 'favorite': 857,\n",
              " 'uncle': 858,\n",
              " 'secret': 859,\n",
              " 'jill': 860,\n",
              " 'we\\x92ve': 861,\n",
              " 'joey\\x92s': 862,\n",
              " 'christmas': 863,\n",
              " 'crush': 864,\n",
              " 'vegas': 865,\n",
              " 'somewhere': 866,\n",
              " 'test': 867,\n",
              " 'clean': 868,\n",
              " 'nickname': 869,\n",
              " 'fat': 870,\n",
              " 'dating': 871,\n",
              " 'far': 872,\n",
              " 'favor': 873,\n",
              " 'barry': 874,\n",
              " 'early': 875,\n",
              " 'band': 876,\n",
              " 'yesterday': 877,\n",
              " 'casey': 878,\n",
              " 'sing': 879,\n",
              " 'downstairs': 880,\n",
              " 'invite': 881,\n",
              " 'nine': 882,\n",
              " 'choose': 883,\n",
              " 'sent': 884,\n",
              " 'button': 885,\n",
              " 'finish': 886,\n",
              " 'wonder': 887,\n",
              " 'behind': 888,\n",
              " 'divorce': 889,\n",
              " '\\x92': 890,\n",
              " 'giving': 891,\n",
              " 'purse': 892,\n",
              " 'strong': 893,\n",
              " 'holding': 894,\n",
              " 'lights': 895,\n",
              " 'romantic': 896,\n",
              " 'lying': 897,\n",
              " 'bijan': 898,\n",
              " 'birds': 899,\n",
              " 'crap': 900,\n",
              " 'la': 901,\n",
              " 'decide': 902,\n",
              " 'using': 903,\n",
              " 'keys': 904,\n",
              " 'quarter': 905,\n",
              " '6': 906,\n",
              " 'system': 907,\n",
              " 'must\\x92ve': 908,\n",
              " 'month': 909,\n",
              " 'italian': 910,\n",
              " 'tough': 911,\n",
              " 'proud': 912,\n",
              " 'surprised': 913,\n",
              " 'paid': 914,\n",
              " 'evil': 915,\n",
              " 'health': 916,\n",
              " 'pain': 917,\n",
              " 'speech': 918,\n",
              " 'kept': 919,\n",
              " 'feelings': 920,\n",
              " 'fan': 921,\n",
              " 'putting': 922,\n",
              " 'worth': 923,\n",
              " 'warm': 924,\n",
              " 'letting': 925,\n",
              " 'bike': 926,\n",
              " 'stole': 927,\n",
              " 'starting': 928,\n",
              " 'ma': 929,\n",
              " \"'em\": 930,\n",
              " 'worked': 931,\n",
              " 'pack': 932,\n",
              " 'sensitive': 933,\n",
              " 'especially': 934,\n",
              " 'careful': 935,\n",
              " 'keeps': 936,\n",
              " 'personal': 937,\n",
              " 'shopping': 938,\n",
              " 'ended': 939,\n",
              " 'twice': 940,\n",
              " 'future': 941,\n",
              " 'happening': 942,\n",
              " 'ticket': 943,\n",
              " 'gotten': 944,\n",
              " 'engaged': 945,\n",
              " 'along': 946,\n",
              " 'dancing': 947,\n",
              " 'leaving': 948,\n",
              " 'showing': 949,\n",
              " 'across': 950,\n",
              " \"doin'\": 951,\n",
              " 'worried': 952,\n",
              " 'worse': 953,\n",
              " 'changed': 954,\n",
              " 'trip': 955,\n",
              " 'obviously': 956,\n",
              " 'page': 957,\n",
              " 'tag': 958,\n",
              " 'appreciate': 959,\n",
              " 'laundry': 960,\n",
              " 'explain': 961,\n",
              " 'cooking': 962,\n",
              " 'piece': 963,\n",
              " 'angela': 964,\n",
              " 'forever': 965,\n",
              " 'instead': 966,\n",
              " 'walking': 967,\n",
              " 'mona': 968,\n",
              " 'sometime': 969,\n",
              " 'human': 970,\n",
              " 'cover': 971,\n",
              " 'speed': 972,\n",
              " 'order': 973,\n",
              " 'relationship': 974,\n",
              " 'charming': 975,\n",
              " 'walked': 976,\n",
              " 'drink': 977,\n",
              " 'freak': 978,\n",
              " 'phoebe\\x92s': 979,\n",
              " 'body': 980,\n",
              " 'drop': 981,\n",
              " 'apologize': 982,\n",
              " 'teacher': 983,\n",
              " '7': 984,\n",
              " 'sound': 985,\n",
              " 'turkey': 986,\n",
              " 'it\\x92ll': 987,\n",
              " 'lovely': 988,\n",
              " 'shh': 989,\n",
              " 'cry': 990,\n",
              " 'teach': 991,\n",
              " 'he\\x92ll': 992,\n",
              " 'cowboy': 993,\n",
              " 'it’s': 994,\n",
              " 'mouth': 995,\n",
              " 'noo': 996,\n",
              " 'larry': 997,\n",
              " '000': 998,\n",
              " 'save': 999,\n",
              " 'upset': 1000,\n",
              " ...}"
            ]
          },
          "metadata": {
            "tags": []
          },
          "execution_count": 179
        }
      ]
    },
    {
      "cell_type": "code",
      "metadata": {
        "id": "GjIncl2xRAIN",
        "colab_type": "code",
        "colab": {}
      },
      "source": [
        "train_utterance_sequences = tokenizer.texts_to_sequences(train_utterance)\n",
        "train_utterance_padded = pad_sequences(train_utterance_sequences, maxlen=max_length, padding=padding_type, truncating=trunc_type)"
      ],
      "execution_count": 180,
      "outputs": []
    },
    {
      "cell_type": "code",
      "metadata": {
        "id": "EGUopz9HS6rp",
        "colab_type": "code",
        "colab": {}
      },
      "source": [
        "validation_utterance_sequences = tokenizer.texts_to_sequences(validation_utterance)\n",
        "validation_utterance_padded = pad_sequences(validation_utterance_sequences, maxlen=max_length, padding=padding_type, truncating=trunc_type)"
      ],
      "execution_count": 181,
      "outputs": []
    },
    {
      "cell_type": "code",
      "metadata": {
        "id": "v94gR-brRaiE",
        "colab_type": "code",
        "colab": {
          "base_uri": "https://localhost:8080/",
          "height": 68
        },
        "outputId": "23d49f3a-7b51-4070-b431-998c4675c195"
      },
      "source": [
        "train_utterance[:3]"
      ],
      "execution_count": 182,
      "outputs": [
        {
          "output_type": "execute_result",
          "data": {
            "text/plain": [
              "['also I was the point person on my company\\x92s transition from the KL-5 to GR-6 system.',\n",
              " 'You must\\x92ve had your hands full.',\n",
              " 'That I did. That I did.']"
            ]
          },
          "metadata": {
            "tags": []
          },
          "execution_count": 182
        }
      ]
    },
    {
      "cell_type": "code",
      "metadata": {
        "id": "LQN3wuXRRAKV",
        "colab_type": "code",
        "colab": {
          "base_uri": "https://localhost:8080/",
          "height": 68
        },
        "outputId": "435b027c-bc81-4281-d368-f5a9b9fd1f0f"
      },
      "source": [
        "train_utterance_sequences[:3]"
      ],
      "execution_count": 183,
      "outputs": [
        {
          "output_type": "execute_result",
          "data": {
            "text/plain": [
              "[[411, 2, 36, 4, 763, 442, 30, 21, 1, 1, 128, 4, 1, 1, 5, 1, 906, 907],\n",
              " [3, 908, 103, 41, 710, 828],\n",
              " [10, 2, 74, 10, 2, 74]]"
            ]
          },
          "metadata": {
            "tags": []
          },
          "execution_count": 183
        }
      ]
    },
    {
      "cell_type": "code",
      "metadata": {
        "id": "5ZfD68K_RVS3",
        "colab_type": "code",
        "colab": {
          "base_uri": "https://localhost:8080/",
          "height": 527
        },
        "outputId": "710c5375-3486-41be-a116-fd7ca7e06ada"
      },
      "source": [
        "train_utterance_padded[:3]"
      ],
      "execution_count": 184,
      "outputs": [
        {
          "output_type": "execute_result",
          "data": {
            "text/plain": [
              "array([[411,   2,  36,   4, 763, 442,  30,  21,   1,   1, 128,   4,   1,\n",
              "          1,   5,   1, 906, 907,   0,   0,   0,   0,   0,   0,   0,   0,\n",
              "          0,   0,   0,   0,   0,   0,   0,   0,   0,   0,   0,   0,   0,\n",
              "          0,   0,   0,   0,   0,   0,   0,   0,   0,   0,   0,   0,   0,\n",
              "          0,   0,   0,   0,   0,   0,   0,   0,   0,   0,   0,   0,   0,\n",
              "          0,   0,   0,   0,   0,   0,   0,   0,   0,   0,   0,   0,   0,\n",
              "          0,   0,   0,   0,   0,   0,   0,   0,   0,   0,   0,   0,   0,\n",
              "          0,   0,   0,   0,   0,   0,   0,   0,   0,   0,   0,   0,   0,\n",
              "          0,   0,   0,   0,   0,   0,   0,   0,   0,   0,   0,   0,   0,\n",
              "          0,   0,   0],\n",
              "       [  3, 908, 103,  41, 710, 828,   0,   0,   0,   0,   0,   0,   0,\n",
              "          0,   0,   0,   0,   0,   0,   0,   0,   0,   0,   0,   0,   0,\n",
              "          0,   0,   0,   0,   0,   0,   0,   0,   0,   0,   0,   0,   0,\n",
              "          0,   0,   0,   0,   0,   0,   0,   0,   0,   0,   0,   0,   0,\n",
              "          0,   0,   0,   0,   0,   0,   0,   0,   0,   0,   0,   0,   0,\n",
              "          0,   0,   0,   0,   0,   0,   0,   0,   0,   0,   0,   0,   0,\n",
              "          0,   0,   0,   0,   0,   0,   0,   0,   0,   0,   0,   0,   0,\n",
              "          0,   0,   0,   0,   0,   0,   0,   0,   0,   0,   0,   0,   0,\n",
              "          0,   0,   0,   0,   0,   0,   0,   0,   0,   0,   0,   0,   0,\n",
              "          0,   0,   0],\n",
              "       [ 10,   2,  74,  10,   2,  74,   0,   0,   0,   0,   0,   0,   0,\n",
              "          0,   0,   0,   0,   0,   0,   0,   0,   0,   0,   0,   0,   0,\n",
              "          0,   0,   0,   0,   0,   0,   0,   0,   0,   0,   0,   0,   0,\n",
              "          0,   0,   0,   0,   0,   0,   0,   0,   0,   0,   0,   0,   0,\n",
              "          0,   0,   0,   0,   0,   0,   0,   0,   0,   0,   0,   0,   0,\n",
              "          0,   0,   0,   0,   0,   0,   0,   0,   0,   0,   0,   0,   0,\n",
              "          0,   0,   0,   0,   0,   0,   0,   0,   0,   0,   0,   0,   0,\n",
              "          0,   0,   0,   0,   0,   0,   0,   0,   0,   0,   0,   0,   0,\n",
              "          0,   0,   0,   0,   0,   0,   0,   0,   0,   0,   0,   0,   0,\n",
              "          0,   0,   0]], dtype=int32)"
            ]
          },
          "metadata": {
            "tags": []
          },
          "execution_count": 184
        }
      ]
    },
    {
      "cell_type": "code",
      "metadata": {
        "id": "Nkm_ki940AAd",
        "colab_type": "code",
        "colab": {}
      },
      "source": [
        "model = tf.keras.Sequential([\n",
        "    tf.keras.layers.Embedding(vocab_size, embedding_dim, input_length=max_length),\n",
        "    tf.keras.layers.Bidirectional(tf.keras.layers.LSTM(32)),\n",
        "    tf.keras.layers.Dense(24, activation='relu'),\n",
        "    tf.keras.layers.Dropout(0.2),\n",
        "    tf.keras.layers.Dense(num_classes, activation='softmax')\n",
        "])"
      ],
      "execution_count": 185,
      "outputs": []
    },
    {
      "cell_type": "code",
      "metadata": {
        "id": "tyn5N0gRUOF5",
        "colab_type": "code",
        "colab": {
          "base_uri": "https://localhost:8080/",
          "height": 323
        },
        "outputId": "a7271a15-d627-4771-e6c3-4504dc16920f"
      },
      "source": [
        "model.summary()"
      ],
      "execution_count": 186,
      "outputs": [
        {
          "output_type": "stream",
          "text": [
            "Model: \"sequential_4\"\n",
            "_________________________________________________________________\n",
            "Layer (type)                 Output Shape              Param #   \n",
            "=================================================================\n",
            "embedding_4 (Embedding)      (None, 120, 16)           16000     \n",
            "_________________________________________________________________\n",
            "bidirectional_4 (Bidirection (None, 64)                12544     \n",
            "_________________________________________________________________\n",
            "dense_8 (Dense)              (None, 24)                1560      \n",
            "_________________________________________________________________\n",
            "dropout_4 (Dropout)          (None, 24)                0         \n",
            "_________________________________________________________________\n",
            "dense_9 (Dense)              (None, 7)                 175       \n",
            "=================================================================\n",
            "Total params: 30,279\n",
            "Trainable params: 30,279\n",
            "Non-trainable params: 0\n",
            "_________________________________________________________________\n"
          ],
          "name": "stdout"
        }
      ]
    },
    {
      "cell_type": "code",
      "metadata": {
        "id": "3AVVpKj8UIao",
        "colab_type": "code",
        "colab": {}
      },
      "source": [
        "model.compile(loss='sparse_categorical_crossentropy', optimizer='adam', metrics=['accuracy'])"
      ],
      "execution_count": 187,
      "outputs": []
    },
    {
      "cell_type": "code",
      "metadata": {
        "id": "c-2QorwzUIcw",
        "colab_type": "code",
        "colab": {}
      },
      "source": [
        "checkpoint_filepath = 'Friends-The-One-With-Deep-Learning-v1.h5'\n",
        "my_callback = tf.keras.callbacks.ModelCheckpoint(checkpoint_filepath, verbose=1, \n",
        "                                        save_weights_only=True, monitor='val_loss', \n",
        "                                        mode='auto', save_best_only=True)"
      ],
      "execution_count": 188,
      "outputs": []
    },
    {
      "cell_type": "code",
      "metadata": {
        "id": "gF4BzZApVuBp",
        "colab_type": "code",
        "colab": {
          "base_uri": "https://localhost:8080/",
          "height": 34
        },
        "outputId": "eba6e722-796f-447a-b6a1-f7718fcf257e"
      },
      "source": [
        "set(train_emotion)"
      ],
      "execution_count": 189,
      "outputs": [
        {
          "output_type": "execute_result",
          "data": {
            "text/plain": [
              "{0, 1, 2, 3, 4, 5, 6, 7}"
            ]
          },
          "metadata": {
            "tags": []
          },
          "execution_count": 189
        }
      ]
    },
    {
      "cell_type": "code",
      "metadata": {
        "id": "Fu03smcsWwGL",
        "colab_type": "code",
        "colab": {
          "base_uri": "https://localhost:8080/",
          "height": 34
        },
        "outputId": "f31cf878-369a-48e8-c8d7-6b71488dadbe"
      },
      "source": [
        "train_emotion[:3]"
      ],
      "execution_count": 192,
      "outputs": [
        {
          "output_type": "execute_result",
          "data": {
            "text/plain": [
              "[0, 0, 0]"
            ]
          },
          "metadata": {
            "tags": []
          },
          "execution_count": 192
        }
      ]
    },
    {
      "cell_type": "code",
      "metadata": {
        "id": "K3MTUr9bWoE8",
        "colab_type": "code",
        "colab": {
          "base_uri": "https://localhost:8080/",
          "height": 85
        },
        "outputId": "ed693e97-74f1-425a-e925-1a174abd4579"
      },
      "source": [
        "tf.one_hot(train_emotion[:3], 7)"
      ],
      "execution_count": 193,
      "outputs": [
        {
          "output_type": "execute_result",
          "data": {
            "text/plain": [
              "<tf.Tensor: shape=(3, 7), dtype=float32, numpy=\n",
              "array([[1., 0., 0., 0., 0., 0., 0.],\n",
              "       [1., 0., 0., 0., 0., 0., 0.],\n",
              "       [1., 0., 0., 0., 0., 0., 0.]], dtype=float32)>"
            ]
          },
          "metadata": {
            "tags": []
          },
          "execution_count": 193
        }
      ]
    },
    {
      "cell_type": "code",
      "metadata": {
        "id": "77CYCG_j0AGI",
        "colab_type": "code",
        "colab": {}
      },
      "source": [
        "import numpy as np\n",
        "\n",
        "train_utterance_padded = np.array(train_utterance_padded)\n",
        "train_emotion = np.array(train_emotion)\n",
        "validation_utterance_padded = np.array(validation_utterance_padded)\n",
        "validation_emotion = np.array(validation_emotion)"
      ],
      "execution_count": 196,
      "outputs": []
    },
    {
      "cell_type": "code",
      "metadata": {
        "id": "pg-gM-Q3VH5x",
        "colab_type": "code",
        "colab": {
          "base_uri": "https://localhost:8080/",
          "height": 664
        },
        "outputId": "53973d09-b05a-46a8-f0c5-541496f0f516"
      },
      "source": [
        "num_epochs = 10\n",
        "\n",
        "history = model.fit(train_utterance_padded, train_emotion, epochs=num_epochs,\\\n",
        "                    validation_data=(validation_utterance_padded, validation_emotion),\\\n",
        "                    verbose=1, callbacks=[my_callback])"
      ],
      "execution_count": 197,
      "outputs": [
        {
          "output_type": "stream",
          "text": [
            "Epoch 1/10\n",
            "331/331 [==============================] - ETA: 0s - loss: nan - accuracy: 0.4492\n",
            "Epoch 00001: val_loss did not improve from inf\n",
            "331/331 [==============================] - 15s 45ms/step - loss: nan - accuracy: 0.4492 - val_loss: nan - val_accuracy: 0.4168\n",
            "Epoch 2/10\n",
            "331/331 [==============================] - ETA: 0s - loss: nan - accuracy: 0.4500\n",
            "Epoch 00002: val_loss did not improve from inf\n",
            "331/331 [==============================] - 14s 43ms/step - loss: nan - accuracy: 0.4500 - val_loss: nan - val_accuracy: 0.4168\n",
            "Epoch 3/10\n",
            "331/331 [==============================] - ETA: 0s - loss: nan - accuracy: 0.4500\n",
            "Epoch 00003: val_loss did not improve from inf\n",
            "331/331 [==============================] - 14s 43ms/step - loss: nan - accuracy: 0.4500 - val_loss: nan - val_accuracy: 0.4168\n",
            "Epoch 4/10\n",
            "331/331 [==============================] - ETA: 0s - loss: nan - accuracy: 0.4500\n",
            "Epoch 00004: val_loss did not improve from inf\n",
            "331/331 [==============================] - 14s 43ms/step - loss: nan - accuracy: 0.4500 - val_loss: nan - val_accuracy: 0.4168\n",
            "Epoch 5/10\n",
            "269/331 [=======================>......] - ETA: 2s - loss: nan - accuracy: 0.4506"
          ],
          "name": "stdout"
        },
        {
          "output_type": "error",
          "ename": "KeyboardInterrupt",
          "evalue": "ignored",
          "traceback": [
            "\u001b[0;31m---------------------------------------------------------------------------\u001b[0m",
            "\u001b[0;31mKeyboardInterrupt\u001b[0m                         Traceback (most recent call last)",
            "\u001b[0;32m<ipython-input-197-abad2c19aa8f>\u001b[0m in \u001b[0;36m<module>\u001b[0;34m()\u001b[0m\n\u001b[1;32m      1\u001b[0m \u001b[0mnum_epochs\u001b[0m \u001b[0;34m=\u001b[0m \u001b[0;36m10\u001b[0m\u001b[0;34m\u001b[0m\u001b[0;34m\u001b[0m\u001b[0m\n\u001b[1;32m      2\u001b[0m \u001b[0;34m\u001b[0m\u001b[0m\n\u001b[0;32m----> 3\u001b[0;31m \u001b[0mhistory\u001b[0m \u001b[0;34m=\u001b[0m \u001b[0mmodel\u001b[0m\u001b[0;34m.\u001b[0m\u001b[0mfit\u001b[0m\u001b[0;34m(\u001b[0m\u001b[0mtrain_utterance_padded\u001b[0m\u001b[0;34m,\u001b[0m \u001b[0mtrain_emotion\u001b[0m\u001b[0;34m,\u001b[0m \u001b[0mepochs\u001b[0m\u001b[0;34m=\u001b[0m\u001b[0mnum_epochs\u001b[0m\u001b[0;34m,\u001b[0m                    \u001b[0mvalidation_data\u001b[0m\u001b[0;34m=\u001b[0m\u001b[0;34m(\u001b[0m\u001b[0mvalidation_utterance_padded\u001b[0m\u001b[0;34m,\u001b[0m \u001b[0mvalidation_emotion\u001b[0m\u001b[0;34m)\u001b[0m\u001b[0;34m,\u001b[0m                    \u001b[0mverbose\u001b[0m\u001b[0;34m=\u001b[0m\u001b[0;36m1\u001b[0m\u001b[0;34m,\u001b[0m \u001b[0mcallbacks\u001b[0m\u001b[0;34m=\u001b[0m\u001b[0;34m[\u001b[0m\u001b[0mmy_callback\u001b[0m\u001b[0;34m]\u001b[0m\u001b[0;34m)\u001b[0m\u001b[0;34m\u001b[0m\u001b[0;34m\u001b[0m\u001b[0m\n\u001b[0m",
            "\u001b[0;32m/usr/local/lib/python3.6/dist-packages/tensorflow/python/keras/engine/training.py\u001b[0m in \u001b[0;36m_method_wrapper\u001b[0;34m(self, *args, **kwargs)\u001b[0m\n\u001b[1;32m    106\u001b[0m   \u001b[0;32mdef\u001b[0m \u001b[0m_method_wrapper\u001b[0m\u001b[0;34m(\u001b[0m\u001b[0mself\u001b[0m\u001b[0;34m,\u001b[0m \u001b[0;34m*\u001b[0m\u001b[0margs\u001b[0m\u001b[0;34m,\u001b[0m \u001b[0;34m**\u001b[0m\u001b[0mkwargs\u001b[0m\u001b[0;34m)\u001b[0m\u001b[0;34m:\u001b[0m\u001b[0;34m\u001b[0m\u001b[0;34m\u001b[0m\u001b[0m\n\u001b[1;32m    107\u001b[0m     \u001b[0;32mif\u001b[0m \u001b[0;32mnot\u001b[0m \u001b[0mself\u001b[0m\u001b[0;34m.\u001b[0m\u001b[0m_in_multi_worker_mode\u001b[0m\u001b[0;34m(\u001b[0m\u001b[0;34m)\u001b[0m\u001b[0;34m:\u001b[0m  \u001b[0;31m# pylint: disable=protected-access\u001b[0m\u001b[0;34m\u001b[0m\u001b[0;34m\u001b[0m\u001b[0m\n\u001b[0;32m--> 108\u001b[0;31m       \u001b[0;32mreturn\u001b[0m \u001b[0mmethod\u001b[0m\u001b[0;34m(\u001b[0m\u001b[0mself\u001b[0m\u001b[0;34m,\u001b[0m \u001b[0;34m*\u001b[0m\u001b[0margs\u001b[0m\u001b[0;34m,\u001b[0m \u001b[0;34m**\u001b[0m\u001b[0mkwargs\u001b[0m\u001b[0;34m)\u001b[0m\u001b[0;34m\u001b[0m\u001b[0;34m\u001b[0m\u001b[0m\n\u001b[0m\u001b[1;32m    109\u001b[0m \u001b[0;34m\u001b[0m\u001b[0m\n\u001b[1;32m    110\u001b[0m     \u001b[0;31m# Running inside `run_distribute_coordinator` already.\u001b[0m\u001b[0;34m\u001b[0m\u001b[0;34m\u001b[0m\u001b[0;34m\u001b[0m\u001b[0m\n",
            "\u001b[0;32m/usr/local/lib/python3.6/dist-packages/tensorflow/python/keras/engine/training.py\u001b[0m in \u001b[0;36mfit\u001b[0;34m(self, x, y, batch_size, epochs, verbose, callbacks, validation_split, validation_data, shuffle, class_weight, sample_weight, initial_epoch, steps_per_epoch, validation_steps, validation_batch_size, validation_freq, max_queue_size, workers, use_multiprocessing)\u001b[0m\n\u001b[1;32m   1096\u001b[0m                 batch_size=batch_size):\n\u001b[1;32m   1097\u001b[0m               \u001b[0mcallbacks\u001b[0m\u001b[0;34m.\u001b[0m\u001b[0mon_train_batch_begin\u001b[0m\u001b[0;34m(\u001b[0m\u001b[0mstep\u001b[0m\u001b[0;34m)\u001b[0m\u001b[0;34m\u001b[0m\u001b[0;34m\u001b[0m\u001b[0m\n\u001b[0;32m-> 1098\u001b[0;31m               \u001b[0mtmp_logs\u001b[0m \u001b[0;34m=\u001b[0m \u001b[0mtrain_function\u001b[0m\u001b[0;34m(\u001b[0m\u001b[0miterator\u001b[0m\u001b[0;34m)\u001b[0m\u001b[0;34m\u001b[0m\u001b[0;34m\u001b[0m\u001b[0m\n\u001b[0m\u001b[1;32m   1099\u001b[0m               \u001b[0;32mif\u001b[0m \u001b[0mdata_handler\u001b[0m\u001b[0;34m.\u001b[0m\u001b[0mshould_sync\u001b[0m\u001b[0;34m:\u001b[0m\u001b[0;34m\u001b[0m\u001b[0;34m\u001b[0m\u001b[0m\n\u001b[1;32m   1100\u001b[0m                 \u001b[0mcontext\u001b[0m\u001b[0;34m.\u001b[0m\u001b[0masync_wait\u001b[0m\u001b[0;34m(\u001b[0m\u001b[0;34m)\u001b[0m\u001b[0;34m\u001b[0m\u001b[0;34m\u001b[0m\u001b[0m\n",
            "\u001b[0;32m/usr/local/lib/python3.6/dist-packages/tensorflow/python/eager/def_function.py\u001b[0m in \u001b[0;36m__call__\u001b[0;34m(self, *args, **kwds)\u001b[0m\n\u001b[1;32m    778\u001b[0m       \u001b[0;32melse\u001b[0m\u001b[0;34m:\u001b[0m\u001b[0;34m\u001b[0m\u001b[0;34m\u001b[0m\u001b[0m\n\u001b[1;32m    779\u001b[0m         \u001b[0mcompiler\u001b[0m \u001b[0;34m=\u001b[0m \u001b[0;34m\"nonXla\"\u001b[0m\u001b[0;34m\u001b[0m\u001b[0;34m\u001b[0m\u001b[0m\n\u001b[0;32m--> 780\u001b[0;31m         \u001b[0mresult\u001b[0m \u001b[0;34m=\u001b[0m \u001b[0mself\u001b[0m\u001b[0;34m.\u001b[0m\u001b[0m_call\u001b[0m\u001b[0;34m(\u001b[0m\u001b[0;34m*\u001b[0m\u001b[0margs\u001b[0m\u001b[0;34m,\u001b[0m \u001b[0;34m**\u001b[0m\u001b[0mkwds\u001b[0m\u001b[0;34m)\u001b[0m\u001b[0;34m\u001b[0m\u001b[0;34m\u001b[0m\u001b[0m\n\u001b[0m\u001b[1;32m    781\u001b[0m \u001b[0;34m\u001b[0m\u001b[0m\n\u001b[1;32m    782\u001b[0m       \u001b[0mnew_tracing_count\u001b[0m \u001b[0;34m=\u001b[0m \u001b[0mself\u001b[0m\u001b[0;34m.\u001b[0m\u001b[0m_get_tracing_count\u001b[0m\u001b[0;34m(\u001b[0m\u001b[0;34m)\u001b[0m\u001b[0;34m\u001b[0m\u001b[0;34m\u001b[0m\u001b[0m\n",
            "\u001b[0;32m/usr/local/lib/python3.6/dist-packages/tensorflow/python/eager/def_function.py\u001b[0m in \u001b[0;36m_call\u001b[0;34m(self, *args, **kwds)\u001b[0m\n\u001b[1;32m    805\u001b[0m       \u001b[0;31m# In this case we have created variables on the first call, so we run the\u001b[0m\u001b[0;34m\u001b[0m\u001b[0;34m\u001b[0m\u001b[0;34m\u001b[0m\u001b[0m\n\u001b[1;32m    806\u001b[0m       \u001b[0;31m# defunned version which is guaranteed to never create variables.\u001b[0m\u001b[0;34m\u001b[0m\u001b[0;34m\u001b[0m\u001b[0;34m\u001b[0m\u001b[0m\n\u001b[0;32m--> 807\u001b[0;31m       \u001b[0;32mreturn\u001b[0m \u001b[0mself\u001b[0m\u001b[0;34m.\u001b[0m\u001b[0m_stateless_fn\u001b[0m\u001b[0;34m(\u001b[0m\u001b[0;34m*\u001b[0m\u001b[0margs\u001b[0m\u001b[0;34m,\u001b[0m \u001b[0;34m**\u001b[0m\u001b[0mkwds\u001b[0m\u001b[0;34m)\u001b[0m  \u001b[0;31m# pylint: disable=not-callable\u001b[0m\u001b[0;34m\u001b[0m\u001b[0;34m\u001b[0m\u001b[0m\n\u001b[0m\u001b[1;32m    808\u001b[0m     \u001b[0;32melif\u001b[0m \u001b[0mself\u001b[0m\u001b[0;34m.\u001b[0m\u001b[0m_stateful_fn\u001b[0m \u001b[0;32mis\u001b[0m \u001b[0;32mnot\u001b[0m \u001b[0;32mNone\u001b[0m\u001b[0;34m:\u001b[0m\u001b[0;34m\u001b[0m\u001b[0;34m\u001b[0m\u001b[0m\n\u001b[1;32m    809\u001b[0m       \u001b[0;31m# Release the lock early so that multiple threads can perform the call\u001b[0m\u001b[0;34m\u001b[0m\u001b[0;34m\u001b[0m\u001b[0;34m\u001b[0m\u001b[0m\n",
            "\u001b[0;32m/usr/local/lib/python3.6/dist-packages/tensorflow/python/eager/function.py\u001b[0m in \u001b[0;36m__call__\u001b[0;34m(self, *args, **kwargs)\u001b[0m\n\u001b[1;32m   2827\u001b[0m     \u001b[0;32mwith\u001b[0m \u001b[0mself\u001b[0m\u001b[0;34m.\u001b[0m\u001b[0m_lock\u001b[0m\u001b[0;34m:\u001b[0m\u001b[0;34m\u001b[0m\u001b[0;34m\u001b[0m\u001b[0m\n\u001b[1;32m   2828\u001b[0m       \u001b[0mgraph_function\u001b[0m\u001b[0;34m,\u001b[0m \u001b[0margs\u001b[0m\u001b[0;34m,\u001b[0m \u001b[0mkwargs\u001b[0m \u001b[0;34m=\u001b[0m \u001b[0mself\u001b[0m\u001b[0;34m.\u001b[0m\u001b[0m_maybe_define_function\u001b[0m\u001b[0;34m(\u001b[0m\u001b[0margs\u001b[0m\u001b[0;34m,\u001b[0m \u001b[0mkwargs\u001b[0m\u001b[0;34m)\u001b[0m\u001b[0;34m\u001b[0m\u001b[0;34m\u001b[0m\u001b[0m\n\u001b[0;32m-> 2829\u001b[0;31m     \u001b[0;32mreturn\u001b[0m \u001b[0mgraph_function\u001b[0m\u001b[0;34m.\u001b[0m\u001b[0m_filtered_call\u001b[0m\u001b[0;34m(\u001b[0m\u001b[0margs\u001b[0m\u001b[0;34m,\u001b[0m \u001b[0mkwargs\u001b[0m\u001b[0;34m)\u001b[0m  \u001b[0;31m# pylint: disable=protected-access\u001b[0m\u001b[0;34m\u001b[0m\u001b[0;34m\u001b[0m\u001b[0m\n\u001b[0m\u001b[1;32m   2830\u001b[0m \u001b[0;34m\u001b[0m\u001b[0m\n\u001b[1;32m   2831\u001b[0m   \u001b[0;34m@\u001b[0m\u001b[0mproperty\u001b[0m\u001b[0;34m\u001b[0m\u001b[0;34m\u001b[0m\u001b[0m\n",
            "\u001b[0;32m/usr/local/lib/python3.6/dist-packages/tensorflow/python/eager/function.py\u001b[0m in \u001b[0;36m_filtered_call\u001b[0;34m(self, args, kwargs, cancellation_manager)\u001b[0m\n\u001b[1;32m   1846\u001b[0m                            resource_variable_ops.BaseResourceVariable))],\n\u001b[1;32m   1847\u001b[0m         \u001b[0mcaptured_inputs\u001b[0m\u001b[0;34m=\u001b[0m\u001b[0mself\u001b[0m\u001b[0;34m.\u001b[0m\u001b[0mcaptured_inputs\u001b[0m\u001b[0;34m,\u001b[0m\u001b[0;34m\u001b[0m\u001b[0;34m\u001b[0m\u001b[0m\n\u001b[0;32m-> 1848\u001b[0;31m         cancellation_manager=cancellation_manager)\n\u001b[0m\u001b[1;32m   1849\u001b[0m \u001b[0;34m\u001b[0m\u001b[0m\n\u001b[1;32m   1850\u001b[0m   \u001b[0;32mdef\u001b[0m \u001b[0m_call_flat\u001b[0m\u001b[0;34m(\u001b[0m\u001b[0mself\u001b[0m\u001b[0;34m,\u001b[0m \u001b[0margs\u001b[0m\u001b[0;34m,\u001b[0m \u001b[0mcaptured_inputs\u001b[0m\u001b[0;34m,\u001b[0m \u001b[0mcancellation_manager\u001b[0m\u001b[0;34m=\u001b[0m\u001b[0;32mNone\u001b[0m\u001b[0;34m)\u001b[0m\u001b[0;34m:\u001b[0m\u001b[0;34m\u001b[0m\u001b[0;34m\u001b[0m\u001b[0m\n",
            "\u001b[0;32m/usr/local/lib/python3.6/dist-packages/tensorflow/python/eager/function.py\u001b[0m in \u001b[0;36m_call_flat\u001b[0;34m(self, args, captured_inputs, cancellation_manager)\u001b[0m\n\u001b[1;32m   1922\u001b[0m       \u001b[0;31m# No tape is watching; skip to running the function.\u001b[0m\u001b[0;34m\u001b[0m\u001b[0;34m\u001b[0m\u001b[0;34m\u001b[0m\u001b[0m\n\u001b[1;32m   1923\u001b[0m       return self._build_call_outputs(self._inference_function.call(\n\u001b[0;32m-> 1924\u001b[0;31m           ctx, args, cancellation_manager=cancellation_manager))\n\u001b[0m\u001b[1;32m   1925\u001b[0m     forward_backward = self._select_forward_and_backward_functions(\n\u001b[1;32m   1926\u001b[0m         \u001b[0margs\u001b[0m\u001b[0;34m,\u001b[0m\u001b[0;34m\u001b[0m\u001b[0;34m\u001b[0m\u001b[0m\n",
            "\u001b[0;32m/usr/local/lib/python3.6/dist-packages/tensorflow/python/eager/function.py\u001b[0m in \u001b[0;36mcall\u001b[0;34m(self, ctx, args, cancellation_manager)\u001b[0m\n\u001b[1;32m    548\u001b[0m               \u001b[0minputs\u001b[0m\u001b[0;34m=\u001b[0m\u001b[0margs\u001b[0m\u001b[0;34m,\u001b[0m\u001b[0;34m\u001b[0m\u001b[0;34m\u001b[0m\u001b[0m\n\u001b[1;32m    549\u001b[0m               \u001b[0mattrs\u001b[0m\u001b[0;34m=\u001b[0m\u001b[0mattrs\u001b[0m\u001b[0;34m,\u001b[0m\u001b[0;34m\u001b[0m\u001b[0;34m\u001b[0m\u001b[0m\n\u001b[0;32m--> 550\u001b[0;31m               ctx=ctx)\n\u001b[0m\u001b[1;32m    551\u001b[0m         \u001b[0;32melse\u001b[0m\u001b[0;34m:\u001b[0m\u001b[0;34m\u001b[0m\u001b[0;34m\u001b[0m\u001b[0m\n\u001b[1;32m    552\u001b[0m           outputs = execute.execute_with_cancellation(\n",
            "\u001b[0;32m/usr/local/lib/python3.6/dist-packages/tensorflow/python/eager/execute.py\u001b[0m in \u001b[0;36mquick_execute\u001b[0;34m(op_name, num_outputs, inputs, attrs, ctx, name)\u001b[0m\n\u001b[1;32m     58\u001b[0m     \u001b[0mctx\u001b[0m\u001b[0;34m.\u001b[0m\u001b[0mensure_initialized\u001b[0m\u001b[0;34m(\u001b[0m\u001b[0;34m)\u001b[0m\u001b[0;34m\u001b[0m\u001b[0;34m\u001b[0m\u001b[0m\n\u001b[1;32m     59\u001b[0m     tensors = pywrap_tfe.TFE_Py_Execute(ctx._handle, device_name, op_name,\n\u001b[0;32m---> 60\u001b[0;31m                                         inputs, attrs, num_outputs)\n\u001b[0m\u001b[1;32m     61\u001b[0m   \u001b[0;32mexcept\u001b[0m \u001b[0mcore\u001b[0m\u001b[0;34m.\u001b[0m\u001b[0m_NotOkStatusException\u001b[0m \u001b[0;32mas\u001b[0m \u001b[0me\u001b[0m\u001b[0;34m:\u001b[0m\u001b[0;34m\u001b[0m\u001b[0;34m\u001b[0m\u001b[0m\n\u001b[1;32m     62\u001b[0m     \u001b[0;32mif\u001b[0m \u001b[0mname\u001b[0m \u001b[0;32mis\u001b[0m \u001b[0;32mnot\u001b[0m \u001b[0;32mNone\u001b[0m\u001b[0;34m:\u001b[0m\u001b[0;34m\u001b[0m\u001b[0;34m\u001b[0m\u001b[0m\n",
            "\u001b[0;31mKeyboardInterrupt\u001b[0m: "
          ]
        }
      ]
    },
    {
      "cell_type": "code",
      "metadata": {
        "colab_type": "code",
        "id": "g9DC6dmLF8DC",
        "colab": {
          "base_uri": "https://localhost:8080/",
          "height": 541
        },
        "outputId": "b4cebec8-7552-4df3-cbab-4cf9f9fa6453"
      },
      "source": [
        "import matplotlib.pyplot as plt\n",
        "\n",
        "\n",
        "def plot_graphs(history, string):\n",
        "  plt.plot(history.history[string])\n",
        "  plt.plot(history.history['val_'+string])\n",
        "  plt.xlabel(\"Epochs\")\n",
        "  plt.ylabel(string)\n",
        "  plt.legend([string, 'val_'+string])\n",
        "  plt.show()\n",
        "\n",
        "plot_graphs(history, 'accuracy')\n",
        "plot_graphs(history, 'loss')"
      ],
      "execution_count": 166,
      "outputs": [
        {
          "output_type": "display_data",
          "data": {
            "image/png": "[encoded data removed]",
            "text/plain": [
              "<Figure size 432x288 with 1 Axes>"
            ]
          },
          "metadata": {
            "tags": [],
            "needs_background": "light"
          }
        },
        {
          "output_type": "display_data",
          "data": {
            "image/png": "[encoded data removed]",
            "text/plain": [
              "<Figure size 432x288 with 1 Axes>"
            ]
          },
          "metadata": {
            "tags": [],
            "needs_background": "light"
          }
        }
      ]
    },
    {
      "cell_type": "markdown",
      "metadata": {
        "id": "TiVMu_-D0Sn4",
        "colab_type": "text"
      },
      "source": [
        "# C3W3-5-Sarcasm with 1D Convolutional Layer"
      ]
    },
    {
      "cell_type": "code",
      "metadata": {
        "id": "XsxSWzGKz4jI",
        "colab_type": "code",
        "colab": {
          "base_uri": "https://localhost:8080/",
          "height": 323
        },
        "outputId": "ab57e33a-5bca-4722-e473-3c6e52e1a7aa"
      },
      "source": [
        "model = tf.keras.Sequential([\n",
        "    tf.keras.layers.Embedding(vocab_size, embedding_dim, input_length=max_length),\n",
        "    tf.keras.layers.Conv1D(128, 5, activation='relu'),\n",
        "    tf.keras.layers.GlobalMaxPooling1D(),\n",
        "    tf.keras.layers.Dense(24, activation='relu'),\n",
        "    tf.keras.layers.Dense(1, activation='sigmoid')\n",
        "])\n",
        "model.compile(loss='binary_crossentropy',optimizer='adam',metrics=['accuracy'])\n",
        "model.summary()"
      ],
      "execution_count": null,
      "outputs": [
        {
          "output_type": "stream",
          "text": [
            "Model: \"sequential_1\"\n",
            "_________________________________________________________________\n",
            "Layer (type)                 Output Shape              Param #   \n",
            "=================================================================\n",
            "embedding_1 (Embedding)      (None, 120, 16)           16000     \n",
            "_________________________________________________________________\n",
            "conv1d (Conv1D)              (None, 116, 128)          10368     \n",
            "_________________________________________________________________\n",
            "global_max_pooling1d (Global (None, 128)               0         \n",
            "_________________________________________________________________\n",
            "dense_2 (Dense)              (None, 24)                3096      \n",
            "_________________________________________________________________\n",
            "dense_3 (Dense)              (None, 1)                 25        \n",
            "=================================================================\n",
            "Total params: 29,489\n",
            "Trainable params: 29,489\n",
            "Non-trainable params: 0\n",
            "_________________________________________________________________\n"
          ],
          "name": "stdout"
        }
      ]
    },
    {
      "cell_type": "code",
      "metadata": {
        "id": "tTOZaI5lz7W1",
        "colab_type": "code",
        "colab": {
          "base_uri": "https://localhost:8080/",
          "height": 357
        },
        "outputId": "b4731a1d-652e-434d-9d4a-e2ee25fd9936"
      },
      "source": [
        "num_epochs = 10\n",
        "history = model.fit(training_padded, training_labels, epochs=num_epochs, validation_data=(testing_padded, testing_labels), verbose=1)"
      ],
      "execution_count": null,
      "outputs": [
        {
          "output_type": "stream",
          "text": [
            "Epoch 1/10\n",
            "625/625 [==============================] - 2s 4ms/step - loss: 0.4715 - accuracy: 0.7578 - val_loss: 0.4229 - val_accuracy: 0.8071\n",
            "Epoch 2/10\n",
            "625/625 [==============================] - 2s 4ms/step - loss: 0.3579 - accuracy: 0.8384 - val_loss: 0.3917 - val_accuracy: 0.8229\n",
            "Epoch 3/10\n",
            "625/625 [==============================] - 2s 4ms/step - loss: 0.3165 - accuracy: 0.8589 - val_loss: 0.3902 - val_accuracy: 0.8219\n",
            "Epoch 4/10\n",
            "625/625 [==============================] - 2s 4ms/step - loss: 0.2799 - accuracy: 0.8791 - val_loss: 0.4029 - val_accuracy: 0.8190\n",
            "Epoch 5/10\n",
            "625/625 [==============================] - 2s 4ms/step - loss: 0.2439 - accuracy: 0.8964 - val_loss: 0.4383 - val_accuracy: 0.8214\n",
            "Epoch 6/10\n",
            "625/625 [==============================] - 2s 4ms/step - loss: 0.2101 - accuracy: 0.9145 - val_loss: 0.4600 - val_accuracy: 0.8135\n",
            "Epoch 7/10\n",
            "625/625 [==============================] - 2s 4ms/step - loss: 0.1717 - accuracy: 0.9337 - val_loss: 0.5334 - val_accuracy: 0.8111\n",
            "Epoch 8/10\n",
            "625/625 [==============================] - 2s 4ms/step - loss: 0.1438 - accuracy: 0.9444 - val_loss: 0.5863 - val_accuracy: 0.8070\n",
            "Epoch 9/10\n",
            "625/625 [==============================] - 2s 4ms/step - loss: 0.1164 - accuracy: 0.9572 - val_loss: 0.6875 - val_accuracy: 0.8032\n",
            "Epoch 10/10\n",
            "625/625 [==============================] - 2s 4ms/step - loss: 0.0943 - accuracy: 0.9666 - val_loss: 0.7757 - val_accuracy: 0.8047\n"
          ],
          "name": "stdout"
        }
      ]
    },
    {
      "cell_type": "code",
      "metadata": {
        "colab_type": "code",
        "id": "Q6xCGuLU0VSE",
        "colab": {
          "base_uri": "https://localhost:8080/",
          "height": 543
        },
        "outputId": "7d89683a-971a-46d4-adaf-37693e6b2697"
      },
      "source": [
        "import matplotlib.pyplot as plt\n",
        "\n",
        "def plot_graphs(history, string):\n",
        "  plt.plot(history.history[string])\n",
        "  plt.plot(history.history['val_'+string])\n",
        "  plt.xlabel(\"Epochs\")\n",
        "  plt.ylabel(string)\n",
        "  plt.legend([string, 'val_'+string])\n",
        "  plt.show()\n",
        "\n",
        "plot_graphs(history, 'accuracy')\n",
        "plot_graphs(history, 'loss')"
      ],
      "execution_count": null,
      "outputs": [
        {
          "output_type": "display_data",
          "data": {
            "image/png": "[encoded data removed]",
            "text/plain": [
              "<Figure size 432x288 with 1 Axes>"
            ]
          },
          "metadata": {
            "tags": [],
            "needs_background": "light"
          }
        },
        {
          "output_type": "display_data",
          "data": {
            "image/png": "[encoded data removed]",
            "text/plain": [
              "<Figure size 432x288 with 1 Axes>"
            ]
          },
          "metadata": {
            "tags": [],
            "needs_background": "light"
          }
        }
      ]
    },
    {
      "cell_type": "code",
      "metadata": {
        "colab_type": "code",
        "id": "Q-ZynZHf0VSG",
        "colab": {}
      },
      "source": [
        "model.save(\"C3W3-5-Sarcasm_with_1D_Convolutional_Layer.h5\")"
      ],
      "execution_count": null,
      "outputs": []
    },
    {
      "cell_type": "code",
      "metadata": {
        "id": "A09kj6pr3NlF",
        "colab_type": "code",
        "colab": {}
      },
      "source": [
        ""
      ],
      "execution_count": null,
      "outputs": []
    }
  ]
}