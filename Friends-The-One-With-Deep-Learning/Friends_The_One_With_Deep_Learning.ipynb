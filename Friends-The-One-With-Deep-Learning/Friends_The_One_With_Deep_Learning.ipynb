{
  "nbformat": 4,
  "nbformat_minor": 0,
  "metadata": {
    "accelerator": "GPU",
    "colab": {
      "name": "Friends: The One With Deep Learning",
      "provenance": [],
      "collapsed_sections": [],
      "include_colab_link": true
    },
    "kernelspec": {
      "display_name": "Python 3",
      "name": "python3"
    }
  },
  "cells": [
    {
      "cell_type": "markdown",
      "metadata": {
        "id": "view-in-github",
        "colab_type": "text"
      },
      "source": [
        "<a href=\"https://colab.research.google.com/github/georgezoto/Coding-in-TensorFlow/blob/master/Friends-The-One-With-Deep-Learning/Friends_The_One_With_Deep_Learning.ipynb\" target=\"_parent\"><img src=\"https://colab.research.google.com/assets/colab-badge.svg\" alt=\"Open In Colab\"/></a>"
      ]
    },
    {
      "cell_type": "markdown",
      "metadata": {
        "id": "WTmp5aHhzqQt",
        "colab_type": "text"
      },
      "source": [
        "# Friends: The One With Deep Learning\n",
        "\n",
        "**Meetup event, come and join us 😀**  \n",
        "https://www.meetup.com/Deep-Learning-Adventures/events/272091447\n",
        "\n",
        "**Deep Learning YouTube recordings, feel free to share and subscribe 😀**  \n",
        "https://bit.ly/deep-learning-tf  \n",
        "https://bit.ly/deep-learning-tf-coding  \n",
        "\n",
        "- Coding session on real world data - Sequence models/Recurrent Neural Networks/Transformer models\n",
        "\n",
        "- **Step 1 😀**  \n",
        "Learn more about the award winning TV show Friends, an American sitcom television series, created by David Crane and Marta Kauffman, which aired on NBC from September 22, 1994, to May 6, 2004, lasting ten seasons. With an ensemble cast starring Jennifer Aniston, Courteney Cox, Lisa Kudrow, Matt LeBlanc, Matthew Perry and David Schwimmer, the show revolves around six friends in their 20s and 30s who live in Manhattan, New York City.\n",
        "https://en.wikipedia.org/wiki/Friends\n",
        "\n",
        "- **Step 2 😀**  \n",
        "Read more about the EmotionX 2019 challenge and its shared task of SocialNLP 2019 where participants are challenged to predict the emotions induced by dialogue utterances by classifying each utterance into one of seven label candidates: neutral, joy, sadness, fear, anger, surprise and disgust.\n",
        "https://sites.google.com/view/emotionx2019/home\n",
        "https://sites.google.com/view/emotionx2019/datasets\n",
        "\n",
        "- **Step 3 😀**  \n",
        "Learn more about EmotionLines, the first dataset with emotions labeling on all utterances in each dialogue only based on their textual content. Dialogues in EmotionLines are collected from Friends TV scripts and private Facebook messenger dialogues. Then one of seven emotions, six Ekman’s basic emotions plus the neutral emotion, is labeled on each utterance by 5 Amazon MTurkers. A total of 29,245 utterances from 2,000 dialogues are labeled in EmotionLines.http://doraemon.iis.sinica.edu.tw/emotionlines/index.html\n",
        "\n",
        "- **Step 4 😀**  \n",
        "Read the EmotionLines Paper: An Emotion Corpus of Multi-Party Conversations\n",
        "https://arxiv.org/pdf/1802.08379.pdf\n",
        "\n",
        "- **Step 5 😀**  \n",
        "Download and explore the Friends dataset which contains a training, validation and test set\n",
        "http://doraemon.iis.sinica.edu.tw/emotionlines/download.html\n",
        "\n",
        "- You can also read more about the SocialNLP 2018 EmotionX Challenge Overview: Recognizing Emotions in Dialogues  \n",
        "https://www.aclweb.org/anthology/W18-3505.pdf\n",
        "\n",
        "- **Step 6 😀**  \n",
        "Build your NLP classification model using deep learning or any other ML or non-AI approach. Feel free to use any environment you feel comfortable: personal computer, Colab, Kaggle, GCP/AWS virtual machine. Feel free to use any model you are comfortable with and spend some time in hyper-paramater tuning to make sure you are not overfitting your training data while optimizing for train/validation accuracy and loss. We recommend you use TensorFlow so it's easier to comment on each other's code but you don't have to.\n",
        "\n",
        "- **Step 7 😀**  \n",
        "Have fun 🎉 and share your journey, findings, lessons learned, success or failures with us and be ready to take a deeper dive in our code. For us, it's the effort that counts and not the final result. Most importantly you should enjoy exploring this interesting dataset and learn something new 😀\n",
        "\n",
        "**Source:**  \n",
        "https://en.wikipedia.org/wiki/Friends  \n",
        "https://www.kaggle.com/rezaghari/friends-series-dataset  \n",
        "http://doraemon.iis.sinica.edu.tw/emotionlines/index.html  \n",
        "https://sites.google.com/view/emotionx2019/home  \n",
        "https://www.aclweb.org/anthology/W18-3505.pdf  \n",
        "https://affective-meld.github.io  \n",
        "https://github.com/declare-lab/MELD  \n",
        "\n",
        "\n",
        "![alt Friends: The One With Deep Learning](https://secure.meetupstatic.com/photos/event/d/b/2/6/highres_491456102.jpeg)"
      ]
    },
    {
      "cell_type": "code",
      "metadata": {
        "id": "LwCUPmutJYFD",
        "colab_type": "code",
        "colab": {
          "base_uri": "https://localhost:8080/",
          "height": 51
        },
        "outputId": "94714bb4-9f57-4290-ce0b-b3b71fb28289"
      },
      "source": [
        "#Data pre-processing\n",
        "import os\n",
        "import zipfile\n",
        "import pickle\n",
        "\n",
        "#Plot images\n",
        "import matplotlib.pyplot as plt\n",
        "\n",
        "#TensorFlow\n",
        "import tensorflow as tf\n",
        "import tensorflow_hub as hub\n",
        "print(tf.__version__)\n",
        "print(hub.__version__)\n",
        "\n",
        "#Inspiration from David's code \n",
        "#TensorFlow addon to calculate F1 metric\n",
        "import tensorflow_addons as tfa\n",
        "#classification_report is a great summary report on performance of our model on the test dataset\n",
        "from sklearn.metrics import classification_report\n",
        "\n",
        "#Random seed for reproduciable results\n",
        "import random\n",
        "seed = 51\n",
        "tf.random.set_seed(seed)\n",
        "random.seed(seed)"
      ],
      "execution_count": 2,
      "outputs": [
        {
          "output_type": "stream",
          "text": [
            "2.3.0\n",
            "0.8.0\n"
          ],
          "name": "stdout"
        }
      ]
    },
    {
      "cell_type": "markdown",
      "metadata": {
        "id": "l_LL3IRsfFU4",
        "colab_type": "text"
      },
      "source": [
        "### Plot training and validation accuracy and loss"
      ]
    },
    {
      "cell_type": "code",
      "metadata": {
        "id": "oFEFW0XEKWqO",
        "colab_type": "code",
        "colab": {}
      },
      "source": [
        "def plot_training_validation_accuracy_loss(version, history_file_path, figsize=(20, 14)):\n",
        "  fig, (ax1, ax2, ax3) = plt.subplots(3, 1, sharex='col', figsize=figsize)\n",
        "\n",
        "  #Number of time series\n",
        "  num_time_series = len(version)\n",
        "\n",
        "  for i in range(num_time_series):\n",
        "    with open(history_file_path[i], 'rb') as handle:\n",
        "      history = pickle.load(handle)\n",
        "    \n",
        "    if i == 0:\n",
        "      style = '-' #, linewidth=2, markersize=12\n",
        "    elif i == 1:\n",
        "      style = '--'\n",
        "    elif i == 2:\n",
        "      style = '+-'\n",
        "    elif i == 3:\n",
        "      style = 'o-'\n",
        "\n",
        "    ax1.plot(history['accuracy'], style, label=version[i] + ' Training accuracy')\n",
        "    ax1.plot(history['val_accuracy'], style, label=version[i] + ' Validation accuracy')  \n",
        "    ax2.plot(history['loss'], style, label=version[i] + ' Training loss')\n",
        "    ax2.plot(history['val_loss'], style, label=version[i] + ' Validation loss')\n",
        "    ax3.plot(history['f1'], style, label=version[i] + ' Training f1_score')\n",
        "    ax3.plot(history['val_f1'], style, label=version[i] + ' Validation f1_score')\n",
        "    \n",
        "  ax1.legend(loc='best')\n",
        "  ax1.set_title('Training and validation accuracy')\n",
        "  ax2.legend(loc='best')\n",
        "  ax2.set_title('Training and Validation loss')\n",
        "  ax3.legend(loc='best')\n",
        "  ax3.set_title('Training and validation f1_score')\n",
        "  \n",
        "  plt.xlabel('Epochs')\n",
        "  plt.show()"
      ],
      "execution_count": 76,
      "outputs": []
    },
    {
      "cell_type": "code",
      "metadata": {
        "id": "kj8rPFeJKKHD",
        "colab_type": "code",
        "colab": {}
      },
      "source": [
        "import urllib.request\n",
        "#'https://goo.gl/rzfLf5'\n",
        "EmotionLines_Friends_Dataset = 'https://drive.google.com/u/0/uc?id=1Koxs2pVSmmO_-LWDGx3uUODVHY1yNrTM&export=download'\n",
        "urllib.request.urlretrieve(EmotionLines_Friends_Dataset, '/tmp/EmotionLines_Friends_Dataset.tar.gz');"
      ],
      "execution_count": 4,
      "outputs": []
    },
    {
      "cell_type": "code",
      "metadata": {
        "id": "m2vGU4QzMyaQ",
        "colab_type": "code",
        "colab": {}
      },
      "source": [
        "#!wget --no-check-certificate \\\n",
        "#'https://drive.google.com/u/0/uc?id=1Koxs2pVSmmO_-LWDGx3uUODVHY1yNrTM&export=download'\\\n",
        "# -O /tmp/EmotionLines_Friends_Dataset.tar.gz"
      ],
      "execution_count": 5,
      "outputs": []
    },
    {
      "cell_type": "code",
      "metadata": {
        "id": "OrKH8sXILE_t",
        "colab_type": "code",
        "colab": {}
      },
      "source": [
        "import tarfile\n",
        "tar = tarfile.open('/tmp/EmotionLines_Friends_Dataset.tar.gz', \"r:gz\")\n",
        "tar.extractall()\n",
        "tar.close()"
      ],
      "execution_count": 6,
      "outputs": []
    },
    {
      "cell_type": "code",
      "metadata": {
        "id": "K0QxEDwJKKJZ",
        "colab_type": "code",
        "colab": {}
      },
      "source": [
        "import json\n",
        "friends_train_path = '/content/EmotionLines/Friends/friends_train.json'\n",
        "friends_validation_path = '/content/EmotionLines/Friends/friends_dev.json'\n",
        "friends_test_path = '/content/EmotionLines/Friends/friends_test.json'\n",
        "\n",
        "with open(friends_train_path, 'r') as f:\n",
        "    friends_train = json.load(f)\n",
        "\n",
        "with open(friends_validation_path, 'r') as f:\n",
        "    friends_validation = json.load(f)\n",
        "\n",
        "with open(friends_test_path, 'r') as f:\n",
        "    friends_test = json.load(f)    "
      ],
      "execution_count": 7,
      "outputs": []
    },
    {
      "cell_type": "code",
      "metadata": {
        "id": "RI4y_s7mO7VA",
        "colab_type": "code",
        "colab": {
          "base_uri": "https://localhost:8080/",
          "height": 34
        },
        "outputId": "706ea316-8108-4a7e-e8a8-f932f9317964"
      },
      "source": [
        "type(friends_train)"
      ],
      "execution_count": 8,
      "outputs": [
        {
          "output_type": "execute_result",
          "data": {
            "text/plain": [
              "list"
            ]
          },
          "metadata": {
            "tags": []
          },
          "execution_count": 8
        }
      ]
    },
    {
      "cell_type": "code",
      "metadata": {
        "id": "M7FjaIQdO7W2",
        "colab_type": "code",
        "colab": {
          "base_uri": "https://localhost:8080/",
          "height": 34
        },
        "outputId": "ae1dbc8b-d3ca-4a73-fe7f-a568be78b9d8"
      },
      "source": [
        "print(len(friends_train), len(friends_validation), len(friends_test))"
      ],
      "execution_count": 9,
      "outputs": [
        {
          "output_type": "stream",
          "text": [
            "720 80 200\n"
          ],
          "name": "stdout"
        }
      ]
    },
    {
      "cell_type": "code",
      "metadata": {
        "id": "UhxV_CZUO_gE",
        "colab_type": "code",
        "colab": {
          "base_uri": "https://localhost:8080/",
          "height": 221
        },
        "outputId": "f4983ab0-2c0c-46ca-c7c6-e0e0d53f34e6"
      },
      "source": [
        "friends_train[0][:3]"
      ],
      "execution_count": 10,
      "outputs": [
        {
          "output_type": "execute_result",
          "data": {
            "text/plain": [
              "[{'annotation': '4100000',\n",
              "  'emotion': 'neutral',\n",
              "  'speaker': 'Chandler',\n",
              "  'utterance': 'also I was the point person on my company\\x92s transition from the KL-5 to GR-6 system.'},\n",
              " {'annotation': '5000000',\n",
              "  'emotion': 'neutral',\n",
              "  'speaker': 'The Interviewer',\n",
              "  'utterance': 'You must\\x92ve had your hands full.'},\n",
              " {'annotation': '5000000',\n",
              "  'emotion': 'neutral',\n",
              "  'speaker': 'Chandler',\n",
              "  'utterance': 'That I did. That I did.'}]"
            ]
          },
          "metadata": {
            "tags": []
          },
          "execution_count": 10
        }
      ]
    },
    {
      "cell_type": "code",
      "metadata": {
        "id": "XYAJ7HTFO_iL",
        "colab_type": "code",
        "colab": {
          "base_uri": "https://localhost:8080/",
          "height": 34
        },
        "outputId": "f477dc8a-8675-4cdc-92bb-93a0eac4d3c8"
      },
      "source": [
        "len(friends_train[0])"
      ],
      "execution_count": 11,
      "outputs": [
        {
          "output_type": "execute_result",
          "data": {
            "text/plain": [
              "23"
            ]
          },
          "metadata": {
            "tags": []
          },
          "execution_count": 11
        }
      ]
    },
    {
      "cell_type": "code",
      "metadata": {
        "id": "HPgZAio7PGsI",
        "colab_type": "code",
        "colab": {
          "base_uri": "https://localhost:8080/",
          "height": 221
        },
        "outputId": "696c5432-4b6c-4078-c24b-6e0305226199"
      },
      "source": [
        "friends_train[0][:3]"
      ],
      "execution_count": 13,
      "outputs": [
        {
          "output_type": "execute_result",
          "data": {
            "text/plain": [
              "[{'annotation': '4100000',\n",
              "  'emotion': 'neutral',\n",
              "  'speaker': 'Chandler',\n",
              "  'utterance': 'also I was the point person on my company\\x92s transition from the KL-5 to GR-6 system.'},\n",
              " {'annotation': '5000000',\n",
              "  'emotion': 'neutral',\n",
              "  'speaker': 'The Interviewer',\n",
              "  'utterance': 'You must\\x92ve had your hands full.'},\n",
              " {'annotation': '5000000',\n",
              "  'emotion': 'neutral',\n",
              "  'speaker': 'Chandler',\n",
              "  'utterance': 'That I did. That I did.'}]"
            ]
          },
          "metadata": {
            "tags": []
          },
          "execution_count": 13
        }
      ]
    },
    {
      "cell_type": "markdown",
      "metadata": {
        "id": "mDCzM16XuSm4",
        "colab_type": "text"
      },
      "source": [
        "### Inspiration from David's choice to combine speaker with the utterance\n",
        "https://github.com/dcpatton/NLP/blob/master/Friends_NLP.ipynb"
      ]
    },
    {
      "cell_type": "code",
      "metadata": {
        "id": "SHS-jiNwPVzm",
        "colab_type": "code",
        "colab": {}
      },
      "source": [
        "#training dataset\n",
        "train_utterance = []\n",
        "train_emotion = []\n",
        "train_speaker = []\n",
        "\n",
        "for dialogue in friends_train:\n",
        "  for line in dialogue:\n",
        "    train_utterance.append(line['speaker'] +' says: '+ line['utterance'].replace('\\x92', '\\''))\n",
        "\n",
        "    #Neutral, Joy, Sadness, Fear, Anger, Surprise, Disgust, Non-Neutral\n",
        "    e = line['emotion']\n",
        "\n",
        "    int_emotion = 0\n",
        "    if e == 'neutral':\n",
        "      int_emotion = 0\n",
        "    elif e == 'joy':\n",
        "      int_emotion = 1\n",
        "    elif e == 'sadness':\n",
        "      int_emotion = 2\n",
        "    elif e == 'fear':\n",
        "      int_emotion = 3\n",
        "    elif e == 'anger':\n",
        "      int_emotion = 4\n",
        "    elif e == 'surprise':\n",
        "      int_emotion = 5\n",
        "    elif e == 'disgust':\n",
        "      int_emotion = 6\n",
        "    elif e == 'non-neutral':\n",
        "      int_emotion = 7\n",
        "\n",
        "    train_emotion.append(int_emotion)\n",
        "    train_speaker.append(line['speaker'])\n",
        "\n",
        "#validation dataset\n",
        "validation_utterance = []\n",
        "validation_emotion = []\n",
        "validation_speaker = []\n",
        "\n",
        "for dialogue in friends_validation:\n",
        "  for line in dialogue:\n",
        "    validation_utterance.append(line['speaker'] +' says: '+ line['utterance'].replace('\\x92', '\\''))\n",
        "\n",
        "    #Neutral, Joy, Sadness, Fear, Anger, Surprise, Disgust, Non-Neutral\n",
        "    e = line['emotion']\n",
        "\n",
        "    int_emotion = 0\n",
        "    if e == 'neutral':\n",
        "      int_emotion = 0\n",
        "    elif e == 'joy':\n",
        "      int_emotion = 1\n",
        "    elif e == 'sadness':\n",
        "      int_emotion = 2\n",
        "    elif e == 'fear':\n",
        "      int_emotion = 3\n",
        "    elif e == 'anger':\n",
        "      int_emotion = 4\n",
        "    elif e == 'surprise':\n",
        "      int_emotion = 5\n",
        "    elif e == 'disgust':\n",
        "      int_emotion = 6\n",
        "    elif e == 'non-neutral':\n",
        "      int_emotion = 7\n",
        "\n",
        "    validation_emotion.append(int_emotion)\n",
        "    validation_speaker.append(line['speaker'])\n",
        "\n",
        "#test dataset\n",
        "test_utterance = []\n",
        "test_emotion = []\n",
        "test_speaker = []\n",
        "\n",
        "for dialogue in friends_test:\n",
        "  for line in dialogue:\n",
        "    test_utterance.append(line['speaker'] +' says: '+ line['utterance'].replace('\\x92', '\\''))\n",
        "\n",
        "    #Neutral, Joy, Sadness, Fear, Anger, Surprise, Disgust, Non-Neutral\n",
        "    e = line['emotion']\n",
        "\n",
        "    int_emotion = 0\n",
        "    if e == 'neutral':\n",
        "      int_emotion = 0\n",
        "    elif e == 'joy':\n",
        "      int_emotion = 1\n",
        "    elif e == 'sadness':\n",
        "      int_emotion = 2\n",
        "    elif e == 'fear':\n",
        "      int_emotion = 3\n",
        "    elif e == 'anger':\n",
        "      int_emotion = 4\n",
        "    elif e == 'surprise':\n",
        "      int_emotion = 5\n",
        "    elif e == 'disgust':\n",
        "      int_emotion = 6\n",
        "    elif e == 'non-neutral':\n",
        "      int_emotion = 7\n",
        "\n",
        "    test_emotion.append(int_emotion)\n",
        "    test_speaker.append(line['speaker'])   "
      ],
      "execution_count": 80,
      "outputs": []
    },
    {
      "cell_type": "code",
      "metadata": {
        "id": "53fUV2beQFcw",
        "colab_type": "code",
        "colab": {
          "base_uri": "https://localhost:8080/",
          "height": 34
        },
        "outputId": "663fcd61-9c37-48ad-dd5c-0e99bba4bd7b"
      },
      "source": [
        "print(len(train_utterance), len(validation_utterance), len(test_utterance))"
      ],
      "execution_count": 81,
      "outputs": [
        {
          "output_type": "stream",
          "text": [
            "10561 1178 2764\n"
          ],
          "name": "stdout"
        }
      ]
    },
    {
      "cell_type": "code",
      "metadata": {
        "id": "J9LtaMH4QJTX",
        "colab_type": "code",
        "colab": {
          "base_uri": "https://localhost:8080/",
          "height": 88
        },
        "outputId": "cf1ba8cc-bb0f-4f72-a2a8-9251403b920e"
      },
      "source": [
        "for s, u, e in zip(train_utterance[:3], train_utterance[:3], train_emotion[:3]):\n",
        "  print(s, u, e)"
      ],
      "execution_count": 26,
      "outputs": [
        {
          "output_type": "stream",
          "text": [
            "Chandler says: also I was the point person on my company's transition from the KL-5 to GR-6 system. Chandler says: also I was the point person on my company's transition from the KL-5 to GR-6 system. 0\n",
            "The Interviewer says: You must've had your hands full. The Interviewer says: You must've had your hands full. 0\n",
            "Chandler says: That I did. That I did. Chandler says: That I did. That I did. 0\n"
          ],
          "name": "stdout"
        }
      ]
    },
    {
      "cell_type": "code",
      "metadata": {
        "id": "x7R7wLeZJYHA",
        "colab_type": "code",
        "colab": {}
      },
      "source": [
        "from tensorflow.keras.preprocessing.text import Tokenizer\n",
        "from tensorflow.keras.preprocessing.sequence import pad_sequences"
      ],
      "execution_count": 27,
      "outputs": []
    },
    {
      "cell_type": "code",
      "metadata": {
        "id": "hvRfLe10PV5x",
        "colab_type": "code",
        "colab": {}
      },
      "source": [
        "num_classes = 8\n",
        "#The total of EIGHT labels are Neutral, Joy, Sadness, Fear, Anger, Surprise, Disgust and Non-Neutral\n",
        "\n",
        "vocab_size = 1000\n",
        "embedding_dim = 16\n",
        "max_length = 120\n",
        "trunc_type='post'\n",
        "padding_type='post'\n",
        "oov_tok = \"<OOV>\"\n",
        "#training_size = 20000"
      ],
      "execution_count": 28,
      "outputs": []
    },
    {
      "cell_type": "code",
      "metadata": {
        "id": "Nhq81T2NQxO3",
        "colab_type": "code",
        "colab": {}
      },
      "source": [
        "tokenizer = Tokenizer(num_words=vocab_size, oov_token=oov_tok)\n",
        "tokenizer.fit_on_texts(train_utterance)"
      ],
      "execution_count": 29,
      "outputs": []
    },
    {
      "cell_type": "code",
      "metadata": {
        "id": "lBVO7C_HQxRV",
        "colab_type": "code",
        "colab": {
          "base_uri": "https://localhost:8080/",
          "height": 1000
        },
        "outputId": "e071c71b-56e8-4613-e7ab-36a7d7967d06"
      },
      "source": [
        "word_index = tokenizer.word_index\n",
        "word_index"
      ],
      "execution_count": 30,
      "outputs": [
        {
          "output_type": "execute_result",
          "data": {
            "text/plain": [
              "{'<OOV>': 1,\n",
              " 'says': 2,\n",
              " 'i': 3,\n",
              " 'you': 4,\n",
              " 'the': 5,\n",
              " 'joey': 6,\n",
              " 'ross': 7,\n",
              " 'to': 8,\n",
              " 'rachel': 9,\n",
              " 'a': 10,\n",
              " 'phoebe': 11,\n",
              " 'chandler': 12,\n",
              " 'monica': 13,\n",
              " 'and': 14,\n",
              " 'oh': 15,\n",
              " 'it': 16,\n",
              " 'that': 17,\n",
              " 'no': 18,\n",
              " 'what': 19,\n",
              " \"i'm\": 20,\n",
              " 'is': 21,\n",
              " 'this': 22,\n",
              " 'me': 23,\n",
              " 'okay': 24,\n",
              " 'so': 25,\n",
              " 'yeah': 26,\n",
              " 'just': 27,\n",
              " 'of': 28,\n",
              " 'my': 29,\n",
              " 'in': 30,\n",
              " 'have': 31,\n",
              " 'we': 32,\n",
              " 'hey': 33,\n",
              " \"it's\": 34,\n",
              " 'do': 35,\n",
              " \"don't\": 36,\n",
              " 'well': 37,\n",
              " 'all': 38,\n",
              " 'know': 39,\n",
              " 'on': 40,\n",
              " 'not': 41,\n",
              " 'are': 42,\n",
              " 'for': 43,\n",
              " 'right': 44,\n",
              " 'was': 45,\n",
              " 'with': 46,\n",
              " 'but': 47,\n",
              " 'be': 48,\n",
              " \"that's\": 49,\n",
              " 'go': 50,\n",
              " 'your': 51,\n",
              " 'like': 52,\n",
              " 'gonna': 53,\n",
              " 'get': 54,\n",
              " 'here': 55,\n",
              " 'out': 56,\n",
              " 'really': 57,\n",
              " \"you're\": 58,\n",
              " 'uh': 59,\n",
              " 'can': 60,\n",
              " \"y'know\": 61,\n",
              " 'about': 62,\n",
              " 'up': 63,\n",
              " 'he': 64,\n",
              " 'think': 65,\n",
              " 'look': 66,\n",
              " 'there': 67,\n",
              " 'how': 68,\n",
              " 'now': 69,\n",
              " 'her': 70,\n",
              " 'one': 71,\n",
              " 'if': 72,\n",
              " 'at': 73,\n",
              " 'got': 74,\n",
              " 'mean': 75,\n",
              " 'see': 76,\n",
              " 'come': 77,\n",
              " 'god': 78,\n",
              " 'why': 79,\n",
              " 'him': 80,\n",
              " 'did': 81,\n",
              " 'good': 82,\n",
              " 'she': 83,\n",
              " 'sorry': 84,\n",
              " 'want': 85,\n",
              " \"can't\": 86,\n",
              " 'they': 87,\n",
              " 'tell': 88,\n",
              " 'great': 89,\n",
              " 'when': 90,\n",
              " 'hi': 91,\n",
              " 'guys': 92,\n",
              " 'yes': 93,\n",
              " 'going': 94,\n",
              " 'would': 95,\n",
              " \"i'll\": 96,\n",
              " 'umm': 97,\n",
              " 'some': 98,\n",
              " 'then': 99,\n",
              " \"we're\": 100,\n",
              " 'could': 101,\n",
              " 'were': 102,\n",
              " 'back': 103,\n",
              " 'because': 104,\n",
              " 'time': 105,\n",
              " \"he's\": 106,\n",
              " 'too': 107,\n",
              " 'had': 108,\n",
              " 'little': 109,\n",
              " 'say': 110,\n",
              " 'who': 111,\n",
              " 'love': 112,\n",
              " 'something': 113,\n",
              " 'guy': 114,\n",
              " 'been': 115,\n",
              " \"didn't\": 116,\n",
              " 'wait': 117,\n",
              " 'as': 118,\n",
              " \"i've\": 119,\n",
              " 'thank': 120,\n",
              " 'or': 121,\n",
              " 'an': 122,\n",
              " 'mr': 123,\n",
              " 'ok': 124,\n",
              " 'huh': 125,\n",
              " 'should': 126,\n",
              " 'wanna': 127,\n",
              " 'over': 128,\n",
              " 'from': 129,\n",
              " 'doing': 130,\n",
              " 'his': 131,\n",
              " 'am': 132,\n",
              " 'said': 133,\n",
              " 'them': 134,\n",
              " 'man': 135,\n",
              " 'make': 136,\n",
              " \"she's\": 137,\n",
              " 'us': 138,\n",
              " 'thing': 139,\n",
              " 'take': 140,\n",
              " 'will': 141,\n",
              " \"what's\": 142,\n",
              " 'never': 143,\n",
              " 'people': 144,\n",
              " 'sure': 145,\n",
              " 'please': 146,\n",
              " 'ah': 147,\n",
              " 'maybe': 148,\n",
              " 'much': 149,\n",
              " 'where': 150,\n",
              " 'let': 151,\n",
              " 'still': 152,\n",
              " 'does': 153,\n",
              " 'dr': 154,\n",
              " 'listen': 155,\n",
              " 'by': 156,\n",
              " \"let's\": 157,\n",
              " 'down': 158,\n",
              " 'again': 159,\n",
              " \"there's\": 160,\n",
              " 'janice': 161,\n",
              " 'way': 162,\n",
              " 'um': 163,\n",
              " 'off': 164,\n",
              " 'two': 165,\n",
              " 'very': 166,\n",
              " 'wow': 167,\n",
              " 'actually': 168,\n",
              " 'give': 169,\n",
              " 'fine': 170,\n",
              " 'need': 171,\n",
              " 'first': 172,\n",
              " 'our': 173,\n",
              " \"they're\": 174,\n",
              " 'believe': 175,\n",
              " 'even': 176,\n",
              " 'pheebs': 177,\n",
              " 'thanks': 178,\n",
              " 'thought': 179,\n",
              " 'big': 180,\n",
              " 'woman': 181,\n",
              " 'whoa': 182,\n",
              " 'only': 183,\n",
              " 'nice': 184,\n",
              " 'geller': 185,\n",
              " 'night': 186,\n",
              " 'has': 187,\n",
              " 'more': 188,\n",
              " 'before': 189,\n",
              " 'work': 190,\n",
              " 'place': 191,\n",
              " 'call': 192,\n",
              " 'other': 193,\n",
              " 'gotta': 194,\n",
              " 'these': 195,\n",
              " 'hello': 196,\n",
              " 'stuff': 197,\n",
              " 'stop': 198,\n",
              " 'talk': 199,\n",
              " 'feel': 200,\n",
              " 'ya': 201,\n",
              " 'bye': 202,\n",
              " 'carol': 203,\n",
              " 'ever': 204,\n",
              " 'girl': 205,\n",
              " 'lot': 206,\n",
              " 'any': 207,\n",
              " 'those': 208,\n",
              " \"doesn't\": 209,\n",
              " 'nothing': 210,\n",
              " 'put': 211,\n",
              " 'anything': 212,\n",
              " 'married': 213,\n",
              " 'things': 214,\n",
              " 'last': 215,\n",
              " 'baby': 216,\n",
              " 'remember': 217,\n",
              " 'new': 218,\n",
              " 'pretty': 219,\n",
              " 'emily': 220,\n",
              " \"i'd\": 221,\n",
              " \"we'll\": 222,\n",
              " 'rach': 223,\n",
              " 'date': 224,\n",
              " 'went': 225,\n",
              " 'happened': 226,\n",
              " 'told': 227,\n",
              " 'wanted': 228,\n",
              " 'ohh': 229,\n",
              " 'into': 230,\n",
              " 'room': 231,\n",
              " 'better': 232,\n",
              " 'around': 233,\n",
              " 'made': 234,\n",
              " 'honey': 235,\n",
              " 'guess': 236,\n",
              " 'kinda': 237,\n",
              " 'play': 238,\n",
              " 'name': 239,\n",
              " 'talking': 240,\n",
              " 'care': 241,\n",
              " 'help': 242,\n",
              " 'tag': 243,\n",
              " 'mrs': 244,\n",
              " 'wedding': 245,\n",
              " 'always': 246,\n",
              " 'totally': 247,\n",
              " 'happy': 248,\n",
              " 'best': 249,\n",
              " 'together': 250,\n",
              " 'having': 251,\n",
              " 'mona': 252,\n",
              " 'kind': 253,\n",
              " 'friend': 254,\n",
              " 'ooh': 255,\n",
              " 'thinking': 256,\n",
              " 'pick': 257,\n",
              " 'day': 258,\n",
              " 'friends': 259,\n",
              " 'fun': 260,\n",
              " 'getting': 261,\n",
              " 'richard': 262,\n",
              " 'phone': 263,\n",
              " \"you've\": 264,\n",
              " 'left': 265,\n",
              " 'next': 266,\n",
              " 'ben': 267,\n",
              " 'ask': 268,\n",
              " 'bad': 269,\n",
              " 'second': 270,\n",
              " 'stupid': 271,\n",
              " 'mark': 272,\n",
              " 'which': 273,\n",
              " 'another': 274,\n",
              " 'wrong': 275,\n",
              " 'long': 276,\n",
              " 'tonight': 277,\n",
              " 'ow': 278,\n",
              " 'five': 279,\n",
              " 'else': 280,\n",
              " 'ready': 281,\n",
              " 'yet': 282,\n",
              " \"won't\": 283,\n",
              " 'green': 284,\n",
              " 'done': 285,\n",
              " 'job': 286,\n",
              " 'doug': 287,\n",
              " 'pete': 288,\n",
              " 'whole': 289,\n",
              " \"wouldn't\": 290,\n",
              " 'eat': 291,\n",
              " 'funny': 292,\n",
              " 'hear': 293,\n",
              " 'coming': 294,\n",
              " 'than': 295,\n",
              " 'stay': 296,\n",
              " 'problem': 297,\n",
              " 'home': 298,\n",
              " 'years': 299,\n",
              " 'try': 300,\n",
              " 'find': 301,\n",
              " \"you'll\": 302,\n",
              " 'later': 303,\n",
              " 'ring': 304,\n",
              " 'old': 305,\n",
              " 'after': 306,\n",
              " 'david': 307,\n",
              " 'check': 308,\n",
              " \"wasn't\": 309,\n",
              " 'tomorrow': 310,\n",
              " 'might': 311,\n",
              " 'director': 312,\n",
              " 'such': 313,\n",
              " 'trying': 314,\n",
              " 'looking': 315,\n",
              " 'game': 316,\n",
              " 'today': 317,\n",
              " 'hand': 318,\n",
              " \"who's\": 319,\n",
              " 'called': 320,\n",
              " 'anyway': 321,\n",
              " 'idea': 322,\n",
              " 'probably': 323,\n",
              " 'someone': 324,\n",
              " 'course': 325,\n",
              " 'may': 326,\n",
              " '\\x91cause': 327,\n",
              " 'leave': 328,\n",
              " 'myself': 329,\n",
              " 'money': 330,\n",
              " 'ho': 331,\n",
              " 'real': 332,\n",
              " 'happen': 333,\n",
              " 'three': 334,\n",
              " 'hard': 335,\n",
              " \"isn't\": 336,\n",
              " 'away': 337,\n",
              " 'came': 338,\n",
              " 'move': 339,\n",
              " 'hot': 340,\n",
              " 'enough': 341,\n",
              " 'supposed': 342,\n",
              " 'life': 343,\n",
              " 'keep': 344,\n",
              " 'mine': 345,\n",
              " 'mom': 346,\n",
              " 'danny': 347,\n",
              " 'party': 348,\n",
              " 'being': 349,\n",
              " 'every': 350,\n",
              " 'coffee': 351,\n",
              " 'wants': 352,\n",
              " 'head': 353,\n",
              " 'treeger': 354,\n",
              " 'julie': 355,\n",
              " 'susan': 356,\n",
              " 'crazy': 357,\n",
              " 'part': 358,\n",
              " 'hold': 359,\n",
              " 'minute': 360,\n",
              " 'weird': 361,\n",
              " \"couldn't\": 362,\n",
              " 'bing': 363,\n",
              " 'year': 364,\n",
              " \"haven't\": 365,\n",
              " 'serious': 366,\n",
              " 'each': 367,\n",
              " 'took': 368,\n",
              " 'women': 369,\n",
              " 'matter': 370,\n",
              " 'ha': 371,\n",
              " 'morning': 372,\n",
              " 'joanna': 373,\n",
              " 'sex': 374,\n",
              " 'saying': 375,\n",
              " 'frank': 376,\n",
              " 'everybody': 377,\n",
              " 'apartment': 378,\n",
              " 'anymore': 379,\n",
              " 'dad': 380,\n",
              " 'elizabeth': 381,\n",
              " 'naked': 382,\n",
              " 'high': 383,\n",
              " 'dinner': 384,\n",
              " 'telling': 385,\n",
              " 'kathy': 386,\n",
              " 'hmm': 387,\n",
              " 'chip': 388,\n",
              " \"'\": 389,\n",
              " 'show': 390,\n",
              " 'bring': 391,\n",
              " 'knew': 392,\n",
              " 'both': 393,\n",
              " 'either': 394,\n",
              " 'same': 395,\n",
              " 'knows': 396,\n",
              " 'father': 397,\n",
              " 'their': 398,\n",
              " \"you'd\": 399,\n",
              " 'turn': 400,\n",
              " 'barry': 401,\n",
              " 'world': 402,\n",
              " 'start': 403,\n",
              " 'most': 404,\n",
              " 'hours': 405,\n",
              " 'sleep': 406,\n",
              " 'amazing': 407,\n",
              " 'looks': 408,\n",
              " 'marry': 409,\n",
              " 'seen': 410,\n",
              " 'food': 411,\n",
              " 'excuse': 412,\n",
              " 'anyone': 413,\n",
              " 'use': 414,\n",
              " 'alright': 415,\n",
              " 'house': 416,\n",
              " 'earl': 417,\n",
              " 'hang': 418,\n",
              " 'though': 419,\n",
              " 'watch': 420,\n",
              " \"here's\": 421,\n",
              " 'paul': 422,\n",
              " 'saw': 423,\n",
              " 'live': 424,\n",
              " 'joshua': 425,\n",
              " 'minutes': 426,\n",
              " 'kiss': 427,\n",
              " 'half': 428,\n",
              " 'also': 429,\n",
              " 'wish': 430,\n",
              " 'bob': 431,\n",
              " 'late': 432,\n",
              " 'since': 433,\n",
              " 'tribbiani': 434,\n",
              " 'until': 435,\n",
              " 'chance': 436,\n",
              " 'yourself': 437,\n",
              " 'question': 438,\n",
              " 'anybody': 439,\n",
              " 'deal': 440,\n",
              " 'wearing': 441,\n",
              " 'lost': 442,\n",
              " 'everything': 443,\n",
              " 'couple': 444,\n",
              " 'comes': 445,\n",
              " 'teacher': 446,\n",
              " 'sr': 447,\n",
              " 'forget': 448,\n",
              " 'joe': 449,\n",
              " 'open': 450,\n",
              " 'without': 451,\n",
              " 'kids': 452,\n",
              " 'beautiful': 453,\n",
              " 'ahh': 454,\n",
              " 'meet': 455,\n",
              " 'dude': 456,\n",
              " 'four': 457,\n",
              " 'break': 458,\n",
              " 'read': 459,\n",
              " 'making': 460,\n",
              " 'pants': 461,\n",
              " 'drake': 462,\n",
              " 'person': 463,\n",
              " 'bit': 464,\n",
              " 'doctor': 465,\n",
              " 'throw': 466,\n",
              " 'understand': 467,\n",
              " 'asked': 468,\n",
              " 'kidding': 469,\n",
              " 'own': 470,\n",
              " 'mind': 471,\n",
              " 'glad': 472,\n",
              " 'walk': 473,\n",
              " 'already': 474,\n",
              " 'school': 475,\n",
              " 'cool': 476,\n",
              " 'through': 477,\n",
              " 'gunther': 478,\n",
              " 'absolutely': 479,\n",
              " 'once': 480,\n",
              " 'cannot': 481,\n",
              " 'bed': 482,\n",
              " 'hurt': 483,\n",
              " 'hate': 484,\n",
              " 'number': 485,\n",
              " 'sweet': 486,\n",
              " 'sister': 487,\n",
              " \"we've\": 488,\n",
              " 'promise': 489,\n",
              " 'must': 490,\n",
              " 'hope': 491,\n",
              " 'somebody': 492,\n",
              " 'ten': 493,\n",
              " 'while': 494,\n",
              " 'under': 495,\n",
              " 'roommate': 496,\n",
              " 'mad': 497,\n",
              " 'alone': 498,\n",
              " 'babies': 499,\n",
              " 'kill': 500,\n",
              " 'wear': 501,\n",
              " 'girls': 502,\n",
              " 'times': 503,\n",
              " 'hell': 504,\n",
              " 'used': 505,\n",
              " 'jill': 506,\n",
              " 'cute': 507,\n",
              " 'makes': 508,\n",
              " 'museum': 509,\n",
              " 'gone': 510,\n",
              " 'eric': 511,\n",
              " 'started': 512,\n",
              " 'sounds': 513,\n",
              " 'different': 514,\n",
              " \"aren't\": 515,\n",
              " 'yep': 516,\n",
              " 'true': 517,\n",
              " 'bitch': 518,\n",
              " 'miss': 519,\n",
              " 'kid': 520,\n",
              " 'sit': 521,\n",
              " \"doin'\": 522,\n",
              " 'gay': 523,\n",
              " 'sir': 524,\n",
              " 'ugh': 525,\n",
              " 'worry': 526,\n",
              " 'between': 527,\n",
              " 'found': 528,\n",
              " 'issac': 529,\n",
              " 'exactly': 530,\n",
              " 'buddy': 531,\n",
              " 'able': 532,\n",
              " 'working': 533,\n",
              " 'boy': 534,\n",
              " 'gave': 535,\n",
              " 'mike': 536,\n",
              " 'movie': 537,\n",
              " 'important': 538,\n",
              " 'bet': 539,\n",
              " 'brother': 540,\n",
              " 'buy': 541,\n",
              " 'gets': 542,\n",
              " 'story': 543,\n",
              " 'book': 544,\n",
              " 'easy': 545,\n",
              " 'cooking': 546,\n",
              " 'sweetie': 547,\n",
              " 'goes': 548,\n",
              " 'parents': 549,\n",
              " 'plan': 550,\n",
              " 'free': 551,\n",
              " 'broke': 552,\n",
              " 'ball': 553,\n",
              " 'unbelievable': 554,\n",
              " '\\x91em': 555,\n",
              " 'kate': 556,\n",
              " 'six': 557,\n",
              " 'cut': 558,\n",
              " 'feeling': 559,\n",
              " '2': 560,\n",
              " \"joey's\": 561,\n",
              " 'cassie': 562,\n",
              " 'kristen': 563,\n",
              " 'city': 564,\n",
              " 'soon': 565,\n",
              " \"monica's\": 566,\n",
              " 'picture': 567,\n",
              " 'pay': 568,\n",
              " 'message': 569,\n",
              " 'fireman': 570,\n",
              " 'hour': 571,\n",
              " 'relax': 572,\n",
              " 'liked': 573,\n",
              " 'thanksgiving': 574,\n",
              " \"shouldn't\": 575,\n",
              " 'charlie': 576,\n",
              " 'end': 577,\n",
              " 'huge': 578,\n",
              " 'means': 579,\n",
              " 'perfect': 580,\n",
              " 'face': 581,\n",
              " 'julio': 582,\n",
              " 'small': 583,\n",
              " 'machine': 584,\n",
              " 'everyone': 585,\n",
              " 'win': 586,\n",
              " 'family': 587,\n",
              " 'isabella': 588,\n",
              " 'candy': 589,\n",
              " 'car': 590,\n",
              " 'katie': 591,\n",
              " \"'cause\": 592,\n",
              " 'mon': 593,\n",
              " 'asleep': 594,\n",
              " 'realize': 595,\n",
              " 'table': 596,\n",
              " 'wh': 597,\n",
              " 'nurse': 598,\n",
              " 'dina': 599,\n",
              " 'clothes': 600,\n",
              " 'dance': 601,\n",
              " 'girlfriend': 602,\n",
              " 'casting': 603,\n",
              " 'men': 604,\n",
              " 'word': 605,\n",
              " 'eh': 606,\n",
              " 'lady': 607,\n",
              " 'shower': 608,\n",
              " 'seeing': 609,\n",
              " 'brought': 610,\n",
              " \"how's\": 611,\n",
              " 'touch': 612,\n",
              " 'pregnant': 613,\n",
              " 'hit': 614,\n",
              " 'its': 615,\n",
              " 'moving': 616,\n",
              " 'close': 617,\n",
              " '1': 618,\n",
              " 'son': 619,\n",
              " 'alice': 620,\n",
              " 'marriage': 621,\n",
              " 'eyes': 622,\n",
              " 'fire': 623,\n",
              " 'robert': 624,\n",
              " 'chloe': 625,\n",
              " 'larry': 626,\n",
              " 'sick': 627,\n",
              " 'evil': 628,\n",
              " 'uhh': 629,\n",
              " 'bathroom': 630,\n",
              " 'many': 631,\n",
              " 'taking': 632,\n",
              " 'figure': 633,\n",
              " 'street': 634,\n",
              " 'ass': 635,\n",
              " 'scared': 636,\n",
              " 'asking': 637,\n",
              " 'almost': 638,\n",
              " 'aww': 639,\n",
              " 'birthday': 640,\n",
              " 'playing': 641,\n",
              " 'lives': 642,\n",
              " 'song': 643,\n",
              " 'soup': 644,\n",
              " \"guy's\": 645,\n",
              " 'seven': 646,\n",
              " 'russell': 647,\n",
              " 'seem': 648,\n",
              " 'thinks': 649,\n",
              " 'building': 650,\n",
              " 'line': 651,\n",
              " 'fell': 652,\n",
              " 'stand': 653,\n",
              " 'reason': 654,\n",
              " 'dead': 655,\n",
              " 'rest': 656,\n",
              " 'blue': 657,\n",
              " 'talked': 658,\n",
              " 'few': 659,\n",
              " 'change': 660,\n",
              " 'bag': 661,\n",
              " 'tickets': 662,\n",
              " 'seriously': 663,\n",
              " 'fact': 664,\n",
              " 'smell': 665,\n",
              " 'dana': 666,\n",
              " 'whatever': 667,\n",
              " 'office': 668,\n",
              " 'ohhh': 669,\n",
              " 'special': 670,\n",
              " 'side': 671,\n",
              " 'aw': 672,\n",
              " 'fault': 673,\n",
              " 'lose': 674,\n",
              " 'heard': 675,\n",
              " 'spend': 676,\n",
              " 'week': 677,\n",
              " 'eye': 678,\n",
              " 'dog': 679,\n",
              " 'least': 680,\n",
              " 'restaurant': 681,\n",
              " 'heckles': 682,\n",
              " 'porn': 683,\n",
              " 'policeman': 684,\n",
              " 'stick': 685,\n",
              " 'list': 686,\n",
              " 'mischa': 687,\n",
              " 'plans': 688,\n",
              " 'janine': 689,\n",
              " 'dum': 690,\n",
              " 'lydia': 691,\n",
              " 'spent': 692,\n",
              " 'heads': 693,\n",
              " 'ursula': 694,\n",
              " 'stanley': 695,\n",
              " 'answer': 696,\n",
              " 'meant': 697,\n",
              " 'shut': 698,\n",
              " 'top': 699,\n",
              " 'moment': 700,\n",
              " 'nobody': 701,\n",
              " 'young': 702,\n",
              " 'fast': 703,\n",
              " 'grandmother': 704,\n",
              " 'ew': 705,\n",
              " 'welcome': 706,\n",
              " 'terrible': 707,\n",
              " 'won': 708,\n",
              " 'quick': 709,\n",
              " 'quit': 710,\n",
              " 'loved': 711,\n",
              " 'krista': 712,\n",
              " 'team': 713,\n",
              " '8': 714,\n",
              " 'forgot': 715,\n",
              " \"would've\": 716,\n",
              " 'living': 717,\n",
              " 'moved': 718,\n",
              " 'bucks': 719,\n",
              " 'ticket': 720,\n",
              " 'card': 721,\n",
              " 'run': 722,\n",
              " 'definitely': 723,\n",
              " 'shirt': 724,\n",
              " 'ago': 725,\n",
              " 'yours': 726,\n",
              " 'underwear': 727,\n",
              " 'floor': 728,\n",
              " 'wife': 729,\n",
              " 'front': 730,\n",
              " 'feels': 731,\n",
              " 'questions': 732,\n",
              " 'shoot': 733,\n",
              " 'angela': 734,\n",
              " 'bought': 735,\n",
              " 'boxes': 736,\n",
              " 'don’t': 737,\n",
              " '3': 738,\n",
              " 'red': 739,\n",
              " 'gary': 740,\n",
              " 'write': 741,\n",
              " 'e': 742,\n",
              " 'shot': 743,\n",
              " 'class': 744,\n",
              " 'jim': 745,\n",
              " 'interviewer': 746,\n",
              " 'hands': 747,\n",
              " '30': 748,\n",
              " 'apparently': 749,\n",
              " 'route': 750,\n",
              " 'happens': 751,\n",
              " 'boyfriend': 752,\n",
              " 'hair': 753,\n",
              " 'luck': 754,\n",
              " 'weeks': 755,\n",
              " 'heart': 756,\n",
              " 'daddy': 757,\n",
              " 'ones': 758,\n",
              " 'surprise': 759,\n",
              " 'excited': 760,\n",
              " 'box': 761,\n",
              " 'against': 762,\n",
              " 'chef': 763,\n",
              " 'stuck': 764,\n",
              " 'turned': 765,\n",
              " 'lie': 766,\n",
              " 'fake': 767,\n",
              " 'attendant': 768,\n",
              " 'chick': 769,\n",
              " 'tired': 770,\n",
              " 'months': 771,\n",
              " 'hole': 772,\n",
              " 'decided': 773,\n",
              " 'lunch': 774,\n",
              " 'third': 775,\n",
              " 'felt': 776,\n",
              " 'drunk': 777,\n",
              " '10': 778,\n",
              " 'days': 779,\n",
              " 'cookies': 780,\n",
              " 'idiot': 781,\n",
              " 'store': 782,\n",
              " 'town': 783,\n",
              " 'cliff': 784,\n",
              " 'owe': 785,\n",
              " 'cup': 786,\n",
              " 'door': 787,\n",
              " \"chandler's\": 788,\n",
              " 'casey': 789,\n",
              " 'sometimes': 790,\n",
              " 'window': 791,\n",
              " 'tour': 792,\n",
              " 'bonnie': 793,\n",
              " 'porsche': 794,\n",
              " \"c'mon\": 795,\n",
              " 'light': 796,\n",
              " 'baldhara': 797,\n",
              " 'business': 798,\n",
              " 'die': 799,\n",
              " 'mother': 800,\n",
              " 'mail': 801,\n",
              " 'receptionist': 802,\n",
              " 'point': 803,\n",
              " 'sucks': 804,\n",
              " 'wrote': 805,\n",
              " 'jealous': 806,\n",
              " 'scene': 807,\n",
              " 'customer': 808,\n",
              " 'london': 809,\n",
              " 'damn': 810,\n",
              " 'cat': 811,\n",
              " \"rachel's\": 812,\n",
              " 'loves': 813,\n",
              " 'water': 814,\n",
              " \"it'll\": 815,\n",
              " 'completely': 816,\n",
              " 'sweater': 817,\n",
              " 'eight': 818,\n",
              " 'hotel': 819,\n",
              " 'mistake': 820,\n",
              " \"everything's\": 821,\n",
              " \"what'd\": 822,\n",
              " 'ran': 823,\n",
              " 'seems': 824,\n",
              " 'clear': 825,\n",
              " 'franklin': 826,\n",
              " 'less': 827,\n",
              " 'neither': 828,\n",
              " 'calling': 829,\n",
              " \"ross's\": 830,\n",
              " 'missed': 831,\n",
              " 'looked': 832,\n",
              " 'sitting': 833,\n",
              " 'trust': 834,\n",
              " 'stripper': 835,\n",
              " 'fight': 836,\n",
              " 'ms': 837,\n",
              " 'dollars': 838,\n",
              " 'needs': 839,\n",
              " 'taste': 840,\n",
              " 'fair': 841,\n",
              " 'fat': 842,\n",
              " 'weekend': 843,\n",
              " 'set': 844,\n",
              " 'died': 845,\n",
              " 'news': 846,\n",
              " 'entire': 847,\n",
              " 'student': 848,\n",
              " 'rule': 849,\n",
              " 'knock': 850,\n",
              " 'mess': 851,\n",
              " 'leg': 852,\n",
              " 'interested': 853,\n",
              " 'sad': 854,\n",
              " 'nooo': 855,\n",
              " 'figured': 856,\n",
              " 'suck': 857,\n",
              " 'park': 858,\n",
              " 'imagine': 859,\n",
              " 'twin': 860,\n",
              " 'speak': 861,\n",
              " 'grade': 862,\n",
              " 'grab': 863,\n",
              " 'pass': 864,\n",
              " 'watching': 865,\n",
              " 'bigger': 866,\n",
              " \"he'll\": 867,\n",
              " \"where's\": 868,\n",
              " 'damnit': 869,\n",
              " 'nah': 870,\n",
              " 'mindy': 871,\n",
              " 'starts': 872,\n",
              " 'roger': 873,\n",
              " 'stage': 874,\n",
              " 'remoray': 875,\n",
              " 'actor': 876,\n",
              " 'terry': 877,\n",
              " 'smoking': 878,\n",
              " 'alan': 879,\n",
              " 'shelley': 880,\n",
              " \"must've\": 881,\n",
              " 'full': 882,\n",
              " 'empty': 883,\n",
              " 'inside': 884,\n",
              " 'wondering': 885,\n",
              " 'finally': 886,\n",
              " 'so\\x85': 887,\n",
              " 'professor': 888,\n",
              " 'middle': 889,\n",
              " 'difference': 890,\n",
              " 'pizza': 891,\n",
              " 'straight': 892,\n",
              " 'switch': 893,\n",
              " 'yay': 894,\n",
              " 'nervous': 895,\n",
              " 'although': 896,\n",
              " 'met': 897,\n",
              " 'breaking': 898,\n",
              " 'calm': 899,\n",
              " 'audition': 900,\n",
              " 'interesting': 901,\n",
              " 'tv': 902,\n",
              " \"weren't\": 903,\n",
              " 'smart': 904,\n",
              " 'kissed': 905,\n",
              " 'duck': 906,\n",
              " 'king': 907,\n",
              " 'gimme': 908,\n",
              " 'rules': 909,\n",
              " 'favorite': 910,\n",
              " 'uncle': 911,\n",
              " 'secret': 912,\n",
              " 'train': 913,\n",
              " 'bastard': 914,\n",
              " 'christmas': 915,\n",
              " 'crush': 916,\n",
              " 'vegas': 917,\n",
              " 'kim': 918,\n",
              " 'somewhere': 919,\n",
              " 'test': 920,\n",
              " 'clean': 921,\n",
              " 'nickname': 922,\n",
              " 'dating': 923,\n",
              " 'far': 924,\n",
              " 'favor': 925,\n",
              " 'early': 926,\n",
              " \"one's\": 927,\n",
              " 'band': 928,\n",
              " 'yesterday': 929,\n",
              " 'sing': 930,\n",
              " 'downstairs': 931,\n",
              " 'invite': 932,\n",
              " 'nine': 933,\n",
              " 'choose': 934,\n",
              " 'duncan': 935,\n",
              " 'sent': 936,\n",
              " 'button': 937,\n",
              " 'finish': 938,\n",
              " \"phoebe's\": 939,\n",
              " 'wonder': 940,\n",
              " 'behind': 941,\n",
              " 'divorce': 942,\n",
              " 'jake': 943,\n",
              " 'giving': 944,\n",
              " 'purse': 945,\n",
              " 'strong': 946,\n",
              " 'holding': 947,\n",
              " \"goin'\": 948,\n",
              " 'lights': 949,\n",
              " 'romantic': 950,\n",
              " 'lying': 951,\n",
              " 'burgin': 952,\n",
              " 'bijan': 953,\n",
              " 'birds': 954,\n",
              " \"o'clock\": 955,\n",
              " 'crap': 956,\n",
              " 'la': 957,\n",
              " 'decide': 958,\n",
              " 'kristin': 959,\n",
              " 'using': 960,\n",
              " 'keys': 961,\n",
              " 'steve': 962,\n",
              " 'megan': 963,\n",
              " 'quarter': 964,\n",
              " 'security': 965,\n",
              " 'potential': 966,\n",
              " '6': 967,\n",
              " 'system': 968,\n",
              " 'month': 969,\n",
              " 'italian': 970,\n",
              " \"how'd\": 971,\n",
              " 'tough': 972,\n",
              " 'proud': 973,\n",
              " 'surprised': 974,\n",
              " 'paid': 975,\n",
              " 'health': 976,\n",
              " 'pain': 977,\n",
              " 'speech': 978,\n",
              " 'kept': 979,\n",
              " 'feelings': 980,\n",
              " 'fan': 981,\n",
              " 'putting': 982,\n",
              " 'worth': 983,\n",
              " \"they've\": 984,\n",
              " 'warm': 985,\n",
              " 'letting': 986,\n",
              " 'bike': 987,\n",
              " 'scientist': 988,\n",
              " 'stole': 989,\n",
              " 'starting': 990,\n",
              " 'ma': 991,\n",
              " \"'em\": 992,\n",
              " 'worked': 993,\n",
              " 'pack': 994,\n",
              " 'sensitive': 995,\n",
              " 'especially': 996,\n",
              " 'careful': 997,\n",
              " 'keeps': 998,\n",
              " 'bobby': 999,\n",
              " 'personal': 1000,\n",
              " ...}"
            ]
          },
          "metadata": {
            "tags": []
          },
          "execution_count": 30
        }
      ]
    },
    {
      "cell_type": "code",
      "metadata": {
        "id": "GjIncl2xRAIN",
        "colab_type": "code",
        "colab": {}
      },
      "source": [
        "train_utterance_sequences = tokenizer.texts_to_sequences(train_utterance)\n",
        "train_utterance_padded = pad_sequences(train_utterance_sequences, maxlen=max_length, padding=padding_type, truncating=trunc_type)"
      ],
      "execution_count": 31,
      "outputs": []
    },
    {
      "cell_type": "code",
      "metadata": {
        "id": "EGUopz9HS6rp",
        "colab_type": "code",
        "colab": {}
      },
      "source": [
        "validation_utterance_sequences = tokenizer.texts_to_sequences(validation_utterance)\n",
        "validation_utterance_padded = pad_sequences(validation_utterance_sequences, maxlen=max_length, padding=padding_type, truncating=trunc_type)"
      ],
      "execution_count": 32,
      "outputs": []
    },
    {
      "cell_type": "code",
      "metadata": {
        "id": "un4PMrjhdcS3",
        "colab_type": "code",
        "colab": {}
      },
      "source": [
        "test_utterance_sequences = tokenizer.texts_to_sequences(test_utterance)\n",
        "test_utterance_padded = pad_sequences(test_utterance_sequences, maxlen=max_length, padding=padding_type, truncating=trunc_type)"
      ],
      "execution_count": 82,
      "outputs": []
    },
    {
      "cell_type": "code",
      "metadata": {
        "id": "v94gR-brRaiE",
        "colab_type": "code",
        "colab": {
          "base_uri": "https://localhost:8080/",
          "height": 68
        },
        "outputId": "583073a1-91f3-465d-cdd5-04c226d62c7d"
      },
      "source": [
        "train_utterance[:3]"
      ],
      "execution_count": 33,
      "outputs": [
        {
          "output_type": "execute_result",
          "data": {
            "text/plain": [
              "[\"Chandler says: also I was the point person on my company's transition from the KL-5 to GR-6 system.\",\n",
              " \"The Interviewer says: You must've had your hands full.\",\n",
              " 'Chandler says: That I did. That I did.']"
            ]
          },
          "metadata": {
            "tags": []
          },
          "execution_count": 33
        }
      ]
    },
    {
      "cell_type": "code",
      "metadata": {
        "id": "LQN3wuXRRAKV",
        "colab_type": "code",
        "colab": {
          "base_uri": "https://localhost:8080/",
          "height": 68
        },
        "outputId": "a84c3c51-446e-49e6-e879-d72422716b30"
      },
      "source": [
        "train_utterance_sequences[:3]"
      ],
      "execution_count": 34,
      "outputs": [
        {
          "output_type": "execute_result",
          "data": {
            "text/plain": [
              "[[12, 2, 429, 3, 45, 5, 803, 463, 40, 29, 1, 1, 129, 5, 1, 1, 8, 1, 967, 968],\n",
              " [5, 746, 2, 4, 881, 108, 51, 747, 882],\n",
              " [12, 2, 17, 3, 81, 17, 3, 81]]"
            ]
          },
          "metadata": {
            "tags": []
          },
          "execution_count": 34
        }
      ]
    },
    {
      "cell_type": "code",
      "metadata": {
        "id": "5ZfD68K_RVS3",
        "colab_type": "code",
        "colab": {
          "base_uri": "https://localhost:8080/",
          "height": 527
        },
        "outputId": "5b643ee7-bc2f-4ffe-ae65-013e26c1f88a"
      },
      "source": [
        "train_utterance_padded[:3]"
      ],
      "execution_count": 35,
      "outputs": [
        {
          "output_type": "execute_result",
          "data": {
            "text/plain": [
              "array([[ 12,   2, 429,   3,  45,   5, 803, 463,  40,  29,   1,   1, 129,\n",
              "          5,   1,   1,   8,   1, 967, 968,   0,   0,   0,   0,   0,   0,\n",
              "          0,   0,   0,   0,   0,   0,   0,   0,   0,   0,   0,   0,   0,\n",
              "          0,   0,   0,   0,   0,   0,   0,   0,   0,   0,   0,   0,   0,\n",
              "          0,   0,   0,   0,   0,   0,   0,   0,   0,   0,   0,   0,   0,\n",
              "          0,   0,   0,   0,   0,   0,   0,   0,   0,   0,   0,   0,   0,\n",
              "          0,   0,   0,   0,   0,   0,   0,   0,   0,   0,   0,   0,   0,\n",
              "          0,   0,   0,   0,   0,   0,   0,   0,   0,   0,   0,   0,   0,\n",
              "          0,   0,   0,   0,   0,   0,   0,   0,   0,   0,   0,   0,   0,\n",
              "          0,   0,   0],\n",
              "       [  5, 746,   2,   4, 881, 108,  51, 747, 882,   0,   0,   0,   0,\n",
              "          0,   0,   0,   0,   0,   0,   0,   0,   0,   0,   0,   0,   0,\n",
              "          0,   0,   0,   0,   0,   0,   0,   0,   0,   0,   0,   0,   0,\n",
              "          0,   0,   0,   0,   0,   0,   0,   0,   0,   0,   0,   0,   0,\n",
              "          0,   0,   0,   0,   0,   0,   0,   0,   0,   0,   0,   0,   0,\n",
              "          0,   0,   0,   0,   0,   0,   0,   0,   0,   0,   0,   0,   0,\n",
              "          0,   0,   0,   0,   0,   0,   0,   0,   0,   0,   0,   0,   0,\n",
              "          0,   0,   0,   0,   0,   0,   0,   0,   0,   0,   0,   0,   0,\n",
              "          0,   0,   0,   0,   0,   0,   0,   0,   0,   0,   0,   0,   0,\n",
              "          0,   0,   0],\n",
              "       [ 12,   2,  17,   3,  81,  17,   3,  81,   0,   0,   0,   0,   0,\n",
              "          0,   0,   0,   0,   0,   0,   0,   0,   0,   0,   0,   0,   0,\n",
              "          0,   0,   0,   0,   0,   0,   0,   0,   0,   0,   0,   0,   0,\n",
              "          0,   0,   0,   0,   0,   0,   0,   0,   0,   0,   0,   0,   0,\n",
              "          0,   0,   0,   0,   0,   0,   0,   0,   0,   0,   0,   0,   0,\n",
              "          0,   0,   0,   0,   0,   0,   0,   0,   0,   0,   0,   0,   0,\n",
              "          0,   0,   0,   0,   0,   0,   0,   0,   0,   0,   0,   0,   0,\n",
              "          0,   0,   0,   0,   0,   0,   0,   0,   0,   0,   0,   0,   0,\n",
              "          0,   0,   0,   0,   0,   0,   0,   0,   0,   0,   0,   0,   0,\n",
              "          0,   0,   0]], dtype=int32)"
            ]
          },
          "metadata": {
            "tags": []
          },
          "execution_count": 35
        }
      ]
    },
    {
      "cell_type": "code",
      "metadata": {
        "id": "n4KIehDAzSC5",
        "colab_type": "code",
        "colab": {
          "base_uri": "https://localhost:8080/",
          "height": 34
        },
        "outputId": "6471709b-6c6d-481e-c7cd-3ee9c7852b56"
      },
      "source": [
        "train_emotion[:3]"
      ],
      "execution_count": 36,
      "outputs": [
        {
          "output_type": "execute_result",
          "data": {
            "text/plain": [
              "[0, 0, 0]"
            ]
          },
          "metadata": {
            "tags": []
          },
          "execution_count": 36
        }
      ]
    },
    {
      "cell_type": "markdown",
      "metadata": {
        "id": "XYPnT9TL4kXc",
        "colab_type": "text"
      },
      "source": [
        "# v1 - Emotion Detection with our own Embedding + Bi LSTM(32) - 0.03M parameters 72% training, 40% validation accuracy"
      ]
    },
    {
      "cell_type": "markdown",
      "metadata": {
        "id": "EcKjPaXE6eCL",
        "colab_type": "text"
      },
      "source": [
        "### Model Definition"
      ]
    },
    {
      "cell_type": "code",
      "metadata": {
        "id": "Nkm_ki940AAd",
        "colab_type": "code",
        "colab": {}
      },
      "source": [
        "model = tf.keras.Sequential([\n",
        "    tf.keras.layers.Embedding(vocab_size, embedding_dim, input_length=max_length),\n",
        "    tf.keras.layers.Bidirectional(tf.keras.layers.LSTM(32)),\n",
        "    tf.keras.layers.Dense(24, activation='relu'),\n",
        "    tf.keras.layers.Dropout(0.2),\n",
        "    tf.keras.layers.Dense(num_classes, activation='softmax')\n",
        "])"
      ],
      "execution_count": 37,
      "outputs": []
    },
    {
      "cell_type": "code",
      "metadata": {
        "id": "tyn5N0gRUOF5",
        "colab_type": "code",
        "colab": {
          "base_uri": "https://localhost:8080/",
          "height": 323
        },
        "outputId": "84fe6482-84f1-457f-8577-066c93619a01"
      },
      "source": [
        "model.summary()"
      ],
      "execution_count": 38,
      "outputs": [
        {
          "output_type": "stream",
          "text": [
            "Model: \"sequential\"\n",
            "_________________________________________________________________\n",
            "Layer (type)                 Output Shape              Param #   \n",
            "=================================================================\n",
            "embedding (Embedding)        (None, 120, 16)           16000     \n",
            "_________________________________________________________________\n",
            "bidirectional (Bidirectional (None, 64)                12544     \n",
            "_________________________________________________________________\n",
            "dense (Dense)                (None, 24)                1560      \n",
            "_________________________________________________________________\n",
            "dropout (Dropout)            (None, 24)                0         \n",
            "_________________________________________________________________\n",
            "dense_1 (Dense)              (None, 8)                 200       \n",
            "=================================================================\n",
            "Total params: 30,304\n",
            "Trainable params: 30,304\n",
            "Non-trainable params: 0\n",
            "_________________________________________________________________\n"
          ],
          "name": "stdout"
        }
      ]
    },
    {
      "cell_type": "code",
      "metadata": {
        "id": "3AVVpKj8UIao",
        "colab_type": "code",
        "colab": {}
      },
      "source": [
        "f1_score = tfa.metrics.F1Score(num_classes, average='micro', name='f1')   # this is the competition metric\n",
        "model.compile(loss='sparse_categorical_crossentropy', optimizer='adam', metrics=['accuracy', f1_score])\n",
        "\n",
        "#model.compile(optimizer=tf.keras.optimizers.Adam(learning_rate=0.001),    # default learning rate\n",
        "#              loss=tfa.losses.SigmoidFocalCrossEntropy(), \n",
        "#              metrics=[f1_score])"
      ],
      "execution_count": 59,
      "outputs": []
    },
    {
      "cell_type": "code",
      "metadata": {
        "id": "c-2QorwzUIcw",
        "colab_type": "code",
        "colab": {}
      },
      "source": [
        "checkpoint_filepath = 'Friends-The-One-With-Deep-Learning-v1.h5'\n",
        "\n",
        "my_callback = tf.keras.callbacks.ModelCheckpoint(checkpoint_filepath, verbose=1, \n",
        "                                        save_weights_only=True, monitor='val_loss', \n",
        "                                        mode='auto', save_best_only=True)\n",
        "\n",
        "#es = tf.keras.callbacks.EarlyStopping(monitor='val_loss', min_delta=0, patience=20, verbose=1, mode='auto', restore_best_weights=False)"
      ],
      "execution_count": 60,
      "outputs": []
    },
    {
      "cell_type": "code",
      "metadata": {
        "id": "77CYCG_j0AGI",
        "colab_type": "code",
        "colab": {}
      },
      "source": [
        "import numpy as np\n",
        "\n",
        "train_utterance_padded = np.array(train_utterance_padded)\n",
        "train_emotion = np.array(train_emotion)\n",
        "validation_utterance_padded = np.array(validation_utterance_padded)\n",
        "validation_emotion = np.array(validation_emotion)\n",
        "test_utterance_padded = np.array(test_utterance_padded)\n",
        "test_emotion = np.array(test_emotion)"
      ],
      "execution_count": 84,
      "outputs": []
    },
    {
      "cell_type": "code",
      "metadata": {
        "id": "nsqTev6KzuBc",
        "colab_type": "code",
        "colab": {
          "base_uri": "https://localhost:8080/",
          "height": 527
        },
        "outputId": "d46d5dc9-c469-4627-a19b-7e680ce0ddeb"
      },
      "source": [
        "train_utterance_padded[:3]"
      ],
      "execution_count": 62,
      "outputs": [
        {
          "output_type": "execute_result",
          "data": {
            "text/plain": [
              "array([[ 12,   2, 429,   3,  45,   5, 803, 463,  40,  29,   1,   1, 129,\n",
              "          5,   1,   1,   8,   1, 967, 968,   0,   0,   0,   0,   0,   0,\n",
              "          0,   0,   0,   0,   0,   0,   0,   0,   0,   0,   0,   0,   0,\n",
              "          0,   0,   0,   0,   0,   0,   0,   0,   0,   0,   0,   0,   0,\n",
              "          0,   0,   0,   0,   0,   0,   0,   0,   0,   0,   0,   0,   0,\n",
              "          0,   0,   0,   0,   0,   0,   0,   0,   0,   0,   0,   0,   0,\n",
              "          0,   0,   0,   0,   0,   0,   0,   0,   0,   0,   0,   0,   0,\n",
              "          0,   0,   0,   0,   0,   0,   0,   0,   0,   0,   0,   0,   0,\n",
              "          0,   0,   0,   0,   0,   0,   0,   0,   0,   0,   0,   0,   0,\n",
              "          0,   0,   0],\n",
              "       [  5, 746,   2,   4, 881, 108,  51, 747, 882,   0,   0,   0,   0,\n",
              "          0,   0,   0,   0,   0,   0,   0,   0,   0,   0,   0,   0,   0,\n",
              "          0,   0,   0,   0,   0,   0,   0,   0,   0,   0,   0,   0,   0,\n",
              "          0,   0,   0,   0,   0,   0,   0,   0,   0,   0,   0,   0,   0,\n",
              "          0,   0,   0,   0,   0,   0,   0,   0,   0,   0,   0,   0,   0,\n",
              "          0,   0,   0,   0,   0,   0,   0,   0,   0,   0,   0,   0,   0,\n",
              "          0,   0,   0,   0,   0,   0,   0,   0,   0,   0,   0,   0,   0,\n",
              "          0,   0,   0,   0,   0,   0,   0,   0,   0,   0,   0,   0,   0,\n",
              "          0,   0,   0,   0,   0,   0,   0,   0,   0,   0,   0,   0,   0,\n",
              "          0,   0,   0],\n",
              "       [ 12,   2,  17,   3,  81,  17,   3,  81,   0,   0,   0,   0,   0,\n",
              "          0,   0,   0,   0,   0,   0,   0,   0,   0,   0,   0,   0,   0,\n",
              "          0,   0,   0,   0,   0,   0,   0,   0,   0,   0,   0,   0,   0,\n",
              "          0,   0,   0,   0,   0,   0,   0,   0,   0,   0,   0,   0,   0,\n",
              "          0,   0,   0,   0,   0,   0,   0,   0,   0,   0,   0,   0,   0,\n",
              "          0,   0,   0,   0,   0,   0,   0,   0,   0,   0,   0,   0,   0,\n",
              "          0,   0,   0,   0,   0,   0,   0,   0,   0,   0,   0,   0,   0,\n",
              "          0,   0,   0,   0,   0,   0,   0,   0,   0,   0,   0,   0,   0,\n",
              "          0,   0,   0,   0,   0,   0,   0,   0,   0,   0,   0,   0,   0,\n",
              "          0,   0,   0]], dtype=int32)"
            ]
          },
          "metadata": {
            "tags": []
          },
          "execution_count": 62
        }
      ]
    },
    {
      "cell_type": "code",
      "metadata": {
        "id": "asJDMicFzqrs",
        "colab_type": "code",
        "colab": {
          "base_uri": "https://localhost:8080/",
          "height": 34
        },
        "outputId": "65dd307d-639f-4e62-a1b1-b235077d6e2d"
      },
      "source": [
        "train_emotion[:3]"
      ],
      "execution_count": 63,
      "outputs": [
        {
          "output_type": "execute_result",
          "data": {
            "text/plain": [
              "array([0, 0, 0])"
            ]
          },
          "metadata": {
            "tags": []
          },
          "execution_count": 63
        }
      ]
    },
    {
      "cell_type": "markdown",
      "metadata": {
        "id": "RPmsjmi36mxP",
        "colab_type": "text"
      },
      "source": [
        "### Compile and Fit Model"
      ]
    },
    {
      "cell_type": "code",
      "metadata": {
        "id": "pg-gM-Q3VH5x",
        "colab_type": "code",
        "colab": {
          "base_uri": "https://localhost:8080/",
          "height": 1000
        },
        "outputId": "e0ab55ad-3122-4709-bdcf-87b5e33922c7"
      },
      "source": [
        "num_epochs = 50\n",
        "\n",
        "history = model.fit(train_utterance_padded, train_emotion, epochs=num_epochs,\\\n",
        "                    validation_data=(validation_utterance_padded, validation_emotion),\\\n",
        "                    verbose=1, callbacks=[my_callback])"
      ],
      "execution_count": 64,
      "outputs": [
        {
          "output_type": "stream",
          "text": [
            "Epoch 1/50\n",
            "330/331 [============================>.] - ETA: 0s - loss: 1.3070 - accuracy: 0.5420 - f1: 0.1887\n",
            "Epoch 00001: val_loss improved from inf to 1.58132, saving model to Friends-The-One-With-Deep-Learning-v1.h5\n",
            "331/331 [==============================] - 5s 15ms/step - loss: 1.3069 - accuracy: 0.5421 - f1: 0.1887 - val_loss: 1.5813 - val_accuracy: 0.4457 - val_f1: 0.1898\n",
            "Epoch 2/50\n",
            "329/331 [============================>.] - ETA: 0s - loss: 1.2793 - accuracy: 0.5509 - f1: 0.1887\n",
            "Epoch 00002: val_loss did not improve from 1.58132\n",
            "331/331 [==============================] - 4s 13ms/step - loss: 1.2800 - accuracy: 0.5504 - f1: 0.1887 - val_loss: 1.5845 - val_accuracy: 0.4457 - val_f1: 0.1898\n",
            "Epoch 3/50\n",
            "331/331 [==============================] - ETA: 0s - loss: 1.2710 - accuracy: 0.5489 - f1: 0.1887\n",
            "Epoch 00003: val_loss did not improve from 1.58132\n",
            "331/331 [==============================] - 4s 13ms/step - loss: 1.2710 - accuracy: 0.5489 - f1: 0.1887 - val_loss: 1.5843 - val_accuracy: 0.4533 - val_f1: 0.1898\n",
            "Epoch 4/50\n",
            "330/331 [============================>.] - ETA: 0s - loss: 1.2589 - accuracy: 0.5562 - f1: 0.1887\n",
            "Epoch 00004: val_loss did not improve from 1.58132\n",
            "331/331 [==============================] - 4s 13ms/step - loss: 1.2589 - accuracy: 0.5562 - f1: 0.1887 - val_loss: 1.5913 - val_accuracy: 0.4406 - val_f1: 0.1898\n",
            "Epoch 5/50\n",
            "328/331 [============================>.] - ETA: 0s - loss: 1.2422 - accuracy: 0.5615 - f1: 0.1887\n",
            "Epoch 00005: val_loss did not improve from 1.58132\n",
            "331/331 [==============================] - 4s 13ms/step - loss: 1.2417 - accuracy: 0.5614 - f1: 0.1887 - val_loss: 1.6172 - val_accuracy: 0.4431 - val_f1: 0.1898\n",
            "Epoch 6/50\n",
            "330/331 [============================>.] - ETA: 0s - loss: 1.2320 - accuracy: 0.5651 - f1: 0.1887\n",
            "Epoch 00006: val_loss did not improve from 1.58132\n",
            "331/331 [==============================] - 4s 13ms/step - loss: 1.2320 - accuracy: 0.5651 - f1: 0.1887 - val_loss: 1.6287 - val_accuracy: 0.4278 - val_f1: 0.1898\n",
            "Epoch 7/50\n",
            "331/331 [==============================] - ETA: 0s - loss: 1.2217 - accuracy: 0.5639 - f1: 0.1887\n",
            "Epoch 00007: val_loss did not improve from 1.58132\n",
            "331/331 [==============================] - 4s 13ms/step - loss: 1.2217 - accuracy: 0.5639 - f1: 0.1887 - val_loss: 1.6674 - val_accuracy: 0.4414 - val_f1: 0.1898\n",
            "Epoch 8/50\n",
            "330/331 [============================>.] - ETA: 0s - loss: 1.2058 - accuracy: 0.5726 - f1: 0.1887\n",
            "Epoch 00008: val_loss did not improve from 1.58132\n",
            "331/331 [==============================] - 4s 13ms/step - loss: 1.2058 - accuracy: 0.5726 - f1: 0.1887 - val_loss: 1.6912 - val_accuracy: 0.4329 - val_f1: 0.1898\n",
            "Epoch 9/50\n",
            "327/331 [============================>.] - ETA: 0s - loss: 1.2037 - accuracy: 0.5720 - f1: 0.1887\n",
            "Epoch 00009: val_loss did not improve from 1.58132\n",
            "331/331 [==============================] - 4s 13ms/step - loss: 1.2044 - accuracy: 0.5719 - f1: 0.1887 - val_loss: 1.7063 - val_accuracy: 0.4346 - val_f1: 0.1898\n",
            "Epoch 10/50\n",
            "328/331 [============================>.] - ETA: 0s - loss: 1.1807 - accuracy: 0.5806 - f1: 0.1887\n",
            "Epoch 00010: val_loss did not improve from 1.58132\n",
            "331/331 [==============================] - 4s 13ms/step - loss: 1.1813 - accuracy: 0.5804 - f1: 0.1887 - val_loss: 1.6982 - val_accuracy: 0.4304 - val_f1: 0.1898\n",
            "Epoch 11/50\n",
            "327/331 [============================>.] - ETA: 0s - loss: 1.1702 - accuracy: 0.5851 - f1: 0.1888\n",
            "Epoch 00011: val_loss did not improve from 1.58132\n",
            "331/331 [==============================] - 4s 13ms/step - loss: 1.1690 - accuracy: 0.5858 - f1: 0.1887 - val_loss: 1.7888 - val_accuracy: 0.4185 - val_f1: 0.1898\n",
            "Epoch 12/50\n",
            "328/331 [============================>.] - ETA: 0s - loss: 1.1570 - accuracy: 0.5869 - f1: 0.1887\n",
            "Epoch 00012: val_loss did not improve from 1.58132\n",
            "331/331 [==============================] - 4s 13ms/step - loss: 1.1575 - accuracy: 0.5868 - f1: 0.1887 - val_loss: 1.7678 - val_accuracy: 0.4236 - val_f1: 0.1898\n",
            "Epoch 13/50\n",
            "330/331 [============================>.] - ETA: 0s - loss: 1.1433 - accuracy: 0.5902 - f1: 0.1887\n",
            "Epoch 00013: val_loss did not improve from 1.58132\n",
            "331/331 [==============================] - 4s 13ms/step - loss: 1.1432 - accuracy: 0.5903 - f1: 0.1887 - val_loss: 1.7830 - val_accuracy: 0.4346 - val_f1: 0.1898\n",
            "Epoch 14/50\n",
            "330/331 [============================>.] - ETA: 0s - loss: 1.1336 - accuracy: 0.5955 - f1: 0.1887\n",
            "Epoch 00014: val_loss did not improve from 1.58132\n",
            "331/331 [==============================] - 4s 13ms/step - loss: 1.1336 - accuracy: 0.5956 - f1: 0.1887 - val_loss: 1.7918 - val_accuracy: 0.4261 - val_f1: 0.1898\n",
            "Epoch 15/50\n",
            "327/331 [============================>.] - ETA: 0s - loss: 1.1224 - accuracy: 0.5991 - f1: 0.1887\n",
            "Epoch 00015: val_loss did not improve from 1.58132\n",
            "331/331 [==============================] - 4s 13ms/step - loss: 1.1218 - accuracy: 0.5997 - f1: 0.1887 - val_loss: 1.8040 - val_accuracy: 0.4126 - val_f1: 0.1898\n",
            "Epoch 16/50\n",
            "330/331 [============================>.] - ETA: 0s - loss: 1.1111 - accuracy: 0.6051 - f1: 0.1887\n",
            "Epoch 00016: val_loss did not improve from 1.58132\n",
            "331/331 [==============================] - 4s 13ms/step - loss: 1.1113 - accuracy: 0.6051 - f1: 0.1887 - val_loss: 1.8669 - val_accuracy: 0.4236 - val_f1: 0.1898\n",
            "Epoch 17/50\n",
            "327/331 [============================>.] - ETA: 0s - loss: 1.1003 - accuracy: 0.6088 - f1: 0.1887\n",
            "Epoch 00017: val_loss did not improve from 1.58132\n",
            "331/331 [==============================] - 4s 13ms/step - loss: 1.1001 - accuracy: 0.6086 - f1: 0.1887 - val_loss: 1.8798 - val_accuracy: 0.4160 - val_f1: 0.1898\n",
            "Epoch 18/50\n",
            "329/331 [============================>.] - ETA: 0s - loss: 1.0852 - accuracy: 0.6121 - f1: 0.1887\n",
            "Epoch 00018: val_loss did not improve from 1.58132\n",
            "331/331 [==============================] - 4s 13ms/step - loss: 1.0858 - accuracy: 0.6119 - f1: 0.1887 - val_loss: 1.8996 - val_accuracy: 0.4211 - val_f1: 0.1898\n",
            "Epoch 19/50\n",
            "331/331 [==============================] - ETA: 0s - loss: 1.0748 - accuracy: 0.6176 - f1: 0.1887\n",
            "Epoch 00019: val_loss did not improve from 1.58132\n",
            "331/331 [==============================] - 4s 13ms/step - loss: 1.0748 - accuracy: 0.6176 - f1: 0.1887 - val_loss: 2.0123 - val_accuracy: 0.4228 - val_f1: 0.1898\n",
            "Epoch 20/50\n",
            "328/331 [============================>.] - ETA: 0s - loss: 1.0650 - accuracy: 0.6236 - f1: 0.1887\n",
            "Epoch 00020: val_loss did not improve from 1.58132\n",
            "331/331 [==============================] - 4s 13ms/step - loss: 1.0644 - accuracy: 0.6236 - f1: 0.1887 - val_loss: 1.9014 - val_accuracy: 0.4270 - val_f1: 0.1898\n",
            "Epoch 21/50\n",
            "329/331 [============================>.] - ETA: 0s - loss: 1.0555 - accuracy: 0.6240 - f1: 0.1887\n",
            "Epoch 00021: val_loss did not improve from 1.58132\n",
            "331/331 [==============================] - 4s 13ms/step - loss: 1.0552 - accuracy: 0.6241 - f1: 0.1887 - val_loss: 2.0366 - val_accuracy: 0.4270 - val_f1: 0.1898\n",
            "Epoch 22/50\n",
            "327/331 [============================>.] - ETA: 0s - loss: 1.0525 - accuracy: 0.6277 - f1: 0.1887\n",
            "Epoch 00022: val_loss did not improve from 1.58132\n",
            "331/331 [==============================] - 4s 13ms/step - loss: 1.0523 - accuracy: 0.6271 - f1: 0.1887 - val_loss: 2.0622 - val_accuracy: 0.4244 - val_f1: 0.1898\n",
            "Epoch 23/50\n",
            "329/331 [============================>.] - ETA: 0s - loss: 1.0220 - accuracy: 0.6364 - f1: 0.1887\n",
            "Epoch 00023: val_loss did not improve from 1.58132\n",
            "331/331 [==============================] - 4s 13ms/step - loss: 1.0219 - accuracy: 0.6365 - f1: 0.1887 - val_loss: 2.0470 - val_accuracy: 0.4100 - val_f1: 0.1898\n",
            "Epoch 24/50\n",
            "327/331 [============================>.] - ETA: 0s - loss: 1.0192 - accuracy: 0.6393 - f1: 0.1887\n",
            "Epoch 00024: val_loss did not improve from 1.58132\n",
            "331/331 [==============================] - 4s 12ms/step - loss: 1.0185 - accuracy: 0.6400 - f1: 0.1887 - val_loss: 2.1397 - val_accuracy: 0.4168 - val_f1: 0.1898\n",
            "Epoch 25/50\n",
            "330/331 [============================>.] - ETA: 0s - loss: 1.0154 - accuracy: 0.6431 - f1: 0.1887\n",
            "Epoch 00025: val_loss did not improve from 1.58132\n",
            "331/331 [==============================] - 4s 13ms/step - loss: 1.0154 - accuracy: 0.6431 - f1: 0.1887 - val_loss: 2.1524 - val_accuracy: 0.4024 - val_f1: 0.1898\n",
            "Epoch 26/50\n",
            "329/331 [============================>.] - ETA: 0s - loss: 1.0063 - accuracy: 0.6466 - f1: 0.1887\n",
            "Epoch 00026: val_loss did not improve from 1.58132\n",
            "331/331 [==============================] - 4s 13ms/step - loss: 1.0056 - accuracy: 0.6465 - f1: 0.1887 - val_loss: 2.0267 - val_accuracy: 0.4185 - val_f1: 0.1898\n",
            "Epoch 27/50\n",
            "330/331 [============================>.] - ETA: 0s - loss: 0.9944 - accuracy: 0.6510 - f1: 0.1887\n",
            "Epoch 00027: val_loss did not improve from 1.58132\n",
            "331/331 [==============================] - 4s 12ms/step - loss: 0.9943 - accuracy: 0.6511 - f1: 0.1887 - val_loss: 2.1048 - val_accuracy: 0.4151 - val_f1: 0.1898\n",
            "Epoch 28/50\n",
            "327/331 [============================>.] - ETA: 0s - loss: 0.9825 - accuracy: 0.6488 - f1: 0.1887\n",
            "Epoch 00028: val_loss did not improve from 1.58132\n",
            "331/331 [==============================] - 4s 12ms/step - loss: 0.9828 - accuracy: 0.6488 - f1: 0.1887 - val_loss: 2.1878 - val_accuracy: 0.4143 - val_f1: 0.1898\n",
            "Epoch 29/50\n",
            "329/331 [============================>.] - ETA: 0s - loss: 0.9707 - accuracy: 0.6569 - f1: 0.1887\n",
            "Epoch 00029: val_loss did not improve from 1.58132\n",
            "331/331 [==============================] - 4s 12ms/step - loss: 0.9711 - accuracy: 0.6567 - f1: 0.1887 - val_loss: 2.2017 - val_accuracy: 0.4177 - val_f1: 0.1898\n",
            "Epoch 30/50\n",
            "329/331 [============================>.] - ETA: 0s - loss: 0.9645 - accuracy: 0.6592 - f1: 0.1887\n",
            "Epoch 00030: val_loss did not improve from 1.58132\n",
            "331/331 [==============================] - 4s 13ms/step - loss: 0.9647 - accuracy: 0.6592 - f1: 0.1887 - val_loss: 2.2774 - val_accuracy: 0.4211 - val_f1: 0.1898\n",
            "Epoch 31/50\n",
            "329/331 [============================>.] - ETA: 0s - loss: 0.9455 - accuracy: 0.6604 - f1: 0.1887\n",
            "Epoch 00031: val_loss did not improve from 1.58132\n",
            "331/331 [==============================] - 4s 13ms/step - loss: 0.9459 - accuracy: 0.6602 - f1: 0.1887 - val_loss: 2.3306 - val_accuracy: 0.4295 - val_f1: 0.1898\n",
            "Epoch 32/50\n",
            "331/331 [==============================] - ETA: 0s - loss: 0.9528 - accuracy: 0.6590 - f1: 0.1887\n",
            "Epoch 00032: val_loss did not improve from 1.58132\n",
            "331/331 [==============================] - 4s 13ms/step - loss: 0.9528 - accuracy: 0.6590 - f1: 0.1887 - val_loss: 2.3993 - val_accuracy: 0.4228 - val_f1: 0.1898\n",
            "Epoch 33/50\n",
            "329/331 [============================>.] - ETA: 0s - loss: 0.9391 - accuracy: 0.6675 - f1: 0.1887\n",
            "Epoch 00033: val_loss did not improve from 1.58132\n",
            "331/331 [==============================] - 4s 12ms/step - loss: 0.9387 - accuracy: 0.6676 - f1: 0.1887 - val_loss: 2.3717 - val_accuracy: 0.4194 - val_f1: 0.1898\n",
            "Epoch 34/50\n",
            "327/331 [============================>.] - ETA: 0s - loss: 0.9281 - accuracy: 0.6704 - f1: 0.1888\n",
            "Epoch 00034: val_loss did not improve from 1.58132\n",
            "331/331 [==============================] - 4s 12ms/step - loss: 0.9279 - accuracy: 0.6699 - f1: 0.1888 - val_loss: 2.4750 - val_accuracy: 0.4346 - val_f1: 0.1898\n",
            "Epoch 35/50\n",
            "327/331 [============================>.] - ETA: 0s - loss: 0.9132 - accuracy: 0.6746 - f1: 0.1887\n",
            "Epoch 00035: val_loss did not improve from 1.58132\n",
            "331/331 [==============================] - 4s 13ms/step - loss: 0.9142 - accuracy: 0.6743 - f1: 0.1887 - val_loss: 2.4370 - val_accuracy: 0.4117 - val_f1: 0.1898\n",
            "Epoch 36/50\n",
            "327/331 [============================>.] - ETA: 0s - loss: 0.9113 - accuracy: 0.6740 - f1: 0.1888\n",
            "Epoch 00036: val_loss did not improve from 1.58132\n",
            "331/331 [==============================] - 4s 12ms/step - loss: 0.9115 - accuracy: 0.6739 - f1: 0.1887 - val_loss: 2.4328 - val_accuracy: 0.4160 - val_f1: 0.1898\n",
            "Epoch 37/50\n",
            "329/331 [============================>.] - ETA: 0s - loss: 0.8933 - accuracy: 0.6762 - f1: 0.1887\n",
            "Epoch 00037: val_loss did not improve from 1.58132\n",
            "331/331 [==============================] - 4s 12ms/step - loss: 0.8931 - accuracy: 0.6762 - f1: 0.1887 - val_loss: 2.5034 - val_accuracy: 0.4194 - val_f1: 0.1898\n",
            "Epoch 38/50\n",
            "330/331 [============================>.] - ETA: 0s - loss: 0.8903 - accuracy: 0.6848 - f1: 0.1887\n",
            "Epoch 00038: val_loss did not improve from 1.58132\n",
            "331/331 [==============================] - 4s 12ms/step - loss: 0.8907 - accuracy: 0.6847 - f1: 0.1887 - val_loss: 2.7448 - val_accuracy: 0.4211 - val_f1: 0.1898\n",
            "Epoch 39/50\n",
            "331/331 [==============================] - ETA: 0s - loss: 0.9019 - accuracy: 0.6768 - f1: 0.1887\n",
            "Epoch 00039: val_loss did not improve from 1.58132\n",
            "331/331 [==============================] - 4s 13ms/step - loss: 0.9019 - accuracy: 0.6768 - f1: 0.1887 - val_loss: 2.5293 - val_accuracy: 0.4109 - val_f1: 0.1898\n",
            "Epoch 40/50\n",
            "328/331 [============================>.] - ETA: 0s - loss: 0.8879 - accuracy: 0.6838 - f1: 0.1887\n",
            "Epoch 00040: val_loss did not improve from 1.58132\n",
            "331/331 [==============================] - 4s 13ms/step - loss: 0.8885 - accuracy: 0.6835 - f1: 0.1887 - val_loss: 2.5538 - val_accuracy: 0.4270 - val_f1: 0.1898\n",
            "Epoch 41/50\n",
            "329/331 [============================>.] - ETA: 0s - loss: 0.8788 - accuracy: 0.6840 - f1: 0.1888\n",
            "Epoch 00041: val_loss did not improve from 1.58132\n",
            "331/331 [==============================] - 4s 13ms/step - loss: 0.8782 - accuracy: 0.6843 - f1: 0.1887 - val_loss: 2.7456 - val_accuracy: 0.4160 - val_f1: 0.1898\n",
            "Epoch 42/50\n",
            "330/331 [============================>.] - ETA: 0s - loss: 0.8685 - accuracy: 0.6879 - f1: 0.1887\n",
            "Epoch 00042: val_loss did not improve from 1.58132\n",
            "331/331 [==============================] - 4s 13ms/step - loss: 0.8685 - accuracy: 0.6878 - f1: 0.1887 - val_loss: 2.8240 - val_accuracy: 0.4126 - val_f1: 0.1898\n",
            "Epoch 43/50\n",
            "331/331 [==============================] - ETA: 0s - loss: 0.8504 - accuracy: 0.6941 - f1: 0.1887\n",
            "Epoch 00043: val_loss did not improve from 1.58132\n",
            "331/331 [==============================] - 4s 13ms/step - loss: 0.8504 - accuracy: 0.6941 - f1: 0.1887 - val_loss: 2.7960 - val_accuracy: 0.4168 - val_f1: 0.1898\n",
            "Epoch 44/50\n",
            "328/331 [============================>.] - ETA: 0s - loss: 0.8459 - accuracy: 0.6957 - f1: 0.1887\n",
            "Epoch 00044: val_loss did not improve from 1.58132\n",
            "331/331 [==============================] - 4s 12ms/step - loss: 0.8451 - accuracy: 0.6961 - f1: 0.1887 - val_loss: 2.7624 - val_accuracy: 0.4194 - val_f1: 0.1898\n",
            "Epoch 45/50\n",
            "327/331 [============================>.] - ETA: 0s - loss: 0.8477 - accuracy: 0.6944 - f1: 0.1887\n",
            "Epoch 00045: val_loss did not improve from 1.58132\n",
            "331/331 [==============================] - 4s 12ms/step - loss: 0.8462 - accuracy: 0.6948 - f1: 0.1887 - val_loss: 2.8958 - val_accuracy: 0.4024 - val_f1: 0.1898\n",
            "Epoch 46/50\n",
            "329/331 [============================>.] - ETA: 0s - loss: 0.8527 - accuracy: 0.6960 - f1: 0.1887\n",
            "Epoch 00046: val_loss did not improve from 1.58132\n",
            "331/331 [==============================] - 4s 12ms/step - loss: 0.8531 - accuracy: 0.6960 - f1: 0.1887 - val_loss: 2.8418 - val_accuracy: 0.4194 - val_f1: 0.1898\n",
            "Epoch 47/50\n",
            "328/331 [============================>.] - ETA: 0s - loss: 0.8180 - accuracy: 0.7062 - f1: 0.1887\n",
            "Epoch 00047: val_loss did not improve from 1.58132\n",
            "331/331 [==============================] - 4s 12ms/step - loss: 0.8179 - accuracy: 0.7060 - f1: 0.1887 - val_loss: 2.8724 - val_accuracy: 0.4143 - val_f1: 0.1898\n",
            "Epoch 48/50\n",
            "329/331 [============================>.] - ETA: 0s - loss: 0.8107 - accuracy: 0.7051 - f1: 0.1888\n",
            "Epoch 00048: val_loss did not improve from 1.58132\n",
            "331/331 [==============================] - 4s 12ms/step - loss: 0.8100 - accuracy: 0.7057 - f1: 0.1887 - val_loss: 3.0588 - val_accuracy: 0.4151 - val_f1: 0.1898\n",
            "Epoch 49/50\n",
            "329/331 [============================>.] - ETA: 0s - loss: 0.8180 - accuracy: 0.7067 - f1: 0.1887\n",
            "Epoch 00049: val_loss did not improve from 1.58132\n",
            "331/331 [==============================] - 4s 13ms/step - loss: 0.8173 - accuracy: 0.7072 - f1: 0.1887 - val_loss: 3.0151 - val_accuracy: 0.4202 - val_f1: 0.1898\n",
            "Epoch 50/50\n",
            "328/331 [============================>.] - ETA: 0s - loss: 0.7991 - accuracy: 0.7106 - f1: 0.1887\n",
            "Epoch 00050: val_loss did not improve from 1.58132\n",
            "331/331 [==============================] - 4s 12ms/step - loss: 0.7996 - accuracy: 0.7103 - f1: 0.1887 - val_loss: 3.0840 - val_accuracy: 0.4211 - val_f1: 0.1898\n"
          ],
          "name": "stdout"
        }
      ]
    },
    {
      "cell_type": "markdown",
      "metadata": {
        "id": "RNnR64wELU3Z",
        "colab_type": "text"
      },
      "source": [
        "### Store the history object to disk \n",
        "So we can plot anytime without retraining this model\n",
        "\n",
        "https://stackoverflow.com/questions/11218477/how-can-i-use-pickle-to-save-a-dict  \n",
        "https://stackoverflow.com/questions/23582489/python-pickle-protocol-choice"
      ]
    },
    {
      "cell_type": "code",
      "metadata": {
        "id": "TB9Kjx2ZLVAF",
        "colab_type": "code",
        "colab": {}
      },
      "source": [
        "#Write history to disk\n",
        "with open('Friends-The-One-With-Deep-Learning-v1.history.pickle', 'wb') as handle:\n",
        "    pickle.dump(history.history, handle, protocol=pickle.HIGHEST_PROTOCOL)\n",
        "\n",
        "#Read history from disk\n",
        "#with open('Cassava-Disease-Classification-v1.history.pickle', 'rb') as handle:\n",
        "#    history = pickle.load(handle)"
      ],
      "execution_count": 66,
      "outputs": []
    },
    {
      "cell_type": "markdown",
      "metadata": {
        "id": "bU7jx1Kb6asB",
        "colab_type": "text"
      },
      "source": [
        "### Plot traning and validation accuracy and loss"
      ]
    },
    {
      "cell_type": "code",
      "metadata": {
        "id": "r2Yc2kIdb7QX",
        "colab_type": "code",
        "colab": {
          "base_uri": "https://localhost:8080/",
          "height": 839
        },
        "outputId": "c19eaea4-f2b2-4947-91c7-eda9492a34bd"
      },
      "source": [
        "version = ['v1']\n",
        "history_file_path = ['Friends-The-One-With-Deep-Learning-v1.history.pickle']\n",
        "plot_training_validation_accuracy_loss(version, history_file_path)"
      ],
      "execution_count": 77,
      "outputs": [
        {
          "output_type": "display_data",
          "data": {
            "image/png": "[encoded data removed]",
            "text/plain": [
              "<Figure size 1440x1008 with 3 Axes>"
            ]
          },
          "metadata": {
            "tags": [],
            "needs_background": "light"
          }
        }
      ]
    },
    {
      "cell_type": "markdown",
      "metadata": {
        "id": "typdu84jc0PD",
        "colab_type": "text"
      },
      "source": [
        "### Evaluate model on the test set"
      ]
    },
    {
      "cell_type": "code",
      "metadata": {
        "id": "OpqPs4uHc0Ws",
        "colab_type": "code",
        "colab": {
          "base_uri": "https://localhost:8080/",
          "height": 51
        },
        "outputId": "9b6d928d-36da-4b36-9222-81aa6ea37550"
      },
      "source": [
        "model.evaluate(test_utterance_padded, test_emotion, verbose=1)"
      ],
      "execution_count": 85,
      "outputs": [
        {
          "output_type": "stream",
          "text": [
            "87/87 [==============================] - 1s 7ms/step - loss: 2.5556 - accuracy: 0.4479 - f1: 0.1875\n"
          ],
          "name": "stdout"
        },
        {
          "output_type": "execute_result",
          "data": {
            "text/plain": [
              "[2.5555858612060547, 0.4479016065597534, 0.187519833445549]"
            ]
          },
          "metadata": {
            "tags": []
          },
          "execution_count": 85
        }
      ]
    },
    {
      "cell_type": "code",
      "metadata": {
        "id": "3KSsMAVKd3oQ",
        "colab_type": "code",
        "colab": {}
      },
      "source": [
        "y_pred = model.predict(test_utterance_padded)\n",
        "y_pred = y_pred.argmax(axis=1)"
      ],
      "execution_count": 86,
      "outputs": []
    },
    {
      "cell_type": "code",
      "metadata": {
        "id": "iue69vf0d3qe",
        "colab_type": "code",
        "colab": {
          "base_uri": "https://localhost:8080/",
          "height": 326
        },
        "outputId": "3eabc021-b4fd-4cc4-d007-997e7e853ef4"
      },
      "source": [
        "print(classification_report(test_emotion, y_pred)) #, target_names=labelEncoder.classes_"
      ],
      "execution_count": 90,
      "outputs": [
        {
          "output_type": "stream",
          "text": [
            "              precision    recall  f1-score   support\n",
            "\n",
            "           0       0.56      0.69      0.62      1287\n",
            "           1       0.35      0.35      0.35       304\n",
            "           2       0.18      0.22      0.20        85\n",
            "           3       0.00      0.00      0.00        32\n",
            "           4       0.20      0.07      0.10       161\n",
            "           5       0.38      0.34      0.36       286\n",
            "           6       0.07      0.03      0.04        68\n",
            "           7       0.26      0.20      0.23       541\n",
            "\n",
            "    accuracy                           0.45      2764\n",
            "   macro avg       0.25      0.24      0.24      2764\n",
            "weighted avg       0.41      0.45      0.42      2764\n",
            "\n"
          ],
          "name": "stdout"
        },
        {
          "output_type": "stream",
          "text": [
            "/usr/local/lib/python3.6/dist-packages/sklearn/metrics/_classification.py:1272: UndefinedMetricWarning: Precision and F-score are ill-defined and being set to 0.0 in labels with no predicted samples. Use `zero_division` parameter to control this behavior.\n",
            "  _warn_prf(average, modifier, msg_start, len(result))\n"
          ],
          "name": "stderr"
        }
      ]
    },
    {
      "cell_type": "markdown",
      "metadata": {
        "colab_type": "text",
        "id": "YnQlc1j47MZP"
      },
      "source": [
        "# v2 - Emotion Detection with our own Embedding + Bi LSTM(64), Bi LSTM(32) - 0.1M parameters 71% training, 39% validation accuracy"
      ]
    },
    {
      "cell_type": "markdown",
      "metadata": {
        "colab_type": "text",
        "id": "reKWa63d7MZQ"
      },
      "source": [
        "### Model Definition"
      ]
    },
    {
      "cell_type": "code",
      "metadata": {
        "colab_type": "code",
        "id": "4MlNwoOt7MZQ",
        "colab": {
          "base_uri": "https://localhost:8080/",
          "height": 391
        },
        "outputId": "2751b302-fce8-47ef-ef9e-49565beceab1"
      },
      "source": [
        "model = tf.keras.Sequential([\n",
        "    tf.keras.layers.Embedding(vocab_size, embedding_dim, input_length=max_length),\n",
        "    tf.keras.layers.Bidirectional(tf.keras.layers.LSTM(64, return_sequences=True)),\n",
        "    tf.keras.layers.Bidirectional(tf.keras.layers.LSTM(32)),\n",
        "    tf.keras.layers.Dropout(0.2),\n",
        "    tf.keras.layers.Dense(24, activation='relu'),\n",
        "    tf.keras.layers.Dropout(0.2),\n",
        "    tf.keras.layers.Dense(num_classes, activation='softmax')\n",
        "])\n",
        "\n",
        "model.summary()"
      ],
      "execution_count": 91,
      "outputs": [
        {
          "output_type": "stream",
          "text": [
            "Model: \"sequential_1\"\n",
            "_________________________________________________________________\n",
            "Layer (type)                 Output Shape              Param #   \n",
            "=================================================================\n",
            "embedding_1 (Embedding)      (None, 120, 16)           16000     \n",
            "_________________________________________________________________\n",
            "bidirectional_1 (Bidirection (None, 120, 128)          41472     \n",
            "_________________________________________________________________\n",
            "bidirectional_2 (Bidirection (None, 64)                41216     \n",
            "_________________________________________________________________\n",
            "dropout_1 (Dropout)          (None, 64)                0         \n",
            "_________________________________________________________________\n",
            "dense_2 (Dense)              (None, 24)                1560      \n",
            "_________________________________________________________________\n",
            "dropout_2 (Dropout)          (None, 24)                0         \n",
            "_________________________________________________________________\n",
            "dense_3 (Dense)              (None, 8)                 200       \n",
            "=================================================================\n",
            "Total params: 100,448\n",
            "Trainable params: 100,448\n",
            "Non-trainable params: 0\n",
            "_________________________________________________________________\n"
          ],
          "name": "stdout"
        }
      ]
    },
    {
      "cell_type": "markdown",
      "metadata": {
        "colab_type": "text",
        "id": "G3teKwjY7MZT"
      },
      "source": [
        "### Compile and Fit Model"
      ]
    },
    {
      "cell_type": "code",
      "metadata": {
        "colab_type": "code",
        "id": "H7ljasdn7MZT",
        "colab": {}
      },
      "source": [
        "model.compile(loss='sparse_categorical_crossentropy', optimizer='adam', metrics=['accuracy', f1_score])"
      ],
      "execution_count": 92,
      "outputs": []
    },
    {
      "cell_type": "code",
      "metadata": {
        "colab_type": "code",
        "id": "2AhJskWm7MZU",
        "colab": {}
      },
      "source": [
        "checkpoint_filepath = 'Friends-The-One-With-Deep-Learning-v2.h5'\n",
        "my_callback = tf.keras.callbacks.ModelCheckpoint(checkpoint_filepath, verbose=1, \n",
        "                                        save_weights_only=True, monitor='val_loss', \n",
        "                                        mode='auto', save_best_only=True)"
      ],
      "execution_count": 93,
      "outputs": []
    },
    {
      "cell_type": "code",
      "metadata": {
        "colab_type": "code",
        "id": "8_wD0o2X7MZW",
        "colab": {
          "base_uri": "https://localhost:8080/",
          "height": 1000
        },
        "outputId": "0187a856-3d1f-4090-fd53-2a82d4748f0d"
      },
      "source": [
        "num_epochs = 50\n",
        "\n",
        "history = model.fit(train_utterance_padded, train_emotion, epochs=num_epochs,\\\n",
        "                    validation_data=(validation_utterance_padded, validation_emotion),\\\n",
        "                    verbose=1, callbacks=[my_callback])"
      ],
      "execution_count": 94,
      "outputs": [
        {
          "output_type": "stream",
          "text": [
            "Epoch 1/50\n",
            "330/331 [============================>.] - ETA: 0s - loss: 1.6367 - accuracy: 0.4479 - f1: 0.1885\n",
            "Epoch 00001: val_loss improved from inf to 1.69181, saving model to Friends-The-One-With-Deep-Learning-v2.h5\n",
            "331/331 [==============================] - 9s 27ms/step - loss: 1.6366 - accuracy: 0.4480 - f1: 0.1885 - val_loss: 1.6918 - val_accuracy: 0.4278 - val_f1: 0.1898\n",
            "Epoch 2/50\n",
            "330/331 [============================>.] - ETA: 0s - loss: 1.5458 - accuracy: 0.4643 - f1: 0.1887\n",
            "Epoch 00002: val_loss improved from 1.69181 to 1.61537, saving model to Friends-The-One-With-Deep-Learning-v2.h5\n",
            "331/331 [==============================] - 8s 23ms/step - loss: 1.5459 - accuracy: 0.4643 - f1: 0.1887 - val_loss: 1.6154 - val_accuracy: 0.4270 - val_f1: 0.1898\n",
            "Epoch 3/50\n",
            "329/331 [============================>.] - ETA: 0s - loss: 1.4824 - accuracy: 0.4882 - f1: 0.1887\n",
            "Epoch 00003: val_loss improved from 1.61537 to 1.58996, saving model to Friends-The-One-With-Deep-Learning-v2.h5\n",
            "331/331 [==============================] - 8s 23ms/step - loss: 1.4827 - accuracy: 0.4883 - f1: 0.1887 - val_loss: 1.5900 - val_accuracy: 0.4355 - val_f1: 0.1898\n",
            "Epoch 4/50\n",
            "329/331 [============================>.] - ETA: 0s - loss: 1.4444 - accuracy: 0.4973 - f1: 0.1887\n",
            "Epoch 00004: val_loss improved from 1.58996 to 1.57749, saving model to Friends-The-One-With-Deep-Learning-v2.h5\n",
            "331/331 [==============================] - 8s 23ms/step - loss: 1.4446 - accuracy: 0.4976 - f1: 0.1887 - val_loss: 1.5775 - val_accuracy: 0.4380 - val_f1: 0.1898\n",
            "Epoch 5/50\n",
            "329/331 [============================>.] - ETA: 0s - loss: 1.4214 - accuracy: 0.5070 - f1: 0.1887\n",
            "Epoch 00005: val_loss did not improve from 1.57749\n",
            "331/331 [==============================] - 8s 23ms/step - loss: 1.4209 - accuracy: 0.5071 - f1: 0.1887 - val_loss: 1.5939 - val_accuracy: 0.4440 - val_f1: 0.1898\n",
            "Epoch 6/50\n",
            "330/331 [============================>.] - ETA: 0s - loss: 1.3996 - accuracy: 0.5133 - f1: 0.1887\n",
            "Epoch 00006: val_loss did not improve from 1.57749\n",
            "331/331 [==============================] - 8s 23ms/step - loss: 1.3996 - accuracy: 0.5132 - f1: 0.1887 - val_loss: 1.5893 - val_accuracy: 0.4465 - val_f1: 0.1898\n",
            "Epoch 7/50\n",
            "329/331 [============================>.] - ETA: 0s - loss: 1.3903 - accuracy: 0.5162 - f1: 0.1887\n",
            "Epoch 00007: val_loss did not improve from 1.57749\n",
            "331/331 [==============================] - 8s 23ms/step - loss: 1.3896 - accuracy: 0.5163 - f1: 0.1887 - val_loss: 1.6121 - val_accuracy: 0.4457 - val_f1: 0.1898\n",
            "Epoch 8/50\n",
            "329/331 [============================>.] - ETA: 0s - loss: 1.3695 - accuracy: 0.5176 - f1: 0.1887\n",
            "Epoch 00008: val_loss did not improve from 1.57749\n",
            "331/331 [==============================] - 8s 23ms/step - loss: 1.3694 - accuracy: 0.5174 - f1: 0.1887 - val_loss: 1.6037 - val_accuracy: 0.4338 - val_f1: 0.1898\n",
            "Epoch 9/50\n",
            "330/331 [============================>.] - ETA: 0s - loss: 1.3541 - accuracy: 0.5208 - f1: 0.1887\n",
            "Epoch 00009: val_loss did not improve from 1.57749\n",
            "331/331 [==============================] - 8s 23ms/step - loss: 1.3540 - accuracy: 0.5209 - f1: 0.1887 - val_loss: 1.6268 - val_accuracy: 0.4380 - val_f1: 0.1898\n",
            "Epoch 10/50\n",
            "329/331 [============================>.] - ETA: 0s - loss: 1.3287 - accuracy: 0.5294 - f1: 0.1887\n",
            "Epoch 00010: val_loss did not improve from 1.57749\n",
            "331/331 [==============================] - 8s 23ms/step - loss: 1.3293 - accuracy: 0.5294 - f1: 0.1887 - val_loss: 1.6037 - val_accuracy: 0.4440 - val_f1: 0.1898\n",
            "Epoch 11/50\n",
            "330/331 [============================>.] - ETA: 0s - loss: 1.3058 - accuracy: 0.5412 - f1: 0.1887\n",
            "Epoch 00011: val_loss did not improve from 1.57749\n",
            "331/331 [==============================] - 8s 23ms/step - loss: 1.3059 - accuracy: 0.5411 - f1: 0.1887 - val_loss: 1.6108 - val_accuracy: 0.4117 - val_f1: 0.1898\n",
            "Epoch 12/50\n",
            "330/331 [============================>.] - ETA: 0s - loss: 1.2822 - accuracy: 0.5511 - f1: 0.1887\n",
            "Epoch 00012: val_loss did not improve from 1.57749\n",
            "331/331 [==============================] - 8s 23ms/step - loss: 1.2821 - accuracy: 0.5512 - f1: 0.1887 - val_loss: 1.6201 - val_accuracy: 0.4244 - val_f1: 0.1898\n",
            "Epoch 13/50\n",
            "329/331 [============================>.] - ETA: 0s - loss: 1.2604 - accuracy: 0.5599 - f1: 0.1887\n",
            "Epoch 00013: val_loss did not improve from 1.57749\n",
            "331/331 [==============================] - 7s 23ms/step - loss: 1.2600 - accuracy: 0.5603 - f1: 0.1887 - val_loss: 1.6171 - val_accuracy: 0.4380 - val_f1: 0.1898\n",
            "Epoch 14/50\n",
            "331/331 [==============================] - ETA: 0s - loss: 1.2404 - accuracy: 0.5643 - f1: 0.1887\n",
            "Epoch 00014: val_loss did not improve from 1.57749\n",
            "331/331 [==============================] - 7s 23ms/step - loss: 1.2404 - accuracy: 0.5643 - f1: 0.1887 - val_loss: 1.6288 - val_accuracy: 0.4261 - val_f1: 0.1898\n",
            "Epoch 15/50\n",
            "329/331 [============================>.] - ETA: 0s - loss: 1.2236 - accuracy: 0.5690 - f1: 0.1887\n",
            "Epoch 00015: val_loss did not improve from 1.57749\n",
            "331/331 [==============================] - 7s 22ms/step - loss: 1.2241 - accuracy: 0.5690 - f1: 0.1887 - val_loss: 1.6691 - val_accuracy: 0.4244 - val_f1: 0.1898\n",
            "Epoch 16/50\n",
            "330/331 [============================>.] - ETA: 0s - loss: 1.2097 - accuracy: 0.5764 - f1: 0.1887\n",
            "Epoch 00016: val_loss did not improve from 1.57749\n",
            "331/331 [==============================] - 7s 23ms/step - loss: 1.2097 - accuracy: 0.5765 - f1: 0.1887 - val_loss: 1.6834 - val_accuracy: 0.4338 - val_f1: 0.1898\n",
            "Epoch 17/50\n",
            "329/331 [============================>.] - ETA: 0s - loss: 1.1940 - accuracy: 0.5804 - f1: 0.1887\n",
            "Epoch 00017: val_loss did not improve from 1.57749\n",
            "331/331 [==============================] - 8s 23ms/step - loss: 1.1939 - accuracy: 0.5804 - f1: 0.1887 - val_loss: 1.6779 - val_accuracy: 0.4270 - val_f1: 0.1898\n",
            "Epoch 18/50\n",
            "331/331 [==============================] - ETA: 0s - loss: 1.1716 - accuracy: 0.5920 - f1: 0.1887\n",
            "Epoch 00018: val_loss did not improve from 1.57749\n",
            "331/331 [==============================] - 7s 23ms/step - loss: 1.1716 - accuracy: 0.5920 - f1: 0.1887 - val_loss: 1.6934 - val_accuracy: 0.4228 - val_f1: 0.1898\n",
            "Epoch 19/50\n",
            "330/331 [============================>.] - ETA: 0s - loss: 1.1501 - accuracy: 0.6009 - f1: 0.1887\n",
            "Epoch 00019: val_loss did not improve from 1.57749\n",
            "331/331 [==============================] - 7s 23ms/step - loss: 1.1500 - accuracy: 0.6010 - f1: 0.1887 - val_loss: 1.7305 - val_accuracy: 0.4160 - val_f1: 0.1898\n",
            "Epoch 20/50\n",
            "330/331 [============================>.] - ETA: 0s - loss: 1.1350 - accuracy: 0.6050 - f1: 0.1887\n",
            "Epoch 00020: val_loss did not improve from 1.57749\n",
            "331/331 [==============================] - 7s 23ms/step - loss: 1.1349 - accuracy: 0.6051 - f1: 0.1887 - val_loss: 1.7425 - val_accuracy: 0.4278 - val_f1: 0.1898\n",
            "Epoch 21/50\n",
            "330/331 [============================>.] - ETA: 0s - loss: 1.1149 - accuracy: 0.6045 - f1: 0.1887\n",
            "Epoch 00021: val_loss did not improve from 1.57749\n",
            "331/331 [==============================] - 7s 22ms/step - loss: 1.1149 - accuracy: 0.6045 - f1: 0.1887 - val_loss: 1.7968 - val_accuracy: 0.4329 - val_f1: 0.1898\n",
            "Epoch 22/50\n",
            "329/331 [============================>.] - ETA: 0s - loss: 1.1135 - accuracy: 0.6134 - f1: 0.1887\n",
            "Epoch 00022: val_loss did not improve from 1.57749\n",
            "331/331 [==============================] - 8s 23ms/step - loss: 1.1137 - accuracy: 0.6131 - f1: 0.1887 - val_loss: 1.8109 - val_accuracy: 0.4304 - val_f1: 0.1898\n",
            "Epoch 23/50\n",
            "331/331 [==============================] - ETA: 0s - loss: 1.0869 - accuracy: 0.6197 - f1: 0.1887\n",
            "Epoch 00023: val_loss did not improve from 1.57749\n",
            "331/331 [==============================] - 7s 23ms/step - loss: 1.0869 - accuracy: 0.6197 - f1: 0.1887 - val_loss: 1.8323 - val_accuracy: 0.4244 - val_f1: 0.1898\n",
            "Epoch 24/50\n",
            "330/331 [============================>.] - ETA: 0s - loss: 1.0706 - accuracy: 0.6254 - f1: 0.1887\n",
            "Epoch 00024: val_loss did not improve from 1.57749\n",
            "331/331 [==============================] - 8s 23ms/step - loss: 1.0705 - accuracy: 0.6254 - f1: 0.1887 - val_loss: 1.8986 - val_accuracy: 0.4295 - val_f1: 0.1898\n",
            "Epoch 25/50\n",
            "329/331 [============================>.] - ETA: 0s - loss: 1.0594 - accuracy: 0.6307 - f1: 0.1887\n",
            "Epoch 00025: val_loss did not improve from 1.57749\n",
            "331/331 [==============================] - 7s 22ms/step - loss: 1.0592 - accuracy: 0.6303 - f1: 0.1887 - val_loss: 1.9916 - val_accuracy: 0.4202 - val_f1: 0.1898\n",
            "Epoch 26/50\n",
            "329/331 [============================>.] - ETA: 0s - loss: 1.0426 - accuracy: 0.6368 - f1: 0.1887\n",
            "Epoch 00026: val_loss did not improve from 1.57749\n",
            "331/331 [==============================] - 7s 22ms/step - loss: 1.0422 - accuracy: 0.6373 - f1: 0.1887 - val_loss: 1.9396 - val_accuracy: 0.4270 - val_f1: 0.1898\n",
            "Epoch 27/50\n",
            "331/331 [==============================] - ETA: 0s - loss: 1.0233 - accuracy: 0.6395 - f1: 0.1887\n",
            "Epoch 00027: val_loss did not improve from 1.57749\n",
            "331/331 [==============================] - 7s 22ms/step - loss: 1.0233 - accuracy: 0.6395 - f1: 0.1887 - val_loss: 2.0081 - val_accuracy: 0.4160 - val_f1: 0.1898\n",
            "Epoch 28/50\n",
            "331/331 [==============================] - ETA: 0s - loss: 1.0175 - accuracy: 0.6377 - f1: 0.1887\n",
            "Epoch 00028: val_loss did not improve from 1.57749\n",
            "331/331 [==============================] - 7s 22ms/step - loss: 1.0175 - accuracy: 0.6377 - f1: 0.1887 - val_loss: 2.0004 - val_accuracy: 0.4168 - val_f1: 0.1898\n",
            "Epoch 29/50\n",
            "331/331 [==============================] - ETA: 0s - loss: 0.9965 - accuracy: 0.6497 - f1: 0.1887\n",
            "Epoch 00029: val_loss did not improve from 1.57749\n",
            "331/331 [==============================] - 7s 22ms/step - loss: 0.9965 - accuracy: 0.6497 - f1: 0.1887 - val_loss: 2.0859 - val_accuracy: 0.4024 - val_f1: 0.1898\n",
            "Epoch 30/50\n",
            "329/331 [============================>.] - ETA: 0s - loss: 0.9912 - accuracy: 0.6463 - f1: 0.1887\n",
            "Epoch 00030: val_loss did not improve from 1.57749\n",
            "331/331 [==============================] - 7s 22ms/step - loss: 0.9906 - accuracy: 0.6461 - f1: 0.1887 - val_loss: 2.1020 - val_accuracy: 0.4083 - val_f1: 0.1898\n",
            "Epoch 31/50\n",
            "330/331 [============================>.] - ETA: 0s - loss: 0.9752 - accuracy: 0.6516 - f1: 0.1887\n",
            "Epoch 00031: val_loss did not improve from 1.57749\n",
            "331/331 [==============================] - 7s 22ms/step - loss: 0.9754 - accuracy: 0.6515 - f1: 0.1887 - val_loss: 2.1471 - val_accuracy: 0.4228 - val_f1: 0.1898\n",
            "Epoch 32/50\n",
            "331/331 [==============================] - ETA: 0s - loss: 0.9810 - accuracy: 0.6522 - f1: 0.1887\n",
            "Epoch 00032: val_loss did not improve from 1.57749\n",
            "331/331 [==============================] - 7s 23ms/step - loss: 0.9810 - accuracy: 0.6522 - f1: 0.1887 - val_loss: 2.1506 - val_accuracy: 0.4126 - val_f1: 0.1898\n",
            "Epoch 33/50\n",
            "331/331 [==============================] - ETA: 0s - loss: 0.9544 - accuracy: 0.6615 - f1: 0.1887\n",
            "Epoch 00033: val_loss did not improve from 1.57749\n",
            "331/331 [==============================] - 7s 23ms/step - loss: 0.9544 - accuracy: 0.6615 - f1: 0.1887 - val_loss: 2.1712 - val_accuracy: 0.4160 - val_f1: 0.1898\n",
            "Epoch 34/50\n",
            "331/331 [==============================] - ETA: 0s - loss: 0.9500 - accuracy: 0.6586 - f1: 0.1887\n",
            "Epoch 00034: val_loss did not improve from 1.57749\n",
            "331/331 [==============================] - 7s 23ms/step - loss: 0.9500 - accuracy: 0.6586 - f1: 0.1887 - val_loss: 2.2006 - val_accuracy: 0.4194 - val_f1: 0.1898\n",
            "Epoch 35/50\n",
            "329/331 [============================>.] - ETA: 0s - loss: 0.9465 - accuracy: 0.6622 - f1: 0.1887\n",
            "Epoch 00035: val_loss did not improve from 1.57749\n",
            "331/331 [==============================] - 7s 23ms/step - loss: 0.9473 - accuracy: 0.6618 - f1: 0.1887 - val_loss: 2.3610 - val_accuracy: 0.4160 - val_f1: 0.1898\n",
            "Epoch 36/50\n",
            "331/331 [==============================] - ETA: 0s - loss: 0.9236 - accuracy: 0.6685 - f1: 0.1887\n",
            "Epoch 00036: val_loss did not improve from 1.57749\n",
            "331/331 [==============================] - 7s 22ms/step - loss: 0.9236 - accuracy: 0.6685 - f1: 0.1887 - val_loss: 2.2678 - val_accuracy: 0.4024 - val_f1: 0.1898\n",
            "Epoch 37/50\n",
            "330/331 [============================>.] - ETA: 0s - loss: 0.9172 - accuracy: 0.6713 - f1: 0.1887\n",
            "Epoch 00037: val_loss did not improve from 1.57749\n",
            "331/331 [==============================] - 7s 22ms/step - loss: 0.9172 - accuracy: 0.6713 - f1: 0.1887 - val_loss: 2.3194 - val_accuracy: 0.4236 - val_f1: 0.1898\n",
            "Epoch 38/50\n",
            "329/331 [============================>.] - ETA: 0s - loss: 0.9133 - accuracy: 0.6703 - f1: 0.1887\n",
            "Epoch 00038: val_loss did not improve from 1.57749\n",
            "331/331 [==============================] - 8s 23ms/step - loss: 0.9132 - accuracy: 0.6701 - f1: 0.1887 - val_loss: 2.3418 - val_accuracy: 0.4126 - val_f1: 0.1898\n",
            "Epoch 39/50\n",
            "330/331 [============================>.] - ETA: 0s - loss: 0.8984 - accuracy: 0.6828 - f1: 0.1887\n",
            "Epoch 00039: val_loss did not improve from 1.57749\n",
            "331/331 [==============================] - 8s 23ms/step - loss: 0.8983 - accuracy: 0.6828 - f1: 0.1887 - val_loss: 2.4820 - val_accuracy: 0.4024 - val_f1: 0.1898\n",
            "Epoch 40/50\n",
            "329/331 [============================>.] - ETA: 0s - loss: 0.8721 - accuracy: 0.6921 - f1: 0.1887\n",
            "Epoch 00040: val_loss did not improve from 1.57749\n",
            "331/331 [==============================] - 7s 22ms/step - loss: 0.8723 - accuracy: 0.6920 - f1: 0.1887 - val_loss: 2.3760 - val_accuracy: 0.4083 - val_f1: 0.1898\n",
            "Epoch 41/50\n",
            "330/331 [============================>.] - ETA: 0s - loss: 0.8737 - accuracy: 0.6900 - f1: 0.1887\n",
            "Epoch 00041: val_loss did not improve from 1.57749\n",
            "331/331 [==============================] - 7s 22ms/step - loss: 0.8738 - accuracy: 0.6899 - f1: 0.1887 - val_loss: 2.4029 - val_accuracy: 0.4228 - val_f1: 0.1898\n",
            "Epoch 42/50\n",
            "330/331 [============================>.] - ETA: 0s - loss: 0.8749 - accuracy: 0.6858 - f1: 0.1887\n",
            "Epoch 00042: val_loss did not improve from 1.57749\n",
            "331/331 [==============================] - 7s 22ms/step - loss: 0.8748 - accuracy: 0.6858 - f1: 0.1887 - val_loss: 2.5757 - val_accuracy: 0.4041 - val_f1: 0.1898\n",
            "Epoch 43/50\n",
            "331/331 [==============================] - ETA: 0s - loss: 0.8639 - accuracy: 0.6937 - f1: 0.1887\n",
            "Epoch 00043: val_loss did not improve from 1.57749\n",
            "331/331 [==============================] - 7s 22ms/step - loss: 0.8639 - accuracy: 0.6937 - f1: 0.1887 - val_loss: 2.4485 - val_accuracy: 0.4126 - val_f1: 0.1898\n",
            "Epoch 44/50\n",
            "329/331 [============================>.] - ETA: 0s - loss: 0.8467 - accuracy: 0.6979 - f1: 0.1887\n",
            "Epoch 00044: val_loss did not improve from 1.57749\n",
            "331/331 [==============================] - 7s 23ms/step - loss: 0.8455 - accuracy: 0.6981 - f1: 0.1887 - val_loss: 2.6001 - val_accuracy: 0.4066 - val_f1: 0.1898\n",
            "Epoch 45/50\n",
            "330/331 [============================>.] - ETA: 0s - loss: 0.8363 - accuracy: 0.7013 - f1: 0.1887\n",
            "Epoch 00045: val_loss did not improve from 1.57749\n",
            "331/331 [==============================] - 7s 23ms/step - loss: 0.8363 - accuracy: 0.7014 - f1: 0.1887 - val_loss: 2.7205 - val_accuracy: 0.3990 - val_f1: 0.1898\n",
            "Epoch 46/50\n",
            "330/331 [============================>.] - ETA: 0s - loss: 0.8377 - accuracy: 0.6992 - f1: 0.1887\n",
            "Epoch 00046: val_loss did not improve from 1.57749\n",
            "331/331 [==============================] - 7s 23ms/step - loss: 0.8377 - accuracy: 0.6993 - f1: 0.1887 - val_loss: 2.5912 - val_accuracy: 0.3981 - val_f1: 0.1898\n",
            "Epoch 47/50\n",
            "329/331 [============================>.] - ETA: 0s - loss: 0.8303 - accuracy: 0.7017 - f1: 0.1887\n",
            "Epoch 00047: val_loss did not improve from 1.57749\n",
            "331/331 [==============================] - 7s 22ms/step - loss: 0.8305 - accuracy: 0.7016 - f1: 0.1887 - val_loss: 2.7289 - val_accuracy: 0.4066 - val_f1: 0.1898\n",
            "Epoch 48/50\n",
            "331/331 [==============================] - ETA: 0s - loss: 0.8140 - accuracy: 0.7114 - f1: 0.1887\n",
            "Epoch 00048: val_loss did not improve from 1.57749\n",
            "331/331 [==============================] - 7s 22ms/step - loss: 0.8140 - accuracy: 0.7114 - f1: 0.1887 - val_loss: 2.8280 - val_accuracy: 0.3973 - val_f1: 0.1898\n",
            "Epoch 49/50\n",
            "329/331 [============================>.] - ETA: 0s - loss: 0.8024 - accuracy: 0.7139 - f1: 0.1887\n",
            "Epoch 00049: val_loss did not improve from 1.57749\n",
            "331/331 [==============================] - 7s 22ms/step - loss: 0.8022 - accuracy: 0.7139 - f1: 0.1887 - val_loss: 2.7935 - val_accuracy: 0.4109 - val_f1: 0.1898\n",
            "Epoch 50/50\n",
            "329/331 [============================>.] - ETA: 0s - loss: 0.8040 - accuracy: 0.7142 - f1: 0.1887\n",
            "Epoch 00050: val_loss did not improve from 1.57749\n",
            "331/331 [==============================] - 7s 22ms/step - loss: 0.8044 - accuracy: 0.7140 - f1: 0.1887 - val_loss: 2.8056 - val_accuracy: 0.3990 - val_f1: 0.1898\n"
          ],
          "name": "stdout"
        }
      ]
    },
    {
      "cell_type": "markdown",
      "metadata": {
        "colab_type": "text",
        "id": "IcoqG6KB7MZX"
      },
      "source": [
        "### Store the history object to disk \n",
        "So we can plot anytime without retraining this model"
      ]
    },
    {
      "cell_type": "code",
      "metadata": {
        "colab_type": "code",
        "id": "j2nVVpyt7MZY",
        "colab": {}
      },
      "source": [
        "#Write history to disk\n",
        "with open('Friends-The-One-With-Deep-Learning-v2.history.pickle', 'wb') as handle:\n",
        "    pickle.dump(history.history, handle, protocol=pickle.HIGHEST_PROTOCOL)"
      ],
      "execution_count": 95,
      "outputs": []
    },
    {
      "cell_type": "markdown",
      "metadata": {
        "colab_type": "text",
        "id": "Yikpr_xu7MZZ"
      },
      "source": [
        "### Plot traning and validation accuracy and loss"
      ]
    },
    {
      "cell_type": "code",
      "metadata": {
        "colab_type": "code",
        "id": "G2WYeGy-7MZZ",
        "colab": {
          "base_uri": "https://localhost:8080/",
          "height": 839
        },
        "outputId": "dd4e9054-3597-40d4-cda3-507ad8267fb1"
      },
      "source": [
        "version = ['v1', 'v2']\n",
        "history_file_path = ['Friends-The-One-With-Deep-Learning-v1.history.pickle', \n",
        "                     'Friends-The-One-With-Deep-Learning-v2.history.pickle']\n",
        "\n",
        "plot_training_validation_accuracy_loss(version, history_file_path)"
      ],
      "execution_count": 96,
      "outputs": [
        {
          "output_type": "display_data",
          "data": {
            "image/png": "[encoded data removed]",
            "text/plain": [
              "<Figure size 1440x1008 with 3 Axes>"
            ]
          },
          "metadata": {
            "tags": [],
            "needs_background": "light"
          }
        }
      ]
    },
    {
      "cell_type": "markdown",
      "metadata": {
        "colab_type": "text",
        "id": "Jd0AGsVsfIIi"
      },
      "source": [
        "### Evaluate model on the test set"
      ]
    },
    {
      "cell_type": "code",
      "metadata": {
        "colab_type": "code",
        "id": "FQhuAcD2fIIj",
        "colab": {
          "base_uri": "https://localhost:8080/",
          "height": 51
        },
        "outputId": "c8fad31a-359f-4ff9-9e0f-cd7d13077fda"
      },
      "source": [
        "model.evaluate(test_utterance_padded, test_emotion, verbose=1)"
      ],
      "execution_count": 97,
      "outputs": [
        {
          "output_type": "stream",
          "text": [
            "87/87 [==============================] - 1s 10ms/step - loss: 2.3835 - accuracy: 0.4378 - f1: 0.1875\n"
          ],
          "name": "stdout"
        },
        {
          "output_type": "execute_result",
          "data": {
            "text/plain": [
              "[2.3834879398345947, 0.43777135014533997, 0.187519833445549]"
            ]
          },
          "metadata": {
            "tags": []
          },
          "execution_count": 97
        }
      ]
    },
    {
      "cell_type": "code",
      "metadata": {
        "colab_type": "code",
        "id": "q6zT7OhafIIk",
        "colab": {}
      },
      "source": [
        "y_pred = model.predict(test_utterance_padded)\n",
        "y_pred = y_pred.argmax(axis=1)"
      ],
      "execution_count": 98,
      "outputs": []
    },
    {
      "cell_type": "code",
      "metadata": {
        "colab_type": "code",
        "id": "mwl1PXp-fIIm",
        "colab": {
          "base_uri": "https://localhost:8080/",
          "height": 326
        },
        "outputId": "f4f4dfbf-c53a-493d-cc79-277d1bd9a252"
      },
      "source": [
        "print(classification_report(test_emotion, y_pred)) #, target_names=labelEncoder.classes_"
      ],
      "execution_count": 99,
      "outputs": [
        {
          "output_type": "stream",
          "text": [
            "              precision    recall  f1-score   support\n",
            "\n",
            "           0       0.56      0.66      0.60      1287\n",
            "           1       0.33      0.32      0.33       304\n",
            "           2       0.16      0.14      0.15        85\n",
            "           3       0.00      0.00      0.00        32\n",
            "           4       0.16      0.07      0.10       161\n",
            "           5       0.39      0.39      0.39       286\n",
            "           6       0.00      0.00      0.00        68\n",
            "           7       0.26      0.24      0.25       541\n",
            "\n",
            "    accuracy                           0.44      2764\n",
            "   macro avg       0.23      0.23      0.23      2764\n",
            "weighted avg       0.40      0.44      0.42      2764\n",
            "\n"
          ],
          "name": "stdout"
        },
        {
          "output_type": "stream",
          "text": [
            "/usr/local/lib/python3.6/dist-packages/sklearn/metrics/_classification.py:1272: UndefinedMetricWarning: Precision and F-score are ill-defined and being set to 0.0 in labels with no predicted samples. Use `zero_division` parameter to control this behavior.\n",
            "  _warn_prf(average, modifier, msg_start, len(result))\n"
          ],
          "name": "stderr"
        }
      ]
    },
    {
      "cell_type": "markdown",
      "metadata": {
        "id": "TiVMu_-D0Sn4",
        "colab_type": "text"
      },
      "source": [
        "# v3 - Emotion Detection  with our own Embedding + 1D Convolutional Layer - 0.03M parameters 86% training, 39% validation accuracy"
      ]
    },
    {
      "cell_type": "markdown",
      "metadata": {
        "id": "GSug0SDY6Kc3",
        "colab_type": "text"
      },
      "source": [
        "### Model Definition"
      ]
    },
    {
      "cell_type": "code",
      "metadata": {
        "id": "XsxSWzGKz4jI",
        "colab_type": "code",
        "colab": {
          "base_uri": "https://localhost:8080/",
          "height": 357
        },
        "outputId": "18706723-842d-4088-be39-e3a045a6d602"
      },
      "source": [
        "model = tf.keras.Sequential([\n",
        "    tf.keras.layers.Embedding(vocab_size, embedding_dim, input_length=max_length),\n",
        "    tf.keras.layers.Conv1D(128, 5, activation='relu'),\n",
        "    tf.keras.layers.GlobalMaxPooling1D(),\n",
        "    tf.keras.layers.Dense(24, activation='relu'),\n",
        "    tf.keras.layers.Dropout(0.2),\n",
        "    tf.keras.layers.Dense(num_classes, activation='softmax')\n",
        "])\n",
        "\n",
        "model.summary()"
      ],
      "execution_count": 100,
      "outputs": [
        {
          "output_type": "stream",
          "text": [
            "Model: \"sequential_2\"\n",
            "_________________________________________________________________\n",
            "Layer (type)                 Output Shape              Param #   \n",
            "=================================================================\n",
            "embedding_2 (Embedding)      (None, 120, 16)           16000     \n",
            "_________________________________________________________________\n",
            "conv1d (Conv1D)              (None, 116, 128)          10368     \n",
            "_________________________________________________________________\n",
            "global_max_pooling1d (Global (None, 128)               0         \n",
            "_________________________________________________________________\n",
            "dense_4 (Dense)              (None, 24)                3096      \n",
            "_________________________________________________________________\n",
            "dropout_3 (Dropout)          (None, 24)                0         \n",
            "_________________________________________________________________\n",
            "dense_5 (Dense)              (None, 8)                 200       \n",
            "=================================================================\n",
            "Total params: 29,664\n",
            "Trainable params: 29,664\n",
            "Non-trainable params: 0\n",
            "_________________________________________________________________\n"
          ],
          "name": "stdout"
        }
      ]
    },
    {
      "cell_type": "markdown",
      "metadata": {
        "id": "pDJG6Ei06qNZ",
        "colab_type": "text"
      },
      "source": [
        "### Compile and Fit Model"
      ]
    },
    {
      "cell_type": "code",
      "metadata": {
        "colab_type": "code",
        "id": "0V4-Yqc35dsH",
        "colab": {}
      },
      "source": [
        "model.compile(loss='sparse_categorical_crossentropy', optimizer='adam', metrics=['accuracy', f1_score])"
      ],
      "execution_count": 101,
      "outputs": []
    },
    {
      "cell_type": "code",
      "metadata": {
        "colab_type": "code",
        "id": "pRSTfbAT5dsK",
        "colab": {}
      },
      "source": [
        "checkpoint_filepath = 'Friends-The-One-With-Deep-Learning-v3.h5'\n",
        "my_callback = tf.keras.callbacks.ModelCheckpoint(checkpoint_filepath, verbose=1, \n",
        "                                        save_weights_only=True, monitor='val_loss', \n",
        "                                        mode='auto', save_best_only=True)"
      ],
      "execution_count": 102,
      "outputs": []
    },
    {
      "cell_type": "code",
      "metadata": {
        "colab_type": "code",
        "id": "aHJjUU-Z5n3w",
        "colab": {
          "base_uri": "https://localhost:8080/",
          "height": 1000
        },
        "outputId": "eb87a724-2518-46cc-abac-334159bf4fd7"
      },
      "source": [
        "num_epochs = 50\n",
        "\n",
        "history = model.fit(train_utterance_padded, train_emotion, epochs=num_epochs,\\\n",
        "                    validation_data=(validation_utterance_padded, validation_emotion),\\\n",
        "                    verbose=1, callbacks=[my_callback])"
      ],
      "execution_count": 103,
      "outputs": [
        {
          "output_type": "stream",
          "text": [
            "Epoch 1/50\n",
            "331/331 [==============================] - ETA: 0s - loss: 1.6633 - accuracy: 0.4388 - f1: 0.1885\n",
            "Epoch 00001: val_loss improved from inf to 1.65733, saving model to Friends-The-One-With-Deep-Learning-v3.h5\n",
            "331/331 [==============================] - 2s 5ms/step - loss: 1.6633 - accuracy: 0.4388 - f1: 0.1885 - val_loss: 1.6573 - val_accuracy: 0.4219 - val_f1: 0.1898\n",
            "Epoch 2/50\n",
            "319/331 [===========================>..] - ETA: 0s - loss: 1.5237 - accuracy: 0.4749 - f1: 0.1887\n",
            "Epoch 00002: val_loss improved from 1.65733 to 1.58613, saving model to Friends-The-One-With-Deep-Learning-v3.h5\n",
            "331/331 [==============================] - 1s 4ms/step - loss: 1.5225 - accuracy: 0.4761 - f1: 0.1887 - val_loss: 1.5861 - val_accuracy: 0.4508 - val_f1: 0.1898\n",
            "Epoch 3/50\n",
            "330/331 [============================>.] - ETA: 0s - loss: 1.4443 - accuracy: 0.4991 - f1: 0.1887\n",
            "Epoch 00003: val_loss improved from 1.58613 to 1.56645, saving model to Friends-The-One-With-Deep-Learning-v3.h5\n",
            "331/331 [==============================] - 1s 4ms/step - loss: 1.4442 - accuracy: 0.4992 - f1: 0.1887 - val_loss: 1.5664 - val_accuracy: 0.4457 - val_f1: 0.1898\n",
            "Epoch 4/50\n",
            "320/331 [============================>.] - ETA: 0s - loss: 1.3818 - accuracy: 0.5149 - f1: 0.1887\n",
            "Epoch 00004: val_loss improved from 1.56645 to 1.55377, saving model to Friends-The-One-With-Deep-Learning-v3.h5\n",
            "331/331 [==============================] - 1s 4ms/step - loss: 1.3845 - accuracy: 0.5137 - f1: 0.1887 - val_loss: 1.5538 - val_accuracy: 0.4363 - val_f1: 0.1898\n",
            "Epoch 5/50\n",
            "329/331 [============================>.] - ETA: 0s - loss: 1.3292 - accuracy: 0.5353 - f1: 0.1887\n",
            "Epoch 00005: val_loss improved from 1.55377 to 1.54948, saving model to Friends-The-One-With-Deep-Learning-v3.h5\n",
            "331/331 [==============================] - 1s 4ms/step - loss: 1.3288 - accuracy: 0.5357 - f1: 0.1887 - val_loss: 1.5495 - val_accuracy: 0.4397 - val_f1: 0.1898\n",
            "Epoch 6/50\n",
            "320/331 [============================>.] - ETA: 0s - loss: 1.2849 - accuracy: 0.5439 - f1: 0.1888\n",
            "Epoch 00006: val_loss did not improve from 1.54948\n",
            "331/331 [==============================] - 1s 4ms/step - loss: 1.2848 - accuracy: 0.5450 - f1: 0.1887 - val_loss: 1.5618 - val_accuracy: 0.4304 - val_f1: 0.1898\n",
            "Epoch 7/50\n",
            "321/331 [============================>.] - ETA: 0s - loss: 1.2468 - accuracy: 0.5568 - f1: 0.1887\n",
            "Epoch 00007: val_loss did not improve from 1.54948\n",
            "331/331 [==============================] - 1s 4ms/step - loss: 1.2448 - accuracy: 0.5569 - f1: 0.1887 - val_loss: 1.5998 - val_accuracy: 0.4346 - val_f1: 0.1898\n",
            "Epoch 8/50\n",
            "319/331 [===========================>..] - ETA: 0s - loss: 1.2096 - accuracy: 0.5695 - f1: 0.1887\n",
            "Epoch 00008: val_loss did not improve from 1.54948\n",
            "331/331 [==============================] - 1s 4ms/step - loss: 1.2128 - accuracy: 0.5672 - f1: 0.1887 - val_loss: 1.5832 - val_accuracy: 0.4261 - val_f1: 0.1898\n",
            "Epoch 9/50\n",
            "323/331 [============================>.] - ETA: 0s - loss: 1.1798 - accuracy: 0.5765 - f1: 0.1887\n",
            "Epoch 00009: val_loss did not improve from 1.54948\n",
            "331/331 [==============================] - 1s 4ms/step - loss: 1.1804 - accuracy: 0.5766 - f1: 0.1887 - val_loss: 1.6400 - val_accuracy: 0.4312 - val_f1: 0.1898\n",
            "Epoch 10/50\n",
            "326/331 [============================>.] - ETA: 0s - loss: 1.1485 - accuracy: 0.5874 - f1: 0.1888\n",
            "Epoch 00010: val_loss did not improve from 1.54948\n",
            "331/331 [==============================] - 1s 4ms/step - loss: 1.1486 - accuracy: 0.5875 - f1: 0.1887 - val_loss: 1.6462 - val_accuracy: 0.4304 - val_f1: 0.1898\n",
            "Epoch 11/50\n",
            "318/331 [===========================>..] - ETA: 0s - loss: 1.1136 - accuracy: 0.5992 - f1: 0.1887\n",
            "Epoch 00011: val_loss did not improve from 1.54948\n",
            "331/331 [==============================] - 1s 4ms/step - loss: 1.1144 - accuracy: 0.5990 - f1: 0.1887 - val_loss: 1.6800 - val_accuracy: 0.4236 - val_f1: 0.1898\n",
            "Epoch 12/50\n",
            "330/331 [============================>.] - ETA: 0s - loss: 1.0820 - accuracy: 0.6105 - f1: 0.1887\n",
            "Epoch 00012: val_loss did not improve from 1.54948\n",
            "331/331 [==============================] - 1s 4ms/step - loss: 1.0819 - accuracy: 0.6105 - f1: 0.1887 - val_loss: 1.7182 - val_accuracy: 0.4211 - val_f1: 0.1898\n",
            "Epoch 13/50\n",
            "324/331 [============================>.] - ETA: 0s - loss: 1.0479 - accuracy: 0.6207 - f1: 0.1887\n",
            "Epoch 00013: val_loss did not improve from 1.54948\n",
            "331/331 [==============================] - 1s 4ms/step - loss: 1.0494 - accuracy: 0.6194 - f1: 0.1887 - val_loss: 1.7615 - val_accuracy: 0.4312 - val_f1: 0.1898\n",
            "Epoch 14/50\n",
            "322/331 [============================>.] - ETA: 0s - loss: 1.0176 - accuracy: 0.6352 - f1: 0.1887\n",
            "Epoch 00014: val_loss did not improve from 1.54948\n",
            "331/331 [==============================] - 1s 4ms/step - loss: 1.0227 - accuracy: 0.6337 - f1: 0.1887 - val_loss: 1.7931 - val_accuracy: 0.4312 - val_f1: 0.1898\n",
            "Epoch 15/50\n",
            "325/331 [============================>.] - ETA: 0s - loss: 0.9866 - accuracy: 0.6428 - f1: 0.1887\n",
            "Epoch 00015: val_loss did not improve from 1.54948\n",
            "331/331 [==============================] - 1s 4ms/step - loss: 0.9851 - accuracy: 0.6436 - f1: 0.1887 - val_loss: 1.8840 - val_accuracy: 0.4287 - val_f1: 0.1898\n",
            "Epoch 16/50\n",
            "324/331 [============================>.] - ETA: 0s - loss: 0.9453 - accuracy: 0.6559 - f1: 0.1888\n",
            "Epoch 00016: val_loss did not improve from 1.54948\n",
            "331/331 [==============================] - 1s 4ms/step - loss: 0.9458 - accuracy: 0.6557 - f1: 0.1887 - val_loss: 1.9339 - val_accuracy: 0.4244 - val_f1: 0.1898\n",
            "Epoch 17/50\n",
            "323/331 [============================>.] - ETA: 0s - loss: 0.9218 - accuracy: 0.6671 - f1: 0.1887\n",
            "Epoch 00017: val_loss did not improve from 1.54948\n",
            "331/331 [==============================] - 1s 4ms/step - loss: 0.9217 - accuracy: 0.6673 - f1: 0.1887 - val_loss: 1.9950 - val_accuracy: 0.4346 - val_f1: 0.1898\n",
            "Epoch 18/50\n",
            "329/331 [============================>.] - ETA: 0s - loss: 0.8918 - accuracy: 0.6794 - f1: 0.1887\n",
            "Epoch 00018: val_loss did not improve from 1.54948\n",
            "331/331 [==============================] - 1s 4ms/step - loss: 0.8922 - accuracy: 0.6792 - f1: 0.1887 - val_loss: 2.1011 - val_accuracy: 0.4389 - val_f1: 0.1898\n",
            "Epoch 19/50\n",
            "319/331 [===========================>..] - ETA: 0s - loss: 0.8577 - accuracy: 0.6890 - f1: 0.1887\n",
            "Epoch 00019: val_loss did not improve from 1.54948\n",
            "331/331 [==============================] - 1s 4ms/step - loss: 0.8604 - accuracy: 0.6866 - f1: 0.1887 - val_loss: 2.0927 - val_accuracy: 0.4219 - val_f1: 0.1898\n",
            "Epoch 20/50\n",
            "329/331 [============================>.] - ETA: 0s - loss: 0.8309 - accuracy: 0.7005 - f1: 0.1887\n",
            "Epoch 00020: val_loss did not improve from 1.54948\n",
            "331/331 [==============================] - 1s 4ms/step - loss: 0.8302 - accuracy: 0.7008 - f1: 0.1887 - val_loss: 2.2299 - val_accuracy: 0.4321 - val_f1: 0.1898\n",
            "Epoch 21/50\n",
            "322/331 [============================>.] - ETA: 0s - loss: 0.8060 - accuracy: 0.7095 - f1: 0.1887\n",
            "Epoch 00021: val_loss did not improve from 1.54948\n",
            "331/331 [==============================] - 1s 4ms/step - loss: 0.8053 - accuracy: 0.7092 - f1: 0.1887 - val_loss: 2.2791 - val_accuracy: 0.4278 - val_f1: 0.1898\n",
            "Epoch 22/50\n",
            "326/331 [============================>.] - ETA: 0s - loss: 0.7770 - accuracy: 0.7167 - f1: 0.1887\n",
            "Epoch 00022: val_loss did not improve from 1.54948\n",
            "331/331 [==============================] - 1s 4ms/step - loss: 0.7764 - accuracy: 0.7163 - f1: 0.1887 - val_loss: 2.4045 - val_accuracy: 0.4270 - val_f1: 0.1898\n",
            "Epoch 23/50\n",
            "324/331 [============================>.] - ETA: 0s - loss: 0.7522 - accuracy: 0.7269 - f1: 0.1887\n",
            "Epoch 00023: val_loss did not improve from 1.54948\n",
            "331/331 [==============================] - 1s 4ms/step - loss: 0.7515 - accuracy: 0.7268 - f1: 0.1887 - val_loss: 2.4229 - val_accuracy: 0.4049 - val_f1: 0.1898\n",
            "Epoch 24/50\n",
            "321/331 [============================>.] - ETA: 0s - loss: 0.7294 - accuracy: 0.7407 - f1: 0.1887\n",
            "Epoch 00024: val_loss did not improve from 1.54948\n",
            "331/331 [==============================] - 1s 4ms/step - loss: 0.7308 - accuracy: 0.7396 - f1: 0.1887 - val_loss: 2.5761 - val_accuracy: 0.4134 - val_f1: 0.1898\n",
            "Epoch 25/50\n",
            "329/331 [============================>.] - ETA: 0s - loss: 0.7091 - accuracy: 0.7386 - f1: 0.1887\n",
            "Epoch 00025: val_loss did not improve from 1.54948\n",
            "331/331 [==============================] - 1s 4ms/step - loss: 0.7095 - accuracy: 0.7385 - f1: 0.1887 - val_loss: 2.6200 - val_accuracy: 0.4100 - val_f1: 0.1898\n",
            "Epoch 26/50\n",
            "322/331 [============================>.] - ETA: 0s - loss: 0.6826 - accuracy: 0.7526 - f1: 0.1887\n",
            "Epoch 00026: val_loss did not improve from 1.54948\n",
            "331/331 [==============================] - 1s 4ms/step - loss: 0.6840 - accuracy: 0.7526 - f1: 0.1887 - val_loss: 2.8010 - val_accuracy: 0.4083 - val_f1: 0.1898\n",
            "Epoch 27/50\n",
            "330/331 [============================>.] - ETA: 0s - loss: 0.6749 - accuracy: 0.7518 - f1: 0.1887\n",
            "Epoch 00027: val_loss did not improve from 1.54948\n",
            "331/331 [==============================] - 1s 4ms/step - loss: 0.6749 - accuracy: 0.7518 - f1: 0.1887 - val_loss: 2.8869 - val_accuracy: 0.4134 - val_f1: 0.1898\n",
            "Epoch 28/50\n",
            "330/331 [============================>.] - ETA: 0s - loss: 0.6554 - accuracy: 0.7607 - f1: 0.1887\n",
            "Epoch 00028: val_loss did not improve from 1.54948\n",
            "331/331 [==============================] - 1s 4ms/step - loss: 0.6555 - accuracy: 0.7606 - f1: 0.1887 - val_loss: 2.9705 - val_accuracy: 0.4058 - val_f1: 0.1898\n",
            "Epoch 29/50\n",
            "324/331 [============================>.] - ETA: 0s - loss: 0.6344 - accuracy: 0.7677 - f1: 0.1888\n",
            "Epoch 00029: val_loss did not improve from 1.54948\n",
            "331/331 [==============================] - 1s 4ms/step - loss: 0.6347 - accuracy: 0.7674 - f1: 0.1887 - val_loss: 2.9876 - val_accuracy: 0.3837 - val_f1: 0.1898\n",
            "Epoch 30/50\n",
            "323/331 [============================>.] - ETA: 0s - loss: 0.6229 - accuracy: 0.7728 - f1: 0.1888\n",
            "Epoch 00030: val_loss did not improve from 1.54948\n",
            "331/331 [==============================] - 1s 4ms/step - loss: 0.6216 - accuracy: 0.7732 - f1: 0.1887 - val_loss: 3.0858 - val_accuracy: 0.3981 - val_f1: 0.1898\n",
            "Epoch 31/50\n",
            "329/331 [============================>.] - ETA: 0s - loss: 0.6121 - accuracy: 0.7764 - f1: 0.1887\n",
            "Epoch 00031: val_loss did not improve from 1.54948\n",
            "331/331 [==============================] - 1s 4ms/step - loss: 0.6121 - accuracy: 0.7763 - f1: 0.1887 - val_loss: 3.3587 - val_accuracy: 0.4168 - val_f1: 0.1898\n",
            "Epoch 32/50\n",
            "324/331 [============================>.] - ETA: 0s - loss: 0.5993 - accuracy: 0.7809 - f1: 0.1887\n",
            "Epoch 00032: val_loss did not improve from 1.54948\n",
            "331/331 [==============================] - 1s 4ms/step - loss: 0.6023 - accuracy: 0.7796 - f1: 0.1887 - val_loss: 3.4083 - val_accuracy: 0.4007 - val_f1: 0.1898\n",
            "Epoch 33/50\n",
            "322/331 [============================>.] - ETA: 0s - loss: 0.5724 - accuracy: 0.7919 - f1: 0.1888\n",
            "Epoch 00033: val_loss did not improve from 1.54948\n",
            "331/331 [==============================] - 1s 4ms/step - loss: 0.5712 - accuracy: 0.7919 - f1: 0.1887 - val_loss: 3.5197 - val_accuracy: 0.3998 - val_f1: 0.1898\n",
            "Epoch 34/50\n",
            "329/331 [============================>.] - ETA: 0s - loss: 0.5598 - accuracy: 0.7937 - f1: 0.1887\n",
            "Epoch 00034: val_loss did not improve from 1.54948\n",
            "331/331 [==============================] - 1s 4ms/step - loss: 0.5612 - accuracy: 0.7930 - f1: 0.1887 - val_loss: 3.5818 - val_accuracy: 0.3871 - val_f1: 0.1898\n",
            "Epoch 35/50\n",
            "326/331 [============================>.] - ETA: 0s - loss: 0.5477 - accuracy: 0.7955 - f1: 0.1887\n",
            "Epoch 00035: val_loss did not improve from 1.54948\n",
            "331/331 [==============================] - 1s 4ms/step - loss: 0.5475 - accuracy: 0.7957 - f1: 0.1887 - val_loss: 3.6808 - val_accuracy: 0.3837 - val_f1: 0.1898\n",
            "Epoch 36/50\n",
            "329/331 [============================>.] - ETA: 0s - loss: 0.5327 - accuracy: 0.8022 - f1: 0.1887\n",
            "Epoch 00036: val_loss did not improve from 1.54948\n",
            "331/331 [==============================] - 1s 4ms/step - loss: 0.5331 - accuracy: 0.8019 - f1: 0.1887 - val_loss: 3.8321 - val_accuracy: 0.3973 - val_f1: 0.1898\n",
            "Epoch 37/50\n",
            "322/331 [============================>.] - ETA: 0s - loss: 0.5258 - accuracy: 0.8042 - f1: 0.1887\n",
            "Epoch 00037: val_loss did not improve from 1.54948\n",
            "331/331 [==============================] - 1s 4ms/step - loss: 0.5278 - accuracy: 0.8030 - f1: 0.1887 - val_loss: 3.7729 - val_accuracy: 0.3642 - val_f1: 0.1898\n",
            "Epoch 38/50\n",
            "327/331 [============================>.] - ETA: 0s - loss: 0.5214 - accuracy: 0.8064 - f1: 0.1887\n",
            "Epoch 00038: val_loss did not improve from 1.54948\n",
            "331/331 [==============================] - 1s 4ms/step - loss: 0.5207 - accuracy: 0.8066 - f1: 0.1887 - val_loss: 4.0397 - val_accuracy: 0.3939 - val_f1: 0.1898\n",
            "Epoch 39/50\n",
            "321/331 [============================>.] - ETA: 0s - loss: 0.4988 - accuracy: 0.8139 - f1: 0.1886\n",
            "Epoch 00039: val_loss did not improve from 1.54948\n",
            "331/331 [==============================] - 1s 4ms/step - loss: 0.4995 - accuracy: 0.8138 - f1: 0.1887 - val_loss: 4.2189 - val_accuracy: 0.3846 - val_f1: 0.1898\n",
            "Epoch 40/50\n",
            "331/331 [==============================] - ETA: 0s - loss: 0.4947 - accuracy: 0.8198 - f1: 0.1887\n",
            "Epoch 00040: val_loss did not improve from 1.54948\n",
            "331/331 [==============================] - 1s 4ms/step - loss: 0.4947 - accuracy: 0.8198 - f1: 0.1887 - val_loss: 4.1798 - val_accuracy: 0.3930 - val_f1: 0.1898\n",
            "Epoch 41/50\n",
            "328/331 [============================>.] - ETA: 0s - loss: 0.4815 - accuracy: 0.8230 - f1: 0.1887\n",
            "Epoch 00041: val_loss did not improve from 1.54948\n",
            "331/331 [==============================] - 1s 4ms/step - loss: 0.4816 - accuracy: 0.8228 - f1: 0.1887 - val_loss: 4.4712 - val_accuracy: 0.3786 - val_f1: 0.1898\n",
            "Epoch 42/50\n",
            "328/331 [============================>.] - ETA: 0s - loss: 0.4777 - accuracy: 0.8224 - f1: 0.1887\n",
            "Epoch 00042: val_loss did not improve from 1.54948\n",
            "331/331 [==============================] - 1s 4ms/step - loss: 0.4784 - accuracy: 0.8225 - f1: 0.1887 - val_loss: 4.4237 - val_accuracy: 0.3727 - val_f1: 0.1898\n",
            "Epoch 43/50\n",
            "322/331 [============================>.] - ETA: 0s - loss: 0.4641 - accuracy: 0.8263 - f1: 0.1887\n",
            "Epoch 00043: val_loss did not improve from 1.54948\n",
            "331/331 [==============================] - 1s 4ms/step - loss: 0.4648 - accuracy: 0.8262 - f1: 0.1887 - val_loss: 4.4366 - val_accuracy: 0.3786 - val_f1: 0.1898\n",
            "Epoch 44/50\n",
            "321/331 [============================>.] - ETA: 0s - loss: 0.4588 - accuracy: 0.8317 - f1: 0.1888\n",
            "Epoch 00044: val_loss did not improve from 1.54948\n",
            "331/331 [==============================] - 1s 4ms/step - loss: 0.4576 - accuracy: 0.8323 - f1: 0.1887 - val_loss: 4.6650 - val_accuracy: 0.3761 - val_f1: 0.1898\n",
            "Epoch 45/50\n",
            "319/331 [===========================>..] - ETA: 0s - loss: 0.4496 - accuracy: 0.8385 - f1: 0.1886\n",
            "Epoch 00045: val_loss did not improve from 1.54948\n",
            "331/331 [==============================] - 1s 4ms/step - loss: 0.4490 - accuracy: 0.8383 - f1: 0.1887 - val_loss: 4.8348 - val_accuracy: 0.3761 - val_f1: 0.1898\n",
            "Epoch 46/50\n",
            "320/331 [============================>.] - ETA: 0s - loss: 0.4420 - accuracy: 0.8356 - f1: 0.1886\n",
            "Epoch 00046: val_loss did not improve from 1.54948\n",
            "331/331 [==============================] - 1s 4ms/step - loss: 0.4418 - accuracy: 0.8363 - f1: 0.1887 - val_loss: 4.7628 - val_accuracy: 0.3667 - val_f1: 0.1898\n",
            "Epoch 47/50\n",
            "320/331 [============================>.] - ETA: 0s - loss: 0.4343 - accuracy: 0.8382 - f1: 0.1888\n",
            "Epoch 00047: val_loss did not improve from 1.54948\n",
            "331/331 [==============================] - 1s 4ms/step - loss: 0.4349 - accuracy: 0.8381 - f1: 0.1887 - val_loss: 5.0972 - val_accuracy: 0.3888 - val_f1: 0.1898\n",
            "Epoch 48/50\n",
            "325/331 [============================>.] - ETA: 0s - loss: 0.4275 - accuracy: 0.8425 - f1: 0.1887\n",
            "Epoch 00048: val_loss did not improve from 1.54948\n",
            "331/331 [==============================] - 1s 4ms/step - loss: 0.4282 - accuracy: 0.8422 - f1: 0.1887 - val_loss: 5.0203 - val_accuracy: 0.3727 - val_f1: 0.1898\n",
            "Epoch 49/50\n",
            "330/331 [============================>.] - ETA: 0s - loss: 0.4188 - accuracy: 0.8507 - f1: 0.1887\n",
            "Epoch 00049: val_loss did not improve from 1.54948\n",
            "331/331 [==============================] - 1s 4ms/step - loss: 0.4188 - accuracy: 0.8507 - f1: 0.1887 - val_loss: 5.3382 - val_accuracy: 0.3735 - val_f1: 0.1898\n",
            "Epoch 50/50\n",
            "324/331 [============================>.] - ETA: 0s - loss: 0.4140 - accuracy: 0.8461 - f1: 0.1886\n",
            "Epoch 00050: val_loss did not improve from 1.54948\n",
            "331/331 [==============================] - 1s 4ms/step - loss: 0.4143 - accuracy: 0.8458 - f1: 0.1887 - val_loss: 5.3821 - val_accuracy: 0.3820 - val_f1: 0.1898\n"
          ],
          "name": "stdout"
        }
      ]
    },
    {
      "cell_type": "markdown",
      "metadata": {
        "colab_type": "text",
        "id": "FlBY2OlO5n3y"
      },
      "source": [
        "### Store the history object to disk \n",
        "So we can plot anytime without retraining this model"
      ]
    },
    {
      "cell_type": "code",
      "metadata": {
        "colab_type": "code",
        "id": "cj-M6Dlo5n3y",
        "colab": {}
      },
      "source": [
        "#Write history to disk\n",
        "with open('Friends-The-One-With-Deep-Learning-v3.history.pickle', 'wb') as handle:\n",
        "    pickle.dump(history.history, handle, protocol=pickle.HIGHEST_PROTOCOL)"
      ],
      "execution_count": 104,
      "outputs": []
    },
    {
      "cell_type": "markdown",
      "metadata": {
        "id": "P0n0-6lH6Qtd",
        "colab_type": "text"
      },
      "source": [
        "### Plot traning and validation accuracy and loss"
      ]
    },
    {
      "cell_type": "code",
      "metadata": {
        "id": "t7krdVSe5765",
        "colab_type": "code",
        "colab": {
          "base_uri": "https://localhost:8080/",
          "height": 839
        },
        "outputId": "ba0f33f7-5a58-4ce4-b4d0-74d6e1c155e1"
      },
      "source": [
        "version = ['v1', 'v2', 'v3']\n",
        "history_file_path = ['Friends-The-One-With-Deep-Learning-v1.history.pickle', \n",
        "                     'Friends-The-One-With-Deep-Learning-v2.history.pickle',\n",
        "                     'Friends-The-One-With-Deep-Learning-v3.history.pickle']\n",
        "\n",
        "plot_training_validation_accuracy_loss(version, history_file_path)"
      ],
      "execution_count": 105,
      "outputs": [
        {
          "output_type": "display_data",
          "data": {
            "image/png": "[encoded data removed]",
            "text/plain": [
              "<Figure size 1440x1008 with 3 Axes>"
            ]
          },
          "metadata": {
            "tags": [],
            "needs_background": "light"
          }
        }
      ]
    },
    {
      "cell_type": "markdown",
      "metadata": {
        "colab_type": "text",
        "id": "tuXViAQwfKO4"
      },
      "source": [
        "### Evaluate model on the test set"
      ]
    },
    {
      "cell_type": "code",
      "metadata": {
        "colab_type": "code",
        "id": "ZMT3qPs7fKO5",
        "colab": {
          "base_uri": "https://localhost:8080/",
          "height": 51
        },
        "outputId": "0de77465-f726-4aea-da11-6901200a16f9"
      },
      "source": [
        "model.evaluate(test_utterance_padded, test_emotion, verbose=1)"
      ],
      "execution_count": 106,
      "outputs": [
        {
          "output_type": "stream",
          "text": [
            "87/87 [==============================] - 0s 3ms/step - loss: 4.7147 - accuracy: 0.3965 - f1: 0.1875\n"
          ],
          "name": "stdout"
        },
        {
          "output_type": "execute_result",
          "data": {
            "text/plain": [
              "[4.71474027633667, 0.3965267837047577, 0.187519833445549]"
            ]
          },
          "metadata": {
            "tags": []
          },
          "execution_count": 106
        }
      ]
    },
    {
      "cell_type": "code",
      "metadata": {
        "colab_type": "code",
        "id": "x214nh-WfKO7",
        "colab": {}
      },
      "source": [
        "y_pred = model.predict(test_utterance_padded)\n",
        "y_pred = y_pred.argmax(axis=1)"
      ],
      "execution_count": 107,
      "outputs": []
    },
    {
      "cell_type": "code",
      "metadata": {
        "colab_type": "code",
        "id": "Gh6eVfgdfKO_",
        "colab": {
          "base_uri": "https://localhost:8080/",
          "height": 272
        },
        "outputId": "4c4d0f14-9399-4ba4-b1fe-5b5029f35630"
      },
      "source": [
        "print(classification_report(test_emotion, y_pred)) #, target_names=labelEncoder.classes_"
      ],
      "execution_count": 108,
      "outputs": [
        {
          "output_type": "stream",
          "text": [
            "              precision    recall  f1-score   support\n",
            "\n",
            "           0       0.56      0.57      0.56      1287\n",
            "           1       0.34      0.23      0.28       304\n",
            "           2       0.15      0.15      0.15        85\n",
            "           3       0.20      0.03      0.05        32\n",
            "           4       0.12      0.09      0.10       161\n",
            "           5       0.38      0.41      0.39       286\n",
            "           6       0.06      0.03      0.04        68\n",
            "           7       0.21      0.27      0.24       541\n",
            "\n",
            "    accuracy                           0.40      2764\n",
            "   macro avg       0.25      0.22      0.23      2764\n",
            "weighted avg       0.39      0.40      0.39      2764\n",
            "\n"
          ],
          "name": "stdout"
        }
      ]
    },
    {
      "cell_type": "code",
      "metadata": {
        "id": "g0FMZfCM91Yt",
        "colab_type": "code",
        "colab": {}
      },
      "source": [
        ""
      ],
      "execution_count": null,
      "outputs": []
    }
  ]
}