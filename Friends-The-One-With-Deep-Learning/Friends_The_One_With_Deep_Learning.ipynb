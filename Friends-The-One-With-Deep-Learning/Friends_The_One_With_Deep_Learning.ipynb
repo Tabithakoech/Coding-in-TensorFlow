{
  "nbformat": 4,
  "nbformat_minor": 0,
  "metadata": {
    "accelerator": "GPU",
    "colab": {
      "name": "Friends: The One With Deep Learning",
      "provenance": [],
      "collapsed_sections": [],
      "toc_visible": true,
      "include_colab_link": true
    },
    "kernelspec": {
      "display_name": "Python 3",
      "name": "python3"
    }
  },
  "cells": [
    {
      "cell_type": "markdown",
      "metadata": {
        "id": "view-in-github",
        "colab_type": "text"
      },
      "source": [
        "<a href=\"https://colab.research.google.com/github/georgezoto/Coding-in-TensorFlow/blob/master/Friends-The-One-With-Deep-Learning/Friends_The_One_With_Deep_Learning.ipynb\" target=\"_parent\"><img src=\"https://colab.research.google.com/assets/colab-badge.svg\" alt=\"Open In Colab\"/></a>"
      ]
    },
    {
      "cell_type": "markdown",
      "metadata": {
        "id": "WTmp5aHhzqQt",
        "colab_type": "text"
      },
      "source": [
        "# Friends: The One With Deep Learning\n",
        "\n",
        "**Meetup event, come and join us 😀**  \n",
        "https://www.meetup.com/Deep-Learning-Adventures/events/272091447\n",
        "\n",
        "**Deep Learning YouTube recordings, feel free to share and subscribe 😀**  \n",
        "https://bit.ly/deep-learning-tf  \n",
        "https://bit.ly/deep-learning-tf-coding  \n",
        "\n",
        "- Coding session on real world data - Sequence models/Recurrent Neural Networks/Transformer models\n",
        "\n",
        "- **Step 1 😀**  \n",
        "Learn more about the award winning TV show Friends, an American sitcom television series, created by David Crane and Marta Kauffman, which aired on NBC from September 22, 1994, to May 6, 2004, lasting ten seasons. With an ensemble cast starring Jennifer Aniston, Courteney Cox, Lisa Kudrow, Matt LeBlanc, Matthew Perry and David Schwimmer, the show revolves around six friends in their 20s and 30s who live in Manhattan, New York City.\n",
        "https://en.wikipedia.org/wiki/Friends\n",
        "\n",
        "- **Step 2 😀**  \n",
        "Read more about the EmotionX 2019 challenge and its shared task of SocialNLP 2019 where participants are challenged to predict the emotions induced by dialogue utterances by classifying each utterance into one of seven label candidates: neutral, joy, sadness, fear, anger, surprise and disgust.\n",
        "https://sites.google.com/view/emotionx2019/home\n",
        "https://sites.google.com/view/emotionx2019/datasets\n",
        "\n",
        "- **Step 3 😀**  \n",
        "Learn more about EmotionLines, the first dataset with emotions labeling on all utterances in each dialogue only based on their textual content. Dialogues in EmotionLines are collected from Friends TV scripts and private Facebook messenger dialogues. Then one of seven emotions, six Ekman’s basic emotions plus the neutral emotion, is labeled on each utterance by 5 Amazon MTurkers. A total of 29,245 utterances from 2,000 dialogues are labeled in EmotionLines.http://doraemon.iis.sinica.edu.tw/emotionlines/index.html\n",
        "\n",
        "- **Step 4 😀**  \n",
        "Read the EmotionLines Paper: An Emotion Corpus of Multi-Party Conversations\n",
        "https://arxiv.org/pdf/1802.08379.pdf\n",
        "\n",
        "- **Step 5 😀**  \n",
        "Download and explore the Friends dataset which contains a training, validation and test set\n",
        "http://doraemon.iis.sinica.edu.tw/emotionlines/download.html\n",
        "\n",
        "- You can also read more about the SocialNLP 2018 EmotionX Challenge Overview: Recognizing Emotions in Dialogues  \n",
        "https://www.aclweb.org/anthology/W18-3505.pdf\n",
        "\n",
        "- **Step 6 😀**  \n",
        "Build your NLP classification model using deep learning or any other ML or non-AI approach. Feel free to use any environment you feel comfortable: personal computer, Colab, Kaggle, GCP/AWS virtual machine. Feel free to use any model you are comfortable with and spend some time in hyper-paramater tuning to make sure you are not overfitting your training data while optimizing for train/validation accuracy and loss. We recommend you use TensorFlow so it's easier to comment on each other's code but you don't have to.\n",
        "\n",
        "- **Step 7 😀**  \n",
        "Have fun 🎉 and share your journey, findings, lessons learned, success or failures with us and be ready to take a deeper dive in our code. For us, it's the effort that counts and not the final result. Most importantly you should enjoy exploring this interesting dataset and learn something new 😀\n",
        "\n",
        "**Source:**  \n",
        "https://en.wikipedia.org/wiki/Friends  \n",
        "https://www.kaggle.com/rezaghari/friends-series-dataset  \n",
        "http://doraemon.iis.sinica.edu.tw/emotionlines/index.html  \n",
        "https://sites.google.com/view/emotionx2019/home  \n",
        "https://www.aclweb.org/anthology/W18-3505.pdf  \n",
        "https://affective-meld.github.io  \n",
        "https://github.com/declare-lab/MELD  \n",
        "\n",
        "\n",
        "![alt Friends: The One With Deep Learning](https://secure.meetupstatic.com/photos/event/d/b/2/6/highres_491456102.jpeg)"
      ]
    },
    {
      "cell_type": "code",
      "metadata": {
        "id": "LwCUPmutJYFD",
        "colab_type": "code",
        "colab": {
          "base_uri": "https://localhost:8080/",
          "height": 51
        },
        "outputId": "db54842a-efc3-421e-df2a-a3f87801f340"
      },
      "source": [
        "#Data pre-processing\n",
        "import os\n",
        "import zipfile\n",
        "import pickle\n",
        "\n",
        "#Plot images\n",
        "import matplotlib.pyplot as plt\n",
        "\n",
        "#TensorFlow\n",
        "import tensorflow as tf\n",
        "import tensorflow_hub as hub\n",
        "print(tf.__version__)\n",
        "print(hub.__version__)\n",
        "\n",
        "#Random seed for reproduciable results\n",
        "import random\n",
        "seed = 51\n",
        "tf.random.set_seed(seed)\n",
        "random.seed(seed)"
      ],
      "execution_count": 62,
      "outputs": [
        {
          "output_type": "stream",
          "text": [
            "2.3.0\n",
            "0.8.0\n"
          ],
          "name": "stdout"
        }
      ]
    },
    {
      "cell_type": "markdown",
      "metadata": {
        "id": "l_LL3IRsfFU4",
        "colab_type": "text"
      },
      "source": [
        "### Plot training and validation accuracy and loss"
      ]
    },
    {
      "cell_type": "code",
      "metadata": {
        "id": "oFEFW0XEKWqO",
        "colab_type": "code",
        "colab": {}
      },
      "source": [
        "def plot_training_validation_accuracy_loss(version, history_file_path, figsize=(20, 14)):\n",
        "  fig, (ax1, ax2) = plt.subplots(2, 1, sharex='col', figsize=figsize)\n",
        "\n",
        "  #Number of time series\n",
        "  num_time_series = len(version)\n",
        "\n",
        "  for i in range(num_time_series):\n",
        "    with open(history_file_path[i], 'rb') as handle:\n",
        "      history = pickle.load(handle)\n",
        "    \n",
        "    if i == 0:\n",
        "      style = '-' #, linewidth=2, markersize=12\n",
        "    elif i == 1:\n",
        "      style = '--'\n",
        "    elif i == 2:\n",
        "      style = '+-'\n",
        "    elif i == 3:\n",
        "      style = 'o-'\n",
        "\n",
        "    ax1.plot(history['accuracy'], style, label=version[i] + ' Training accuracy')\n",
        "    ax1.plot(history['val_accuracy'], style, label=version[i] + ' Validation accuracy')\n",
        "    ax2.plot(history['loss'], style, label=version[i] + ' Training loss')\n",
        "    ax2.plot(history['val_loss'], style, label=version[i] + ' Validation loss')\n",
        "    \n",
        "  ax1.legend(loc='best')\n",
        "  ax1.set_title('Training and validation accuracy')\n",
        "  \n",
        "  ax2.legend(loc='best')\n",
        "  ax2.set_title('Training and Validation loss')\n",
        "  \n",
        "  plt.xlabel('Epochs')\n",
        "  plt.show()"
      ],
      "execution_count": 65,
      "outputs": []
    },
    {
      "cell_type": "code",
      "metadata": {
        "id": "kj8rPFeJKKHD",
        "colab_type": "code",
        "colab": {}
      },
      "source": [
        "import urllib.request\n",
        "#'https://goo.gl/rzfLf5'\n",
        "EmotionLines_Friends_Dataset = 'https://drive.google.com/u/0/uc?id=1Koxs2pVSmmO_-LWDGx3uUODVHY1yNrTM&export=download'\n",
        "urllib.request.urlretrieve(EmotionLines_Friends_Dataset, '/tmp/EmotionLines_Friends_Dataset.tar.gz');"
      ],
      "execution_count": 2,
      "outputs": []
    },
    {
      "cell_type": "code",
      "metadata": {
        "id": "m2vGU4QzMyaQ",
        "colab_type": "code",
        "colab": {}
      },
      "source": [
        "#!wget --no-check-certificate \\\n",
        "#'https://drive.google.com/u/0/uc?id=1Koxs2pVSmmO_-LWDGx3uUODVHY1yNrTM&export=download'\\\n",
        "# -O /tmp/EmotionLines_Friends_Dataset.tar.gz"
      ],
      "execution_count": 3,
      "outputs": []
    },
    {
      "cell_type": "code",
      "metadata": {
        "id": "OrKH8sXILE_t",
        "colab_type": "code",
        "colab": {}
      },
      "source": [
        "import tarfile\n",
        "tar = tarfile.open('/tmp/EmotionLines_Friends_Dataset.tar.gz', \"r:gz\")\n",
        "tar.extractall()\n",
        "tar.close()"
      ],
      "execution_count": 4,
      "outputs": []
    },
    {
      "cell_type": "code",
      "metadata": {
        "id": "K0QxEDwJKKJZ",
        "colab_type": "code",
        "colab": {}
      },
      "source": [
        "import json\n",
        "friends_train_path = '/content/EmotionLines/Friends/friends_train.json'\n",
        "friends_validation_path = '/content/EmotionLines/Friends/friends_dev.json'\n",
        "friends_test_path = '/content/EmotionLines/Friends/friends_test.json'\n",
        "\n",
        "with open(friends_train_path, 'r') as f:\n",
        "    friends_train = json.load(f)\n",
        "\n",
        "with open(friends_validation_path, 'r') as f:\n",
        "    friends_validation = json.load(f)\n",
        "\n",
        "with open(friends_test_path, 'r') as f:\n",
        "    friends_test = json.load(f)    "
      ],
      "execution_count": 5,
      "outputs": []
    },
    {
      "cell_type": "code",
      "metadata": {
        "id": "RI4y_s7mO7VA",
        "colab_type": "code",
        "colab": {
          "base_uri": "https://localhost:8080/",
          "height": 34
        },
        "outputId": "918fe8de-44d3-4cb4-9c42-0495811325c8"
      },
      "source": [
        "type(friends_train)"
      ],
      "execution_count": 6,
      "outputs": [
        {
          "output_type": "execute_result",
          "data": {
            "text/plain": [
              "list"
            ]
          },
          "metadata": {
            "tags": []
          },
          "execution_count": 6
        }
      ]
    },
    {
      "cell_type": "code",
      "metadata": {
        "id": "M7FjaIQdO7W2",
        "colab_type": "code",
        "colab": {
          "base_uri": "https://localhost:8080/",
          "height": 34
        },
        "outputId": "d33f17d1-4766-4ff1-b71a-489ada486fe3"
      },
      "source": [
        "print(len(friends_train), len(friends_validation), len(friends_test))"
      ],
      "execution_count": 7,
      "outputs": [
        {
          "output_type": "stream",
          "text": [
            "720 80 200\n"
          ],
          "name": "stdout"
        }
      ]
    },
    {
      "cell_type": "code",
      "metadata": {
        "id": "UhxV_CZUO_gE",
        "colab_type": "code",
        "colab": {
          "base_uri": "https://localhost:8080/",
          "height": 221
        },
        "outputId": "d5a0be22-0153-4317-9460-7019afb54f5e"
      },
      "source": [
        "friends_train[0][:3]"
      ],
      "execution_count": 8,
      "outputs": [
        {
          "output_type": "execute_result",
          "data": {
            "text/plain": [
              "[{'annotation': '4100000',\n",
              "  'emotion': 'neutral',\n",
              "  'speaker': 'Chandler',\n",
              "  'utterance': 'also I was the point person on my company\\x92s transition from the KL-5 to GR-6 system.'},\n",
              " {'annotation': '5000000',\n",
              "  'emotion': 'neutral',\n",
              "  'speaker': 'The Interviewer',\n",
              "  'utterance': 'You must\\x92ve had your hands full.'},\n",
              " {'annotation': '5000000',\n",
              "  'emotion': 'neutral',\n",
              "  'speaker': 'Chandler',\n",
              "  'utterance': 'That I did. That I did.'}]"
            ]
          },
          "metadata": {
            "tags": []
          },
          "execution_count": 8
        }
      ]
    },
    {
      "cell_type": "code",
      "metadata": {
        "id": "XYAJ7HTFO_iL",
        "colab_type": "code",
        "colab": {
          "base_uri": "https://localhost:8080/",
          "height": 34
        },
        "outputId": "be0e9f3c-6bd0-47b8-e316-936348439e50"
      },
      "source": [
        "len(friends_train[0])"
      ],
      "execution_count": 9,
      "outputs": [
        {
          "output_type": "execute_result",
          "data": {
            "text/plain": [
              "23"
            ]
          },
          "metadata": {
            "tags": []
          },
          "execution_count": 9
        }
      ]
    },
    {
      "cell_type": "code",
      "metadata": {
        "id": "HPgZAio7PGsI",
        "colab_type": "code",
        "colab": {
          "base_uri": "https://localhost:8080/",
          "height": 221
        },
        "outputId": "2e35fcbc-f5e5-4cf7-e9ca-3138e7691599"
      },
      "source": [
        "friends_train[0][:3]"
      ],
      "execution_count": 10,
      "outputs": [
        {
          "output_type": "execute_result",
          "data": {
            "text/plain": [
              "[{'annotation': '4100000',\n",
              "  'emotion': 'neutral',\n",
              "  'speaker': 'Chandler',\n",
              "  'utterance': 'also I was the point person on my company\\x92s transition from the KL-5 to GR-6 system.'},\n",
              " {'annotation': '5000000',\n",
              "  'emotion': 'neutral',\n",
              "  'speaker': 'The Interviewer',\n",
              "  'utterance': 'You must\\x92ve had your hands full.'},\n",
              " {'annotation': '5000000',\n",
              "  'emotion': 'neutral',\n",
              "  'speaker': 'Chandler',\n",
              "  'utterance': 'That I did. That I did.'}]"
            ]
          },
          "metadata": {
            "tags": []
          },
          "execution_count": 10
        }
      ]
    },
    {
      "cell_type": "markdown",
      "metadata": {
        "id": "mDCzM16XuSm4",
        "colab_type": "text"
      },
      "source": [
        "### Inspiration from David's choice to combine speaker with the utterance\n",
        "https://github.com/dcpatton/NLP/blob/master/Friends_NLP.ipynb"
      ]
    },
    {
      "cell_type": "code",
      "metadata": {
        "id": "SHS-jiNwPVzm",
        "colab_type": "code",
        "colab": {}
      },
      "source": [
        "#training dataset\n",
        "train_utterance = []\n",
        "train_emotion = []\n",
        "train_speaker = []\n",
        "\n",
        "for dialogue in friends_train:\n",
        "  for line in dialogue:\n",
        "    train_utterance.append(line['utterance'])\n",
        "    \n",
        "    #Neutral, Joy, Sadness, Fear, Anger, Surprise, Disgust, Non-Neutral\n",
        "    e = line['emotion']\n",
        "\n",
        "    int_emotion = 0\n",
        "    if e == 'neutral':\n",
        "      int_emotion = 0\n",
        "    elif e == 'joy':\n",
        "      int_emotion = 1\n",
        "    elif e == 'sadness':\n",
        "      int_emotion = 2\n",
        "    elif e == 'fear':\n",
        "      int_emotion = 3\n",
        "    elif e == 'anger':\n",
        "      int_emotion = 4\n",
        "    elif e == 'surprise':\n",
        "      int_emotion = 5\n",
        "    elif e == 'disgust':\n",
        "      int_emotion = 6\n",
        "    elif e == 'non-neutral':\n",
        "      int_emotion = 7\n",
        "\n",
        "    train_emotion.append(int_emotion)\n",
        "    train_speaker.append(line['speaker'])\n",
        "\n",
        "#validation dataset\n",
        "validation_utterance = []\n",
        "validation_emotion = []\n",
        "validation_speaker = []\n",
        "\n",
        "for dialogue in friends_validation:\n",
        "  for line in dialogue:\n",
        "    validation_utterance.append(line['utterance'])\n",
        "\n",
        "    #Neutral, Joy, Sadness, Fear, Anger, Surprise, Disgust, Non-Neutral\n",
        "    e = line['emotion']\n",
        "\n",
        "    int_emotion = 0\n",
        "    if e == 'neutral':\n",
        "      int_emotion = 0\n",
        "    elif e == 'joy':\n",
        "      int_emotion = 1\n",
        "    elif e == 'sadness':\n",
        "      int_emotion = 2\n",
        "    elif e == 'fear':\n",
        "      int_emotion = 3\n",
        "    elif e == 'anger':\n",
        "      int_emotion = 4\n",
        "    elif e == 'surprise':\n",
        "      int_emotion = 5\n",
        "    elif e == 'disgust':\n",
        "      int_emotion = 6\n",
        "    elif e == 'non-neutral':\n",
        "      int_emotion = 7\n",
        "\n",
        "    validation_emotion.append(int_emotion)\n",
        "    validation_speaker.append(line['speaker'])"
      ],
      "execution_count": 11,
      "outputs": []
    },
    {
      "cell_type": "code",
      "metadata": {
        "id": "53fUV2beQFcw",
        "colab_type": "code",
        "colab": {
          "base_uri": "https://localhost:8080/",
          "height": 34
        },
        "outputId": "a8d79190-65ef-4820-ae23-7fcfe6380f1f"
      },
      "source": [
        "len(train_utterance)"
      ],
      "execution_count": 12,
      "outputs": [
        {
          "output_type": "execute_result",
          "data": {
            "text/plain": [
              "10561"
            ]
          },
          "metadata": {
            "tags": []
          },
          "execution_count": 12
        }
      ]
    },
    {
      "cell_type": "code",
      "metadata": {
        "id": "J9LtaMH4QJTX",
        "colab_type": "code",
        "colab": {
          "base_uri": "https://localhost:8080/",
          "height": 88
        },
        "outputId": "f266612f-b84a-426d-9137-2a1b58b371b1"
      },
      "source": [
        "for s, u, e in zip(train_utterance[:3], train_utterance[:3], train_emotion[:3]):\n",
        "  print(s, u, e)"
      ],
      "execution_count": 13,
      "outputs": [
        {
          "output_type": "stream",
          "text": [
            "also I was the point person on my companys transition from the KL-5 to GR-6 system. also I was the point person on my companys transition from the KL-5 to GR-6 system. 0\n",
            "You mustve had your hands full. You mustve had your hands full. 0\n",
            "That I did. That I did. That I did. That I did. 0\n"
          ],
          "name": "stdout"
        }
      ]
    },
    {
      "cell_type": "code",
      "metadata": {
        "id": "x7R7wLeZJYHA",
        "colab_type": "code",
        "colab": {}
      },
      "source": [
        "from tensorflow.keras.preprocessing.text import Tokenizer\n",
        "from tensorflow.keras.preprocessing.sequence import pad_sequences"
      ],
      "execution_count": 14,
      "outputs": []
    },
    {
      "cell_type": "code",
      "metadata": {
        "id": "hvRfLe10PV5x",
        "colab_type": "code",
        "colab": {}
      },
      "source": [
        "num_classes = 8\n",
        "#The total of seven labels are Neutral, Joy, Sadness, Fear, Anger, Surprise, and Disgust\n",
        "\n",
        "vocab_size = 1000\n",
        "embedding_dim = 16\n",
        "max_length = 120\n",
        "trunc_type='post'\n",
        "padding_type='post'\n",
        "oov_tok = \"<OOV>\"\n",
        "#training_size = 20000"
      ],
      "execution_count": 33,
      "outputs": []
    },
    {
      "cell_type": "code",
      "metadata": {
        "id": "Nhq81T2NQxO3",
        "colab_type": "code",
        "colab": {}
      },
      "source": [
        "tokenizer = Tokenizer(num_words=vocab_size, oov_token=oov_tok)\n",
        "tokenizer.fit_on_texts(train_utterance)"
      ],
      "execution_count": 34,
      "outputs": []
    },
    {
      "cell_type": "code",
      "metadata": {
        "id": "lBVO7C_HQxRV",
        "colab_type": "code",
        "colab": {
          "base_uri": "https://localhost:8080/",
          "height": 1000
        },
        "outputId": "db51a752-a4ac-4aa7-fa95-cdda49b9c0f7"
      },
      "source": [
        "word_index = tokenizer.word_index\n",
        "word_index"
      ],
      "execution_count": 55,
      "outputs": [
        {
          "output_type": "execute_result",
          "data": {
            "text/plain": [
              "{'<OOV>': 1,\n",
              " 'i': 2,\n",
              " 'you': 3,\n",
              " 'the': 4,\n",
              " 'to': 5,\n",
              " 'a': 6,\n",
              " 'and': 7,\n",
              " 'oh': 8,\n",
              " 'it': 9,\n",
              " 'that': 10,\n",
              " 'no': 11,\n",
              " 'what': 12,\n",
              " 'is': 13,\n",
              " 'this': 14,\n",
              " 'me': 15,\n",
              " 'okay': 16,\n",
              " 'so': 17,\n",
              " 'yeah': 18,\n",
              " 'just': 19,\n",
              " 'of': 20,\n",
              " 'my': 21,\n",
              " 'in': 22,\n",
              " 'have': 23,\n",
              " 'we': 24,\n",
              " 'hey': 25,\n",
              " 'do': 26,\n",
              " 'i\\x92m': 27,\n",
              " 'well': 28,\n",
              " 'know': 29,\n",
              " 'on': 30,\n",
              " 'all': 31,\n",
              " 'not': 32,\n",
              " 'are': 33,\n",
              " 'for': 34,\n",
              " 'right': 35,\n",
              " 'was': 36,\n",
              " 'with': 37,\n",
              " 'but': 38,\n",
              " 'be': 39,\n",
              " 'go': 40,\n",
              " 'your': 41,\n",
              " 'don\\x92t': 42,\n",
              " 'like': 43,\n",
              " 'gonna': 44,\n",
              " 'get': 45,\n",
              " 'here': 46,\n",
              " 'it\\x92s': 47,\n",
              " 'out': 48,\n",
              " 'really': 49,\n",
              " 'uh': 50,\n",
              " 'can': 51,\n",
              " 'about': 52,\n",
              " \"i'm\": 53,\n",
              " 'up': 54,\n",
              " 'he': 55,\n",
              " 'think': 56,\n",
              " 'look': 57,\n",
              " 'there': 58,\n",
              " 'that\\x92s': 59,\n",
              " 'how': 60,\n",
              " 'now': 61,\n",
              " 'her': 62,\n",
              " 'one': 63,\n",
              " 'if': 64,\n",
              " 'at': 65,\n",
              " 'got': 66,\n",
              " 'mean': 67,\n",
              " 'see': 68,\n",
              " 'you\\x92re': 69,\n",
              " 'come': 70,\n",
              " 'god': 71,\n",
              " 'why': 72,\n",
              " 'him': 73,\n",
              " 'did': 74,\n",
              " 'ross': 75,\n",
              " 'good': 76,\n",
              " 'she': 77,\n",
              " 'sorry': 78,\n",
              " 'want': 79,\n",
              " \"it's\": 80,\n",
              " 'they': 81,\n",
              " 'tell': 82,\n",
              " 'joey': 83,\n",
              " 'great': 84,\n",
              " 'when': 85,\n",
              " 'hi': 86,\n",
              " 'guys': 87,\n",
              " 'y\\x92know': 88,\n",
              " 'yes': 89,\n",
              " \"don't\": 90,\n",
              " \"y'know\": 91,\n",
              " 'going': 92,\n",
              " 'would': 93,\n",
              " 'umm': 94,\n",
              " 'some': 95,\n",
              " 'then': 96,\n",
              " 'could': 97,\n",
              " 'were': 98,\n",
              " 'back': 99,\n",
              " 'because': 100,\n",
              " 'time': 101,\n",
              " 'too': 102,\n",
              " 'had': 103,\n",
              " 'little': 104,\n",
              " 'say': 105,\n",
              " 'can\\x92t': 106,\n",
              " 'who': 107,\n",
              " 'love': 108,\n",
              " 'something': 109,\n",
              " 'been': 110,\n",
              " 'chandler': 111,\n",
              " \"that's\": 112,\n",
              " 'wait': 113,\n",
              " 'as': 114,\n",
              " 'thank': 115,\n",
              " 'guy': 116,\n",
              " 'or': 117,\n",
              " \"you're\": 118,\n",
              " 'ok': 119,\n",
              " 'phoebe': 120,\n",
              " 'huh': 121,\n",
              " 'should': 122,\n",
              " 'wanna': 123,\n",
              " 'an': 124,\n",
              " 'monica': 125,\n",
              " 'rachel': 126,\n",
              " 'over': 127,\n",
              " 'from': 128,\n",
              " 'doing': 129,\n",
              " 'his': 130,\n",
              " 'am': 131,\n",
              " 'said': 132,\n",
              " 'them': 133,\n",
              " 'make': 134,\n",
              " 'i\\x92ll': 135,\n",
              " 'we\\x92re': 136,\n",
              " 'us': 137,\n",
              " 'thing': 138,\n",
              " 'take': 139,\n",
              " 'will': 140,\n",
              " 'never': 141,\n",
              " 'people': 142,\n",
              " 'sure': 143,\n",
              " 'please': 144,\n",
              " 'ah': 145,\n",
              " 'maybe': 146,\n",
              " 'much': 147,\n",
              " 'where': 148,\n",
              " 'let': 149,\n",
              " 'still': 150,\n",
              " 'man': 151,\n",
              " 'does': 152,\n",
              " 'listen': 153,\n",
              " 'by': 154,\n",
              " 'down': 155,\n",
              " 'again': 156,\n",
              " 'way': 157,\n",
              " 'um': 158,\n",
              " 'off': 159,\n",
              " 'two': 160,\n",
              " 'very': 161,\n",
              " 'wow': 162,\n",
              " 'actually': 163,\n",
              " 'give': 164,\n",
              " 'fine': 165,\n",
              " 'need': 166,\n",
              " 'first': 167,\n",
              " 'our': 168,\n",
              " 'believe': 169,\n",
              " 'he\\x92s': 170,\n",
              " 'i\\x92ve': 171,\n",
              " 'even': 172,\n",
              " 'pheebs': 173,\n",
              " 'didn\\x92t': 174,\n",
              " 'thanks': 175,\n",
              " 'thought': 176,\n",
              " 'big': 177,\n",
              " 'whoa': 178,\n",
              " \"can't\": 179,\n",
              " 'only': 180,\n",
              " 'nice': 181,\n",
              " 'night': 182,\n",
              " 'has': 183,\n",
              " 'more': 184,\n",
              " 'before': 185,\n",
              " 'work': 186,\n",
              " 'place': 187,\n",
              " 'call': 188,\n",
              " 'other': 189,\n",
              " 'gotta': 190,\n",
              " 'these': 191,\n",
              " 'hello': 192,\n",
              " 'stuff': 193,\n",
              " 'stop': 194,\n",
              " 'talk': 195,\n",
              " 'she\\x92s': 196,\n",
              " 'feel': 197,\n",
              " 'ya': 198,\n",
              " 'bye': 199,\n",
              " \"he's\": 200,\n",
              " 'ever': 201,\n",
              " 'lot': 202,\n",
              " 'any': 203,\n",
              " 'those': 204,\n",
              " 'there\\x92s': 205,\n",
              " 'nothing': 206,\n",
              " 'put': 207,\n",
              " 'anything': 208,\n",
              " 'married': 209,\n",
              " 'things': 210,\n",
              " 'last': 211,\n",
              " 'baby': 212,\n",
              " 'remember': 213,\n",
              " 'girl': 214,\n",
              " 'new': 215,\n",
              " 'what\\x92s': 216,\n",
              " 'pretty': 217,\n",
              " 'let\\x92s': 218,\n",
              " \"i'll\": 219,\n",
              " 'rach': 220,\n",
              " 'went': 221,\n",
              " 'happened': 222,\n",
              " 'told': 223,\n",
              " 'wanted': 224,\n",
              " 'ohh': 225,\n",
              " 'into': 226,\n",
              " 'room': 227,\n",
              " 'they\\x92re': 228,\n",
              " 'better': 229,\n",
              " 'around': 230,\n",
              " 'made': 231,\n",
              " 'honey': 232,\n",
              " 'guess': 233,\n",
              " \"didn't\": 234,\n",
              " 'kinda': 235,\n",
              " 'play': 236,\n",
              " 'name': 237,\n",
              " 'talking': 238,\n",
              " \"we're\": 239,\n",
              " 'care': 240,\n",
              " 'help': 241,\n",
              " 'wedding': 242,\n",
              " 'always': 243,\n",
              " 'totally': 244,\n",
              " 'happy': 245,\n",
              " 'best': 246,\n",
              " 'together': 247,\n",
              " 'having': 248,\n",
              " 'kind': 249,\n",
              " 'ooh': 250,\n",
              " 'date': 251,\n",
              " 'thinking': 252,\n",
              " 'pick': 253,\n",
              " 'day': 254,\n",
              " \"what's\": 255,\n",
              " 'fun': 256,\n",
              " 'friends': 257,\n",
              " 'getting': 258,\n",
              " 'phone': 259,\n",
              " 'friend': 260,\n",
              " 'left': 261,\n",
              " 'woman': 262,\n",
              " 'next': 263,\n",
              " 'ask': 264,\n",
              " 'bad': 265,\n",
              " 'second': 266,\n",
              " 'stupid': 267,\n",
              " \"i've\": 268,\n",
              " 'which': 269,\n",
              " 'wrong': 270,\n",
              " 'tonight': 271,\n",
              " 'doesn\\x92t': 272,\n",
              " 'ow': 273,\n",
              " 'five': 274,\n",
              " \"she's\": 275,\n",
              " 'else': 276,\n",
              " 'ready': 277,\n",
              " 'yet': 278,\n",
              " 'done': 279,\n",
              " 'job': 280,\n",
              " 'whole': 281,\n",
              " 'another': 282,\n",
              " 'eat': 283,\n",
              " 'funny': 284,\n",
              " 'hear': 285,\n",
              " 'coming': 286,\n",
              " 'than': 287,\n",
              " 'stay': 288,\n",
              " 'problem': 289,\n",
              " 'home': 290,\n",
              " 'years': 291,\n",
              " 'try': 292,\n",
              " 'find': 293,\n",
              " 'later': 294,\n",
              " 'ring': 295,\n",
              " 'old': 296,\n",
              " 'long': 297,\n",
              " 'after': 298,\n",
              " 'i\\x92d': 299,\n",
              " 'check': 300,\n",
              " 'tomorrow': 301,\n",
              " 'might': 302,\n",
              " 'such': 303,\n",
              " 'trying': 304,\n",
              " 'looking': 305,\n",
              " 'game': 306,\n",
              " 'today': 307,\n",
              " 'called': 308,\n",
              " 'we\\x92ll': 309,\n",
              " 'anyway': 310,\n",
              " 'idea': 311,\n",
              " \"let's\": 312,\n",
              " 'probably': 313,\n",
              " 'someone': 314,\n",
              " 'course': 315,\n",
              " 'may': 316,\n",
              " '\\x91cause': 317,\n",
              " 'leave': 318,\n",
              " 'myself': 319,\n",
              " 'money': 320,\n",
              " 'ho': 321,\n",
              " 'real': 322,\n",
              " 'happen': 323,\n",
              " 'three': 324,\n",
              " 'hard': 325,\n",
              " 'away': 326,\n",
              " 'came': 327,\n",
              " 'move': 328,\n",
              " 'hot': 329,\n",
              " 'enough': 330,\n",
              " \"they're\": 331,\n",
              " 'supposed': 332,\n",
              " 'life': 333,\n",
              " 'keep': 334,\n",
              " 'mine': 335,\n",
              " 'mom': 336,\n",
              " 'party': 337,\n",
              " 'being': 338,\n",
              " 'every': 339,\n",
              " 'coffee': 340,\n",
              " 'wants': 341,\n",
              " 'ben': 342,\n",
              " 'crazy': 343,\n",
              " 'part': 344,\n",
              " 'minute': 345,\n",
              " 'weird': 346,\n",
              " 'bing': 347,\n",
              " 'hand': 348,\n",
              " 'year': 349,\n",
              " 'hold': 350,\n",
              " 'serious': 351,\n",
              " 'each': 352,\n",
              " 'took': 353,\n",
              " 'women': 354,\n",
              " 'matter': 355,\n",
              " 'ha': 356,\n",
              " 'morning': 357,\n",
              " 'sex': 358,\n",
              " 'saying': 359,\n",
              " 'wouldn\\x92t': 360,\n",
              " 'everybody': 361,\n",
              " 'apartment': 362,\n",
              " 'anymore': 363,\n",
              " 'dad': 364,\n",
              " 'naked': 365,\n",
              " \"there's\": 366,\n",
              " 'high': 367,\n",
              " 'dinner': 368,\n",
              " 'telling': 369,\n",
              " 'hmm': 370,\n",
              " 'show': 371,\n",
              " 'bring': 372,\n",
              " 'knew': 373,\n",
              " 'either': 374,\n",
              " 'head': 375,\n",
              " 'same': 376,\n",
              " 'knows': 377,\n",
              " 'you\\x92ve': 378,\n",
              " 'father': 379,\n",
              " 'their': 380,\n",
              " 'dr': 381,\n",
              " 'turn': 382,\n",
              " 'you\\x92ll': 383,\n",
              " 'says': 384,\n",
              " 'world': 385,\n",
              " 'start': 386,\n",
              " 'both': 387,\n",
              " 'most': 388,\n",
              " 'hours': 389,\n",
              " 'sleep': 390,\n",
              " 'amazing': 391,\n",
              " 'looks': 392,\n",
              " 'mr': 393,\n",
              " 'marry': 394,\n",
              " 'seen': 395,\n",
              " 'excuse': 396,\n",
              " 'anyone': 397,\n",
              " 'use': 398,\n",
              " 'alright': 399,\n",
              " 'house': 400,\n",
              " 'hang': 401,\n",
              " 'though': 402,\n",
              " 'watch': 403,\n",
              " 'geller': 404,\n",
              " 'saw': 405,\n",
              " 'live': 406,\n",
              " 'janice': 407,\n",
              " 'minutes': 408,\n",
              " 'kiss': 409,\n",
              " 'half': 410,\n",
              " 'also': 411,\n",
              " 'wish': 412,\n",
              " 'late': 413,\n",
              " 'since': 414,\n",
              " 'until': 415,\n",
              " 'chance': 416,\n",
              " 'yourself': 417,\n",
              " 'question': 418,\n",
              " 'anybody': 419,\n",
              " 'deal': 420,\n",
              " 'wearing': 421,\n",
              " 'lost': 422,\n",
              " 'everything': 423,\n",
              " 'who\\x92s': 424,\n",
              " 'couple': 425,\n",
              " 'comes': 426,\n",
              " 'forget': 427,\n",
              " 'joe': 428,\n",
              " 'open': 429,\n",
              " 'without': 430,\n",
              " 'kids': 431,\n",
              " 'beautiful': 432,\n",
              " 'ahh': 433,\n",
              " 'meet': 434,\n",
              " 'food': 435,\n",
              " 'dude': 436,\n",
              " 'four': 437,\n",
              " 'break': 438,\n",
              " 'read': 439,\n",
              " 'making': 440,\n",
              " 'pants': 441,\n",
              " 'person': 442,\n",
              " 'bit': 443,\n",
              " \"doesn't\": 444,\n",
              " 'throw': 445,\n",
              " 'understand': 446,\n",
              " 'asked': 447,\n",
              " 'kidding': 448,\n",
              " 'own': 449,\n",
              " 'mind': 450,\n",
              " 'glad': 451,\n",
              " 'walk': 452,\n",
              " 'won\\x92t': 453,\n",
              " 'already': 454,\n",
              " 'school': 455,\n",
              " 'cool': 456,\n",
              " \"we'll\": 457,\n",
              " 'through': 458,\n",
              " 'absolutely': 459,\n",
              " 'once': 460,\n",
              " 'doctor': 461,\n",
              " 'cannot': 462,\n",
              " 'bed': 463,\n",
              " 'hurt': 464,\n",
              " 'hate': 465,\n",
              " 'number': 466,\n",
              " 'sweet': 467,\n",
              " 'sister': 468,\n",
              " \"i'd\": 469,\n",
              " 'promise': 470,\n",
              " 'must': 471,\n",
              " 'somebody': 472,\n",
              " 'ten': 473,\n",
              " 'while': 474,\n",
              " 'under': 475,\n",
              " 'mad': 476,\n",
              " 'alone': 477,\n",
              " 'babies': 478,\n",
              " 'kill': 479,\n",
              " 'wear': 480,\n",
              " 'girls': 481,\n",
              " 'times': 482,\n",
              " 'hell': 483,\n",
              " 'used': 484,\n",
              " 'couldn\\x92t': 485,\n",
              " 'cute': 486,\n",
              " 'makes': 487,\n",
              " 'gone': 488,\n",
              " \"won't\": 489,\n",
              " \"'\": 490,\n",
              " 'started': 491,\n",
              " 'bob': 492,\n",
              " 'haven\\x92t': 493,\n",
              " 'sounds': 494,\n",
              " 'different': 495,\n",
              " 'yep': 496,\n",
              " 'true': 497,\n",
              " 'miss': 498,\n",
              " 'kid': 499,\n",
              " \"wasn't\": 500,\n",
              " 'sit': 501,\n",
              " 'wasn\\x92t': 502,\n",
              " 'gay': 503,\n",
              " 'sir': 504,\n",
              " 'ugh': 505,\n",
              " 'worry': 506,\n",
              " 'hope': 507,\n",
              " 'between': 508,\n",
              " 'found': 509,\n",
              " 'exactly': 510,\n",
              " 'buddy': 511,\n",
              " 'able': 512,\n",
              " 'working': 513,\n",
              " 'gave': 514,\n",
              " \"you've\": 515,\n",
              " 'movie': 516,\n",
              " 'important': 517,\n",
              " 'bet': 518,\n",
              " 'brother': 519,\n",
              " 'buy': 520,\n",
              " 'gets': 521,\n",
              " 'story': 522,\n",
              " 'book': 523,\n",
              " 'easy': 524,\n",
              " 'carol': 525,\n",
              " 'sweetie': 526,\n",
              " 'goes': 527,\n",
              " 'parents': 528,\n",
              " 'plan': 529,\n",
              " 'free': 530,\n",
              " 'broke': 531,\n",
              " 'boy': 532,\n",
              " 'ball': 533,\n",
              " 'unbelievable': 534,\n",
              " '\\x91em': 535,\n",
              " \"isn't\": 536,\n",
              " 'six': 537,\n",
              " 'cut': 538,\n",
              " 'feeling': 539,\n",
              " 'kathy': 540,\n",
              " 'city': 541,\n",
              " 'soon': 542,\n",
              " 'picture': 543,\n",
              " 'pay': 544,\n",
              " 'isn\\x92t': 545,\n",
              " 'here\\x92s': 546,\n",
              " 'hour': 547,\n",
              " 'relax': 548,\n",
              " 'liked': 549,\n",
              " 'thanksgiving': 550,\n",
              " 'end': 551,\n",
              " 'huge': 552,\n",
              " 'means': 553,\n",
              " 'perfect': 554,\n",
              " 'green': 555,\n",
              " 'face': 556,\n",
              " 'small': 557,\n",
              " 'message': 558,\n",
              " 'machine': 559,\n",
              " 'everyone': 560,\n",
              " 'mrs': 561,\n",
              " 'win': 562,\n",
              " 'family': 563,\n",
              " 'candy': 564,\n",
              " 'car': 565,\n",
              " \"'cause\": 566,\n",
              " 'mon': 567,\n",
              " 'asleep': 568,\n",
              " 'realize': 569,\n",
              " 'table': 570,\n",
              " 'wh': 571,\n",
              " 'clothes': 572,\n",
              " 'dance': 573,\n",
              " 'girlfriend': 574,\n",
              " 'men': 575,\n",
              " 'word': 576,\n",
              " 'eh': 577,\n",
              " 'lady': 578,\n",
              " 'shower': 579,\n",
              " 'seeing': 580,\n",
              " 'brought': 581,\n",
              " 'touch': 582,\n",
              " 'pregnant': 583,\n",
              " 'hit': 584,\n",
              " 'its': 585,\n",
              " 'moving': 586,\n",
              " 'close': 587,\n",
              " 'museum': 588,\n",
              " 'son': 589,\n",
              " 'marriage': 590,\n",
              " 'eyes': 591,\n",
              " 'fire': 592,\n",
              " 'uhh': 593,\n",
              " 'bathroom': 594,\n",
              " 'many': 595,\n",
              " 'david': 596,\n",
              " 'taking': 597,\n",
              " 'figure': 598,\n",
              " 'street': 599,\n",
              " \"you'd\": 600,\n",
              " 'ass': 601,\n",
              " 'scared': 602,\n",
              " 'asking': 603,\n",
              " 'almost': 604,\n",
              " 'aww': 605,\n",
              " 'birthday': 606,\n",
              " 'you\\x92d': 607,\n",
              " 'playing': 608,\n",
              " 'lives': 609,\n",
              " 'song': 610,\n",
              " 'soup': 611,\n",
              " 'seven': 612,\n",
              " 'roommate': 613,\n",
              " 'seem': 614,\n",
              " 'thinks': 615,\n",
              " 'building': 616,\n",
              " 'line': 617,\n",
              " 'fell': 618,\n",
              " 'stand': 619,\n",
              " 'reason': 620,\n",
              " 'dead': 621,\n",
              " 'rest': 622,\n",
              " 'blue': 623,\n",
              " 'talked': 624,\n",
              " 'few': 625,\n",
              " 'change': 626,\n",
              " 'bag': 627,\n",
              " 'bitch': 628,\n",
              " 'tickets': 629,\n",
              " 'seriously': 630,\n",
              " 'fact': 631,\n",
              " 'smell': 632,\n",
              " 'whatever': 633,\n",
              " 'office': 634,\n",
              " 'ohhh': 635,\n",
              " 'special': 636,\n",
              " 'side': 637,\n",
              " 'aw': 638,\n",
              " 'fault': 639,\n",
              " 'aren\\x92t': 640,\n",
              " 'lose': 641,\n",
              " 'emily': 642,\n",
              " \"who's\": 643,\n",
              " 'heard': 644,\n",
              " 'spend': 645,\n",
              " 'monica\\x92s': 646,\n",
              " 'week': 647,\n",
              " 'eye': 648,\n",
              " 'dog': 649,\n",
              " 'least': 650,\n",
              " 'restaurant': 651,\n",
              " 'porn': 652,\n",
              " 'stick': 653,\n",
              " 'list': 654,\n",
              " 'plans': 655,\n",
              " 'dum': 656,\n",
              " \"we've\": 657,\n",
              " 'sick': 658,\n",
              " 'spent': 659,\n",
              " 'heads': 660,\n",
              " 'answer': 661,\n",
              " 'meant': 662,\n",
              " 'shut': 663,\n",
              " 'top': 664,\n",
              " 'moment': 665,\n",
              " 'nobody': 666,\n",
              " \"wouldn't\": 667,\n",
              " 'shouldn\\x92t': 668,\n",
              " 'fast': 669,\n",
              " 'grandmother': 670,\n",
              " 'ew': 671,\n",
              " 'welcome': 672,\n",
              " 'terrible': 673,\n",
              " 'won': 674,\n",
              " 'quick': 675,\n",
              " 'doin\\x92': 676,\n",
              " 'quit': 677,\n",
              " 'richard': 678,\n",
              " 'loved': 679,\n",
              " 'team': 680,\n",
              " '8': 681,\n",
              " 'forgot': 682,\n",
              " 'living': 683,\n",
              " 'moved': 684,\n",
              " 'bucks': 685,\n",
              " 'card': 686,\n",
              " '2': 687,\n",
              " 'run': 688,\n",
              " 'definitely': 689,\n",
              " \"you'll\": 690,\n",
              " 'joshua': 691,\n",
              " 'shirt': 692,\n",
              " 'ago': 693,\n",
              " 'yours': 694,\n",
              " 'underwear': 695,\n",
              " 'floor': 696,\n",
              " 'wife': 697,\n",
              " 'feels': 698,\n",
              " 'questions': 699,\n",
              " 'shoot': 700,\n",
              " 'bought': 701,\n",
              " 'boxes': 702,\n",
              " 'susan': 703,\n",
              " 'don’t': 704,\n",
              " 'red': 705,\n",
              " 'write': 706,\n",
              " 'e': 707,\n",
              " 'shot': 708,\n",
              " 'class': 709,\n",
              " 'hands': 710,\n",
              " '30': 711,\n",
              " 'apparently': 712,\n",
              " 'route': 713,\n",
              " 'happens': 714,\n",
              " 'boyfriend': 715,\n",
              " 'hair': 716,\n",
              " 'luck': 717,\n",
              " \"couldn't\": 718,\n",
              " 'weeks': 719,\n",
              " 'heart': 720,\n",
              " 'daddy': 721,\n",
              " 'ones': 722,\n",
              " 'surprise': 723,\n",
              " 'excited': 724,\n",
              " 'box': 725,\n",
              " 'against': 726,\n",
              " 'how\\x92s': 727,\n",
              " 'chef': 728,\n",
              " 'stuck': 729,\n",
              " 'turned': 730,\n",
              " 'lie': 731,\n",
              " 'chick': 732,\n",
              " 'tired': 733,\n",
              " 'months': 734,\n",
              " 'hole': 735,\n",
              " 'decided': 736,\n",
              " 'lunch': 737,\n",
              " 'third': 738,\n",
              " 'felt': 739,\n",
              " 'drunk': 740,\n",
              " '10': 741,\n",
              " 'days': 742,\n",
              " 'cookies': 743,\n",
              " 'idiot': 744,\n",
              " 'store': 745,\n",
              " 'front': 746,\n",
              " 'town': 747,\n",
              " \"haven't\": 748,\n",
              " 'owe': 749,\n",
              " 'cup': 750,\n",
              " 'door': 751,\n",
              " 'chandler\\x92s': 752,\n",
              " 'sometimes': 753,\n",
              " 'window': 754,\n",
              " 'porsche': 755,\n",
              " 'light': 756,\n",
              " 'business': 757,\n",
              " 'die': 758,\n",
              " 'mother': 759,\n",
              " 'frank': 760,\n",
              " 'mail': 761,\n",
              " 'chip': 762,\n",
              " 'point': 763,\n",
              " 'sucks': 764,\n",
              " 'wrote': 765,\n",
              " 'mark': 766,\n",
              " 'jealous': 767,\n",
              " 'scene': 768,\n",
              " 'london': 769,\n",
              " 'damn': 770,\n",
              " 'cat': 771,\n",
              " 'loves': 772,\n",
              " 'water': 773,\n",
              " 'tribbiani': 774,\n",
              " 'completely': 775,\n",
              " 'sweater': 776,\n",
              " 'eight': 777,\n",
              " 'mistake': 778,\n",
              " 'ran': 779,\n",
              " 'seems': 780,\n",
              " 'clear': 781,\n",
              " 'less': 782,\n",
              " 'neither': 783,\n",
              " 'calling': 784,\n",
              " 'would\\x92ve': 785,\n",
              " 'missed': 786,\n",
              " 'looked': 787,\n",
              " 'sitting': 788,\n",
              " 'trust': 789,\n",
              " 'stripper': 790,\n",
              " 'fight': 791,\n",
              " 'dollars': 792,\n",
              " 'needs': 793,\n",
              " 'taste': 794,\n",
              " '1': 795,\n",
              " 'fair': 796,\n",
              " 'weekend': 797,\n",
              " 'set': 798,\n",
              " 'pete': 799,\n",
              " 'died': 800,\n",
              " 'news': 801,\n",
              " 'entire': 802,\n",
              " 'rule': 803,\n",
              " 'knock': 804,\n",
              " 'mess': 805,\n",
              " 'leg': 806,\n",
              " 'interested': 807,\n",
              " 'sad': 808,\n",
              " 'nooo': 809,\n",
              " 'figured': 810,\n",
              " 'suck': 811,\n",
              " 'park': 812,\n",
              " 'imagine': 813,\n",
              " \"c'mon\": 814,\n",
              " 'speak': 815,\n",
              " 'grade': 816,\n",
              " 'grab': 817,\n",
              " 'pass': 818,\n",
              " 'watching': 819,\n",
              " 'bigger': 820,\n",
              " 'guy\\x92s': 821,\n",
              " 'damnit': 822,\n",
              " 'nah': 823,\n",
              " 'starts': 824,\n",
              " 'drake': 825,\n",
              " 'actor': 826,\n",
              " 'alan': 827,\n",
              " 'full': 828,\n",
              " 'empty': 829,\n",
              " 'inside': 830,\n",
              " 'wondering': 831,\n",
              " 'finally': 832,\n",
              " 'so\\x85': 833,\n",
              " 'professor': 834,\n",
              " 'middle': 835,\n",
              " 'difference': 836,\n",
              " 'pizza': 837,\n",
              " 'straight': 838,\n",
              " 'switch': 839,\n",
              " 'yay': 840,\n",
              " 'nervous': 841,\n",
              " 'although': 842,\n",
              " 'met': 843,\n",
              " 'breaking': 844,\n",
              " 'calm': 845,\n",
              " 'audition': 846,\n",
              " \"here's\": 847,\n",
              " 'mike': 848,\n",
              " 'interesting': 849,\n",
              " 'tv': 850,\n",
              " 'smart': 851,\n",
              " 'kissed': 852,\n",
              " 'duck': 853,\n",
              " 'king': 854,\n",
              " 'gimme': 855,\n",
              " 'rules': 856,\n",
              " 'favorite': 857,\n",
              " 'uncle': 858,\n",
              " 'secret': 859,\n",
              " 'jill': 860,\n",
              " 'we\\x92ve': 861,\n",
              " 'joey\\x92s': 862,\n",
              " 'christmas': 863,\n",
              " 'crush': 864,\n",
              " 'vegas': 865,\n",
              " 'somewhere': 866,\n",
              " 'test': 867,\n",
              " 'clean': 868,\n",
              " 'nickname': 869,\n",
              " 'fat': 870,\n",
              " 'dating': 871,\n",
              " 'far': 872,\n",
              " 'favor': 873,\n",
              " 'barry': 874,\n",
              " 'early': 875,\n",
              " 'band': 876,\n",
              " 'yesterday': 877,\n",
              " 'casey': 878,\n",
              " 'sing': 879,\n",
              " 'downstairs': 880,\n",
              " 'invite': 881,\n",
              " 'nine': 882,\n",
              " 'choose': 883,\n",
              " 'sent': 884,\n",
              " 'button': 885,\n",
              " 'finish': 886,\n",
              " 'wonder': 887,\n",
              " 'behind': 888,\n",
              " 'divorce': 889,\n",
              " '\\x92': 890,\n",
              " 'giving': 891,\n",
              " 'purse': 892,\n",
              " 'strong': 893,\n",
              " 'holding': 894,\n",
              " 'lights': 895,\n",
              " 'romantic': 896,\n",
              " 'lying': 897,\n",
              " 'bijan': 898,\n",
              " 'birds': 899,\n",
              " 'crap': 900,\n",
              " 'la': 901,\n",
              " 'decide': 902,\n",
              " 'using': 903,\n",
              " 'keys': 904,\n",
              " 'quarter': 905,\n",
              " '6': 906,\n",
              " 'system': 907,\n",
              " 'must\\x92ve': 908,\n",
              " 'month': 909,\n",
              " 'italian': 910,\n",
              " 'tough': 911,\n",
              " 'proud': 912,\n",
              " 'surprised': 913,\n",
              " 'paid': 914,\n",
              " 'evil': 915,\n",
              " 'health': 916,\n",
              " 'pain': 917,\n",
              " 'speech': 918,\n",
              " 'kept': 919,\n",
              " 'feelings': 920,\n",
              " 'fan': 921,\n",
              " 'putting': 922,\n",
              " 'worth': 923,\n",
              " 'warm': 924,\n",
              " 'letting': 925,\n",
              " 'bike': 926,\n",
              " 'stole': 927,\n",
              " 'starting': 928,\n",
              " 'ma': 929,\n",
              " \"'em\": 930,\n",
              " 'worked': 931,\n",
              " 'pack': 932,\n",
              " 'sensitive': 933,\n",
              " 'especially': 934,\n",
              " 'careful': 935,\n",
              " 'keeps': 936,\n",
              " 'personal': 937,\n",
              " 'shopping': 938,\n",
              " 'ended': 939,\n",
              " 'twice': 940,\n",
              " 'future': 941,\n",
              " 'happening': 942,\n",
              " 'ticket': 943,\n",
              " 'gotten': 944,\n",
              " 'engaged': 945,\n",
              " 'along': 946,\n",
              " 'dancing': 947,\n",
              " 'leaving': 948,\n",
              " 'showing': 949,\n",
              " 'across': 950,\n",
              " \"doin'\": 951,\n",
              " 'worried': 952,\n",
              " 'worse': 953,\n",
              " 'changed': 954,\n",
              " 'trip': 955,\n",
              " 'obviously': 956,\n",
              " 'page': 957,\n",
              " 'tag': 958,\n",
              " 'appreciate': 959,\n",
              " 'laundry': 960,\n",
              " 'explain': 961,\n",
              " 'cooking': 962,\n",
              " 'piece': 963,\n",
              " 'angela': 964,\n",
              " 'forever': 965,\n",
              " 'instead': 966,\n",
              " 'walking': 967,\n",
              " 'mona': 968,\n",
              " 'sometime': 969,\n",
              " 'human': 970,\n",
              " 'cover': 971,\n",
              " 'speed': 972,\n",
              " 'order': 973,\n",
              " 'relationship': 974,\n",
              " 'charming': 975,\n",
              " 'walked': 976,\n",
              " 'drink': 977,\n",
              " 'freak': 978,\n",
              " 'phoebe\\x92s': 979,\n",
              " 'body': 980,\n",
              " 'drop': 981,\n",
              " 'apologize': 982,\n",
              " 'teacher': 983,\n",
              " '7': 984,\n",
              " 'sound': 985,\n",
              " 'turkey': 986,\n",
              " 'it\\x92ll': 987,\n",
              " 'lovely': 988,\n",
              " 'shh': 989,\n",
              " 'cry': 990,\n",
              " 'teach': 991,\n",
              " 'he\\x92ll': 992,\n",
              " 'cowboy': 993,\n",
              " 'it’s': 994,\n",
              " 'mouth': 995,\n",
              " 'noo': 996,\n",
              " 'larry': 997,\n",
              " '000': 998,\n",
              " 'save': 999,\n",
              " 'upset': 1000,\n",
              " ...}"
            ]
          },
          "metadata": {
            "tags": []
          },
          "execution_count": 55
        }
      ]
    },
    {
      "cell_type": "code",
      "metadata": {
        "id": "GjIncl2xRAIN",
        "colab_type": "code",
        "colab": {}
      },
      "source": [
        "train_utterance_sequences = tokenizer.texts_to_sequences(train_utterance)\n",
        "train_utterance_padded = pad_sequences(train_utterance_sequences, maxlen=max_length, padding=padding_type, truncating=trunc_type)"
      ],
      "execution_count": 36,
      "outputs": []
    },
    {
      "cell_type": "code",
      "metadata": {
        "id": "EGUopz9HS6rp",
        "colab_type": "code",
        "colab": {}
      },
      "source": [
        "validation_utterance_sequences = tokenizer.texts_to_sequences(validation_utterance)\n",
        "validation_utterance_padded = pad_sequences(validation_utterance_sequences, maxlen=max_length, padding=padding_type, truncating=trunc_type)"
      ],
      "execution_count": 19,
      "outputs": []
    },
    {
      "cell_type": "code",
      "metadata": {
        "id": "v94gR-brRaiE",
        "colab_type": "code",
        "colab": {
          "base_uri": "https://localhost:8080/",
          "height": 68
        },
        "outputId": "4816e77b-11dc-4436-8471-707f71d53316"
      },
      "source": [
        "train_utterance[:3]"
      ],
      "execution_count": 37,
      "outputs": [
        {
          "output_type": "execute_result",
          "data": {
            "text/plain": [
              "['also I was the point person on my company\\x92s transition from the KL-5 to GR-6 system.',\n",
              " 'You must\\x92ve had your hands full.',\n",
              " 'That I did. That I did.']"
            ]
          },
          "metadata": {
            "tags": []
          },
          "execution_count": 37
        }
      ]
    },
    {
      "cell_type": "code",
      "metadata": {
        "id": "LQN3wuXRRAKV",
        "colab_type": "code",
        "colab": {
          "base_uri": "https://localhost:8080/",
          "height": 68
        },
        "outputId": "19dce817-9f51-465f-c51f-e1c6e51968eb"
      },
      "source": [
        "train_utterance_sequences[:3]"
      ],
      "execution_count": 38,
      "outputs": [
        {
          "output_type": "execute_result",
          "data": {
            "text/plain": [
              "[[411, 2, 36, 4, 763, 442, 30, 21, 1, 1, 128, 4, 1, 1, 5, 1, 906, 907],\n",
              " [3, 908, 103, 41, 710, 828],\n",
              " [10, 2, 74, 10, 2, 74]]"
            ]
          },
          "metadata": {
            "tags": []
          },
          "execution_count": 38
        }
      ]
    },
    {
      "cell_type": "code",
      "metadata": {
        "id": "5ZfD68K_RVS3",
        "colab_type": "code",
        "colab": {
          "base_uri": "https://localhost:8080/",
          "height": 527
        },
        "outputId": "b5ff32ab-e1da-4596-d114-408adefad1ee"
      },
      "source": [
        "train_utterance_padded[:3]"
      ],
      "execution_count": 39,
      "outputs": [
        {
          "output_type": "execute_result",
          "data": {
            "text/plain": [
              "array([[411,   2,  36,   4, 763, 442,  30,  21,   1,   1, 128,   4,   1,\n",
              "          1,   5,   1, 906, 907,   0,   0,   0,   0,   0,   0,   0,   0,\n",
              "          0,   0,   0,   0,   0,   0,   0,   0,   0,   0,   0,   0,   0,\n",
              "          0,   0,   0,   0,   0,   0,   0,   0,   0,   0,   0,   0,   0,\n",
              "          0,   0,   0,   0,   0,   0,   0,   0,   0,   0,   0,   0,   0,\n",
              "          0,   0,   0,   0,   0,   0,   0,   0,   0,   0,   0,   0,   0,\n",
              "          0,   0,   0,   0,   0,   0,   0,   0,   0,   0,   0,   0,   0,\n",
              "          0,   0,   0,   0,   0,   0,   0,   0,   0,   0,   0,   0,   0,\n",
              "          0,   0,   0,   0,   0,   0,   0,   0,   0,   0,   0,   0,   0,\n",
              "          0,   0,   0],\n",
              "       [  3, 908, 103,  41, 710, 828,   0,   0,   0,   0,   0,   0,   0,\n",
              "          0,   0,   0,   0,   0,   0,   0,   0,   0,   0,   0,   0,   0,\n",
              "          0,   0,   0,   0,   0,   0,   0,   0,   0,   0,   0,   0,   0,\n",
              "          0,   0,   0,   0,   0,   0,   0,   0,   0,   0,   0,   0,   0,\n",
              "          0,   0,   0,   0,   0,   0,   0,   0,   0,   0,   0,   0,   0,\n",
              "          0,   0,   0,   0,   0,   0,   0,   0,   0,   0,   0,   0,   0,\n",
              "          0,   0,   0,   0,   0,   0,   0,   0,   0,   0,   0,   0,   0,\n",
              "          0,   0,   0,   0,   0,   0,   0,   0,   0,   0,   0,   0,   0,\n",
              "          0,   0,   0,   0,   0,   0,   0,   0,   0,   0,   0,   0,   0,\n",
              "          0,   0,   0],\n",
              "       [ 10,   2,  74,  10,   2,  74,   0,   0,   0,   0,   0,   0,   0,\n",
              "          0,   0,   0,   0,   0,   0,   0,   0,   0,   0,   0,   0,   0,\n",
              "          0,   0,   0,   0,   0,   0,   0,   0,   0,   0,   0,   0,   0,\n",
              "          0,   0,   0,   0,   0,   0,   0,   0,   0,   0,   0,   0,   0,\n",
              "          0,   0,   0,   0,   0,   0,   0,   0,   0,   0,   0,   0,   0,\n",
              "          0,   0,   0,   0,   0,   0,   0,   0,   0,   0,   0,   0,   0,\n",
              "          0,   0,   0,   0,   0,   0,   0,   0,   0,   0,   0,   0,   0,\n",
              "          0,   0,   0,   0,   0,   0,   0,   0,   0,   0,   0,   0,   0,\n",
              "          0,   0,   0,   0,   0,   0,   0,   0,   0,   0,   0,   0,   0,\n",
              "          0,   0,   0]], dtype=int32)"
            ]
          },
          "metadata": {
            "tags": []
          },
          "execution_count": 39
        }
      ]
    },
    {
      "cell_type": "code",
      "metadata": {
        "id": "n4KIehDAzSC5",
        "colab_type": "code",
        "colab": {
          "base_uri": "https://localhost:8080/",
          "height": 34
        },
        "outputId": "0e4d321f-c924-4e32-d16c-31eb2e079901"
      },
      "source": [
        "train_emotion[:3]"
      ],
      "execution_count": 41,
      "outputs": [
        {
          "output_type": "execute_result",
          "data": {
            "text/plain": [
              "array([0, 0, 0])"
            ]
          },
          "metadata": {
            "tags": []
          },
          "execution_count": 41
        }
      ]
    },
    {
      "cell_type": "markdown",
      "metadata": {
        "id": "XYPnT9TL4kXc",
        "colab_type": "text"
      },
      "source": [
        "# v1 - Emotion Detection with our own Embedding + Bi LSTM(32) - 0.03M parameters 72% training, 40% validation accuracy"
      ]
    },
    {
      "cell_type": "markdown",
      "metadata": {
        "id": "EcKjPaXE6eCL",
        "colab_type": "text"
      },
      "source": [
        "### Model Definition"
      ]
    },
    {
      "cell_type": "code",
      "metadata": {
        "id": "Nkm_ki940AAd",
        "colab_type": "code",
        "colab": {}
      },
      "source": [
        "model = tf.keras.Sequential([\n",
        "    tf.keras.layers.Embedding(vocab_size, embedding_dim, input_length=max_length),\n",
        "    tf.keras.layers.Bidirectional(tf.keras.layers.LSTM(32)),\n",
        "    tf.keras.layers.Dense(24, activation='relu'),\n",
        "    tf.keras.layers.Dropout(0.2),\n",
        "    tf.keras.layers.Dense(num_classes, activation='softmax')\n",
        "])"
      ],
      "execution_count": 43,
      "outputs": []
    },
    {
      "cell_type": "code",
      "metadata": {
        "id": "tyn5N0gRUOF5",
        "colab_type": "code",
        "colab": {
          "base_uri": "https://localhost:8080/",
          "height": 323
        },
        "outputId": "00e5aa0b-8280-497c-d590-4a675a2e6783"
      },
      "source": [
        "model.summary()"
      ],
      "execution_count": 44,
      "outputs": [
        {
          "output_type": "stream",
          "text": [
            "Model: \"sequential_1\"\n",
            "_________________________________________________________________\n",
            "Layer (type)                 Output Shape              Param #   \n",
            "=================================================================\n",
            "embedding_1 (Embedding)      (None, 120, 16)           16000     \n",
            "_________________________________________________________________\n",
            "bidirectional_1 (Bidirection (None, 64)                12544     \n",
            "_________________________________________________________________\n",
            "dense_2 (Dense)              (None, 24)                1560      \n",
            "_________________________________________________________________\n",
            "dropout_1 (Dropout)          (None, 24)                0         \n",
            "_________________________________________________________________\n",
            "dense_3 (Dense)              (None, 8)                 200       \n",
            "=================================================================\n",
            "Total params: 30,304\n",
            "Trainable params: 30,304\n",
            "Non-trainable params: 0\n",
            "_________________________________________________________________\n"
          ],
          "name": "stdout"
        }
      ]
    },
    {
      "cell_type": "code",
      "metadata": {
        "id": "3AVVpKj8UIao",
        "colab_type": "code",
        "colab": {}
      },
      "source": [
        "model.compile(loss='sparse_categorical_crossentropy', optimizer='adam', metrics=['accuracy'])"
      ],
      "execution_count": 45,
      "outputs": []
    },
    {
      "cell_type": "code",
      "metadata": {
        "id": "c-2QorwzUIcw",
        "colab_type": "code",
        "colab": {}
      },
      "source": [
        "checkpoint_filepath = 'Friends-The-One-With-Deep-Learning-v1.h5'\n",
        "my_callback = tf.keras.callbacks.ModelCheckpoint(checkpoint_filepath, verbose=1, \n",
        "                                        save_weights_only=True, monitor='val_loss', \n",
        "                                        mode='auto', save_best_only=True)"
      ],
      "execution_count": 46,
      "outputs": []
    },
    {
      "cell_type": "code",
      "metadata": {
        "id": "gF4BzZApVuBp",
        "colab_type": "code",
        "colab": {
          "base_uri": "https://localhost:8080/",
          "height": 34
        },
        "outputId": "032932bf-4f70-4bb4-b4ff-a351b4c3023f"
      },
      "source": [
        "set(train_emotion)"
      ],
      "execution_count": 47,
      "outputs": [
        {
          "output_type": "execute_result",
          "data": {
            "text/plain": [
              "{0, 1, 2, 3, 4, 5, 6, 7}"
            ]
          },
          "metadata": {
            "tags": []
          },
          "execution_count": 47
        }
      ]
    },
    {
      "cell_type": "code",
      "metadata": {
        "id": "Fu03smcsWwGL",
        "colab_type": "code",
        "colab": {
          "base_uri": "https://localhost:8080/",
          "height": 34
        },
        "outputId": "7802a555-fd35-47b8-e63b-b4a86b0ca2b0"
      },
      "source": [
        "train_emotion[:3]"
      ],
      "execution_count": 48,
      "outputs": [
        {
          "output_type": "execute_result",
          "data": {
            "text/plain": [
              "array([0, 0, 0])"
            ]
          },
          "metadata": {
            "tags": []
          },
          "execution_count": 48
        }
      ]
    },
    {
      "cell_type": "code",
      "metadata": {
        "id": "K3MTUr9bWoE8",
        "colab_type": "code",
        "colab": {}
      },
      "source": [
        "#tf.one_hot(train_emotion[:3], 7)"
      ],
      "execution_count": 49,
      "outputs": []
    },
    {
      "cell_type": "code",
      "metadata": {
        "id": "77CYCG_j0AGI",
        "colab_type": "code",
        "colab": {}
      },
      "source": [
        "import numpy as np\n",
        "\n",
        "train_utterance_padded = np.array(train_utterance_padded)\n",
        "train_emotion = np.array(train_emotion)\n",
        "validation_utterance_padded = np.array(validation_utterance_padded)\n",
        "validation_emotion = np.array(validation_emotion)"
      ],
      "execution_count": 50,
      "outputs": []
    },
    {
      "cell_type": "code",
      "metadata": {
        "id": "nsqTev6KzuBc",
        "colab_type": "code",
        "colab": {
          "base_uri": "https://localhost:8080/",
          "height": 527
        },
        "outputId": "24fccb13-e582-41e5-90d2-d57b00020670"
      },
      "source": [
        "train_utterance_padded[:3]"
      ],
      "execution_count": 52,
      "outputs": [
        {
          "output_type": "execute_result",
          "data": {
            "text/plain": [
              "array([[411,   2,  36,   4, 763, 442,  30,  21,   1,   1, 128,   4,   1,\n",
              "          1,   5,   1, 906, 907,   0,   0,   0,   0,   0,   0,   0,   0,\n",
              "          0,   0,   0,   0,   0,   0,   0,   0,   0,   0,   0,   0,   0,\n",
              "          0,   0,   0,   0,   0,   0,   0,   0,   0,   0,   0,   0,   0,\n",
              "          0,   0,   0,   0,   0,   0,   0,   0,   0,   0,   0,   0,   0,\n",
              "          0,   0,   0,   0,   0,   0,   0,   0,   0,   0,   0,   0,   0,\n",
              "          0,   0,   0,   0,   0,   0,   0,   0,   0,   0,   0,   0,   0,\n",
              "          0,   0,   0,   0,   0,   0,   0,   0,   0,   0,   0,   0,   0,\n",
              "          0,   0,   0,   0,   0,   0,   0,   0,   0,   0,   0,   0,   0,\n",
              "          0,   0,   0],\n",
              "       [  3, 908, 103,  41, 710, 828,   0,   0,   0,   0,   0,   0,   0,\n",
              "          0,   0,   0,   0,   0,   0,   0,   0,   0,   0,   0,   0,   0,\n",
              "          0,   0,   0,   0,   0,   0,   0,   0,   0,   0,   0,   0,   0,\n",
              "          0,   0,   0,   0,   0,   0,   0,   0,   0,   0,   0,   0,   0,\n",
              "          0,   0,   0,   0,   0,   0,   0,   0,   0,   0,   0,   0,   0,\n",
              "          0,   0,   0,   0,   0,   0,   0,   0,   0,   0,   0,   0,   0,\n",
              "          0,   0,   0,   0,   0,   0,   0,   0,   0,   0,   0,   0,   0,\n",
              "          0,   0,   0,   0,   0,   0,   0,   0,   0,   0,   0,   0,   0,\n",
              "          0,   0,   0,   0,   0,   0,   0,   0,   0,   0,   0,   0,   0,\n",
              "          0,   0,   0],\n",
              "       [ 10,   2,  74,  10,   2,  74,   0,   0,   0,   0,   0,   0,   0,\n",
              "          0,   0,   0,   0,   0,   0,   0,   0,   0,   0,   0,   0,   0,\n",
              "          0,   0,   0,   0,   0,   0,   0,   0,   0,   0,   0,   0,   0,\n",
              "          0,   0,   0,   0,   0,   0,   0,   0,   0,   0,   0,   0,   0,\n",
              "          0,   0,   0,   0,   0,   0,   0,   0,   0,   0,   0,   0,   0,\n",
              "          0,   0,   0,   0,   0,   0,   0,   0,   0,   0,   0,   0,   0,\n",
              "          0,   0,   0,   0,   0,   0,   0,   0,   0,   0,   0,   0,   0,\n",
              "          0,   0,   0,   0,   0,   0,   0,   0,   0,   0,   0,   0,   0,\n",
              "          0,   0,   0,   0,   0,   0,   0,   0,   0,   0,   0,   0,   0,\n",
              "          0,   0,   0]], dtype=int32)"
            ]
          },
          "metadata": {
            "tags": []
          },
          "execution_count": 52
        }
      ]
    },
    {
      "cell_type": "code",
      "metadata": {
        "id": "asJDMicFzqrs",
        "colab_type": "code",
        "colab": {
          "base_uri": "https://localhost:8080/",
          "height": 34
        },
        "outputId": "ebf3b2d6-d912-4ea8-9248-a87d618d2398"
      },
      "source": [
        "train_emotion[:3]"
      ],
      "execution_count": 51,
      "outputs": [
        {
          "output_type": "execute_result",
          "data": {
            "text/plain": [
              "array([0, 0, 0])"
            ]
          },
          "metadata": {
            "tags": []
          },
          "execution_count": 51
        }
      ]
    },
    {
      "cell_type": "markdown",
      "metadata": {
        "id": "RPmsjmi36mxP",
        "colab_type": "text"
      },
      "source": [
        "### Compile and Fit Model"
      ]
    },
    {
      "cell_type": "code",
      "metadata": {
        "id": "pg-gM-Q3VH5x",
        "colab_type": "code",
        "colab": {
          "base_uri": "https://localhost:8080/",
          "height": 1000
        },
        "outputId": "d89f1a8a-be57-4eb7-d106-1e49ed6413b5"
      },
      "source": [
        "num_epochs = 50\n",
        "\n",
        "history = model.fit(train_utterance_padded, train_emotion, epochs=num_epochs,\\\n",
        "                    validation_data=(validation_utterance_padded, validation_emotion),\\\n",
        "                    verbose=1, callbacks=[my_callback])"
      ],
      "execution_count": 63,
      "outputs": [
        {
          "output_type": "stream",
          "text": [
            "Epoch 1/50\n",
            "328/331 [============================>.] - ETA: 0s - loss: 1.2584 - accuracy: 0.5590\n",
            "Epoch 00001: val_loss did not improve from 1.55311\n",
            "331/331 [==============================] - 4s 13ms/step - loss: 1.2579 - accuracy: 0.5595 - val_loss: 1.5921 - val_accuracy: 0.4601\n",
            "Epoch 2/50\n",
            "330/331 [============================>.] - ETA: 0s - loss: 1.2459 - accuracy: 0.5632\n",
            "Epoch 00002: val_loss did not improve from 1.55311\n",
            "331/331 [==============================] - 4s 12ms/step - loss: 1.2461 - accuracy: 0.5631 - val_loss: 1.5830 - val_accuracy: 0.4406\n",
            "Epoch 3/50\n",
            "329/331 [============================>.] - ETA: 0s - loss: 1.2314 - accuracy: 0.5682\n",
            "Epoch 00003: val_loss did not improve from 1.55311\n",
            "331/331 [==============================] - 4s 13ms/step - loss: 1.2321 - accuracy: 0.5678 - val_loss: 1.5830 - val_accuracy: 0.4287\n",
            "Epoch 4/50\n",
            "328/331 [============================>.] - ETA: 0s - loss: 1.2209 - accuracy: 0.5723\n",
            "Epoch 00004: val_loss did not improve from 1.55311\n",
            "331/331 [==============================] - 4s 13ms/step - loss: 1.2227 - accuracy: 0.5721 - val_loss: 1.6064 - val_accuracy: 0.4363\n",
            "Epoch 5/50\n",
            "328/331 [============================>.] - ETA: 0s - loss: 1.2020 - accuracy: 0.5740\n",
            "Epoch 00005: val_loss did not improve from 1.55311\n",
            "331/331 [==============================] - 4s 13ms/step - loss: 1.2009 - accuracy: 0.5747 - val_loss: 1.6517 - val_accuracy: 0.4295\n",
            "Epoch 6/50\n",
            "329/331 [============================>.] - ETA: 0s - loss: 1.1891 - accuracy: 0.5806\n",
            "Epoch 00006: val_loss did not improve from 1.55311\n",
            "331/331 [==============================] - 4s 13ms/step - loss: 1.1895 - accuracy: 0.5806 - val_loss: 1.6517 - val_accuracy: 0.4474\n",
            "Epoch 7/50\n",
            "330/331 [============================>.] - ETA: 0s - loss: 1.1710 - accuracy: 0.5876\n",
            "Epoch 00007: val_loss did not improve from 1.55311\n",
            "331/331 [==============================] - 4s 13ms/step - loss: 1.1709 - accuracy: 0.5876 - val_loss: 1.7035 - val_accuracy: 0.4440\n",
            "Epoch 8/50\n",
            "331/331 [==============================] - ETA: 0s - loss: 1.1571 - accuracy: 0.5892\n",
            "Epoch 00008: val_loss did not improve from 1.55311\n",
            "331/331 [==============================] - 4s 13ms/step - loss: 1.1571 - accuracy: 0.5892 - val_loss: 1.6961 - val_accuracy: 0.4287\n",
            "Epoch 9/50\n",
            "327/331 [============================>.] - ETA: 0s - loss: 1.1393 - accuracy: 0.5959\n",
            "Epoch 00009: val_loss did not improve from 1.55311\n",
            "331/331 [==============================] - 4s 13ms/step - loss: 1.1399 - accuracy: 0.5957 - val_loss: 1.7549 - val_accuracy: 0.4372\n",
            "Epoch 10/50\n",
            "329/331 [============================>.] - ETA: 0s - loss: 1.1242 - accuracy: 0.6036\n",
            "Epoch 00010: val_loss did not improve from 1.55311\n",
            "331/331 [==============================] - 4s 13ms/step - loss: 1.1250 - accuracy: 0.6033 - val_loss: 1.7530 - val_accuracy: 0.4270\n",
            "Epoch 11/50\n",
            "331/331 [==============================] - ETA: 0s - loss: 1.1150 - accuracy: 0.6017\n",
            "Epoch 00011: val_loss did not improve from 1.55311\n",
            "331/331 [==============================] - 4s 13ms/step - loss: 1.1150 - accuracy: 0.6017 - val_loss: 1.7986 - val_accuracy: 0.4244\n",
            "Epoch 12/50\n",
            "329/331 [============================>.] - ETA: 0s - loss: 1.1024 - accuracy: 0.6064\n",
            "Epoch 00012: val_loss did not improve from 1.55311\n",
            "331/331 [==============================] - 4s 13ms/step - loss: 1.1029 - accuracy: 0.6064 - val_loss: 1.8015 - val_accuracy: 0.4321\n",
            "Epoch 13/50\n",
            "330/331 [============================>.] - ETA: 0s - loss: 1.0798 - accuracy: 0.6154\n",
            "Epoch 00013: val_loss did not improve from 1.55311\n",
            "331/331 [==============================] - 4s 12ms/step - loss: 1.0798 - accuracy: 0.6155 - val_loss: 1.8574 - val_accuracy: 0.4194\n",
            "Epoch 14/50\n",
            "327/331 [============================>.] - ETA: 0s - loss: 1.0675 - accuracy: 0.6201\n",
            "Epoch 00014: val_loss did not improve from 1.55311\n",
            "331/331 [==============================] - 4s 13ms/step - loss: 1.0713 - accuracy: 0.6192 - val_loss: 1.8649 - val_accuracy: 0.4287\n",
            "Epoch 15/50\n",
            "331/331 [==============================] - ETA: 0s - loss: 1.0595 - accuracy: 0.6183\n",
            "Epoch 00015: val_loss did not improve from 1.55311\n",
            "331/331 [==============================] - 4s 13ms/step - loss: 1.0595 - accuracy: 0.6183 - val_loss: 1.9424 - val_accuracy: 0.4228\n",
            "Epoch 16/50\n",
            "329/331 [============================>.] - ETA: 0s - loss: 1.0416 - accuracy: 0.6251\n",
            "Epoch 00016: val_loss did not improve from 1.55311\n",
            "331/331 [==============================] - 4s 13ms/step - loss: 1.0422 - accuracy: 0.6249 - val_loss: 1.9757 - val_accuracy: 0.4270\n",
            "Epoch 17/50\n",
            "328/331 [============================>.] - ETA: 0s - loss: 1.0315 - accuracy: 0.6292\n",
            "Epoch 00017: val_loss did not improve from 1.55311\n",
            "331/331 [==============================] - 4s 13ms/step - loss: 1.0309 - accuracy: 0.6292 - val_loss: 2.0025 - val_accuracy: 0.4194\n",
            "Epoch 18/50\n",
            "329/331 [============================>.] - ETA: 0s - loss: 1.0223 - accuracy: 0.6326\n",
            "Epoch 00018: val_loss did not improve from 1.55311\n",
            "331/331 [==============================] - 4s 13ms/step - loss: 1.0226 - accuracy: 0.6324 - val_loss: 2.0256 - val_accuracy: 0.4338\n",
            "Epoch 19/50\n",
            "329/331 [============================>.] - ETA: 0s - loss: 1.0103 - accuracy: 0.6364\n",
            "Epoch 00019: val_loss did not improve from 1.55311\n",
            "331/331 [==============================] - 4s 13ms/step - loss: 1.0102 - accuracy: 0.6364 - val_loss: 2.1135 - val_accuracy: 0.4253\n",
            "Epoch 20/50\n",
            "330/331 [============================>.] - ETA: 0s - loss: 1.0028 - accuracy: 0.6370\n",
            "Epoch 00020: val_loss did not improve from 1.55311\n",
            "331/331 [==============================] - 4s 12ms/step - loss: 1.0027 - accuracy: 0.6371 - val_loss: 2.0893 - val_accuracy: 0.4194\n",
            "Epoch 21/50\n",
            "331/331 [==============================] - ETA: 0s - loss: 0.9866 - accuracy: 0.6434\n",
            "Epoch 00021: val_loss did not improve from 1.55311\n",
            "331/331 [==============================] - 4s 12ms/step - loss: 0.9866 - accuracy: 0.6434 - val_loss: 2.2914 - val_accuracy: 0.4287\n",
            "Epoch 22/50\n",
            "330/331 [============================>.] - ETA: 0s - loss: 0.9812 - accuracy: 0.6445\n",
            "Epoch 00022: val_loss did not improve from 1.55311\n",
            "331/331 [==============================] - 4s 12ms/step - loss: 0.9811 - accuracy: 0.6445 - val_loss: 2.3061 - val_accuracy: 0.4160\n",
            "Epoch 23/50\n",
            "329/331 [============================>.] - ETA: 0s - loss: 0.9709 - accuracy: 0.6511\n",
            "Epoch 00023: val_loss did not improve from 1.55311\n",
            "331/331 [==============================] - 4s 12ms/step - loss: 0.9707 - accuracy: 0.6511 - val_loss: 2.2041 - val_accuracy: 0.4126\n",
            "Epoch 24/50\n",
            "330/331 [============================>.] - ETA: 0s - loss: 0.9602 - accuracy: 0.6507\n",
            "Epoch 00024: val_loss did not improve from 1.55311\n",
            "331/331 [==============================] - 4s 12ms/step - loss: 0.9602 - accuracy: 0.6507 - val_loss: 2.4223 - val_accuracy: 0.4228\n",
            "Epoch 25/50\n",
            "327/331 [============================>.] - ETA: 0s - loss: 0.9418 - accuracy: 0.6580\n",
            "Epoch 00025: val_loss did not improve from 1.55311\n",
            "331/331 [==============================] - 4s 13ms/step - loss: 0.9416 - accuracy: 0.6579 - val_loss: 2.4699 - val_accuracy: 0.4295\n",
            "Epoch 26/50\n",
            "330/331 [============================>.] - ETA: 0s - loss: 0.9379 - accuracy: 0.6583\n",
            "Epoch 00026: val_loss did not improve from 1.55311\n",
            "331/331 [==============================] - 4s 13ms/step - loss: 0.9379 - accuracy: 0.6583 - val_loss: 2.4687 - val_accuracy: 0.4117\n",
            "Epoch 27/50\n",
            "328/331 [============================>.] - ETA: 0s - loss: 0.9186 - accuracy: 0.6643\n",
            "Epoch 00027: val_loss did not improve from 1.55311\n",
            "331/331 [==============================] - 4s 13ms/step - loss: 0.9182 - accuracy: 0.6643 - val_loss: 2.6755 - val_accuracy: 0.4075\n",
            "Epoch 28/50\n",
            "330/331 [============================>.] - ETA: 0s - loss: 0.9234 - accuracy: 0.6656\n",
            "Epoch 00028: val_loss did not improve from 1.55311\n",
            "331/331 [==============================] - 4s 13ms/step - loss: 0.9234 - accuracy: 0.6657 - val_loss: 2.5624 - val_accuracy: 0.4177\n",
            "Epoch 29/50\n",
            "331/331 [==============================] - ETA: 0s - loss: 0.9155 - accuracy: 0.6696\n",
            "Epoch 00029: val_loss did not improve from 1.55311\n",
            "331/331 [==============================] - 4s 13ms/step - loss: 0.9155 - accuracy: 0.6696 - val_loss: 2.5842 - val_accuracy: 0.4066\n",
            "Epoch 30/50\n",
            "331/331 [==============================] - ETA: 0s - loss: 0.9017 - accuracy: 0.6744\n",
            "Epoch 00030: val_loss did not improve from 1.55311\n",
            "331/331 [==============================] - 4s 13ms/step - loss: 0.9017 - accuracy: 0.6744 - val_loss: 2.6868 - val_accuracy: 0.4066\n",
            "Epoch 31/50\n",
            "329/331 [============================>.] - ETA: 0s - loss: 0.8943 - accuracy: 0.6788\n",
            "Epoch 00031: val_loss did not improve from 1.55311\n",
            "331/331 [==============================] - 4s 13ms/step - loss: 0.8940 - accuracy: 0.6788 - val_loss: 2.7395 - val_accuracy: 0.4075\n",
            "Epoch 32/50\n",
            "328/331 [============================>.] - ETA: 0s - loss: 0.8845 - accuracy: 0.6784\n",
            "Epoch 00032: val_loss did not improve from 1.55311\n",
            "331/331 [==============================] - 4s 13ms/step - loss: 0.8863 - accuracy: 0.6774 - val_loss: 2.7839 - val_accuracy: 0.4126\n",
            "Epoch 33/50\n",
            "329/331 [============================>.] - ETA: 0s - loss: 0.8726 - accuracy: 0.6815\n",
            "Epoch 00033: val_loss did not improve from 1.55311\n",
            "331/331 [==============================] - 4s 13ms/step - loss: 0.8724 - accuracy: 0.6818 - val_loss: 2.8376 - val_accuracy: 0.4066\n",
            "Epoch 34/50\n",
            "330/331 [============================>.] - ETA: 0s - loss: 0.8590 - accuracy: 0.6881\n",
            "Epoch 00034: val_loss did not improve from 1.55311\n",
            "331/331 [==============================] - 4s 12ms/step - loss: 0.8591 - accuracy: 0.6880 - val_loss: 2.7322 - val_accuracy: 0.4151\n",
            "Epoch 35/50\n",
            "327/331 [============================>.] - ETA: 0s - loss: 0.8808 - accuracy: 0.6815\n",
            "Epoch 00035: val_loss did not improve from 1.55311\n",
            "331/331 [==============================] - 4s 12ms/step - loss: 0.8820 - accuracy: 0.6811 - val_loss: 2.8163 - val_accuracy: 0.4015\n",
            "Epoch 36/50\n",
            "331/331 [==============================] - ETA: 0s - loss: 0.8635 - accuracy: 0.6866\n",
            "Epoch 00036: val_loss did not improve from 1.55311\n",
            "331/331 [==============================] - 4s 12ms/step - loss: 0.8635 - accuracy: 0.6866 - val_loss: 2.8947 - val_accuracy: 0.4049\n",
            "Epoch 37/50\n",
            "331/331 [==============================] - ETA: 0s - loss: 0.8473 - accuracy: 0.6901\n",
            "Epoch 00037: val_loss did not improve from 1.55311\n",
            "331/331 [==============================] - 4s 12ms/step - loss: 0.8473 - accuracy: 0.6901 - val_loss: 2.8469 - val_accuracy: 0.3998\n",
            "Epoch 38/50\n",
            "327/331 [============================>.] - ETA: 0s - loss: 0.8506 - accuracy: 0.6910\n",
            "Epoch 00038: val_loss did not improve from 1.55311\n",
            "331/331 [==============================] - 4s 12ms/step - loss: 0.8500 - accuracy: 0.6914 - val_loss: 3.0970 - val_accuracy: 0.3998\n",
            "Epoch 39/50\n",
            "331/331 [==============================] - ETA: 0s - loss: 0.8373 - accuracy: 0.6981\n",
            "Epoch 00039: val_loss did not improve from 1.55311\n",
            "331/331 [==============================] - 4s 12ms/step - loss: 0.8373 - accuracy: 0.6981 - val_loss: 3.0825 - val_accuracy: 0.3990\n",
            "Epoch 40/50\n",
            "329/331 [============================>.] - ETA: 0s - loss: 0.8213 - accuracy: 0.7040\n",
            "Epoch 00040: val_loss did not improve from 1.55311\n",
            "331/331 [==============================] - 4s 12ms/step - loss: 0.8213 - accuracy: 0.7039 - val_loss: 3.2109 - val_accuracy: 0.4024\n",
            "Epoch 41/50\n",
            "329/331 [============================>.] - ETA: 0s - loss: 0.8195 - accuracy: 0.7006\n",
            "Epoch 00041: val_loss did not improve from 1.55311\n",
            "331/331 [==============================] - 4s 12ms/step - loss: 0.8188 - accuracy: 0.7010 - val_loss: 3.2228 - val_accuracy: 0.3930\n",
            "Epoch 42/50\n",
            "329/331 [============================>.] - ETA: 0s - loss: 0.8995 - accuracy: 0.6738\n",
            "Epoch 00042: val_loss did not improve from 1.55311\n",
            "331/331 [==============================] - 4s 12ms/step - loss: 0.9006 - accuracy: 0.6738 - val_loss: 2.7552 - val_accuracy: 0.4066\n",
            "Epoch 43/50\n",
            "331/331 [==============================] - ETA: 0s - loss: 0.8833 - accuracy: 0.6754\n",
            "Epoch 00043: val_loss did not improve from 1.55311\n",
            "331/331 [==============================] - 4s 12ms/step - loss: 0.8833 - accuracy: 0.6754 - val_loss: 2.9307 - val_accuracy: 0.4083\n",
            "Epoch 44/50\n",
            "327/331 [============================>.] - ETA: 0s - loss: 0.8322 - accuracy: 0.6919\n",
            "Epoch 00044: val_loss did not improve from 1.55311\n",
            "331/331 [==============================] - 4s 12ms/step - loss: 0.8323 - accuracy: 0.6916 - val_loss: 3.1362 - val_accuracy: 0.4032\n",
            "Epoch 45/50\n",
            "331/331 [==============================] - ETA: 0s - loss: 0.7965 - accuracy: 0.7130\n",
            "Epoch 00045: val_loss did not improve from 1.55311\n",
            "331/331 [==============================] - 4s 12ms/step - loss: 0.7965 - accuracy: 0.7130 - val_loss: 3.3840 - val_accuracy: 0.3956\n",
            "Epoch 46/50\n",
            "328/331 [============================>.] - ETA: 0s - loss: 0.7845 - accuracy: 0.7096\n",
            "Epoch 00046: val_loss did not improve from 1.55311\n",
            "331/331 [==============================] - 4s 12ms/step - loss: 0.7841 - accuracy: 0.7097 - val_loss: 3.4729 - val_accuracy: 0.3998\n",
            "Epoch 47/50\n",
            "328/331 [============================>.] - ETA: 0s - loss: 0.7875 - accuracy: 0.7107\n",
            "Epoch 00047: val_loss did not improve from 1.55311\n",
            "331/331 [==============================] - 4s 12ms/step - loss: 0.7871 - accuracy: 0.7109 - val_loss: 3.5434 - val_accuracy: 0.3964\n",
            "Epoch 48/50\n",
            "331/331 [==============================] - ETA: 0s - loss: 0.7735 - accuracy: 0.7167\n",
            "Epoch 00048: val_loss did not improve from 1.55311\n",
            "331/331 [==============================] - 4s 12ms/step - loss: 0.7735 - accuracy: 0.7167 - val_loss: 3.6190 - val_accuracy: 0.4015\n",
            "Epoch 49/50\n",
            "327/331 [============================>.] - ETA: 0s - loss: 0.7672 - accuracy: 0.7174\n",
            "Epoch 00049: val_loss did not improve from 1.55311\n",
            "331/331 [==============================] - 4s 13ms/step - loss: 0.7673 - accuracy: 0.7175 - val_loss: 3.6652 - val_accuracy: 0.3896\n",
            "Epoch 50/50\n",
            "329/331 [============================>.] - ETA: 0s - loss: 0.7618 - accuracy: 0.7218\n",
            "Epoch 00050: val_loss did not improve from 1.55311\n",
            "331/331 [==============================] - 4s 13ms/step - loss: 0.7628 - accuracy: 0.7212 - val_loss: 3.7479 - val_accuracy: 0.4015\n"
          ],
          "name": "stdout"
        }
      ]
    },
    {
      "cell_type": "markdown",
      "metadata": {
        "id": "RNnR64wELU3Z",
        "colab_type": "text"
      },
      "source": [
        "### Store the history object to disk \n",
        "So we can plot anytime without retraining this model\n",
        "\n",
        "https://stackoverflow.com/questions/11218477/how-can-i-use-pickle-to-save-a-dict  \n",
        "https://stackoverflow.com/questions/23582489/python-pickle-protocol-choice"
      ]
    },
    {
      "cell_type": "code",
      "metadata": {
        "id": "TB9Kjx2ZLVAF",
        "colab_type": "code",
        "colab": {}
      },
      "source": [
        "#Write history to disk\n",
        "with open('Friends-The-One-With-Deep-Learning-v1.history.pickle', 'wb') as handle:\n",
        "    pickle.dump(history.history, handle, protocol=pickle.HIGHEST_PROTOCOL)\n",
        "\n",
        "#Read history from disk\n",
        "#with open('Cassava-Disease-Classification-v1.history.pickle', 'rb') as handle:\n",
        "#    history = pickle.load(handle)"
      ],
      "execution_count": 64,
      "outputs": []
    },
    {
      "cell_type": "markdown",
      "metadata": {
        "id": "bU7jx1Kb6asB",
        "colab_type": "text"
      },
      "source": [
        "### Plot traning and validation accuracy and loss"
      ]
    },
    {
      "cell_type": "code",
      "metadata": {
        "id": "5cp8--uY3UeT",
        "colab_type": "code",
        "colab": {
          "base_uri": "https://localhost:8080/",
          "height": 839
        },
        "outputId": "4d447457-09f3-40ec-ebbc-6609fc91ea71"
      },
      "source": [
        "version = ['v1']\n",
        "history_file_path = ['Friends-The-One-With-Deep-Learning-v1.history.pickle']\n",
        "plot_training_validation_accuracy_loss(version, history_file_path)"
      ],
      "execution_count": 66,
      "outputs": [
        {
          "output_type": "display_data",
          "data": {
            "image/png": "[encoded data removed]",
            "text/plain": [
              "<Figure size 1440x1008 with 2 Axes>"
            ]
          },
          "metadata": {
            "tags": [],
            "needs_background": "light"
          }
        }
      ]
    },
    {
      "cell_type": "markdown",
      "metadata": {
        "colab_type": "text",
        "id": "YnQlc1j47MZP"
      },
      "source": [
        "# v2 - Emotion Detection with our own Embedding + Bi LSTM(64), Bi LSTM(32) - 0.1M parameters 71% training, 39% validation accuracy"
      ]
    },
    {
      "cell_type": "markdown",
      "metadata": {
        "colab_type": "text",
        "id": "reKWa63d7MZQ"
      },
      "source": [
        "### Model Definition"
      ]
    },
    {
      "cell_type": "code",
      "metadata": {
        "colab_type": "code",
        "id": "4MlNwoOt7MZQ",
        "colab": {
          "base_uri": "https://localhost:8080/",
          "height": 391
        },
        "outputId": "98ce936f-4b94-44cf-cc0e-edcb8a2fcde1"
      },
      "source": [
        "model = tf.keras.Sequential([\n",
        "    tf.keras.layers.Embedding(vocab_size, embedding_dim, input_length=max_length),\n",
        "    tf.keras.layers.Bidirectional(tf.keras.layers.LSTM(64, return_sequences=True)),\n",
        "    tf.keras.layers.Bidirectional(tf.keras.layers.LSTM(32)),\n",
        "    tf.keras.layers.Dropout(0.2),\n",
        "    tf.keras.layers.Dense(24, activation='relu'),\n",
        "    tf.keras.layers.Dropout(0.2),\n",
        "    tf.keras.layers.Dense(num_classes, activation='softmax')\n",
        "])\n",
        "model.compile(loss='sparse_categorical_crossentropy',optimizer='adam',metrics=['accuracy'])\n",
        "model.summary()"
      ],
      "execution_count": 79,
      "outputs": [
        {
          "output_type": "stream",
          "text": [
            "Model: \"sequential_4\"\n",
            "_________________________________________________________________\n",
            "Layer (type)                 Output Shape              Param #   \n",
            "=================================================================\n",
            "embedding_4 (Embedding)      (None, 120, 16)           16000     \n",
            "_________________________________________________________________\n",
            "bidirectional_4 (Bidirection (None, 120, 128)          41472     \n",
            "_________________________________________________________________\n",
            "bidirectional_5 (Bidirection (None, 64)                41216     \n",
            "_________________________________________________________________\n",
            "dropout_5 (Dropout)          (None, 64)                0         \n",
            "_________________________________________________________________\n",
            "dense_8 (Dense)              (None, 24)                1560      \n",
            "_________________________________________________________________\n",
            "dropout_6 (Dropout)          (None, 24)                0         \n",
            "_________________________________________________________________\n",
            "dense_9 (Dense)              (None, 8)                 200       \n",
            "=================================================================\n",
            "Total params: 100,448\n",
            "Trainable params: 100,448\n",
            "Non-trainable params: 0\n",
            "_________________________________________________________________\n"
          ],
          "name": "stdout"
        }
      ]
    },
    {
      "cell_type": "markdown",
      "metadata": {
        "colab_type": "text",
        "id": "G3teKwjY7MZT"
      },
      "source": [
        "### Compile and Fit Model"
      ]
    },
    {
      "cell_type": "code",
      "metadata": {
        "colab_type": "code",
        "id": "H7ljasdn7MZT",
        "colab": {}
      },
      "source": [
        "model.compile(loss='sparse_categorical_crossentropy', optimizer='adam', metrics=['accuracy'])"
      ],
      "execution_count": 80,
      "outputs": []
    },
    {
      "cell_type": "code",
      "metadata": {
        "colab_type": "code",
        "id": "2AhJskWm7MZU",
        "colab": {}
      },
      "source": [
        "checkpoint_filepath = 'Friends-The-One-With-Deep-Learning-v2.h5'\n",
        "my_callback = tf.keras.callbacks.ModelCheckpoint(checkpoint_filepath, verbose=1, \n",
        "                                        save_weights_only=True, monitor='val_loss', \n",
        "                                        mode='auto', save_best_only=True)"
      ],
      "execution_count": 81,
      "outputs": []
    },
    {
      "cell_type": "code",
      "metadata": {
        "colab_type": "code",
        "id": "8_wD0o2X7MZW",
        "colab": {
          "base_uri": "https://localhost:8080/",
          "height": 1000
        },
        "outputId": "c5460a50-6d7a-4f07-fdbe-00fd60f41c9f"
      },
      "source": [
        "num_epochs = 50\n",
        "\n",
        "history = model.fit(train_utterance_padded, train_emotion, epochs=num_epochs,\\\n",
        "                    validation_data=(validation_utterance_padded, validation_emotion),\\\n",
        "                    verbose=1, callbacks=[my_callback])"
      ],
      "execution_count": 82,
      "outputs": [
        {
          "output_type": "stream",
          "text": [
            "Epoch 1/50\n",
            "331/331 [==============================] - ETA: 0s - loss: 1.6485 - accuracy: 0.4415\n",
            "Epoch 00001: val_loss improved from inf to 1.63160, saving model to Friends-The-One-With-Deep-Learning-v2.h5\n",
            "331/331 [==============================] - 9s 27ms/step - loss: 1.6485 - accuracy: 0.4415 - val_loss: 1.6316 - val_accuracy: 0.4185\n",
            "Epoch 2/50\n",
            "331/331 [==============================] - ETA: 0s - loss: 1.5156 - accuracy: 0.4813\n",
            "Epoch 00002: val_loss improved from 1.63160 to 1.57851, saving model to Friends-The-One-With-Deep-Learning-v2.h5\n",
            "331/331 [==============================] - 8s 23ms/step - loss: 1.5156 - accuracy: 0.4813 - val_loss: 1.5785 - val_accuracy: 0.4321\n",
            "Epoch 3/50\n",
            "330/331 [============================>.] - ETA: 0s - loss: 1.4531 - accuracy: 0.4975\n",
            "Epoch 00003: val_loss did not improve from 1.57851\n",
            "331/331 [==============================] - 8s 23ms/step - loss: 1.4530 - accuracy: 0.4976 - val_loss: 1.5832 - val_accuracy: 0.4363\n",
            "Epoch 4/50\n",
            "329/331 [============================>.] - ETA: 0s - loss: 1.4203 - accuracy: 0.5069\n",
            "Epoch 00004: val_loss improved from 1.57851 to 1.56854, saving model to Friends-The-One-With-Deep-Learning-v2.h5\n",
            "331/331 [==============================] - 8s 23ms/step - loss: 1.4204 - accuracy: 0.5068 - val_loss: 1.5685 - val_accuracy: 0.4346\n",
            "Epoch 5/50\n",
            "330/331 [============================>.] - ETA: 0s - loss: 1.4071 - accuracy: 0.5116\n",
            "Epoch 00005: val_loss did not improve from 1.56854\n",
            "331/331 [==============================] - 8s 23ms/step - loss: 1.4070 - accuracy: 0.5117 - val_loss: 1.5767 - val_accuracy: 0.4414\n",
            "Epoch 6/50\n",
            "330/331 [============================>.] - ETA: 0s - loss: 1.3934 - accuracy: 0.5114\n",
            "Epoch 00006: val_loss did not improve from 1.56854\n",
            "331/331 [==============================] - 8s 23ms/step - loss: 1.3936 - accuracy: 0.5113 - val_loss: 1.5793 - val_accuracy: 0.4372\n",
            "Epoch 7/50\n",
            "329/331 [============================>.] - ETA: 0s - loss: 1.3829 - accuracy: 0.5145\n",
            "Epoch 00007: val_loss did not improve from 1.56854\n",
            "331/331 [==============================] - 8s 23ms/step - loss: 1.3824 - accuracy: 0.5147 - val_loss: 1.5939 - val_accuracy: 0.4329\n",
            "Epoch 8/50\n",
            "330/331 [============================>.] - ETA: 0s - loss: 1.3531 - accuracy: 0.5189\n",
            "Epoch 00008: val_loss improved from 1.56854 to 1.56607, saving model to Friends-The-One-With-Deep-Learning-v2.h5\n",
            "331/331 [==============================] - 8s 23ms/step - loss: 1.3531 - accuracy: 0.5189 - val_loss: 1.5661 - val_accuracy: 0.4346\n",
            "Epoch 9/50\n",
            "330/331 [============================>.] - ETA: 0s - loss: 1.3329 - accuracy: 0.5330\n",
            "Epoch 00009: val_loss did not improve from 1.56607\n",
            "331/331 [==============================] - 8s 23ms/step - loss: 1.3329 - accuracy: 0.5331 - val_loss: 1.5889 - val_accuracy: 0.4499\n",
            "Epoch 10/50\n",
            "330/331 [============================>.] - ETA: 0s - loss: 1.3058 - accuracy: 0.5398\n",
            "Epoch 00010: val_loss did not improve from 1.56607\n",
            "331/331 [==============================] - 8s 23ms/step - loss: 1.3058 - accuracy: 0.5397 - val_loss: 1.5708 - val_accuracy: 0.4542\n",
            "Epoch 11/50\n",
            "331/331 [==============================] - ETA: 0s - loss: 1.2864 - accuracy: 0.5495\n",
            "Epoch 00011: val_loss did not improve from 1.56607\n",
            "331/331 [==============================] - 8s 24ms/step - loss: 1.2864 - accuracy: 0.5495 - val_loss: 1.5841 - val_accuracy: 0.4465\n",
            "Epoch 12/50\n",
            "331/331 [==============================] - ETA: 0s - loss: 1.2696 - accuracy: 0.5567\n",
            "Epoch 00012: val_loss did not improve from 1.56607\n",
            "331/331 [==============================] - 8s 23ms/step - loss: 1.2696 - accuracy: 0.5567 - val_loss: 1.5898 - val_accuracy: 0.4406\n",
            "Epoch 13/50\n",
            "329/331 [============================>.] - ETA: 0s - loss: 1.2473 - accuracy: 0.5599\n",
            "Epoch 00013: val_loss did not improve from 1.56607\n",
            "331/331 [==============================] - 8s 23ms/step - loss: 1.2473 - accuracy: 0.5600 - val_loss: 1.5963 - val_accuracy: 0.4380\n",
            "Epoch 14/50\n",
            "329/331 [============================>.] - ETA: 0s - loss: 1.2363 - accuracy: 0.5715\n",
            "Epoch 00014: val_loss did not improve from 1.56607\n",
            "331/331 [==============================] - 8s 23ms/step - loss: 1.2371 - accuracy: 0.5713 - val_loss: 1.6149 - val_accuracy: 0.4346\n",
            "Epoch 15/50\n",
            "330/331 [============================>.] - ETA: 0s - loss: 1.2242 - accuracy: 0.5717\n",
            "Epoch 00015: val_loss did not improve from 1.56607\n",
            "331/331 [==============================] - 8s 23ms/step - loss: 1.2242 - accuracy: 0.5716 - val_loss: 1.6260 - val_accuracy: 0.4363\n",
            "Epoch 16/50\n",
            "330/331 [============================>.] - ETA: 0s - loss: 1.2117 - accuracy: 0.5771\n",
            "Epoch 00016: val_loss did not improve from 1.56607\n",
            "331/331 [==============================] - 8s 23ms/step - loss: 1.2116 - accuracy: 0.5771 - val_loss: 1.6294 - val_accuracy: 0.4414\n",
            "Epoch 17/50\n",
            "329/331 [============================>.] - ETA: 0s - loss: 1.1973 - accuracy: 0.5821\n",
            "Epoch 00017: val_loss did not improve from 1.56607\n",
            "331/331 [==============================] - 8s 23ms/step - loss: 1.1972 - accuracy: 0.5823 - val_loss: 1.6427 - val_accuracy: 0.4312\n",
            "Epoch 18/50\n",
            "329/331 [============================>.] - ETA: 0s - loss: 1.1714 - accuracy: 0.5924\n",
            "Epoch 00018: val_loss did not improve from 1.56607\n",
            "331/331 [==============================] - 8s 23ms/step - loss: 1.1721 - accuracy: 0.5921 - val_loss: 1.6611 - val_accuracy: 0.4236\n",
            "Epoch 19/50\n",
            "331/331 [==============================] - ETA: 0s - loss: 1.1597 - accuracy: 0.5991\n",
            "Epoch 00019: val_loss did not improve from 1.56607\n",
            "331/331 [==============================] - 8s 23ms/step - loss: 1.1597 - accuracy: 0.5991 - val_loss: 1.6953 - val_accuracy: 0.4295\n",
            "Epoch 20/50\n",
            "331/331 [==============================] - ETA: 0s - loss: 1.1488 - accuracy: 0.6034\n",
            "Epoch 00020: val_loss did not improve from 1.56607\n",
            "331/331 [==============================] - 8s 23ms/step - loss: 1.1488 - accuracy: 0.6034 - val_loss: 1.7011 - val_accuracy: 0.4244\n",
            "Epoch 21/50\n",
            "331/331 [==============================] - ETA: 0s - loss: 1.1319 - accuracy: 0.6077\n",
            "Epoch 00021: val_loss did not improve from 1.56607\n",
            "331/331 [==============================] - 7s 23ms/step - loss: 1.1319 - accuracy: 0.6077 - val_loss: 1.7455 - val_accuracy: 0.4228\n",
            "Epoch 22/50\n",
            "330/331 [============================>.] - ETA: 0s - loss: 1.1176 - accuracy: 0.6108\n",
            "Epoch 00022: val_loss did not improve from 1.56607\n",
            "331/331 [==============================] - 7s 23ms/step - loss: 1.1175 - accuracy: 0.6108 - val_loss: 1.7602 - val_accuracy: 0.4160\n",
            "Epoch 23/50\n",
            "330/331 [============================>.] - ETA: 0s - loss: 1.1027 - accuracy: 0.6176\n",
            "Epoch 00023: val_loss did not improve from 1.56607\n",
            "331/331 [==============================] - 8s 23ms/step - loss: 1.1029 - accuracy: 0.6176 - val_loss: 1.7968 - val_accuracy: 0.4177\n",
            "Epoch 24/50\n",
            "330/331 [============================>.] - ETA: 0s - loss: 1.0892 - accuracy: 0.6200\n",
            "Epoch 00024: val_loss did not improve from 1.56607\n",
            "331/331 [==============================] - 8s 23ms/step - loss: 1.0891 - accuracy: 0.6200 - val_loss: 1.7982 - val_accuracy: 0.4117\n",
            "Epoch 25/50\n",
            "329/331 [============================>.] - ETA: 0s - loss: 1.0666 - accuracy: 0.6295\n",
            "Epoch 00025: val_loss did not improve from 1.56607\n",
            "331/331 [==============================] - 8s 23ms/step - loss: 1.0669 - accuracy: 0.6293 - val_loss: 1.8774 - val_accuracy: 0.4126\n",
            "Epoch 26/50\n",
            "329/331 [============================>.] - ETA: 0s - loss: 1.0609 - accuracy: 0.6334\n",
            "Epoch 00026: val_loss did not improve from 1.56607\n",
            "331/331 [==============================] - 8s 23ms/step - loss: 1.0606 - accuracy: 0.6337 - val_loss: 1.8535 - val_accuracy: 0.4126\n",
            "Epoch 27/50\n",
            "329/331 [============================>.] - ETA: 0s - loss: 1.0424 - accuracy: 0.6369\n",
            "Epoch 00027: val_loss did not improve from 1.56607\n",
            "331/331 [==============================] - 8s 23ms/step - loss: 1.0421 - accuracy: 0.6372 - val_loss: 1.8637 - val_accuracy: 0.4228\n",
            "Epoch 28/50\n",
            "329/331 [============================>.] - ETA: 0s - loss: 1.0263 - accuracy: 0.6428\n",
            "Epoch 00028: val_loss did not improve from 1.56607\n",
            "331/331 [==============================] - 7s 23ms/step - loss: 1.0262 - accuracy: 0.6428 - val_loss: 1.8876 - val_accuracy: 0.4126\n",
            "Epoch 29/50\n",
            "330/331 [============================>.] - ETA: 0s - loss: 1.0165 - accuracy: 0.6476\n",
            "Epoch 00029: val_loss did not improve from 1.56607\n",
            "331/331 [==============================] - 7s 22ms/step - loss: 1.0166 - accuracy: 0.6476 - val_loss: 1.9825 - val_accuracy: 0.4126\n",
            "Epoch 30/50\n",
            "329/331 [============================>.] - ETA: 0s - loss: 1.0062 - accuracy: 0.6461\n",
            "Epoch 00030: val_loss did not improve from 1.56607\n",
            "331/331 [==============================] - 7s 22ms/step - loss: 1.0060 - accuracy: 0.6461 - val_loss: 1.9723 - val_accuracy: 0.4083\n",
            "Epoch 31/50\n",
            "330/331 [============================>.] - ETA: 0s - loss: 0.9954 - accuracy: 0.6583\n",
            "Epoch 00031: val_loss did not improve from 1.56607\n",
            "331/331 [==============================] - 8s 23ms/step - loss: 0.9955 - accuracy: 0.6583 - val_loss: 2.0164 - val_accuracy: 0.4083\n",
            "Epoch 32/50\n",
            "330/331 [============================>.] - ETA: 0s - loss: 0.9754 - accuracy: 0.6606\n",
            "Epoch 00032: val_loss did not improve from 1.56607\n",
            "331/331 [==============================] - 8s 23ms/step - loss: 0.9753 - accuracy: 0.6606 - val_loss: 1.9814 - val_accuracy: 0.4032\n",
            "Epoch 33/50\n",
            "331/331 [==============================] - ETA: 0s - loss: 0.9695 - accuracy: 0.6657\n",
            "Epoch 00033: val_loss did not improve from 1.56607\n",
            "331/331 [==============================] - 8s 23ms/step - loss: 0.9695 - accuracy: 0.6657 - val_loss: 2.0710 - val_accuracy: 0.4075\n",
            "Epoch 34/50\n",
            "329/331 [============================>.] - ETA: 0s - loss: 0.9545 - accuracy: 0.6691\n",
            "Epoch 00034: val_loss did not improve from 1.56607\n",
            "331/331 [==============================] - 8s 23ms/step - loss: 0.9549 - accuracy: 0.6686 - val_loss: 2.1270 - val_accuracy: 0.4058\n",
            "Epoch 35/50\n",
            "330/331 [============================>.] - ETA: 0s - loss: 0.9541 - accuracy: 0.6683\n",
            "Epoch 00035: val_loss did not improve from 1.56607\n",
            "331/331 [==============================] - 8s 24ms/step - loss: 0.9541 - accuracy: 0.6683 - val_loss: 2.1333 - val_accuracy: 0.4083\n",
            "Epoch 36/50\n",
            "331/331 [==============================] - ETA: 0s - loss: 0.9271 - accuracy: 0.6737\n",
            "Epoch 00036: val_loss did not improve from 1.56607\n",
            "331/331 [==============================] - 8s 23ms/step - loss: 0.9271 - accuracy: 0.6737 - val_loss: 2.1374 - val_accuracy: 0.4075\n",
            "Epoch 37/50\n",
            "330/331 [============================>.] - ETA: 0s - loss: 0.9216 - accuracy: 0.6793\n",
            "Epoch 00037: val_loss did not improve from 1.56607\n",
            "331/331 [==============================] - 8s 23ms/step - loss: 0.9216 - accuracy: 0.6793 - val_loss: 2.2096 - val_accuracy: 0.4194\n",
            "Epoch 38/50\n",
            "331/331 [==============================] - ETA: 0s - loss: 0.9136 - accuracy: 0.6780\n",
            "Epoch 00038: val_loss did not improve from 1.56607\n",
            "331/331 [==============================] - 8s 23ms/step - loss: 0.9136 - accuracy: 0.6780 - val_loss: 2.1658 - val_accuracy: 0.4185\n",
            "Epoch 39/50\n",
            "329/331 [============================>.] - ETA: 0s - loss: 0.9167 - accuracy: 0.6756\n",
            "Epoch 00039: val_loss did not improve from 1.56607\n",
            "331/331 [==============================] - 8s 23ms/step - loss: 0.9168 - accuracy: 0.6757 - val_loss: 2.2846 - val_accuracy: 0.4058\n",
            "Epoch 40/50\n",
            "330/331 [============================>.] - ETA: 0s - loss: 0.8906 - accuracy: 0.6866\n",
            "Epoch 00040: val_loss did not improve from 1.56607\n",
            "331/331 [==============================] - 8s 23ms/step - loss: 0.8905 - accuracy: 0.6867 - val_loss: 2.3518 - val_accuracy: 0.4092\n",
            "Epoch 41/50\n",
            "329/331 [============================>.] - ETA: 0s - loss: 0.8824 - accuracy: 0.6874\n",
            "Epoch 00041: val_loss did not improve from 1.56607\n",
            "331/331 [==============================] - 8s 23ms/step - loss: 0.8819 - accuracy: 0.6876 - val_loss: 2.4281 - val_accuracy: 0.4032\n",
            "Epoch 42/50\n",
            "330/331 [============================>.] - ETA: 0s - loss: 0.8720 - accuracy: 0.6914\n",
            "Epoch 00042: val_loss did not improve from 1.56607\n",
            "331/331 [==============================] - 8s 23ms/step - loss: 0.8720 - accuracy: 0.6914 - val_loss: 2.3946 - val_accuracy: 0.4177\n",
            "Epoch 43/50\n",
            "331/331 [==============================] - ETA: 0s - loss: 0.8629 - accuracy: 0.6915\n",
            "Epoch 00043: val_loss did not improve from 1.56607\n",
            "331/331 [==============================] - 8s 23ms/step - loss: 0.8629 - accuracy: 0.6915 - val_loss: 2.4003 - val_accuracy: 0.4032\n",
            "Epoch 44/50\n",
            "329/331 [============================>.] - ETA: 0s - loss: 0.8673 - accuracy: 0.6903\n",
            "Epoch 00044: val_loss did not improve from 1.56607\n",
            "331/331 [==============================] - 8s 23ms/step - loss: 0.8663 - accuracy: 0.6907 - val_loss: 2.4287 - val_accuracy: 0.4185\n",
            "Epoch 45/50\n",
            "329/331 [============================>.] - ETA: 0s - loss: 0.8533 - accuracy: 0.6982\n",
            "Epoch 00045: val_loss did not improve from 1.56607\n",
            "331/331 [==============================] - 8s 23ms/step - loss: 0.8528 - accuracy: 0.6985 - val_loss: 2.4593 - val_accuracy: 0.4049\n",
            "Epoch 46/50\n",
            "329/331 [============================>.] - ETA: 0s - loss: 0.8426 - accuracy: 0.7023\n",
            "Epoch 00046: val_loss did not improve from 1.56607\n",
            "331/331 [==============================] - 8s 23ms/step - loss: 0.8428 - accuracy: 0.7027 - val_loss: 2.6247 - val_accuracy: 0.4092\n",
            "Epoch 47/50\n",
            "330/331 [============================>.] - ETA: 0s - loss: 0.8347 - accuracy: 0.7068\n",
            "Epoch 00047: val_loss did not improve from 1.56607\n",
            "331/331 [==============================] - 8s 23ms/step - loss: 0.8346 - accuracy: 0.7068 - val_loss: 2.7312 - val_accuracy: 0.4177\n",
            "Epoch 48/50\n",
            "331/331 [==============================] - ETA: 0s - loss: 0.8312 - accuracy: 0.7037\n",
            "Epoch 00048: val_loss did not improve from 1.56607\n",
            "331/331 [==============================] - 8s 24ms/step - loss: 0.8312 - accuracy: 0.7037 - val_loss: 2.6069 - val_accuracy: 0.4024\n",
            "Epoch 49/50\n",
            "330/331 [============================>.] - ETA: 0s - loss: 0.8280 - accuracy: 0.7034\n",
            "Epoch 00049: val_loss did not improve from 1.56607\n",
            "331/331 [==============================] - 8s 23ms/step - loss: 0.8279 - accuracy: 0.7034 - val_loss: 2.6740 - val_accuracy: 0.4024\n",
            "Epoch 50/50\n",
            "330/331 [============================>.] - ETA: 0s - loss: 0.8049 - accuracy: 0.7120\n",
            "Epoch 00050: val_loss did not improve from 1.56607\n",
            "331/331 [==============================] - 8s 23ms/step - loss: 0.8050 - accuracy: 0.7120 - val_loss: 2.7049 - val_accuracy: 0.3981\n"
          ],
          "name": "stdout"
        }
      ]
    },
    {
      "cell_type": "markdown",
      "metadata": {
        "colab_type": "text",
        "id": "IcoqG6KB7MZX"
      },
      "source": [
        "### Store the history object to disk \n",
        "So we can plot anytime without retraining this model"
      ]
    },
    {
      "cell_type": "code",
      "metadata": {
        "colab_type": "code",
        "id": "j2nVVpyt7MZY",
        "colab": {}
      },
      "source": [
        "#Write history to disk\n",
        "with open('Friends-The-One-With-Deep-Learning-v2.history.pickle', 'wb') as handle:\n",
        "    pickle.dump(history.history, handle, protocol=pickle.HIGHEST_PROTOCOL)"
      ],
      "execution_count": 83,
      "outputs": []
    },
    {
      "cell_type": "markdown",
      "metadata": {
        "colab_type": "text",
        "id": "Yikpr_xu7MZZ"
      },
      "source": [
        "### Plot traning and validation accuracy and loss"
      ]
    },
    {
      "cell_type": "code",
      "metadata": {
        "colab_type": "code",
        "id": "G2WYeGy-7MZZ",
        "colab": {
          "base_uri": "https://localhost:8080/",
          "height": 839
        },
        "outputId": "22bf0662-5667-43f4-a17a-fd8e07571f86"
      },
      "source": [
        "version = ['v1', 'v2']\n",
        "history_file_path = ['Friends-The-One-With-Deep-Learning-v1.history.pickle', \n",
        "                     'Friends-The-One-With-Deep-Learning-v2.history.pickle']\n",
        "\n",
        "plot_training_validation_accuracy_loss(version, history_file_path)"
      ],
      "execution_count": 85,
      "outputs": [
        {
          "output_type": "display_data",
          "data": {
            "image/png": "[encoded data removed]",
            "text/plain": [
              "<Figure size 1440x1008 with 2 Axes>"
            ]
          },
          "metadata": {
            "tags": [],
            "needs_background": "light"
          }
        }
      ]
    },
    {
      "cell_type": "markdown",
      "metadata": {
        "id": "TiVMu_-D0Sn4",
        "colab_type": "text"
      },
      "source": [
        "# v3 - Emotion Detection  with our own Embedding + 1D Convolutional Layer - 0.03M parameters 86% training, 39% validation accuracy"
      ]
    },
    {
      "cell_type": "markdown",
      "metadata": {
        "id": "GSug0SDY6Kc3",
        "colab_type": "text"
      },
      "source": [
        "### Model Definition"
      ]
    },
    {
      "cell_type": "code",
      "metadata": {
        "id": "XsxSWzGKz4jI",
        "colab_type": "code",
        "colab": {
          "base_uri": "https://localhost:8080/",
          "height": 357
        },
        "outputId": "b2d2bd2c-317d-41ed-f7aa-e0942faed5e4"
      },
      "source": [
        "model = tf.keras.Sequential([\n",
        "    tf.keras.layers.Embedding(vocab_size, embedding_dim, input_length=max_length),\n",
        "    tf.keras.layers.Conv1D(128, 5, activation='relu'),\n",
        "    tf.keras.layers.GlobalMaxPooling1D(),\n",
        "    tf.keras.layers.Dense(24, activation='relu'),\n",
        "    tf.keras.layers.Dropout(0.2),\n",
        "    tf.keras.layers.Dense(num_classes, activation='softmax')\n",
        "])\n",
        "model.compile(loss='sparse_categorical_crossentropy',optimizer='adam',metrics=['accuracy'])\n",
        "model.summary()"
      ],
      "execution_count": 96,
      "outputs": [
        {
          "output_type": "stream",
          "text": [
            "Model: \"sequential_6\"\n",
            "_________________________________________________________________\n",
            "Layer (type)                 Output Shape              Param #   \n",
            "=================================================================\n",
            "embedding_6 (Embedding)      (None, 120, 16)           16000     \n",
            "_________________________________________________________________\n",
            "conv1d_2 (Conv1D)            (None, 116, 128)          10368     \n",
            "_________________________________________________________________\n",
            "global_max_pooling1d_2 (Glob (None, 128)               0         \n",
            "_________________________________________________________________\n",
            "dense_12 (Dense)             (None, 24)                3096      \n",
            "_________________________________________________________________\n",
            "dropout_8 (Dropout)          (None, 24)                0         \n",
            "_________________________________________________________________\n",
            "dense_13 (Dense)             (None, 8)                 200       \n",
            "=================================================================\n",
            "Total params: 29,664\n",
            "Trainable params: 29,664\n",
            "Non-trainable params: 0\n",
            "_________________________________________________________________\n"
          ],
          "name": "stdout"
        }
      ]
    },
    {
      "cell_type": "markdown",
      "metadata": {
        "id": "pDJG6Ei06qNZ",
        "colab_type": "text"
      },
      "source": [
        "### Compile and Fit Model"
      ]
    },
    {
      "cell_type": "code",
      "metadata": {
        "colab_type": "code",
        "id": "0V4-Yqc35dsH",
        "colab": {}
      },
      "source": [
        "model.compile(loss='sparse_categorical_crossentropy', optimizer='adam', metrics=['accuracy'])"
      ],
      "execution_count": 97,
      "outputs": []
    },
    {
      "cell_type": "code",
      "metadata": {
        "colab_type": "code",
        "id": "pRSTfbAT5dsK",
        "colab": {}
      },
      "source": [
        "checkpoint_filepath = 'Friends-The-One-With-Deep-Learning-v3.h5'\n",
        "my_callback = tf.keras.callbacks.ModelCheckpoint(checkpoint_filepath, verbose=1, \n",
        "                                        save_weights_only=True, monitor='val_loss', \n",
        "                                        mode='auto', save_best_only=True)"
      ],
      "execution_count": 98,
      "outputs": []
    },
    {
      "cell_type": "code",
      "metadata": {
        "colab_type": "code",
        "id": "aHJjUU-Z5n3w",
        "colab": {
          "base_uri": "https://localhost:8080/",
          "height": 1000
        },
        "outputId": "2d342395-deaf-47c0-fb0c-e4702925d9d3"
      },
      "source": [
        "num_epochs = 50\n",
        "\n",
        "history = model.fit(train_utterance_padded, train_emotion, epochs=num_epochs,\\\n",
        "                    validation_data=(validation_utterance_padded, validation_emotion),\\\n",
        "                    verbose=1, callbacks=[my_callback])"
      ],
      "execution_count": 99,
      "outputs": [
        {
          "output_type": "stream",
          "text": [
            "Epoch 1/50\n",
            "330/331 [============================>.] - ETA: 0s - loss: 1.6398 - accuracy: 0.4512\n",
            "Epoch 00001: val_loss improved from inf to 1.63558, saving model to Friends-The-One-With-Deep-Learning-v3.h5\n",
            "331/331 [==============================] - 1s 4ms/step - loss: 1.6397 - accuracy: 0.4513 - val_loss: 1.6356 - val_accuracy: 0.4372\n",
            "Epoch 2/50\n",
            "320/331 [============================>.] - ETA: 0s - loss: 1.4980 - accuracy: 0.4805\n",
            "Epoch 00002: val_loss improved from 1.63558 to 1.57826, saving model to Friends-The-One-With-Deep-Learning-v3.h5\n",
            "331/331 [==============================] - 1s 4ms/step - loss: 1.4975 - accuracy: 0.4815 - val_loss: 1.5783 - val_accuracy: 0.4448\n",
            "Epoch 3/50\n",
            "321/331 [============================>.] - ETA: 0s - loss: 1.4184 - accuracy: 0.5002\n",
            "Epoch 00003: val_loss improved from 1.57826 to 1.56851, saving model to Friends-The-One-With-Deep-Learning-v3.h5\n",
            "331/331 [==============================] - 1s 4ms/step - loss: 1.4203 - accuracy: 0.4994 - val_loss: 1.5685 - val_accuracy: 0.4474\n",
            "Epoch 4/50\n",
            "328/331 [============================>.] - ETA: 0s - loss: 1.3484 - accuracy: 0.5272\n",
            "Epoch 00004: val_loss improved from 1.56851 to 1.55996, saving model to Friends-The-One-With-Deep-Learning-v3.h5\n",
            "331/331 [==============================] - 1s 4ms/step - loss: 1.3495 - accuracy: 0.5269 - val_loss: 1.5600 - val_accuracy: 0.4423\n",
            "Epoch 5/50\n",
            "318/331 [===========================>..] - ETA: 0s - loss: 1.3008 - accuracy: 0.5462\n",
            "Epoch 00005: val_loss did not improve from 1.55996\n",
            "331/331 [==============================] - 1s 4ms/step - loss: 1.2997 - accuracy: 0.5460 - val_loss: 1.5609 - val_accuracy: 0.4559\n",
            "Epoch 6/50\n",
            "329/331 [============================>.] - ETA: 0s - loss: 1.2550 - accuracy: 0.5538\n",
            "Epoch 00006: val_loss did not improve from 1.55996\n",
            "331/331 [==============================] - 1s 4ms/step - loss: 1.2554 - accuracy: 0.5535 - val_loss: 1.5675 - val_accuracy: 0.4465\n",
            "Epoch 7/50\n",
            "329/331 [============================>.] - ETA: 0s - loss: 1.2173 - accuracy: 0.5708\n",
            "Epoch 00007: val_loss did not improve from 1.55996\n",
            "331/331 [==============================] - 1s 4ms/step - loss: 1.2167 - accuracy: 0.5709 - val_loss: 1.6232 - val_accuracy: 0.4516\n",
            "Epoch 8/50\n",
            "329/331 [============================>.] - ETA: 0s - loss: 1.1667 - accuracy: 0.5862\n",
            "Epoch 00008: val_loss did not improve from 1.55996\n",
            "331/331 [==============================] - 1s 4ms/step - loss: 1.1676 - accuracy: 0.5855 - val_loss: 1.6076 - val_accuracy: 0.4244\n",
            "Epoch 9/50\n",
            "319/331 [===========================>..] - ETA: 0s - loss: 1.1293 - accuracy: 0.5955\n",
            "Epoch 00009: val_loss did not improve from 1.55996\n",
            "331/331 [==============================] - 1s 4ms/step - loss: 1.1311 - accuracy: 0.5941 - val_loss: 1.6744 - val_accuracy: 0.4380\n",
            "Epoch 10/50\n",
            "331/331 [==============================] - ETA: 0s - loss: 1.0884 - accuracy: 0.6102\n",
            "Epoch 00010: val_loss did not improve from 1.55996\n",
            "331/331 [==============================] - 1s 4ms/step - loss: 1.0884 - accuracy: 0.6102 - val_loss: 1.6650 - val_accuracy: 0.4202\n",
            "Epoch 11/50\n",
            "325/331 [============================>.] - ETA: 0s - loss: 1.0480 - accuracy: 0.6237\n",
            "Epoch 00011: val_loss did not improve from 1.55996\n",
            "331/331 [==============================] - 1s 4ms/step - loss: 1.0471 - accuracy: 0.6243 - val_loss: 1.7444 - val_accuracy: 0.4228\n",
            "Epoch 12/50\n",
            "327/331 [============================>.] - ETA: 0s - loss: 1.0030 - accuracy: 0.6410\n",
            "Epoch 00012: val_loss did not improve from 1.55996\n",
            "331/331 [==============================] - 1s 4ms/step - loss: 1.0044 - accuracy: 0.6404 - val_loss: 1.7839 - val_accuracy: 0.4143\n",
            "Epoch 13/50\n",
            "316/331 [===========================>..] - ETA: 0s - loss: 0.9558 - accuracy: 0.6559\n",
            "Epoch 00013: val_loss did not improve from 1.55996\n",
            "331/331 [==============================] - 1s 4ms/step - loss: 0.9576 - accuracy: 0.6554 - val_loss: 1.8307 - val_accuracy: 0.4363\n",
            "Epoch 14/50\n",
            "331/331 [==============================] - ETA: 0s - loss: 0.9161 - accuracy: 0.6706\n",
            "Epoch 00014: val_loss did not improve from 1.55996\n",
            "331/331 [==============================] - 1s 4ms/step - loss: 0.9161 - accuracy: 0.6706 - val_loss: 1.8614 - val_accuracy: 0.4287\n",
            "Epoch 15/50\n",
            "322/331 [============================>.] - ETA: 0s - loss: 0.8817 - accuracy: 0.6850\n",
            "Epoch 00015: val_loss did not improve from 1.55996\n",
            "331/331 [==============================] - 1s 4ms/step - loss: 0.8816 - accuracy: 0.6859 - val_loss: 1.9945 - val_accuracy: 0.4329\n",
            "Epoch 16/50\n",
            "320/331 [============================>.] - ETA: 0s - loss: 0.8426 - accuracy: 0.6969\n",
            "Epoch 00016: val_loss did not improve from 1.55996\n",
            "331/331 [==============================] - 1s 4ms/step - loss: 0.8440 - accuracy: 0.6965 - val_loss: 2.0332 - val_accuracy: 0.4295\n",
            "Epoch 17/50\n",
            "320/331 [============================>.] - ETA: 0s - loss: 0.8129 - accuracy: 0.7115\n",
            "Epoch 00017: val_loss did not improve from 1.55996\n",
            "331/331 [==============================] - 1s 4ms/step - loss: 0.8135 - accuracy: 0.7118 - val_loss: 2.1169 - val_accuracy: 0.4278\n",
            "Epoch 18/50\n",
            "321/331 [============================>.] - ETA: 0s - loss: 0.7801 - accuracy: 0.7240\n",
            "Epoch 00018: val_loss did not improve from 1.55996\n",
            "331/331 [==============================] - 1s 4ms/step - loss: 0.7795 - accuracy: 0.7243 - val_loss: 2.3799 - val_accuracy: 0.4270\n",
            "Epoch 19/50\n",
            "319/331 [===========================>..] - ETA: 0s - loss: 0.7597 - accuracy: 0.7268\n",
            "Epoch 00019: val_loss did not improve from 1.55996\n",
            "331/331 [==============================] - 1s 4ms/step - loss: 0.7607 - accuracy: 0.7266 - val_loss: 2.2591 - val_accuracy: 0.4270\n",
            "Epoch 20/50\n",
            "318/331 [===========================>..] - ETA: 0s - loss: 0.7155 - accuracy: 0.7517\n",
            "Epoch 00020: val_loss did not improve from 1.55996\n",
            "331/331 [==============================] - 1s 4ms/step - loss: 0.7173 - accuracy: 0.7505 - val_loss: 2.3409 - val_accuracy: 0.4295\n",
            "Epoch 21/50\n",
            "317/331 [===========================>..] - ETA: 0s - loss: 0.6967 - accuracy: 0.7553\n",
            "Epoch 00021: val_loss did not improve from 1.55996\n",
            "331/331 [==============================] - 1s 4ms/step - loss: 0.6952 - accuracy: 0.7556 - val_loss: 2.4196 - val_accuracy: 0.4295\n",
            "Epoch 22/50\n",
            "331/331 [==============================] - ETA: 0s - loss: 0.6676 - accuracy: 0.7674\n",
            "Epoch 00022: val_loss did not improve from 1.55996\n",
            "331/331 [==============================] - 1s 4ms/step - loss: 0.6676 - accuracy: 0.7674 - val_loss: 2.5574 - val_accuracy: 0.4363\n",
            "Epoch 23/50\n",
            "323/331 [============================>.] - ETA: 0s - loss: 0.6431 - accuracy: 0.7687\n",
            "Epoch 00023: val_loss did not improve from 1.55996\n",
            "331/331 [==============================] - 1s 4ms/step - loss: 0.6419 - accuracy: 0.7698 - val_loss: 2.6444 - val_accuracy: 0.4270\n",
            "Epoch 24/50\n",
            "318/331 [===========================>..] - ETA: 0s - loss: 0.6216 - accuracy: 0.7823\n",
            "Epoch 00024: val_loss did not improve from 1.55996\n",
            "331/331 [==============================] - 1s 4ms/step - loss: 0.6243 - accuracy: 0.7816 - val_loss: 2.7010 - val_accuracy: 0.4168\n",
            "Epoch 25/50\n",
            "317/331 [===========================>..] - ETA: 0s - loss: 0.6033 - accuracy: 0.7877\n",
            "Epoch 00025: val_loss did not improve from 1.55996\n",
            "331/331 [==============================] - 1s 4ms/step - loss: 0.6007 - accuracy: 0.7889 - val_loss: 2.8156 - val_accuracy: 0.4177\n",
            "Epoch 26/50\n",
            "329/331 [============================>.] - ETA: 0s - loss: 0.5726 - accuracy: 0.7971\n",
            "Epoch 00026: val_loss did not improve from 1.55996\n",
            "331/331 [==============================] - 1s 4ms/step - loss: 0.5719 - accuracy: 0.7976 - val_loss: 2.9011 - val_accuracy: 0.4151\n",
            "Epoch 27/50\n",
            "321/331 [============================>.] - ETA: 0s - loss: 0.5569 - accuracy: 0.8033\n",
            "Epoch 00027: val_loss did not improve from 1.55996\n",
            "331/331 [==============================] - 1s 4ms/step - loss: 0.5587 - accuracy: 0.8015 - val_loss: 3.0725 - val_accuracy: 0.4244\n",
            "Epoch 28/50\n",
            "330/331 [============================>.] - ETA: 0s - loss: 0.5456 - accuracy: 0.8094\n",
            "Epoch 00028: val_loss did not improve from 1.55996\n",
            "331/331 [==============================] - 1s 4ms/step - loss: 0.5457 - accuracy: 0.8093 - val_loss: 2.8926 - val_accuracy: 0.4041\n",
            "Epoch 29/50\n",
            "331/331 [==============================] - ETA: 0s - loss: 0.5386 - accuracy: 0.8093\n",
            "Epoch 00029: val_loss did not improve from 1.55996\n",
            "331/331 [==============================] - 1s 4ms/step - loss: 0.5386 - accuracy: 0.8093 - val_loss: 3.0837 - val_accuracy: 0.4058\n",
            "Epoch 30/50\n",
            "324/331 [============================>.] - ETA: 0s - loss: 0.5199 - accuracy: 0.8176\n",
            "Epoch 00030: val_loss did not improve from 1.55996\n",
            "331/331 [==============================] - 1s 4ms/step - loss: 0.5179 - accuracy: 0.8184 - val_loss: 3.1411 - val_accuracy: 0.4041\n",
            "Epoch 31/50\n",
            "330/331 [============================>.] - ETA: 0s - loss: 0.5118 - accuracy: 0.8219\n",
            "Epoch 00031: val_loss did not improve from 1.55996\n",
            "331/331 [==============================] - 1s 4ms/step - loss: 0.5118 - accuracy: 0.8219 - val_loss: 3.3859 - val_accuracy: 0.4015\n",
            "Epoch 32/50\n",
            "330/331 [============================>.] - ETA: 0s - loss: 0.4831 - accuracy: 0.8304\n",
            "Epoch 00032: val_loss did not improve from 1.55996\n",
            "331/331 [==============================] - 1s 4ms/step - loss: 0.4830 - accuracy: 0.8304 - val_loss: 3.4427 - val_accuracy: 0.3998\n",
            "Epoch 33/50\n",
            "328/331 [============================>.] - ETA: 0s - loss: 0.4746 - accuracy: 0.8326\n",
            "Epoch 00033: val_loss did not improve from 1.55996\n",
            "331/331 [==============================] - 1s 4ms/step - loss: 0.4739 - accuracy: 0.8326 - val_loss: 3.8440 - val_accuracy: 0.4134\n",
            "Epoch 34/50\n",
            "319/331 [===========================>..] - ETA: 0s - loss: 0.4623 - accuracy: 0.8375\n",
            "Epoch 00034: val_loss did not improve from 1.55996\n",
            "331/331 [==============================] - 1s 4ms/step - loss: 0.4609 - accuracy: 0.8377 - val_loss: 3.7235 - val_accuracy: 0.4032\n",
            "Epoch 35/50\n",
            "320/331 [============================>.] - ETA: 0s - loss: 0.4500 - accuracy: 0.8447\n",
            "Epoch 00035: val_loss did not improve from 1.55996\n",
            "331/331 [==============================] - 1s 4ms/step - loss: 0.4521 - accuracy: 0.8441 - val_loss: 3.7211 - val_accuracy: 0.3846\n",
            "Epoch 36/50\n",
            "330/331 [============================>.] - ETA: 0s - loss: 0.4413 - accuracy: 0.8454\n",
            "Epoch 00036: val_loss did not improve from 1.55996\n",
            "331/331 [==============================] - 1s 4ms/step - loss: 0.4412 - accuracy: 0.8454 - val_loss: 3.8726 - val_accuracy: 0.3956\n",
            "Epoch 37/50\n",
            "318/331 [===========================>..] - ETA: 0s - loss: 0.4284 - accuracy: 0.8478\n",
            "Epoch 00037: val_loss did not improve from 1.55996\n",
            "331/331 [==============================] - 1s 4ms/step - loss: 0.4297 - accuracy: 0.8477 - val_loss: 3.8016 - val_accuracy: 0.3896\n",
            "Epoch 38/50\n",
            "329/331 [============================>.] - ETA: 0s - loss: 0.4282 - accuracy: 0.8468\n",
            "Epoch 00038: val_loss did not improve from 1.55996\n",
            "331/331 [==============================] - 1s 4ms/step - loss: 0.4278 - accuracy: 0.8469 - val_loss: 4.2471 - val_accuracy: 0.3998\n",
            "Epoch 39/50\n",
            "316/331 [===========================>..] - ETA: 0s - loss: 0.4155 - accuracy: 0.8531\n",
            "Epoch 00039: val_loss did not improve from 1.55996\n",
            "331/331 [==============================] - 1s 4ms/step - loss: 0.4174 - accuracy: 0.8519 - val_loss: 4.2331 - val_accuracy: 0.3888\n",
            "Epoch 40/50\n",
            "328/331 [============================>.] - ETA: 0s - loss: 0.4033 - accuracy: 0.8589\n",
            "Epoch 00040: val_loss did not improve from 1.55996\n",
            "331/331 [==============================] - 1s 4ms/step - loss: 0.4036 - accuracy: 0.8587 - val_loss: 4.3047 - val_accuracy: 0.3947\n",
            "Epoch 41/50\n",
            "316/331 [===========================>..] - ETA: 0s - loss: 0.3933 - accuracy: 0.8594\n",
            "Epoch 00041: val_loss did not improve from 1.55996\n",
            "331/331 [==============================] - 1s 4ms/step - loss: 0.3929 - accuracy: 0.8597 - val_loss: 4.4967 - val_accuracy: 0.4075\n",
            "Epoch 42/50\n",
            "318/331 [===========================>..] - ETA: 0s - loss: 0.3894 - accuracy: 0.8628\n",
            "Epoch 00042: val_loss did not improve from 1.55996\n",
            "331/331 [==============================] - 1s 4ms/step - loss: 0.3899 - accuracy: 0.8625 - val_loss: 4.5452 - val_accuracy: 0.3947\n",
            "Epoch 43/50\n",
            "319/331 [===========================>..] - ETA: 0s - loss: 0.3776 - accuracy: 0.8683\n",
            "Epoch 00043: val_loss did not improve from 1.55996\n",
            "331/331 [==============================] - 1s 4ms/step - loss: 0.3765 - accuracy: 0.8685 - val_loss: 4.6163 - val_accuracy: 0.3947\n",
            "Epoch 44/50\n",
            "324/331 [============================>.] - ETA: 0s - loss: 0.3707 - accuracy: 0.8684\n",
            "Epoch 00044: val_loss did not improve from 1.55996\n",
            "331/331 [==============================] - 1s 4ms/step - loss: 0.3691 - accuracy: 0.8690 - val_loss: 4.7273 - val_accuracy: 0.4058\n",
            "Epoch 45/50\n",
            "321/331 [============================>.] - ETA: 0s - loss: 0.3759 - accuracy: 0.8645\n",
            "Epoch 00045: val_loss did not improve from 1.55996\n",
            "331/331 [==============================] - 1s 4ms/step - loss: 0.3766 - accuracy: 0.8646 - val_loss: 4.8047 - val_accuracy: 0.3956\n",
            "Epoch 46/50\n",
            "331/331 [==============================] - ETA: 0s - loss: 0.3664 - accuracy: 0.8667\n",
            "Epoch 00046: val_loss did not improve from 1.55996\n",
            "331/331 [==============================] - 1s 4ms/step - loss: 0.3664 - accuracy: 0.8667 - val_loss: 4.7383 - val_accuracy: 0.3905\n",
            "Epoch 47/50\n",
            "327/331 [============================>.] - ETA: 0s - loss: 0.3614 - accuracy: 0.8701\n",
            "Epoch 00047: val_loss did not improve from 1.55996\n",
            "331/331 [==============================] - 1s 4ms/step - loss: 0.3617 - accuracy: 0.8701 - val_loss: 5.1419 - val_accuracy: 0.4024\n",
            "Epoch 48/50\n",
            "323/331 [============================>.] - ETA: 0s - loss: 0.3526 - accuracy: 0.8711\n",
            "Epoch 00048: val_loss did not improve from 1.55996\n",
            "331/331 [==============================] - 1s 4ms/step - loss: 0.3535 - accuracy: 0.8707 - val_loss: 4.9321 - val_accuracy: 0.3871\n",
            "Epoch 49/50\n",
            "328/331 [============================>.] - ETA: 0s - loss: 0.3519 - accuracy: 0.8771\n",
            "Epoch 00049: val_loss did not improve from 1.55996\n",
            "331/331 [==============================] - 1s 4ms/step - loss: 0.3527 - accuracy: 0.8765 - val_loss: 5.2626 - val_accuracy: 0.3956\n",
            "Epoch 50/50\n",
            "326/331 [============================>.] - ETA: 0s - loss: 0.3540 - accuracy: 0.8764\n",
            "Epoch 00050: val_loss did not improve from 1.55996\n",
            "331/331 [==============================] - 1s 4ms/step - loss: 0.3549 - accuracy: 0.8758 - val_loss: 5.2793 - val_accuracy: 0.4015\n"
          ],
          "name": "stdout"
        }
      ]
    },
    {
      "cell_type": "markdown",
      "metadata": {
        "colab_type": "text",
        "id": "FlBY2OlO5n3y"
      },
      "source": [
        "### Store the history object to disk \n",
        "So we can plot anytime without retraining this model"
      ]
    },
    {
      "cell_type": "code",
      "metadata": {
        "colab_type": "code",
        "id": "cj-M6Dlo5n3y",
        "colab": {}
      },
      "source": [
        "#Write history to disk\n",
        "with open('Friends-The-One-With-Deep-Learning-v3.history.pickle', 'wb') as handle:\n",
        "    pickle.dump(history.history, handle, protocol=pickle.HIGHEST_PROTOCOL)"
      ],
      "execution_count": 100,
      "outputs": []
    },
    {
      "cell_type": "markdown",
      "metadata": {
        "id": "P0n0-6lH6Qtd",
        "colab_type": "text"
      },
      "source": [
        "### Plot traning and validation accuracy and loss"
      ]
    },
    {
      "cell_type": "code",
      "metadata": {
        "id": "t7krdVSe5765",
        "colab_type": "code",
        "colab": {
          "base_uri": "https://localhost:8080/",
          "height": 839
        },
        "outputId": "01308030-86cf-46a0-f038-2ec45fb81c1e"
      },
      "source": [
        "version = ['v1', 'v2', 'v3']\n",
        "history_file_path = ['Friends-The-One-With-Deep-Learning-v1.history.pickle', \n",
        "                     'Friends-The-One-With-Deep-Learning-v2.history.pickle',\n",
        "                     'Friends-The-One-With-Deep-Learning-v3.history.pickle']\n",
        "\n",
        "plot_training_validation_accuracy_loss(version, history_file_path)"
      ],
      "execution_count": 101,
      "outputs": [
        {
          "output_type": "display_data",
          "data": {
            "image/png": "[encoded data removed]",
            "text/plain": [
              "<Figure size 1440x1008 with 2 Axes>"
            ]
          },
          "metadata": {
            "tags": [],
            "needs_background": "light"
          }
        }
      ]
    },
    {
      "cell_type": "code",
      "metadata": {
        "id": "6UBheUGZ91Vs",
        "colab_type": "code",
        "colab": {}
      },
      "source": [
        ""
      ],
      "execution_count": 91,
      "outputs": []
    },
    {
      "cell_type": "code",
      "metadata": {
        "id": "g0FMZfCM91Yt",
        "colab_type": "code",
        "colab": {}
      },
      "source": [
        ""
      ],
      "execution_count": null,
      "outputs": []
    }
  ]
}