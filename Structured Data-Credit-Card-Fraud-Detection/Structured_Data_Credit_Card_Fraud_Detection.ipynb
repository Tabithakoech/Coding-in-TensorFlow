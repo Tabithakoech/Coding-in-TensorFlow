{
  "nbformat": 4,
  "nbformat_minor": 0,
  "metadata": {
    "colab": {
      "name": "Structured Data - Credit Card Fraud Detection",
      "provenance": [],
      "collapsed_sections": [],
      "include_colab_link": true
    },
    "kernelspec": {
      "display_name": "Python 3",
      "name": "python3"
    },
    "accelerator": "GPU"
  },
  "cells": [
    {
      "cell_type": "markdown",
      "metadata": {
        "id": "view-in-github",
        "colab_type": "text"
      },
      "source": [
        "<a href=\"https://colab.research.google.com/github/georgezoto/Coding-in-TensorFlow/blob/master/Structured%20Data-Credit-Card-Fraud-Detection/Structured_Data_Credit_Card_Fraud_Detection.ipynb\" target=\"_parent\"><img src=\"https://colab.research.google.com/assets/colab-badge.svg\" alt=\"Open In Colab\"/></a>"
      ]
    },
    {
      "cell_type": "markdown",
      "metadata": {
        "id": "VHEa1uXGjHht",
        "colab_type": "text"
      },
      "source": [
        "### Cassava Disease Classification: Helping farmers identify diseased plants\n",
        "**Meetup event, come and join us 😀**  \n",
        "https://www.meetup.com/Deep-Learning-Adventures/events/272091530/\n",
        "\n",
        "**Deep Learning YouTube recordings, feel free to share and subscribe 😀**  \n",
        "https://bit.ly/deep-learning-tf  \n",
        "https://bit.ly/deep-learning-tf-coding  \n",
        "\n",
        "**Credit Card Fraud Detection Dataset 🎉**   \n",
        "Anonymized credit card transactions labeled as fraudulent or genuine   \n",
        "https://www.kaggle.com/mlg-ulb/creditcardfraud\n",
        "\n",
        "\n",
        "![alt text](https://secure.meetupstatic.com/photos/event/d/b/6/d/highres_491456173.jpeg)"
      ]
    },
    {
      "cell_type": "markdown",
      "metadata": {
        "colab_type": "text",
        "id": "EIdT9iu_Z4Rb"
      },
      "source": [
        "# Inspired by Structured Data - MPG Dataset - Basic regression - Predict fuel efficiency https://www.tensorflow.org/tutorials/keras/regression"
      ]
    },
    {
      "cell_type": "markdown",
      "metadata": {
        "colab_type": "text",
        "id": "bBIlTPscrIT9"
      },
      "source": [
        "<table class=\"tfo-notebook-buttons\" align=\"left\">\n",
        "  <td>\n",
        "    <a target=\"_blank\" href=\"https://www.tensorflow.org/tutorials/keras/regression\"><img src=\"https://www.tensorflow.org/images/tf_logo_32px.png\" />View on TensorFlow.org</a>\n",
        "  </td>\n",
        "  <td>\n",
        "    <a target=\"_blank\" href=\"https://colab.research.google.com/github/tensorflow/docs/blob/master/site/en/tutorials/keras/regression.ipynb\"><img src=\"https://www.tensorflow.org/images/colab_logo_32px.png\" />Run in Google Colab</a>\n",
        "  </td>\n",
        "  <td>\n",
        "    <a target=\"_blank\" href=\"https://github.com/tensorflow/docs/blob/master/site/en/tutorials/keras/regression.ipynb\"><img src=\"https://www.tensorflow.org/images/GitHub-Mark-32px.png\" />View source on GitHub</a>\n",
        "  </td>\n",
        "  <td>\n",
        "    <a href=\"https://storage.googleapis.com/tensorflow_docs/docs/site/en/tutorials/keras/regression.ipynb\"><img src=\"https://www.tensorflow.org/images/download_logo_32px.png\" />Download notebook</a>\n",
        "  </td>\n",
        "</table>"
      ]
    },
    {
      "cell_type": "markdown",
      "metadata": {
        "colab_type": "text",
        "id": "AHp3M9ZmrIxj"
      },
      "source": [
        "In a *regression* problem, we aim to predict the output of a continuous value, like a price or a probability. Contrast this with a *classification* problem, where we aim to select a class from a list of classes (for example, where a picture contains an apple or an orange, recognizing which fruit is in the picture).\n",
        "\n",
        "The original notebook used the classic [Auto MPG](https://archive.ics.uci.edu/ml/datasets/auto+mpg) Dataset and builds a model to predict the fuel efficiency of late-1970s and early 1980s automobiles. To do this, we'll provide the model with a description of many automobiles from that time period. This description includes attributes like: cylinders, displacement, horsepower, and weight.\n",
        "\n",
        "This example uses the `tf.keras` API, see [this guide](https://www.tensorflow.org/guide/keras) for details."
      ]
    },
    {
      "cell_type": "code",
      "metadata": {
        "colab_type": "code",
        "id": "moB4tpEHxKB3",
        "colab": {}
      },
      "source": [
        "# Use seaborn for pairplot\n",
        "!pip install seaborn\n",
        "\n",
        "# Use some functions from tensorflow_docs\n",
        "!pip install git+https://github.com/tensorflow/docs"
      ],
      "execution_count": null,
      "outputs": []
    },
    {
      "cell_type": "code",
      "metadata": {
        "colab_type": "code",
        "id": "1rRo8oNqZ-Rj",
        "colab": {}
      },
      "source": [
        "import pathlib\n",
        "\n",
        "import matplotlib.pyplot as plt\n",
        "import numpy as np\n",
        "import pandas as pd\n",
        "import seaborn as sns"
      ],
      "execution_count": null,
      "outputs": []
    },
    {
      "cell_type": "code",
      "metadata": {
        "colab_type": "code",
        "id": "9xQKvCJ85kCQ",
        "colab": {}
      },
      "source": [
        "import tensorflow as tf\n",
        "\n",
        "from tensorflow import keras\n",
        "from tensorflow.keras import layers\n",
        "\n",
        "print(tf.__version__)\n",
        "\n",
        "import random\n",
        "seed = 51\n",
        "tf.random.set_seed(seed)\n",
        "random.seed(seed)"
      ],
      "execution_count": null,
      "outputs": []
    },
    {
      "cell_type": "code",
      "metadata": {
        "colab_type": "code",
        "id": "Qz4HfsgRQUiV",
        "colab": {}
      },
      "source": [
        "import tensorflow_docs as tfdocs\n",
        "import tensorflow_docs.plots\n",
        "import tensorflow_docs.modeling"
      ],
      "execution_count": null,
      "outputs": []
    },
    {
      "cell_type": "markdown",
      "metadata": {
        "colab_type": "text",
        "id": "gFh9ne3FZ-On"
      },
      "source": [
        "### Get the data\n",
        "First download the dataset."
      ]
    },
    {
      "cell_type": "code",
      "metadata": {
        "id": "DLGtNoIhjzhC",
        "colab_type": "code",
        "colab": {}
      },
      "source": [
        "# upload the kaggle.json file from local computer\n",
        "from google.colab import files\n",
        "uploaded = files.upload()"
      ],
      "execution_count": null,
      "outputs": []
    },
    {
      "cell_type": "code",
      "metadata": {
        "id": "P6fdBIMZj5oh",
        "colab_type": "code",
        "colab": {}
      },
      "source": [
        "!mkdir -p ~/.kaggle\n",
        "!cp kaggle.json ~/.kaggle/\n",
        "!pip install kaggle --upgrade\n",
        "!ls -l /root/.kaggle/kaggle.json\n",
        "!chmod 600 /root/.kaggle/kaggle.json"
      ],
      "execution_count": null,
      "outputs": []
    },
    {
      "cell_type": "code",
      "metadata": {
        "id": "8Y5evQQ3lR4M",
        "colab_type": "code",
        "colab": {}
      },
      "source": [
        "!kaggle datasets download -d mlg-ulb/creditcardfraud"
      ],
      "execution_count": null,
      "outputs": []
    },
    {
      "cell_type": "code",
      "metadata": {
        "id": "AcRP9RGwlR6-",
        "colab_type": "code",
        "colab": {}
      },
      "source": [
        "!unzip creditcardfraud.zip > /dev/null"
      ],
      "execution_count": null,
      "outputs": []
    },
    {
      "cell_type": "code",
      "metadata": {
        "colab_type": "code",
        "id": "p9kxxgzvzlyz",
        "colab": {}
      },
      "source": [
        "dataset_path = '/content/creditcard.csv'\n",
        "dataset_path"
      ],
      "execution_count": null,
      "outputs": []
    },
    {
      "cell_type": "markdown",
      "metadata": {
        "colab_type": "text",
        "id": "nslsRLh7Zss4"
      },
      "source": [
        "Import it using pandas"
      ]
    },
    {
      "cell_type": "code",
      "metadata": {
        "colab_type": "code",
        "id": "CiX2FI4gZtTt",
        "colab": {}
      },
      "source": [
        "dataset = pd.read_csv(dataset_path)\n",
        "dataset.head()"
      ],
      "execution_count": null,
      "outputs": []
    },
    {
      "cell_type": "code",
      "metadata": {
        "id": "0D99-G0KaPnu",
        "colab_type": "code",
        "colab": {
          "base_uri": "https://localhost:8080/",
          "height": 34
        },
        "outputId": "8bf93171-3905-49fc-a796-a6d9e737b6fb"
      },
      "source": [
        "dataset.shape"
      ],
      "execution_count": 151,
      "outputs": [
        {
          "output_type": "execute_result",
          "data": {
            "text/plain": [
              "(284807, 31)"
            ]
          },
          "metadata": {
            "tags": []
          },
          "execution_count": 151
        }
      ]
    },
    {
      "cell_type": "code",
      "metadata": {
        "id": "og_BqWcuai0S",
        "colab_type": "code",
        "colab": {
          "base_uri": "https://localhost:8080/",
          "height": 265
        },
        "outputId": "fb307ab7-f13a-49fd-ba6a-65184890ef36"
      },
      "source": [
        "dataset['Class'].value_counts().sort_values().plot(kind = 'barh');"
      ],
      "execution_count": 152,
      "outputs": [
        {
          "output_type": "display_data",
          "data": {
            "image/png": "[encoded data removed]",
            "text/plain": [
              "<Figure size 432x288 with 1 Axes>"
            ]
          },
          "metadata": {
            "tags": [],
            "needs_background": "light"
          }
        }
      ]
    },
    {
      "cell_type": "code",
      "metadata": {
        "id": "XhqBO2O9brrq",
        "colab_type": "code",
        "colab": {
          "base_uri": "https://localhost:8080/",
          "height": 68
        },
        "outputId": "489595c7-d010-4bf2-a4a7-e4e3c8a74b97"
      },
      "source": [
        "dataset['Class'].value_counts()"
      ],
      "execution_count": 153,
      "outputs": [
        {
          "output_type": "execute_result",
          "data": {
            "text/plain": [
              "0    284315\n",
              "1       492\n",
              "Name: Class, dtype: int64"
            ]
          },
          "metadata": {
            "tags": []
          },
          "execution_count": 153
        }
      ]
    },
    {
      "cell_type": "code",
      "metadata": {
        "id": "ZQSvJDnTbtdF",
        "colab_type": "code",
        "colab": {
          "base_uri": "https://localhost:8080/",
          "height": 34
        },
        "outputId": "0d03ef24-5b23-4b5e-bfa7-29fb0431623b"
      },
      "source": [
        "100*dataset['Class'].value_counts()[1]/dataset['Class'].value_counts()[0]"
      ],
      "execution_count": 154,
      "outputs": [
        {
          "output_type": "execute_result",
          "data": {
            "text/plain": [
              "0.17304750013189596"
            ]
          },
          "metadata": {
            "tags": []
          },
          "execution_count": 154
        }
      ]
    },
    {
      "cell_type": "markdown",
      "metadata": {
        "colab_type": "text",
        "id": "3MWuJTKEDM-f"
      },
      "source": [
        "### Clean the data\n",
        "\n",
        "Check if the dataset contains unknown values."
      ]
    },
    {
      "cell_type": "code",
      "metadata": {
        "colab_type": "code",
        "id": "JEJHhN65a2VV",
        "colab": {}
      },
      "source": [
        "dataset.isna().sum()"
      ],
      "execution_count": null,
      "outputs": []
    },
    {
      "cell_type": "code",
      "metadata": {
        "colab_type": "code",
        "id": "ulXz4J7PAUzk",
        "colab": {}
      },
      "source": [
        "dataset.tail()"
      ],
      "execution_count": null,
      "outputs": []
    },
    {
      "cell_type": "markdown",
      "metadata": {
        "id": "AWfSeYRkZnJ3",
        "colab_type": "text"
      },
      "source": [
        "### Along with having a common metric, AUPRC, for comparison, it is important to have the same test data to run the metric against. So how about we all use the following approach"
      ]
    },
    {
      "cell_type": "code",
      "metadata": {
        "id": "X9Rt6b9XZjd6",
        "colab_type": "code",
        "colab": {}
      },
      "source": [
        "from sklearn.model_selection import train_test_split\n",
        "\n",
        "train_dataset, test_dataset = train_test_split(dataset, stratify=dataset['Class'], test_size=0.2, random_state=51)"
      ],
      "execution_count": 157,
      "outputs": []
    },
    {
      "cell_type": "code",
      "metadata": {
        "id": "TtgVrPVnaH5B",
        "colab_type": "code",
        "colab": {
          "base_uri": "https://localhost:8080/",
          "height": 34
        },
        "outputId": "83c51a2f-192e-4a6c-f40b-b508e0c9cf9a"
      },
      "source": [
        "print(train_dataset.shape, test_dataset.shape)"
      ],
      "execution_count": 158,
      "outputs": [
        {
          "output_type": "stream",
          "text": [
            "(227845, 31) (56962, 31)\n"
          ],
          "name": "stdout"
        }
      ]
    },
    {
      "cell_type": "markdown",
      "metadata": {
        "id": "1nJ5iNPcZyts",
        "colab_type": "text"
      },
      "source": [
        "### It is not necessary for comparison, but many people will further split the training data into training and validation via something like"
      ]
    },
    {
      "cell_type": "code",
      "metadata": {
        "id": "-O8WDIdUZkaY",
        "colab_type": "code",
        "colab": {}
      },
      "source": [
        "train_dataset, validation_dataset = train_test_split(train_dataset, stratify=train_dataset['Class'], test_size=0.2, random_state=51)"
      ],
      "execution_count": 159,
      "outputs": []
    },
    {
      "cell_type": "code",
      "metadata": {
        "id": "1GRMhEw1crPN",
        "colab_type": "code",
        "colab": {
          "base_uri": "https://localhost:8080/",
          "height": 34
        },
        "outputId": "12a348b7-5d90-4432-94ee-6750174dcc96"
      },
      "source": [
        "print(train_dataset.shape, validation_dataset.shape, test_dataset.shape)"
      ],
      "execution_count": 160,
      "outputs": [
        {
          "output_type": "stream",
          "text": [
            "(182276, 31) (45569, 31) (56962, 31)\n"
          ],
          "name": "stdout"
        }
      ]
    },
    {
      "cell_type": "code",
      "metadata": {
        "id": "HfCHkTaxcyMH",
        "colab_type": "code",
        "colab": {
          "base_uri": "https://localhost:8080/",
          "height": 34
        },
        "outputId": "365df6c4-3505-4c94-eb83-bba64b84b7e0"
      },
      "source": [
        "print(100*train_dataset.shape[0]/dataset.shape[0], 100*validation_dataset.shape[0]/dataset.shape[0], 100*test_dataset.shape[0]/dataset.shape[0])"
      ],
      "execution_count": 161,
      "outputs": [
        {
          "output_type": "stream",
          "text": [
            "63.99983146481652 15.99995786620413 20.000210668979342\n"
          ],
          "name": "stdout"
        }
      ]
    },
    {
      "cell_type": "markdown",
      "metadata": {
        "colab_type": "text",
        "id": "J4ubs136WLNp"
      },
      "source": [
        "### Inspect the data\n",
        "\n",
        "Have a quick look at the joint distribution of a few pairs of columns from the training set."
      ]
    },
    {
      "cell_type": "code",
      "metadata": {
        "colab_type": "code",
        "id": "oRKO_x8gWKv-",
        "colab": {}
      },
      "source": [
        "sns.pairplot(train_dataset[['V1', 'V2', 'V3', 'V4', 'V5', 'V6', 'V7', 'V8', 'V9', 'V10']], diag_kind=\"kde\", height=3)"
      ],
      "execution_count": null,
      "outputs": []
    },
    {
      "cell_type": "code",
      "metadata": {
        "id": "3YpSAY7AnN6V",
        "colab_type": "code",
        "colab": {}
      },
      "source": [
        "sns.pairplot(train_dataset[['V11', 'V12', 'V13', 'V14', 'V15', 'V16', 'V17', 'V18', 'V19', 'V20']], diag_kind=\"kde\", height=3)"
      ],
      "execution_count": null,
      "outputs": []
    },
    {
      "cell_type": "code",
      "metadata": {
        "id": "x_ZHPeeYnN8o",
        "colab_type": "code",
        "colab": {}
      },
      "source": [
        "sns.pairplot(train_dataset[['V21', 'V22', 'V23', 'V24', 'V25', 'V26', 'V27', 'V28', 'Amount', 'Class']], diag_kind=\"kde\", height=3)"
      ],
      "execution_count": null,
      "outputs": []
    },
    {
      "cell_type": "markdown",
      "metadata": {
        "colab_type": "text",
        "id": "gavKO_6DWRMP"
      },
      "source": [
        "Also look at the overall statistics:"
      ]
    },
    {
      "cell_type": "code",
      "metadata": {
        "colab_type": "code",
        "id": "yi2FzC3T21jR",
        "colab": {}
      },
      "source": [
        "train_stats = train_dataset.describe()\n",
        "train_stats.pop(\"Class\")\n",
        "train_stats = train_stats.transpose()\n",
        "train_stats"
      ],
      "execution_count": null,
      "outputs": []
    },
    {
      "cell_type": "markdown",
      "metadata": {
        "colab_type": "text",
        "id": "Db7Auq1yXUvh"
      },
      "source": [
        "### Split features from labels\n",
        "\n",
        "Separate the target value, or \"label\", from the features. This label is the value that you will train the model to predict."
      ]
    },
    {
      "cell_type": "code",
      "metadata": {
        "colab_type": "code",
        "id": "t2sluJdCW7jN",
        "colab": {}
      },
      "source": [
        "train_labels = train_dataset.pop('Class')\n",
        "validation_labels = validation_dataset.pop('Class')\n",
        "test_labels = test_dataset.pop('Class')"
      ],
      "execution_count": null,
      "outputs": []
    },
    {
      "cell_type": "markdown",
      "metadata": {
        "colab_type": "text",
        "id": "mRklxK5s388r"
      },
      "source": [
        "### Normalize the data\n",
        "\n",
        "Look again at the `train_stats` block above and note how different the ranges of each feature are."
      ]
    },
    {
      "cell_type": "markdown",
      "metadata": {
        "colab_type": "text",
        "id": "-ywmerQ6dSox"
      },
      "source": [
        "It is good practice to normalize features that use different scales and ranges. Although the model *might* converge without feature normalization, it makes training more difficult, and it makes the resulting model dependent on the choice of units used in the input.\n",
        "\n",
        "Note: Although we intentionally generate these statistics from only the training dataset, these statistics will also be used to normalize the test dataset. We need to do that to project the test dataset into the same distribution that the model has been trained on."
      ]
    },
    {
      "cell_type": "code",
      "metadata": {
        "colab_type": "code",
        "id": "JlC5ooJrgjQF",
        "colab": {}
      },
      "source": [
        "def norm(x):\n",
        "  return (x - train_stats['mean']) / train_stats['std']\n",
        "#normed_train_data = norm(train_dataset)\n",
        "#normed_test_data = norm(test_dataset)\n",
        "\n",
        "normed_train_data = train_dataset\n",
        "normed_validation_data = validation_dataset\n",
        "normed_test_data = test_dataset"
      ],
      "execution_count": null,
      "outputs": []
    },
    {
      "cell_type": "markdown",
      "metadata": {
        "colab_type": "text",
        "id": "BuiClDk45eS4"
      },
      "source": [
        "This normalized data is what we will use to train the model.\n",
        "\n",
        "Caution: The statistics used to normalize the inputs here (mean and standard deviation) need to be applied to any other data that is fed to the model, along with the one-hot encoding that we did earlier.  That includes the test set as well as live data when the model is used in production."
      ]
    },
    {
      "cell_type": "code",
      "metadata": {
        "id": "P2Mdbg_apgyH",
        "colab_type": "code",
        "colab": {}
      },
      "source": [
        "def compute_metrics(y_true, y_pred):\n",
        "  tp = tf.keras.metrics.TruePositives()\n",
        "  tp.update_state(y_true, y_pred)\n",
        "  tp = int(tp.result().numpy())\n",
        "  fp = tf.keras.metrics.FalsePositives()\n",
        "  fp.update_state(y_true, y_pred)\n",
        "  fp = int(fp.result().numpy())\n",
        "  tn = tf.keras.metrics.TrueNegatives()\n",
        "  tn.update_state(y_true, y_pred)\n",
        "  tn = int(tn.result().numpy())\n",
        "  fn = tf.keras.metrics.FalseNegatives()\n",
        "  fn.update_state(y_true, y_pred)\n",
        "  fn = int(fn.result().numpy())\n",
        "  return [tp, fn, fp, tn]"
      ],
      "execution_count": 166,
      "outputs": []
    },
    {
      "cell_type": "code",
      "metadata": {
        "id": "h7Q6bBUSpjHB",
        "colab_type": "code",
        "colab": {}
      },
      "source": [
        "def print_metrics(metrics):\n",
        "  print('Fraudulent Transactions Detected (True Positives): ' + str(metrics[0]))\n",
        "  print('Fraudulent Transactions Missed (False Negatives): ' + str(metrics[1]))\n",
        "  print('Legitimate Transactions Incorrectly Detected (False Positives): ' + str(metrics[2]))\n",
        "  print('Legitimate Transactions Detected (True Negatives): ' + str(metrics[3]))"
      ],
      "execution_count": 167,
      "outputs": []
    },
    {
      "cell_type": "code",
      "metadata": {
        "id": "xpSRgcttiCbq",
        "colab_type": "code",
        "colab": {}
      },
      "source": [
        "def plot_results(history):\n",
        "  history = history.history\n",
        "\n",
        "  fig, (ax1, ax2) = plt.subplots(2, 1, sharex='col', figsize=(20, 14))\n",
        "\n",
        "  ax1.plot(history['loss'], label='Train loss')\n",
        "  ax1.plot(history['val_loss'], label='Validation loss')\n",
        "  ax1.legend(loc='best')\n",
        "  ax1.set_title('Loss')\n",
        "\n",
        "  ax2.plot(history['auprc'], label='Train AUPRC')\n",
        "  ax2.plot(history['val_auprc'], label='Validation AUPRC')\n",
        "  ax2.legend(loc='best')\n",
        "  ax2.set_title('AUPRC')\n",
        "\n",
        "  plt.xlabel('Epochs')\n",
        "  sns.despine()\n",
        "  plt.show()"
      ],
      "execution_count": 179,
      "outputs": []
    },
    {
      "cell_type": "markdown",
      "metadata": {
        "colab_type": "text",
        "id": "SmjdzxKzEu1-"
      },
      "source": [
        "## The model"
      ]
    },
    {
      "cell_type": "markdown",
      "metadata": {
        "colab_type": "text",
        "id": "6SWtkIjhrZwa"
      },
      "source": [
        "### Build the model\n",
        "\n",
        "Let's build our model. Here, we'll use a `Sequential` model with two densely connected hidden layers, and an output layer that returns a single, continuous value. The model building steps are wrapped in a function, `build_model`, since we'll create a second model, later on."
      ]
    },
    {
      "cell_type": "code",
      "metadata": {
        "id": "6HAMY51lqwBZ",
        "colab_type": "code",
        "colab": {
          "base_uri": "https://localhost:8080/",
          "height": 85
        },
        "outputId": "0919e5a9-cd0b-43e3-8024-a49b36475d83"
      },
      "source": [
        "train_dataset.keys()"
      ],
      "execution_count": 168,
      "outputs": [
        {
          "output_type": "execute_result",
          "data": {
            "text/plain": [
              "Index(['Time', 'V1', 'V2', 'V3', 'V4', 'V5', 'V6', 'V7', 'V8', 'V9', 'V10',\n",
              "       'V11', 'V12', 'V13', 'V14', 'V15', 'V16', 'V17', 'V18', 'V19', 'V20',\n",
              "       'V21', 'V22', 'V23', 'V24', 'V25', 'V26', 'V27', 'V28', 'Amount'],\n",
              "      dtype='object')"
            ]
          },
          "metadata": {
            "tags": []
          },
          "execution_count": 168
        }
      ]
    },
    {
      "cell_type": "code",
      "metadata": {
        "colab_type": "code",
        "id": "c26juK7ZG8j-",
        "colab": {}
      },
      "source": [
        "def build_model():\n",
        "  model = keras.Sequential([\n",
        "    layers.Dense(64, activation='relu', input_shape=[len(train_dataset.keys())]),\n",
        "    layers.Dense(64, activation='relu'),\n",
        "    layers.Dense(1, activation='sigmoid')\n",
        "  ])\n",
        "\n",
        "  optimizer = tf.keras.optimizers.RMSprop(0.001)\n",
        "\n",
        "  model.compile(loss='binary_crossentropy',\n",
        "                optimizer=optimizer,\n",
        "                metrics=[tf.keras.metrics.AUC(curve='ROC', name='auroc'), \n",
        "                          tf.keras.metrics.AUC(curve='PR', name='auprc')])\n",
        "  model.summary()\n",
        "\n",
        "  return model"
      ],
      "execution_count": null,
      "outputs": []
    },
    {
      "cell_type": "code",
      "metadata": {
        "colab_type": "code",
        "id": "cGbPb-PHGbhs",
        "colab": {}
      },
      "source": [
        "model = build_model()"
      ],
      "execution_count": null,
      "outputs": []
    },
    {
      "cell_type": "markdown",
      "metadata": {
        "colab_type": "text",
        "id": "Vt6W50qGsJAL"
      },
      "source": [
        "Now try out the model. Take a batch of `10` examples from the training data and call `model.predict` on it."
      ]
    },
    {
      "cell_type": "code",
      "metadata": {
        "colab_type": "code",
        "id": "-d-gBaVtGTSC",
        "colab": {}
      },
      "source": [
        "example_batch = normed_train_data[:10]\n",
        "example_result = model.predict(example_batch)\n",
        "example_result"
      ],
      "execution_count": null,
      "outputs": []
    },
    {
      "cell_type": "markdown",
      "metadata": {
        "colab_type": "text",
        "id": "QlM8KrSOsaYo"
      },
      "source": [
        "It seems to be working, and it produces a result of the expected shape and type."
      ]
    },
    {
      "cell_type": "markdown",
      "metadata": {
        "colab_type": "text",
        "id": "0-qWCsh6DlyH"
      },
      "source": [
        "### Train the model\n",
        "\n",
        "Train the model for 1000 epochs, and record the training and validation accuracy in the `history` object."
      ]
    },
    {
      "cell_type": "code",
      "metadata": {
        "id": "yUXhNijCiYCQ",
        "colab_type": "code",
        "colab": {}
      },
      "source": [
        "checkpoint_filepath = 'Structured-Data-Credit-Card-Fraud-Detection-v1.h5'\n",
        "\n",
        "model_checkpoint = tf.keras.callbacks.ModelCheckpoint(checkpoint_filepath, verbose=0, save_weights_only=True, \n",
        "                                                      monitor='val_auprc', mode='max', save_best_only=True)\n",
        "\n",
        "early_stopping = tf.keras.callbacks.EarlyStopping(monitor='val_auprc', patience=10, verbose=1, mode='max')"
      ],
      "execution_count": 180,
      "outputs": []
    },
    {
      "cell_type": "code",
      "metadata": {
        "id": "McvcRcKjiYEe",
        "colab_type": "code",
        "colab": {
          "base_uri": "https://localhost:8080/",
          "height": 357
        },
        "outputId": "d2697890-a51f-4f60-900d-73b67cd57a1b"
      },
      "source": [
        "EPOCHS = 10\n",
        "BATCH_SIZE = 256\n",
        "\n",
        "tf.keras.backend.clear_session()\n",
        "\n",
        "history_v1 = model.fit(\n",
        "  normed_train_data, train_labels,\n",
        "  epochs=EPOCHS, \n",
        "  validation_data = (normed_validation_data, validation_labels), \n",
        "  batch_size=BATCH_SIZE,\n",
        "  verbose=2, \n",
        "  callbacks=[model_checkpoint, early_stopping]\n",
        "  )"
      ],
      "execution_count": 182,
      "outputs": [
        {
          "output_type": "stream",
          "text": [
            "Epoch 1/10\n",
            "713/713 - 5s - loss: 14.3152 - auroc: 0.5064 - auprc: 0.0018 - val_loss: 5.3725 - val_auroc: 0.4999 - val_auprc: 0.0017\n",
            "Epoch 2/10\n",
            "713/713 - 5s - loss: 14.6502 - auroc: 0.5103 - auprc: 0.0019 - val_loss: 2.0895 - val_auroc: 0.4997 - val_auprc: 0.0017\n",
            "Epoch 3/10\n",
            "713/713 - 5s - loss: 13.6690 - auroc: 0.5047 - auprc: 0.0018 - val_loss: 5.1239 - val_auroc: 0.4999 - val_auprc: 0.0017\n",
            "Epoch 4/10\n",
            "713/713 - 5s - loss: 9.3282 - auroc: 0.5166 - auprc: 0.0021 - val_loss: 5.5673 - val_auroc: 0.4999 - val_auprc: 0.0017\n",
            "Epoch 5/10\n",
            "713/713 - 5s - loss: 10.6519 - auroc: 0.5134 - auprc: 0.0020 - val_loss: 2.2939 - val_auroc: 0.5251 - val_auprc: 0.0387\n",
            "Epoch 6/10\n",
            "713/713 - 5s - loss: 9.4234 - auroc: 0.5353 - auprc: 0.0028 - val_loss: 4.3153 - val_auroc: 0.4999 - val_auprc: 0.0017\n",
            "Epoch 7/10\n",
            "713/713 - 5s - loss: 6.8145 - auroc: 0.5276 - auprc: 0.0025 - val_loss: 3.3088 - val_auroc: 0.5062 - val_auprc: 0.0057\n",
            "Epoch 8/10\n",
            "713/713 - 5s - loss: 6.3208 - auroc: 0.5325 - auprc: 0.0027 - val_loss: 0.7498 - val_auroc: 0.6132 - val_auprc: 0.1670\n",
            "Epoch 9/10\n",
            "713/713 - 5s - loss: 4.8432 - auroc: 0.5239 - auprc: 0.0023 - val_loss: 1.9528 - val_auroc: 0.5314 - val_auprc: 0.0583\n",
            "Epoch 10/10\n",
            "713/713 - 5s - loss: 4.9740 - auroc: 0.5576 - auprc: 0.0041 - val_loss: 0.4951 - val_auroc: 0.6253 - val_auprc: 0.1610\n"
          ],
          "name": "stdout"
        }
      ]
    },
    {
      "cell_type": "code",
      "metadata": {
        "id": "n2SuxM4CitF5",
        "colab_type": "code",
        "colab": {
          "base_uri": "https://localhost:8080/",
          "height": 839
        },
        "outputId": "19b333c7-fc25-4e68-b954-f16903326aeb"
      },
      "source": [
        "plot_results(history_v1)"
      ],
      "execution_count": 183,
      "outputs": [
        {
          "output_type": "display_data",
          "data": {
            "image/png": "[encoded data removed]",
            "text/plain": [
              "<Figure size 1440x1008 with 2 Axes>"
            ]
          },
          "metadata": {
            "tags": [],
            "needs_background": "light"
          }
        }
      ]
    },
    {
      "cell_type": "code",
      "metadata": {
        "id": "wupfZ5dpitIO",
        "colab_type": "code",
        "colab": {}
      },
      "source": [
        "def build_model():\n",
        "  tf.keras.backend.clear_session()\n",
        "\n",
        "  model = keras.Sequential([\n",
        "    layers.Dense(128, activation='relu', input_shape=[len(train_dataset.keys())]),\n",
        "    layers.BatchNormalization(),\n",
        "    layers.Dropout(0.33),\n",
        "    layers.Dense(64, activation='relu'),\n",
        "    layers.BatchNormalization(),\n",
        "    layers.Dropout(0.33),\n",
        "    layers.Dense(32, activation='relu'),\n",
        "    layers.BatchNormalization(),\n",
        "    layers.Dropout(0.33),\n",
        "    layers.Dense(1, activation='sigmoid')\n",
        "  ])\n",
        "\n",
        "  model.compile(loss='binary_crossentropy',\n",
        "                optimizer=tf.keras.optimizers.Adam(),\n",
        "                metrics=[tf.keras.metrics.AUC(curve='ROC', name='auroc'), \n",
        "                          tf.keras.metrics.AUC(curve='PR', name='auprc')])\n",
        "  \n",
        "  model.summary()\n",
        "\n",
        "  return model"
      ],
      "execution_count": 185,
      "outputs": []
    },
    {
      "cell_type": "code",
      "metadata": {
        "id": "6Mt6WxEqitKx",
        "colab_type": "code",
        "colab": {
          "base_uri": "https://localhost:8080/",
          "height": 493
        },
        "outputId": "6fb3cbc1-2787-4216-90f1-da735b4b5411"
      },
      "source": [
        "model = build_model()"
      ],
      "execution_count": 186,
      "outputs": [
        {
          "output_type": "stream",
          "text": [
            "Model: \"sequential\"\n",
            "_________________________________________________________________\n",
            "Layer (type)                 Output Shape              Param #   \n",
            "=================================================================\n",
            "dense (Dense)                (None, 128)               3968      \n",
            "_________________________________________________________________\n",
            "batch_normalization (BatchNo (None, 128)               512       \n",
            "_________________________________________________________________\n",
            "dropout (Dropout)            (None, 128)               0         \n",
            "_________________________________________________________________\n",
            "dense_1 (Dense)              (None, 64)                8256      \n",
            "_________________________________________________________________\n",
            "batch_normalization_1 (Batch (None, 64)                256       \n",
            "_________________________________________________________________\n",
            "dropout_1 (Dropout)          (None, 64)                0         \n",
            "_________________________________________________________________\n",
            "dense_2 (Dense)              (None, 32)                2080      \n",
            "_________________________________________________________________\n",
            "batch_normalization_2 (Batch (None, 32)                128       \n",
            "_________________________________________________________________\n",
            "dropout_2 (Dropout)          (None, 32)                0         \n",
            "_________________________________________________________________\n",
            "dense_3 (Dense)              (None, 1)                 33        \n",
            "=================================================================\n",
            "Total params: 15,233\n",
            "Trainable params: 14,785\n",
            "Non-trainable params: 448\n",
            "_________________________________________________________________\n"
          ],
          "name": "stdout"
        }
      ]
    },
    {
      "cell_type": "code",
      "metadata": {
        "id": "sRSwGpNUmWjd",
        "colab_type": "code",
        "colab": {}
      },
      "source": [
        "checkpoint_filepath = 'Structured-Data-Credit-Card-Fraud-Detection-v2.h5'\n",
        "\n",
        "model_checkpoint = tf.keras.callbacks.ModelCheckpoint(checkpoint_filepath, verbose=0, save_weights_only=True, \n",
        "                                                      monitor='val_auprc', mode='max', save_best_only=True)\n",
        "\n",
        "early_stopping = tf.keras.callbacks.EarlyStopping(monitor='val_auprc', patience=10, verbose=1, mode='max')"
      ],
      "execution_count": 187,
      "outputs": []
    },
    {
      "cell_type": "code",
      "metadata": {
        "id": "Cb-MonnLl0N8",
        "colab_type": "code",
        "colab": {
          "base_uri": "https://localhost:8080/",
          "height": 357
        },
        "outputId": "8834227d-d570-47ce-9583-18a3d90d797e"
      },
      "source": [
        "EPOCHS = 10\n",
        "BATCH_SIZE = 256\n",
        "\n",
        "history_v2 = model.fit(\n",
        "  normed_train_data, train_labels,\n",
        "  epochs=EPOCHS, \n",
        "  validation_data = (normed_validation_data, validation_labels), \n",
        "  batch_size=BATCH_SIZE,\n",
        "  verbose=2,\n",
        "  callbacks=[model_checkpoint, early_stopping]\n",
        "  )"
      ],
      "execution_count": 188,
      "outputs": [
        {
          "output_type": "stream",
          "text": [
            "Epoch 1/10\n",
            "713/713 - 7s - loss: 0.1935 - auroc: 0.5105 - auprc: 0.0018 - val_loss: 0.0155 - val_auroc: 0.4845 - val_auprc: 0.0016\n",
            "Epoch 2/10\n",
            "713/713 - 7s - loss: 0.0165 - auroc: 0.5375 - auprc: 0.0022 - val_loss: 0.0128 - val_auroc: 0.5000 - val_auprc: 0.0017\n",
            "Epoch 3/10\n",
            "713/713 - 7s - loss: 0.0146 - auroc: 0.5126 - auprc: 0.0019 - val_loss: 0.0131 - val_auroc: 0.5000 - val_auprc: 0.0017\n",
            "Epoch 4/10\n",
            "713/713 - 7s - loss: 0.0143 - auroc: 0.5017 - auprc: 0.0018 - val_loss: 0.0129 - val_auroc: 0.5000 - val_auprc: 0.0017\n",
            "Epoch 5/10\n",
            "713/713 - 7s - loss: 0.0138 - auroc: 0.5118 - auprc: 0.0019 - val_loss: 0.0129 - val_auroc: 0.5000 - val_auprc: 0.0017\n",
            "Epoch 6/10\n",
            "713/713 - 7s - loss: 0.0137 - auroc: 0.5083 - auprc: 0.0018 - val_loss: 0.0128 - val_auroc: 0.5000 - val_auprc: 0.0017\n",
            "Epoch 7/10\n",
            "713/713 - 7s - loss: 0.0136 - auroc: 0.5222 - auprc: 0.0020 - val_loss: 0.0130 - val_auroc: 0.5000 - val_auprc: 0.0017\n",
            "Epoch 8/10\n",
            "713/713 - 7s - loss: 0.0137 - auroc: 0.5077 - auprc: 0.0018 - val_loss: 0.0126 - val_auroc: 0.5000 - val_auprc: 0.0017\n",
            "Epoch 9/10\n",
            "713/713 - 7s - loss: 0.0135 - auroc: 0.5103 - auprc: 0.0018 - val_loss: 0.0127 - val_auroc: 0.5000 - val_auprc: 0.0017\n",
            "Epoch 10/10\n",
            "713/713 - 7s - loss: 0.0134 - auroc: 0.5241 - auprc: 0.0020 - val_loss: 0.0126 - val_auroc: 0.5000 - val_auprc: 0.0017\n"
          ],
          "name": "stdout"
        }
      ]
    },
    {
      "cell_type": "code",
      "metadata": {
        "id": "6KomB06jmZhm",
        "colab_type": "code",
        "colab": {
          "base_uri": "https://localhost:8080/",
          "height": 839
        },
        "outputId": "ce5a3b62-2a48-4919-aee5-0ba582ab713e"
      },
      "source": [
        "plot_results(history_v2)"
      ],
      "execution_count": 189,
      "outputs": [
        {
          "output_type": "display_data",
          "data": {
            "image/png": "[encoded data removed]",
            "text/plain": [
              "<Figure size 1440x1008 with 2 Axes>"
            ]
          },
          "metadata": {
            "tags": [],
            "needs_background": "light"
          }
        }
      ]
    },
    {
      "cell_type": "markdown",
      "metadata": {
        "id": "YdME4G5vtBGm",
        "colab_type": "text"
      },
      "source": [
        "### David's code"
      ]
    },
    {
      "cell_type": "code",
      "metadata": {
        "id": "nXHA2N7emfN7",
        "colab_type": "code",
        "colab": {
          "base_uri": "https://localhost:8080/",
          "height": 629
        },
        "outputId": "1f22324a-7ce0-457c-8da7-69a7fb58d02f"
      },
      "source": [
        "from tensorflow.keras.layers import Dense, Input, ELU, Dropout, BatchNormalization\n",
        "from tensorflow.keras.optimizers import Adam\n",
        "from tensorflow.keras.models import Model\n",
        "\n",
        "def create_model():\n",
        "  tf.keras.backend.clear_session()\n",
        "  input1 = Input(shape=(normed_train_data.shape[1],), name='input1')\n",
        "  x = Dense(96)(input1)\n",
        "  x = BatchNormalization()(x)\n",
        "  x = ELU()(x)\n",
        "  x = Dropout(0.33)(x)\n",
        "  x = Dense(96)(x)\n",
        "  x = BatchNormalization()(x)\n",
        "  x = ELU()(x)\n",
        "  x = Dropout(0.33)(x)\n",
        "  x = Dense(96)(x)\n",
        "  x = BatchNormalization()(x)\n",
        "  x = ELU()(x)\n",
        "  x = Dropout(0.33)(x)\n",
        "  out = Dense(1, activation='sigmoid', name='out')(x)\n",
        "\n",
        "  _model = Model(inputs=[input1], outputs=[out])\n",
        "  _model.summary()\n",
        "\n",
        "  _model.compile(optimizer=Adam(), loss='binary_crossentropy', \n",
        "                 metrics=[tf.keras.metrics.AUC(curve='ROC', name='auroc'), \n",
        "                          tf.keras.metrics.AUC(curve='PR', name='auprc')])\n",
        "  return _model\n",
        "\n",
        "model = create_model()"
      ],
      "execution_count": 190,
      "outputs": [
        {
          "output_type": "stream",
          "text": [
            "Model: \"functional_1\"\n",
            "_________________________________________________________________\n",
            "Layer (type)                 Output Shape              Param #   \n",
            "=================================================================\n",
            "input1 (InputLayer)          [(None, 30)]              0         \n",
            "_________________________________________________________________\n",
            "dense (Dense)                (None, 96)                2976      \n",
            "_________________________________________________________________\n",
            "batch_normalization (BatchNo (None, 96)                384       \n",
            "_________________________________________________________________\n",
            "elu (ELU)                    (None, 96)                0         \n",
            "_________________________________________________________________\n",
            "dropout (Dropout)            (None, 96)                0         \n",
            "_________________________________________________________________\n",
            "dense_1 (Dense)              (None, 96)                9312      \n",
            "_________________________________________________________________\n",
            "batch_normalization_1 (Batch (None, 96)                384       \n",
            "_________________________________________________________________\n",
            "elu_1 (ELU)                  (None, 96)                0         \n",
            "_________________________________________________________________\n",
            "dropout_1 (Dropout)          (None, 96)                0         \n",
            "_________________________________________________________________\n",
            "dense_2 (Dense)              (None, 96)                9312      \n",
            "_________________________________________________________________\n",
            "batch_normalization_2 (Batch (None, 96)                384       \n",
            "_________________________________________________________________\n",
            "elu_2 (ELU)                  (None, 96)                0         \n",
            "_________________________________________________________________\n",
            "dropout_2 (Dropout)          (None, 96)                0         \n",
            "_________________________________________________________________\n",
            "out (Dense)                  (None, 1)                 97        \n",
            "=================================================================\n",
            "Total params: 22,849\n",
            "Trainable params: 22,273\n",
            "Non-trainable params: 576\n",
            "_________________________________________________________________\n"
          ],
          "name": "stdout"
        }
      ]
    },
    {
      "cell_type": "code",
      "metadata": {
        "id": "lCWJUykdnBt7",
        "colab_type": "code",
        "colab": {
          "base_uri": "https://localhost:8080/",
          "height": 357
        },
        "outputId": "9f7d1a77-7254-47fb-8f87-1653f1721e66"
      },
      "source": [
        "BATCH_SIZE=256\n",
        "\n",
        "from tensorflow.keras.callbacks import ModelCheckpoint, EarlyStopping\n",
        "checkpoint_filepath = 'model.h5'\n",
        "mc = ModelCheckpoint(checkpoint_filepath, verbose=0, save_weights_only=True, \n",
        "                     monitor='val_auprc', mode='max', save_best_only=True)\n",
        "\n",
        "es = EarlyStopping(monitor='val_auprc', patience=10, verbose=1, mode='max')\n",
        "\n",
        "history = model.fit(normed_train_data, train_labels, epochs=10, verbose=2, callbacks=[es, mc], \n",
        "                    validation_data=(normed_validation_data, validation_labels), batch_size=BATCH_SIZE)"
      ],
      "execution_count": 191,
      "outputs": [
        {
          "output_type": "stream",
          "text": [
            "Epoch 1/10\n",
            "713/713 - 7s - loss: 0.1023 - auroc: 0.5060 - auprc: 0.0018 - val_loss: 0.0131 - val_auroc: 0.5000 - val_auprc: 0.0017\n",
            "Epoch 2/10\n",
            "713/713 - 7s - loss: 0.0169 - auroc: 0.4856 - auprc: 0.0016 - val_loss: 0.0137 - val_auroc: 0.5000 - val_auprc: 0.0017\n",
            "Epoch 3/10\n",
            "713/713 - 7s - loss: 0.0158 - auroc: 0.5091 - auprc: 0.0020 - val_loss: 0.0136 - val_auroc: 0.5000 - val_auprc: 0.0017\n",
            "Epoch 4/10\n",
            "713/713 - 7s - loss: 0.0153 - auroc: 0.4948 - auprc: 0.0017 - val_loss: 0.0134 - val_auroc: 0.5000 - val_auprc: 0.0017\n",
            "Epoch 5/10\n",
            "713/713 - 7s - loss: 0.0153 - auroc: 0.5045 - auprc: 0.0018 - val_loss: 0.0130 - val_auroc: 0.5000 - val_auprc: 0.0017\n",
            "Epoch 6/10\n",
            "713/713 - 7s - loss: 0.0150 - auroc: 0.4997 - auprc: 0.0018 - val_loss: 0.0130 - val_auroc: 0.5000 - val_auprc: 0.0017\n",
            "Epoch 7/10\n",
            "713/713 - 7s - loss: 0.0145 - auroc: 0.5032 - auprc: 0.0018 - val_loss: 0.0132 - val_auroc: 0.5000 - val_auprc: 0.0017\n",
            "Epoch 8/10\n",
            "713/713 - 7s - loss: 0.0143 - auroc: 0.5084 - auprc: 0.0018 - val_loss: 0.0129 - val_auroc: 0.5000 - val_auprc: 0.0017\n",
            "Epoch 9/10\n",
            "713/713 - 7s - loss: 0.0139 - auroc: 0.5205 - auprc: 0.0020 - val_loss: 0.0129 - val_auroc: 0.5789 - val_auprc: 0.0107\n",
            "Epoch 10/10\n",
            "713/713 - 7s - loss: 0.0135 - auroc: 0.5577 - auprc: 0.0032 - val_loss: 0.0132 - val_auroc: 0.5000 - val_auprc: 0.0017\n"
          ],
          "name": "stdout"
        }
      ]
    },
    {
      "cell_type": "code",
      "metadata": {
        "id": "3YgA2fUenOO6",
        "colab_type": "code",
        "colab": {
          "base_uri": "https://localhost:8080/",
          "height": 839
        },
        "outputId": "f6e4dfc2-655c-4d3c-b984-dec21102693b"
      },
      "source": [
        "plot_results(history)"
      ],
      "execution_count": 192,
      "outputs": [
        {
          "output_type": "display_data",
          "data": {
            "image/png": "[encoded data removed]",
            "text/plain": [
              "<Figure size 1440x1008 with 2 Axes>"
            ]
          },
          "metadata": {
            "tags": [],
            "needs_background": "light"
          }
        }
      ]
    },
    {
      "cell_type": "code",
      "metadata": {
        "id": "fW3V4Q72oM3i",
        "colab_type": "code",
        "colab": {
          "base_uri": "https://localhost:8080/",
          "height": 224
        },
        "outputId": "f1e36e7f-e291-46ae-9a45-55b55dfc92cb"
      },
      "source": [
        "df = pd.read_csv('creditcard.csv')\n",
        "df.head()"
      ],
      "execution_count": 208,
      "outputs": [
        {
          "output_type": "execute_result",
          "data": {
            "text/html": [
              "<div>\n",
              "<style scoped>\n",
              "    .dataframe tbody tr th:only-of-type {\n",
              "        vertical-align: middle;\n",
              "    }\n",
              "\n",
              "    .dataframe tbody tr th {\n",
              "        vertical-align: top;\n",
              "    }\n",
              "\n",
              "    .dataframe thead th {\n",
              "        text-align: right;\n",
              "    }\n",
              "</style>\n",
              "<table border=\"1\" class=\"dataframe\">\n",
              "  <thead>\n",
              "    <tr style=\"text-align: right;\">\n",
              "      <th></th>\n",
              "      <th>Time</th>\n",
              "      <th>V1</th>\n",
              "      <th>V2</th>\n",
              "      <th>V3</th>\n",
              "      <th>V4</th>\n",
              "      <th>V5</th>\n",
              "      <th>V6</th>\n",
              "      <th>V7</th>\n",
              "      <th>V8</th>\n",
              "      <th>V9</th>\n",
              "      <th>V10</th>\n",
              "      <th>V11</th>\n",
              "      <th>V12</th>\n",
              "      <th>V13</th>\n",
              "      <th>V14</th>\n",
              "      <th>V15</th>\n",
              "      <th>V16</th>\n",
              "      <th>V17</th>\n",
              "      <th>V18</th>\n",
              "      <th>V19</th>\n",
              "      <th>V20</th>\n",
              "      <th>V21</th>\n",
              "      <th>V22</th>\n",
              "      <th>V23</th>\n",
              "      <th>V24</th>\n",
              "      <th>V25</th>\n",
              "      <th>V26</th>\n",
              "      <th>V27</th>\n",
              "      <th>V28</th>\n",
              "      <th>Amount</th>\n",
              "      <th>Class</th>\n",
              "    </tr>\n",
              "  </thead>\n",
              "  <tbody>\n",
              "    <tr>\n",
              "      <th>0</th>\n",
              "      <td>0.0</td>\n",
              "      <td>-1.359807</td>\n",
              "      <td>-0.072781</td>\n",
              "      <td>2.536347</td>\n",
              "      <td>1.378155</td>\n",
              "      <td>-0.338321</td>\n",
              "      <td>0.462388</td>\n",
              "      <td>0.239599</td>\n",
              "      <td>0.098698</td>\n",
              "      <td>0.363787</td>\n",
              "      <td>0.090794</td>\n",
              "      <td>-0.551600</td>\n",
              "      <td>-0.617801</td>\n",
              "      <td>-0.991390</td>\n",
              "      <td>-0.311169</td>\n",
              "      <td>1.468177</td>\n",
              "      <td>-0.470401</td>\n",
              "      <td>0.207971</td>\n",
              "      <td>0.025791</td>\n",
              "      <td>0.403993</td>\n",
              "      <td>0.251412</td>\n",
              "      <td>-0.018307</td>\n",
              "      <td>0.277838</td>\n",
              "      <td>-0.110474</td>\n",
              "      <td>0.066928</td>\n",
              "      <td>0.128539</td>\n",
              "      <td>-0.189115</td>\n",
              "      <td>0.133558</td>\n",
              "      <td>-0.021053</td>\n",
              "      <td>149.62</td>\n",
              "      <td>0</td>\n",
              "    </tr>\n",
              "    <tr>\n",
              "      <th>1</th>\n",
              "      <td>0.0</td>\n",
              "      <td>1.191857</td>\n",
              "      <td>0.266151</td>\n",
              "      <td>0.166480</td>\n",
              "      <td>0.448154</td>\n",
              "      <td>0.060018</td>\n",
              "      <td>-0.082361</td>\n",
              "      <td>-0.078803</td>\n",
              "      <td>0.085102</td>\n",
              "      <td>-0.255425</td>\n",
              "      <td>-0.166974</td>\n",
              "      <td>1.612727</td>\n",
              "      <td>1.065235</td>\n",
              "      <td>0.489095</td>\n",
              "      <td>-0.143772</td>\n",
              "      <td>0.635558</td>\n",
              "      <td>0.463917</td>\n",
              "      <td>-0.114805</td>\n",
              "      <td>-0.183361</td>\n",
              "      <td>-0.145783</td>\n",
              "      <td>-0.069083</td>\n",
              "      <td>-0.225775</td>\n",
              "      <td>-0.638672</td>\n",
              "      <td>0.101288</td>\n",
              "      <td>-0.339846</td>\n",
              "      <td>0.167170</td>\n",
              "      <td>0.125895</td>\n",
              "      <td>-0.008983</td>\n",
              "      <td>0.014724</td>\n",
              "      <td>2.69</td>\n",
              "      <td>0</td>\n",
              "    </tr>\n",
              "    <tr>\n",
              "      <th>2</th>\n",
              "      <td>1.0</td>\n",
              "      <td>-1.358354</td>\n",
              "      <td>-1.340163</td>\n",
              "      <td>1.773209</td>\n",
              "      <td>0.379780</td>\n",
              "      <td>-0.503198</td>\n",
              "      <td>1.800499</td>\n",
              "      <td>0.791461</td>\n",
              "      <td>0.247676</td>\n",
              "      <td>-1.514654</td>\n",
              "      <td>0.207643</td>\n",
              "      <td>0.624501</td>\n",
              "      <td>0.066084</td>\n",
              "      <td>0.717293</td>\n",
              "      <td>-0.165946</td>\n",
              "      <td>2.345865</td>\n",
              "      <td>-2.890083</td>\n",
              "      <td>1.109969</td>\n",
              "      <td>-0.121359</td>\n",
              "      <td>-2.261857</td>\n",
              "      <td>0.524980</td>\n",
              "      <td>0.247998</td>\n",
              "      <td>0.771679</td>\n",
              "      <td>0.909412</td>\n",
              "      <td>-0.689281</td>\n",
              "      <td>-0.327642</td>\n",
              "      <td>-0.139097</td>\n",
              "      <td>-0.055353</td>\n",
              "      <td>-0.059752</td>\n",
              "      <td>378.66</td>\n",
              "      <td>0</td>\n",
              "    </tr>\n",
              "    <tr>\n",
              "      <th>3</th>\n",
              "      <td>1.0</td>\n",
              "      <td>-0.966272</td>\n",
              "      <td>-0.185226</td>\n",
              "      <td>1.792993</td>\n",
              "      <td>-0.863291</td>\n",
              "      <td>-0.010309</td>\n",
              "      <td>1.247203</td>\n",
              "      <td>0.237609</td>\n",
              "      <td>0.377436</td>\n",
              "      <td>-1.387024</td>\n",
              "      <td>-0.054952</td>\n",
              "      <td>-0.226487</td>\n",
              "      <td>0.178228</td>\n",
              "      <td>0.507757</td>\n",
              "      <td>-0.287924</td>\n",
              "      <td>-0.631418</td>\n",
              "      <td>-1.059647</td>\n",
              "      <td>-0.684093</td>\n",
              "      <td>1.965775</td>\n",
              "      <td>-1.232622</td>\n",
              "      <td>-0.208038</td>\n",
              "      <td>-0.108300</td>\n",
              "      <td>0.005274</td>\n",
              "      <td>-0.190321</td>\n",
              "      <td>-1.175575</td>\n",
              "      <td>0.647376</td>\n",
              "      <td>-0.221929</td>\n",
              "      <td>0.062723</td>\n",
              "      <td>0.061458</td>\n",
              "      <td>123.50</td>\n",
              "      <td>0</td>\n",
              "    </tr>\n",
              "    <tr>\n",
              "      <th>4</th>\n",
              "      <td>2.0</td>\n",
              "      <td>-1.158233</td>\n",
              "      <td>0.877737</td>\n",
              "      <td>1.548718</td>\n",
              "      <td>0.403034</td>\n",
              "      <td>-0.407193</td>\n",
              "      <td>0.095921</td>\n",
              "      <td>0.592941</td>\n",
              "      <td>-0.270533</td>\n",
              "      <td>0.817739</td>\n",
              "      <td>0.753074</td>\n",
              "      <td>-0.822843</td>\n",
              "      <td>0.538196</td>\n",
              "      <td>1.345852</td>\n",
              "      <td>-1.119670</td>\n",
              "      <td>0.175121</td>\n",
              "      <td>-0.451449</td>\n",
              "      <td>-0.237033</td>\n",
              "      <td>-0.038195</td>\n",
              "      <td>0.803487</td>\n",
              "      <td>0.408542</td>\n",
              "      <td>-0.009431</td>\n",
              "      <td>0.798278</td>\n",
              "      <td>-0.137458</td>\n",
              "      <td>0.141267</td>\n",
              "      <td>-0.206010</td>\n",
              "      <td>0.502292</td>\n",
              "      <td>0.219422</td>\n",
              "      <td>0.215153</td>\n",
              "      <td>69.99</td>\n",
              "      <td>0</td>\n",
              "    </tr>\n",
              "  </tbody>\n",
              "</table>\n",
              "</div>"
            ],
            "text/plain": [
              "   Time        V1        V2        V3  ...       V27       V28  Amount  Class\n",
              "0   0.0 -1.359807 -0.072781  2.536347  ...  0.133558 -0.021053  149.62      0\n",
              "1   0.0  1.191857  0.266151  0.166480  ... -0.008983  0.014724    2.69      0\n",
              "2   1.0 -1.358354 -1.340163  1.773209  ... -0.055353 -0.059752  378.66      0\n",
              "3   1.0 -0.966272 -0.185226  1.792993  ...  0.062723  0.061458  123.50      0\n",
              "4   2.0 -1.158233  0.877737  1.548718  ...  0.219422  0.215153   69.99      0\n",
              "\n",
              "[5 rows x 31 columns]"
            ]
          },
          "metadata": {
            "tags": []
          },
          "execution_count": 208
        }
      ]
    },
    {
      "cell_type": "code",
      "metadata": {
        "id": "xE-IbbIls7Cr",
        "colab_type": "code",
        "colab": {}
      },
      "source": [
        "from sklearn.preprocessing import RobustScaler\n",
        "scaler = RobustScaler()\n",
        "\n",
        "df['scaled_amount'] = scaler.fit_transform(df['Amount'].values.reshape(-1,1))\n",
        "df['scaled_time'] = scaler.fit_transform(df['Time'].values.reshape(-1,1))\n",
        "\n",
        "df.drop(['Time','Amount'], axis=1, inplace=True)"
      ],
      "execution_count": 197,
      "outputs": []
    },
    {
      "cell_type": "code",
      "metadata": {
        "id": "wUrHOwCps9KE",
        "colab_type": "code",
        "colab": {}
      },
      "source": [
        "from sklearn.model_selection import train_test_split\n",
        "train_df, test_df = train_test_split(df, stratify=df['Class'], test_size=0.2, random_state=seed)\n",
        "train_df, val_df = train_test_split(train_df, stratify=train_df['Class'], test_size=0.2, random_state=seed)"
      ],
      "execution_count": 198,
      "outputs": []
    },
    {
      "cell_type": "code",
      "metadata": {
        "id": "1ZXKGNA7tI2s",
        "colab_type": "code",
        "colab": {}
      },
      "source": [
        "y_train = train_df['Class'].values\n",
        "y_val = val_df['Class'].values\n",
        "y_test = test_df['Class'].values\n",
        "x_train = train_df.drop(['Class'], axis='columns').values\n",
        "x_val = val_df.drop(['Class'], axis='columns').values\n",
        "x_test = test_df.drop(['Class'], axis='columns').values"
      ],
      "execution_count": 199,
      "outputs": []
    },
    {
      "cell_type": "code",
      "metadata": {
        "id": "1NpFu4qZtK1D",
        "colab_type": "code",
        "colab": {}
      },
      "source": [
        "from numpy import bincount\n",
        "neg, pos = bincount(y_train)\n",
        "total = neg + pos"
      ],
      "execution_count": 200,
      "outputs": []
    },
    {
      "cell_type": "code",
      "metadata": {
        "id": "MGV-7eRvtNuU",
        "colab_type": "code",
        "colab": {}
      },
      "source": [
        "def compute_metrics(y_true, y_pred):\n",
        "  tp = tf.keras.metrics.TruePositives()\n",
        "  tp.update_state(y_true, y_pred)\n",
        "  tp = int(tp.result().numpy())\n",
        "  fp = tf.keras.metrics.FalsePositives()\n",
        "  fp.update_state(y_true, y_pred)\n",
        "  fp = int(fp.result().numpy())\n",
        "  tn = tf.keras.metrics.TrueNegatives()\n",
        "  tn.update_state(y_true, y_pred)\n",
        "  tn = int(tn.result().numpy())\n",
        "  fn = tf.keras.metrics.FalseNegatives()\n",
        "  fn.update_state(y_true, y_pred)\n",
        "  fn = int(fn.result().numpy())\n",
        "  return [tp, fn, fp, tn]"
      ],
      "execution_count": 201,
      "outputs": []
    },
    {
      "cell_type": "code",
      "metadata": {
        "id": "hvBvl534tPV0",
        "colab_type": "code",
        "colab": {}
      },
      "source": [
        "tp_df = pd.DataFrame()\n",
        "fn_df = pd.DataFrame()\n",
        "fp_df = pd.DataFrame()\n",
        "tn_df = pd.DataFrame()"
      ],
      "execution_count": 202,
      "outputs": []
    },
    {
      "cell_type": "code",
      "metadata": {
        "id": "JceTYlnStRnk",
        "colab_type": "code",
        "colab": {}
      },
      "source": [
        "def print_metrics(metrics):\n",
        "  print('Fraudulent Transactions Detected (True Positives): ' + str(metrics[0]))\n",
        "  print('Fraudulent Transactions Missed (False Negatives): ' + str(metrics[1]))\n",
        "  print('Legitimate Transactions Incorrectly Detected (False Positives): ' + str(metrics[2]))\n",
        "  print('Legitimate Transactions Detected (True Negatives): ' + str(metrics[3]))"
      ],
      "execution_count": 203,
      "outputs": []
    },
    {
      "cell_type": "code",
      "metadata": {
        "id": "aQBncRsCtTHD",
        "colab_type": "code",
        "colab": {
          "base_uri": "https://localhost:8080/",
          "height": 629
        },
        "outputId": "dc29d95e-25e5-47ba-c58b-833db0999138"
      },
      "source": [
        "from tensorflow.keras.layers import Dense, Input, ELU, Dropout, BatchNormalization\n",
        "from tensorflow.keras.optimizers import Adam\n",
        "from tensorflow.keras.models import Model\n",
        "\n",
        "def create_model():\n",
        "  tf.keras.backend.clear_session()\n",
        "  input1 = Input(shape=(x_train.shape[1],), name='input1')\n",
        "  x = Dense(96)(input1)\n",
        "  x = BatchNormalization()(x)\n",
        "  x = ELU()(x)\n",
        "  x = Dropout(0.33)(x)\n",
        "  x = Dense(96)(x)\n",
        "  x = BatchNormalization()(x)\n",
        "  x = ELU()(x)\n",
        "  x = Dropout(0.33)(x)\n",
        "  x = Dense(96)(x)\n",
        "  x = BatchNormalization()(x)\n",
        "  x = ELU()(x)\n",
        "  x = Dropout(0.33)(x)\n",
        "  out = Dense(1, activation='sigmoid', name='out')(x)\n",
        "\n",
        "  _model = Model(inputs=[input1], outputs=[out])\n",
        "  _model.summary()\n",
        "\n",
        "  _model.compile(optimizer=Adam(), loss='binary_crossentropy', \n",
        "                 metrics=[tf.keras.metrics.AUC(curve='ROC', name='auroc'), \n",
        "                          tf.keras.metrics.AUC(curve='PR', name='auprc')])\n",
        "  return _model\n",
        "\n",
        "model = create_model()"
      ],
      "execution_count": 204,
      "outputs": [
        {
          "output_type": "stream",
          "text": [
            "Model: \"functional_1\"\n",
            "_________________________________________________________________\n",
            "Layer (type)                 Output Shape              Param #   \n",
            "=================================================================\n",
            "input1 (InputLayer)          [(None, 30)]              0         \n",
            "_________________________________________________________________\n",
            "dense (Dense)                (None, 96)                2976      \n",
            "_________________________________________________________________\n",
            "batch_normalization (BatchNo (None, 96)                384       \n",
            "_________________________________________________________________\n",
            "elu (ELU)                    (None, 96)                0         \n",
            "_________________________________________________________________\n",
            "dropout (Dropout)            (None, 96)                0         \n",
            "_________________________________________________________________\n",
            "dense_1 (Dense)              (None, 96)                9312      \n",
            "_________________________________________________________________\n",
            "batch_normalization_1 (Batch (None, 96)                384       \n",
            "_________________________________________________________________\n",
            "elu_1 (ELU)                  (None, 96)                0         \n",
            "_________________________________________________________________\n",
            "dropout_1 (Dropout)          (None, 96)                0         \n",
            "_________________________________________________________________\n",
            "dense_2 (Dense)              (None, 96)                9312      \n",
            "_________________________________________________________________\n",
            "batch_normalization_2 (Batch (None, 96)                384       \n",
            "_________________________________________________________________\n",
            "elu_2 (ELU)                  (None, 96)                0         \n",
            "_________________________________________________________________\n",
            "dropout_2 (Dropout)          (None, 96)                0         \n",
            "_________________________________________________________________\n",
            "out (Dense)                  (None, 1)                 97        \n",
            "=================================================================\n",
            "Total params: 22,849\n",
            "Trainable params: 22,273\n",
            "Non-trainable params: 576\n",
            "_________________________________________________________________\n"
          ],
          "name": "stdout"
        }
      ]
    },
    {
      "cell_type": "code",
      "metadata": {
        "id": "Le5wzHTutWdE",
        "colab_type": "code",
        "colab": {
          "base_uri": "https://localhost:8080/",
          "height": 357
        },
        "outputId": "eba2b58a-1245-4815-e580-23c8636bc7d6"
      },
      "source": [
        "from tensorflow.keras.callbacks import ModelCheckpoint, EarlyStopping\n",
        "\n",
        "checkpoint_filepath = 'model.h5'\n",
        "mc = ModelCheckpoint(checkpoint_filepath, verbose=0, save_weights_only=True, \n",
        "                     monitor='val_auprc', mode='max', save_best_only=True)\n",
        "\n",
        "es = EarlyStopping(monitor='val_auprc', patience=10, verbose=1, mode='max')\n",
        "\n",
        "BATCH_SIZE=256\n",
        "history = model.fit(x_train, y_train, epochs=10, verbose=2, callbacks=[es, mc], \n",
        "                    validation_data=(x_val, y_val), batch_size=BATCH_SIZE)"
      ],
      "execution_count": 205,
      "outputs": [
        {
          "output_type": "stream",
          "text": [
            "Epoch 1/10\n",
            "713/713 - 7s - loss: 0.0648 - auroc: 0.8157 - auprc: 0.1931 - val_loss: 0.0052 - val_auroc: 0.9547 - val_auprc: 0.7624\n",
            "Epoch 2/10\n",
            "713/713 - 7s - loss: 0.0074 - auroc: 0.9068 - auprc: 0.5832 - val_loss: 0.0049 - val_auroc: 0.9365 - val_auprc: 0.7600\n",
            "Epoch 3/10\n",
            "713/713 - 7s - loss: 0.0056 - auroc: 0.9177 - auprc: 0.6381 - val_loss: 0.0040 - val_auroc: 0.9428 - val_auprc: 0.7725\n",
            "Epoch 4/10\n",
            "713/713 - 7s - loss: 0.0048 - auroc: 0.9262 - auprc: 0.6887 - val_loss: 0.0032 - val_auroc: 0.9491 - val_auprc: 0.7858\n",
            "Epoch 5/10\n",
            "713/713 - 7s - loss: 0.0044 - auroc: 0.9233 - auprc: 0.7011 - val_loss: 0.0030 - val_auroc: 0.9554 - val_auprc: 0.7980\n",
            "Epoch 6/10\n",
            "713/713 - 7s - loss: 0.0042 - auroc: 0.9315 - auprc: 0.6988 - val_loss: 0.0028 - val_auroc: 0.9366 - val_auprc: 0.8329\n",
            "Epoch 7/10\n",
            "713/713 - 7s - loss: 0.0041 - auroc: 0.9255 - auprc: 0.7228 - val_loss: 0.0027 - val_auroc: 0.9428 - val_auprc: 0.8299\n",
            "Epoch 8/10\n",
            "713/713 - 7s - loss: 0.0039 - auroc: 0.9351 - auprc: 0.7191 - val_loss: 0.0027 - val_auroc: 0.9429 - val_auprc: 0.8375\n",
            "Epoch 9/10\n",
            "713/713 - 7s - loss: 0.0038 - auroc: 0.9289 - auprc: 0.7367 - val_loss: 0.0024 - val_auroc: 0.9679 - val_auprc: 0.8596\n",
            "Epoch 10/10\n",
            "713/713 - 7s - loss: 0.0035 - auroc: 0.9401 - auprc: 0.7576 - val_loss: 0.0025 - val_auroc: 0.9618 - val_auprc: 0.8613\n"
          ],
          "name": "stdout"
        }
      ]
    },
    {
      "cell_type": "code",
      "metadata": {
        "id": "zsqdEMKEtb3M",
        "colab_type": "code",
        "colab": {
          "base_uri": "https://localhost:8080/",
          "height": 51
        },
        "outputId": "9f2e8590-add8-4013-f4dc-0d70e571724a"
      },
      "source": [
        "model.load_weights(checkpoint_filepath)\n",
        "model.evaluate(x_test, y_test)"
      ],
      "execution_count": 206,
      "outputs": [
        {
          "output_type": "stream",
          "text": [
            "1781/1781 [==============================] - 9s 5ms/step - loss: 0.0034 - auroc: 0.9231 - auprc: 0.8012\n"
          ],
          "name": "stdout"
        },
        {
          "output_type": "execute_result",
          "data": {
            "text/plain": [
              "[0.0034446322824805975, 0.9230765700340271, 0.8011783957481384]"
            ]
          },
          "metadata": {
            "tags": []
          },
          "execution_count": 206
        }
      ]
    },
    {
      "cell_type": "code",
      "metadata": {
        "id": "pLreHOrVtfTL",
        "colab_type": "code",
        "colab": {
          "base_uri": "https://localhost:8080/",
          "height": 839
        },
        "outputId": "c367e14c-224c-4ba2-9eda-643fd3c09f81"
      },
      "source": [
        "plot_results(history)"
      ],
      "execution_count": 207,
      "outputs": [
        {
          "output_type": "display_data",
          "data": {
            "image/png": "[encoded data removed]",
            "text/plain": [
              "<Figure size 1440x1008 with 2 Axes>"
            ]
          },
          "metadata": {
            "tags": [],
            "needs_background": "light"
          }
        }
      ]
    },
    {
      "cell_type": "markdown",
      "metadata": {
        "id": "kS5_nUUpt31j",
        "colab_type": "text"
      },
      "source": [
        "### No scaling done for Time and Amount"
      ]
    },
    {
      "cell_type": "code",
      "metadata": {
        "colab_type": "code",
        "id": "nA02G1yxt3UB",
        "colab": {
          "base_uri": "https://localhost:8080/",
          "height": 224
        },
        "outputId": "43c41abe-6163-44fa-d90c-937c6ab1a718"
      },
      "source": [
        "df = pd.read_csv('creditcard.csv')\n",
        "df.head()"
      ],
      "execution_count": 209,
      "outputs": [
        {
          "output_type": "execute_result",
          "data": {
            "text/html": [
              "<div>\n",
              "<style scoped>\n",
              "    .dataframe tbody tr th:only-of-type {\n",
              "        vertical-align: middle;\n",
              "    }\n",
              "\n",
              "    .dataframe tbody tr th {\n",
              "        vertical-align: top;\n",
              "    }\n",
              "\n",
              "    .dataframe thead th {\n",
              "        text-align: right;\n",
              "    }\n",
              "</style>\n",
              "<table border=\"1\" class=\"dataframe\">\n",
              "  <thead>\n",
              "    <tr style=\"text-align: right;\">\n",
              "      <th></th>\n",
              "      <th>Time</th>\n",
              "      <th>V1</th>\n",
              "      <th>V2</th>\n",
              "      <th>V3</th>\n",
              "      <th>V4</th>\n",
              "      <th>V5</th>\n",
              "      <th>V6</th>\n",
              "      <th>V7</th>\n",
              "      <th>V8</th>\n",
              "      <th>V9</th>\n",
              "      <th>V10</th>\n",
              "      <th>V11</th>\n",
              "      <th>V12</th>\n",
              "      <th>V13</th>\n",
              "      <th>V14</th>\n",
              "      <th>V15</th>\n",
              "      <th>V16</th>\n",
              "      <th>V17</th>\n",
              "      <th>V18</th>\n",
              "      <th>V19</th>\n",
              "      <th>V20</th>\n",
              "      <th>V21</th>\n",
              "      <th>V22</th>\n",
              "      <th>V23</th>\n",
              "      <th>V24</th>\n",
              "      <th>V25</th>\n",
              "      <th>V26</th>\n",
              "      <th>V27</th>\n",
              "      <th>V28</th>\n",
              "      <th>Amount</th>\n",
              "      <th>Class</th>\n",
              "    </tr>\n",
              "  </thead>\n",
              "  <tbody>\n",
              "    <tr>\n",
              "      <th>0</th>\n",
              "      <td>0.0</td>\n",
              "      <td>-1.359807</td>\n",
              "      <td>-0.072781</td>\n",
              "      <td>2.536347</td>\n",
              "      <td>1.378155</td>\n",
              "      <td>-0.338321</td>\n",
              "      <td>0.462388</td>\n",
              "      <td>0.239599</td>\n",
              "      <td>0.098698</td>\n",
              "      <td>0.363787</td>\n",
              "      <td>0.090794</td>\n",
              "      <td>-0.551600</td>\n",
              "      <td>-0.617801</td>\n",
              "      <td>-0.991390</td>\n",
              "      <td>-0.311169</td>\n",
              "      <td>1.468177</td>\n",
              "      <td>-0.470401</td>\n",
              "      <td>0.207971</td>\n",
              "      <td>0.025791</td>\n",
              "      <td>0.403993</td>\n",
              "      <td>0.251412</td>\n",
              "      <td>-0.018307</td>\n",
              "      <td>0.277838</td>\n",
              "      <td>-0.110474</td>\n",
              "      <td>0.066928</td>\n",
              "      <td>0.128539</td>\n",
              "      <td>-0.189115</td>\n",
              "      <td>0.133558</td>\n",
              "      <td>-0.021053</td>\n",
              "      <td>149.62</td>\n",
              "      <td>0</td>\n",
              "    </tr>\n",
              "    <tr>\n",
              "      <th>1</th>\n",
              "      <td>0.0</td>\n",
              "      <td>1.191857</td>\n",
              "      <td>0.266151</td>\n",
              "      <td>0.166480</td>\n",
              "      <td>0.448154</td>\n",
              "      <td>0.060018</td>\n",
              "      <td>-0.082361</td>\n",
              "      <td>-0.078803</td>\n",
              "      <td>0.085102</td>\n",
              "      <td>-0.255425</td>\n",
              "      <td>-0.166974</td>\n",
              "      <td>1.612727</td>\n",
              "      <td>1.065235</td>\n",
              "      <td>0.489095</td>\n",
              "      <td>-0.143772</td>\n",
              "      <td>0.635558</td>\n",
              "      <td>0.463917</td>\n",
              "      <td>-0.114805</td>\n",
              "      <td>-0.183361</td>\n",
              "      <td>-0.145783</td>\n",
              "      <td>-0.069083</td>\n",
              "      <td>-0.225775</td>\n",
              "      <td>-0.638672</td>\n",
              "      <td>0.101288</td>\n",
              "      <td>-0.339846</td>\n",
              "      <td>0.167170</td>\n",
              "      <td>0.125895</td>\n",
              "      <td>-0.008983</td>\n",
              "      <td>0.014724</td>\n",
              "      <td>2.69</td>\n",
              "      <td>0</td>\n",
              "    </tr>\n",
              "    <tr>\n",
              "      <th>2</th>\n",
              "      <td>1.0</td>\n",
              "      <td>-1.358354</td>\n",
              "      <td>-1.340163</td>\n",
              "      <td>1.773209</td>\n",
              "      <td>0.379780</td>\n",
              "      <td>-0.503198</td>\n",
              "      <td>1.800499</td>\n",
              "      <td>0.791461</td>\n",
              "      <td>0.247676</td>\n",
              "      <td>-1.514654</td>\n",
              "      <td>0.207643</td>\n",
              "      <td>0.624501</td>\n",
              "      <td>0.066084</td>\n",
              "      <td>0.717293</td>\n",
              "      <td>-0.165946</td>\n",
              "      <td>2.345865</td>\n",
              "      <td>-2.890083</td>\n",
              "      <td>1.109969</td>\n",
              "      <td>-0.121359</td>\n",
              "      <td>-2.261857</td>\n",
              "      <td>0.524980</td>\n",
              "      <td>0.247998</td>\n",
              "      <td>0.771679</td>\n",
              "      <td>0.909412</td>\n",
              "      <td>-0.689281</td>\n",
              "      <td>-0.327642</td>\n",
              "      <td>-0.139097</td>\n",
              "      <td>-0.055353</td>\n",
              "      <td>-0.059752</td>\n",
              "      <td>378.66</td>\n",
              "      <td>0</td>\n",
              "    </tr>\n",
              "    <tr>\n",
              "      <th>3</th>\n",
              "      <td>1.0</td>\n",
              "      <td>-0.966272</td>\n",
              "      <td>-0.185226</td>\n",
              "      <td>1.792993</td>\n",
              "      <td>-0.863291</td>\n",
              "      <td>-0.010309</td>\n",
              "      <td>1.247203</td>\n",
              "      <td>0.237609</td>\n",
              "      <td>0.377436</td>\n",
              "      <td>-1.387024</td>\n",
              "      <td>-0.054952</td>\n",
              "      <td>-0.226487</td>\n",
              "      <td>0.178228</td>\n",
              "      <td>0.507757</td>\n",
              "      <td>-0.287924</td>\n",
              "      <td>-0.631418</td>\n",
              "      <td>-1.059647</td>\n",
              "      <td>-0.684093</td>\n",
              "      <td>1.965775</td>\n",
              "      <td>-1.232622</td>\n",
              "      <td>-0.208038</td>\n",
              "      <td>-0.108300</td>\n",
              "      <td>0.005274</td>\n",
              "      <td>-0.190321</td>\n",
              "      <td>-1.175575</td>\n",
              "      <td>0.647376</td>\n",
              "      <td>-0.221929</td>\n",
              "      <td>0.062723</td>\n",
              "      <td>0.061458</td>\n",
              "      <td>123.50</td>\n",
              "      <td>0</td>\n",
              "    </tr>\n",
              "    <tr>\n",
              "      <th>4</th>\n",
              "      <td>2.0</td>\n",
              "      <td>-1.158233</td>\n",
              "      <td>0.877737</td>\n",
              "      <td>1.548718</td>\n",
              "      <td>0.403034</td>\n",
              "      <td>-0.407193</td>\n",
              "      <td>0.095921</td>\n",
              "      <td>0.592941</td>\n",
              "      <td>-0.270533</td>\n",
              "      <td>0.817739</td>\n",
              "      <td>0.753074</td>\n",
              "      <td>-0.822843</td>\n",
              "      <td>0.538196</td>\n",
              "      <td>1.345852</td>\n",
              "      <td>-1.119670</td>\n",
              "      <td>0.175121</td>\n",
              "      <td>-0.451449</td>\n",
              "      <td>-0.237033</td>\n",
              "      <td>-0.038195</td>\n",
              "      <td>0.803487</td>\n",
              "      <td>0.408542</td>\n",
              "      <td>-0.009431</td>\n",
              "      <td>0.798278</td>\n",
              "      <td>-0.137458</td>\n",
              "      <td>0.141267</td>\n",
              "      <td>-0.206010</td>\n",
              "      <td>0.502292</td>\n",
              "      <td>0.219422</td>\n",
              "      <td>0.215153</td>\n",
              "      <td>69.99</td>\n",
              "      <td>0</td>\n",
              "    </tr>\n",
              "  </tbody>\n",
              "</table>\n",
              "</div>"
            ],
            "text/plain": [
              "   Time        V1        V2        V3  ...       V27       V28  Amount  Class\n",
              "0   0.0 -1.359807 -0.072781  2.536347  ...  0.133558 -0.021053  149.62      0\n",
              "1   0.0  1.191857  0.266151  0.166480  ... -0.008983  0.014724    2.69      0\n",
              "2   1.0 -1.358354 -1.340163  1.773209  ... -0.055353 -0.059752  378.66      0\n",
              "3   1.0 -0.966272 -0.185226  1.792993  ...  0.062723  0.061458  123.50      0\n",
              "4   2.0 -1.158233  0.877737  1.548718  ...  0.219422  0.215153   69.99      0\n",
              "\n",
              "[5 rows x 31 columns]"
            ]
          },
          "metadata": {
            "tags": []
          },
          "execution_count": 209
        }
      ]
    },
    {
      "cell_type": "code",
      "metadata": {
        "colab_type": "code",
        "id": "ePoMYogkt3UD",
        "colab": {}
      },
      "source": [
        "#from sklearn.preprocessing import RobustScaler\n",
        "#scaler = RobustScaler()\n",
        "\n",
        "#df['scaled_amount'] = scaler.fit_transform(df['Amount'].values.reshape(-1,1))\n",
        "#df['scaled_time'] = scaler.fit_transform(df['Time'].values.reshape(-1,1))\n",
        "\n",
        "#df.drop(['Time','Amount'], axis=1, inplace=True)"
      ],
      "execution_count": 210,
      "outputs": []
    },
    {
      "cell_type": "code",
      "metadata": {
        "colab_type": "code",
        "id": "gGr_MnXxt3UG",
        "colab": {}
      },
      "source": [
        "from sklearn.model_selection import train_test_split\n",
        "train_df, test_df = train_test_split(df, stratify=df['Class'], test_size=0.2, random_state=seed)\n",
        "train_df, val_df = train_test_split(train_df, stratify=train_df['Class'], test_size=0.2, random_state=seed)"
      ],
      "execution_count": 211,
      "outputs": []
    },
    {
      "cell_type": "code",
      "metadata": {
        "colab_type": "code",
        "id": "a_eXkfvat3UH",
        "colab": {}
      },
      "source": [
        "y_train = train_df['Class'].values\n",
        "y_val = val_df['Class'].values\n",
        "y_test = test_df['Class'].values\n",
        "x_train = train_df.drop(['Class'], axis='columns').values\n",
        "x_val = val_df.drop(['Class'], axis='columns').values\n",
        "x_test = test_df.drop(['Class'], axis='columns').values"
      ],
      "execution_count": 212,
      "outputs": []
    },
    {
      "cell_type": "code",
      "metadata": {
        "colab_type": "code",
        "id": "CU4uBt4Yt3UI",
        "colab": {}
      },
      "source": [
        "neg, pos = bincount(y_train)\n",
        "total = neg + pos"
      ],
      "execution_count": 214,
      "outputs": []
    },
    {
      "cell_type": "code",
      "metadata": {
        "colab_type": "code",
        "id": "W-4jL7gtt3UP",
        "colab": {
          "base_uri": "https://localhost:8080/",
          "height": 629
        },
        "outputId": "6bbbedef-3b59-421e-d851-98e33362c2ab"
      },
      "source": [
        "def create_model():\n",
        "  tf.keras.backend.clear_session()\n",
        "  input1 = Input(shape=(x_train.shape[1],), name='input1')\n",
        "  x = Dense(96)(input1)\n",
        "  x = BatchNormalization()(x)\n",
        "  x = ELU()(x)\n",
        "  x = Dropout(0.33)(x)\n",
        "  x = Dense(96)(x)\n",
        "  x = BatchNormalization()(x)\n",
        "  x = ELU()(x)\n",
        "  x = Dropout(0.33)(x)\n",
        "  x = Dense(96)(x)\n",
        "  x = BatchNormalization()(x)\n",
        "  x = ELU()(x)\n",
        "  x = Dropout(0.33)(x)\n",
        "  out = Dense(1, activation='sigmoid', name='out')(x)\n",
        "\n",
        "  _model = Model(inputs=[input1], outputs=[out])\n",
        "  _model.summary()\n",
        "\n",
        "  _model.compile(optimizer=Adam(), loss='binary_crossentropy', \n",
        "                 metrics=[tf.keras.metrics.AUC(curve='ROC', name='auroc'), \n",
        "                          tf.keras.metrics.AUC(curve='PR', name='auprc')])\n",
        "  return _model\n",
        "\n",
        "model = create_model()"
      ],
      "execution_count": 215,
      "outputs": [
        {
          "output_type": "stream",
          "text": [
            "Model: \"functional_1\"\n",
            "_________________________________________________________________\n",
            "Layer (type)                 Output Shape              Param #   \n",
            "=================================================================\n",
            "input1 (InputLayer)          [(None, 30)]              0         \n",
            "_________________________________________________________________\n",
            "dense (Dense)                (None, 96)                2976      \n",
            "_________________________________________________________________\n",
            "batch_normalization (BatchNo (None, 96)                384       \n",
            "_________________________________________________________________\n",
            "elu (ELU)                    (None, 96)                0         \n",
            "_________________________________________________________________\n",
            "dropout (Dropout)            (None, 96)                0         \n",
            "_________________________________________________________________\n",
            "dense_1 (Dense)              (None, 96)                9312      \n",
            "_________________________________________________________________\n",
            "batch_normalization_1 (Batch (None, 96)                384       \n",
            "_________________________________________________________________\n",
            "elu_1 (ELU)                  (None, 96)                0         \n",
            "_________________________________________________________________\n",
            "dropout_1 (Dropout)          (None, 96)                0         \n",
            "_________________________________________________________________\n",
            "dense_2 (Dense)              (None, 96)                9312      \n",
            "_________________________________________________________________\n",
            "batch_normalization_2 (Batch (None, 96)                384       \n",
            "_________________________________________________________________\n",
            "elu_2 (ELU)                  (None, 96)                0         \n",
            "_________________________________________________________________\n",
            "dropout_2 (Dropout)          (None, 96)                0         \n",
            "_________________________________________________________________\n",
            "out (Dense)                  (None, 1)                 97        \n",
            "=================================================================\n",
            "Total params: 22,849\n",
            "Trainable params: 22,273\n",
            "Non-trainable params: 576\n",
            "_________________________________________________________________\n"
          ],
          "name": "stdout"
        }
      ]
    },
    {
      "cell_type": "code",
      "metadata": {
        "colab_type": "code",
        "id": "9ac3uBH2t3UR",
        "colab": {
          "base_uri": "https://localhost:8080/",
          "height": 357
        },
        "outputId": "26b8aaf5-e560-44a2-deb6-d771fdf47f5b"
      },
      "source": [
        "checkpoint_filepath = 'model_no_scaling_time_amount.h5'\n",
        "mc = ModelCheckpoint(checkpoint_filepath, verbose=0, save_weights_only=True, \n",
        "                     monitor='val_auprc', mode='max', save_best_only=True)\n",
        "\n",
        "es = EarlyStopping(monitor='val_auprc', patience=10, verbose=1, mode='max')\n",
        "\n",
        "BATCH_SIZE=256\n",
        "history = model.fit(x_train, y_train, epochs=10, verbose=2, callbacks=[es, mc], \n",
        "                    validation_data=(x_val, y_val), batch_size=BATCH_SIZE)"
      ],
      "execution_count": 216,
      "outputs": [
        {
          "output_type": "stream",
          "text": [
            "Epoch 1/10\n",
            "713/713 - 7s - loss: 0.0920 - auroc: 0.5066 - auprc: 0.0018 - val_loss: 0.0131 - val_auroc: 0.5000 - val_auprc: 0.0017\n",
            "Epoch 2/10\n",
            "713/713 - 7s - loss: 0.0163 - auroc: 0.5040 - auprc: 0.0017 - val_loss: 0.0138 - val_auroc: 0.5000 - val_auprc: 0.0017\n",
            "Epoch 3/10\n",
            "713/713 - 7s - loss: 0.0156 - auroc: 0.5013 - auprc: 0.0018 - val_loss: 0.0140 - val_auroc: 0.5000 - val_auprc: 0.0017\n",
            "Epoch 4/10\n",
            "713/713 - 7s - loss: 0.0156 - auroc: 0.4956 - auprc: 0.0017 - val_loss: 0.0134 - val_auroc: 0.5000 - val_auprc: 0.0017\n",
            "Epoch 5/10\n",
            "713/713 - 7s - loss: 0.0153 - auroc: 0.5046 - auprc: 0.0018 - val_loss: 0.0130 - val_auroc: 0.5000 - val_auprc: 0.0017\n",
            "Epoch 6/10\n",
            "713/713 - 7s - loss: 0.0150 - auroc: 0.4864 - auprc: 0.0016 - val_loss: 0.0131 - val_auroc: 0.5000 - val_auprc: 0.0017\n",
            "Epoch 7/10\n",
            "713/713 - 7s - loss: 0.0146 - auroc: 0.4992 - auprc: 0.0017 - val_loss: 0.0129 - val_auroc: 0.5000 - val_auprc: 0.0017\n",
            "Epoch 8/10\n",
            "713/713 - 7s - loss: 0.0141 - auroc: 0.5146 - auprc: 0.0019 - val_loss: 0.0130 - val_auroc: 0.5000 - val_auprc: 0.0017\n",
            "Epoch 9/10\n",
            "713/713 - 7s - loss: 0.0139 - auroc: 0.5003 - auprc: 0.0017 - val_loss: 0.0127 - val_auroc: 0.5000 - val_auprc: 0.0017\n",
            "Epoch 10/10\n",
            "713/713 - 7s - loss: 0.0140 - auroc: 0.5028 - auprc: 0.0017 - val_loss: 0.0127 - val_auroc: 0.5000 - val_auprc: 0.0017\n"
          ],
          "name": "stdout"
        }
      ]
    },
    {
      "cell_type": "code",
      "metadata": {
        "colab_type": "code",
        "id": "0dPsBU9gt3US",
        "colab": {
          "base_uri": "https://localhost:8080/",
          "height": 51
        },
        "outputId": "08de2213-d73d-4eee-abb6-1e2c5d6f1cd4"
      },
      "source": [
        "model.load_weights(checkpoint_filepath)\n",
        "model.evaluate(x_test, y_test)"
      ],
      "execution_count": 217,
      "outputs": [
        {
          "output_type": "stream",
          "text": [
            "1781/1781 [==============================] - 9s 5ms/step - loss: 0.0130 - auroc: 0.5000 - auprc: 0.0017\n"
          ],
          "name": "stdout"
        },
        {
          "output_type": "execute_result",
          "data": {
            "text/plain": [
              "[0.013035649433732033, 0.5, 0.001720445230603218]"
            ]
          },
          "metadata": {
            "tags": []
          },
          "execution_count": 217
        }
      ]
    },
    {
      "cell_type": "code",
      "metadata": {
        "colab_type": "code",
        "id": "PearKdxyt3UT",
        "colab": {
          "base_uri": "https://localhost:8080/",
          "height": 839
        },
        "outputId": "934d7cc0-a579-4f2a-acf2-fcd24993e435"
      },
      "source": [
        "plot_results(history)"
      ],
      "execution_count": 218,
      "outputs": [
        {
          "output_type": "display_data",
          "data": {
            "image/png": "[encoded data removed]",
            "text/plain": [
              "<Figure size 1440x1008 with 2 Axes>"
            ]
          },
          "metadata": {
            "tags": [],
            "needs_background": "light"
          }
        }
      ]
    },
    {
      "cell_type": "markdown",
      "metadata": {
        "id": "cpF5AnzWuoMw",
        "colab_type": "text"
      },
      "source": [
        "### My code with scaling/normalization"
      ]
    },
    {
      "cell_type": "code",
      "metadata": {
        "colab_type": "code",
        "id": "Trxy_PIJu7gt",
        "colab": {
          "base_uri": "https://localhost:8080/",
          "height": 224
        },
        "outputId": "2ceacb5f-6045-4892-ab4c-c655798ff699"
      },
      "source": [
        "dataset = pd.read_csv(dataset_path)\n",
        "dataset.head()"
      ],
      "execution_count": 259,
      "outputs": [
        {
          "output_type": "execute_result",
          "data": {
            "text/html": [
              "<div>\n",
              "<style scoped>\n",
              "    .dataframe tbody tr th:only-of-type {\n",
              "        vertical-align: middle;\n",
              "    }\n",
              "\n",
              "    .dataframe tbody tr th {\n",
              "        vertical-align: top;\n",
              "    }\n",
              "\n",
              "    .dataframe thead th {\n",
              "        text-align: right;\n",
              "    }\n",
              "</style>\n",
              "<table border=\"1\" class=\"dataframe\">\n",
              "  <thead>\n",
              "    <tr style=\"text-align: right;\">\n",
              "      <th></th>\n",
              "      <th>Time</th>\n",
              "      <th>V1</th>\n",
              "      <th>V2</th>\n",
              "      <th>V3</th>\n",
              "      <th>V4</th>\n",
              "      <th>V5</th>\n",
              "      <th>V6</th>\n",
              "      <th>V7</th>\n",
              "      <th>V8</th>\n",
              "      <th>V9</th>\n",
              "      <th>V10</th>\n",
              "      <th>V11</th>\n",
              "      <th>V12</th>\n",
              "      <th>V13</th>\n",
              "      <th>V14</th>\n",
              "      <th>V15</th>\n",
              "      <th>V16</th>\n",
              "      <th>V17</th>\n",
              "      <th>V18</th>\n",
              "      <th>V19</th>\n",
              "      <th>V20</th>\n",
              "      <th>V21</th>\n",
              "      <th>V22</th>\n",
              "      <th>V23</th>\n",
              "      <th>V24</th>\n",
              "      <th>V25</th>\n",
              "      <th>V26</th>\n",
              "      <th>V27</th>\n",
              "      <th>V28</th>\n",
              "      <th>Amount</th>\n",
              "      <th>Class</th>\n",
              "    </tr>\n",
              "  </thead>\n",
              "  <tbody>\n",
              "    <tr>\n",
              "      <th>0</th>\n",
              "      <td>0.0</td>\n",
              "      <td>-1.359807</td>\n",
              "      <td>-0.072781</td>\n",
              "      <td>2.536347</td>\n",
              "      <td>1.378155</td>\n",
              "      <td>-0.338321</td>\n",
              "      <td>0.462388</td>\n",
              "      <td>0.239599</td>\n",
              "      <td>0.098698</td>\n",
              "      <td>0.363787</td>\n",
              "      <td>0.090794</td>\n",
              "      <td>-0.551600</td>\n",
              "      <td>-0.617801</td>\n",
              "      <td>-0.991390</td>\n",
              "      <td>-0.311169</td>\n",
              "      <td>1.468177</td>\n",
              "      <td>-0.470401</td>\n",
              "      <td>0.207971</td>\n",
              "      <td>0.025791</td>\n",
              "      <td>0.403993</td>\n",
              "      <td>0.251412</td>\n",
              "      <td>-0.018307</td>\n",
              "      <td>0.277838</td>\n",
              "      <td>-0.110474</td>\n",
              "      <td>0.066928</td>\n",
              "      <td>0.128539</td>\n",
              "      <td>-0.189115</td>\n",
              "      <td>0.133558</td>\n",
              "      <td>-0.021053</td>\n",
              "      <td>149.62</td>\n",
              "      <td>0</td>\n",
              "    </tr>\n",
              "    <tr>\n",
              "      <th>1</th>\n",
              "      <td>0.0</td>\n",
              "      <td>1.191857</td>\n",
              "      <td>0.266151</td>\n",
              "      <td>0.166480</td>\n",
              "      <td>0.448154</td>\n",
              "      <td>0.060018</td>\n",
              "      <td>-0.082361</td>\n",
              "      <td>-0.078803</td>\n",
              "      <td>0.085102</td>\n",
              "      <td>-0.255425</td>\n",
              "      <td>-0.166974</td>\n",
              "      <td>1.612727</td>\n",
              "      <td>1.065235</td>\n",
              "      <td>0.489095</td>\n",
              "      <td>-0.143772</td>\n",
              "      <td>0.635558</td>\n",
              "      <td>0.463917</td>\n",
              "      <td>-0.114805</td>\n",
              "      <td>-0.183361</td>\n",
              "      <td>-0.145783</td>\n",
              "      <td>-0.069083</td>\n",
              "      <td>-0.225775</td>\n",
              "      <td>-0.638672</td>\n",
              "      <td>0.101288</td>\n",
              "      <td>-0.339846</td>\n",
              "      <td>0.167170</td>\n",
              "      <td>0.125895</td>\n",
              "      <td>-0.008983</td>\n",
              "      <td>0.014724</td>\n",
              "      <td>2.69</td>\n",
              "      <td>0</td>\n",
              "    </tr>\n",
              "    <tr>\n",
              "      <th>2</th>\n",
              "      <td>1.0</td>\n",
              "      <td>-1.358354</td>\n",
              "      <td>-1.340163</td>\n",
              "      <td>1.773209</td>\n",
              "      <td>0.379780</td>\n",
              "      <td>-0.503198</td>\n",
              "      <td>1.800499</td>\n",
              "      <td>0.791461</td>\n",
              "      <td>0.247676</td>\n",
              "      <td>-1.514654</td>\n",
              "      <td>0.207643</td>\n",
              "      <td>0.624501</td>\n",
              "      <td>0.066084</td>\n",
              "      <td>0.717293</td>\n",
              "      <td>-0.165946</td>\n",
              "      <td>2.345865</td>\n",
              "      <td>-2.890083</td>\n",
              "      <td>1.109969</td>\n",
              "      <td>-0.121359</td>\n",
              "      <td>-2.261857</td>\n",
              "      <td>0.524980</td>\n",
              "      <td>0.247998</td>\n",
              "      <td>0.771679</td>\n",
              "      <td>0.909412</td>\n",
              "      <td>-0.689281</td>\n",
              "      <td>-0.327642</td>\n",
              "      <td>-0.139097</td>\n",
              "      <td>-0.055353</td>\n",
              "      <td>-0.059752</td>\n",
              "      <td>378.66</td>\n",
              "      <td>0</td>\n",
              "    </tr>\n",
              "    <tr>\n",
              "      <th>3</th>\n",
              "      <td>1.0</td>\n",
              "      <td>-0.966272</td>\n",
              "      <td>-0.185226</td>\n",
              "      <td>1.792993</td>\n",
              "      <td>-0.863291</td>\n",
              "      <td>-0.010309</td>\n",
              "      <td>1.247203</td>\n",
              "      <td>0.237609</td>\n",
              "      <td>0.377436</td>\n",
              "      <td>-1.387024</td>\n",
              "      <td>-0.054952</td>\n",
              "      <td>-0.226487</td>\n",
              "      <td>0.178228</td>\n",
              "      <td>0.507757</td>\n",
              "      <td>-0.287924</td>\n",
              "      <td>-0.631418</td>\n",
              "      <td>-1.059647</td>\n",
              "      <td>-0.684093</td>\n",
              "      <td>1.965775</td>\n",
              "      <td>-1.232622</td>\n",
              "      <td>-0.208038</td>\n",
              "      <td>-0.108300</td>\n",
              "      <td>0.005274</td>\n",
              "      <td>-0.190321</td>\n",
              "      <td>-1.175575</td>\n",
              "      <td>0.647376</td>\n",
              "      <td>-0.221929</td>\n",
              "      <td>0.062723</td>\n",
              "      <td>0.061458</td>\n",
              "      <td>123.50</td>\n",
              "      <td>0</td>\n",
              "    </tr>\n",
              "    <tr>\n",
              "      <th>4</th>\n",
              "      <td>2.0</td>\n",
              "      <td>-1.158233</td>\n",
              "      <td>0.877737</td>\n",
              "      <td>1.548718</td>\n",
              "      <td>0.403034</td>\n",
              "      <td>-0.407193</td>\n",
              "      <td>0.095921</td>\n",
              "      <td>0.592941</td>\n",
              "      <td>-0.270533</td>\n",
              "      <td>0.817739</td>\n",
              "      <td>0.753074</td>\n",
              "      <td>-0.822843</td>\n",
              "      <td>0.538196</td>\n",
              "      <td>1.345852</td>\n",
              "      <td>-1.119670</td>\n",
              "      <td>0.175121</td>\n",
              "      <td>-0.451449</td>\n",
              "      <td>-0.237033</td>\n",
              "      <td>-0.038195</td>\n",
              "      <td>0.803487</td>\n",
              "      <td>0.408542</td>\n",
              "      <td>-0.009431</td>\n",
              "      <td>0.798278</td>\n",
              "      <td>-0.137458</td>\n",
              "      <td>0.141267</td>\n",
              "      <td>-0.206010</td>\n",
              "      <td>0.502292</td>\n",
              "      <td>0.219422</td>\n",
              "      <td>0.215153</td>\n",
              "      <td>69.99</td>\n",
              "      <td>0</td>\n",
              "    </tr>\n",
              "  </tbody>\n",
              "</table>\n",
              "</div>"
            ],
            "text/plain": [
              "   Time        V1        V2        V3  ...       V27       V28  Amount  Class\n",
              "0   0.0 -1.359807 -0.072781  2.536347  ...  0.133558 -0.021053  149.62      0\n",
              "1   0.0  1.191857  0.266151  0.166480  ... -0.008983  0.014724    2.69      0\n",
              "2   1.0 -1.358354 -1.340163  1.773209  ... -0.055353 -0.059752  378.66      0\n",
              "3   1.0 -0.966272 -0.185226  1.792993  ...  0.062723  0.061458  123.50      0\n",
              "4   2.0 -1.158233  0.877737  1.548718  ...  0.219422  0.215153   69.99      0\n",
              "\n",
              "[5 rows x 31 columns]"
            ]
          },
          "metadata": {
            "tags": []
          },
          "execution_count": 259
        }
      ]
    },
    {
      "cell_type": "code",
      "metadata": {
        "id": "8quqxrY_vLT7",
        "colab_type": "code",
        "colab": {}
      },
      "source": [
        "from sklearn.preprocessing import RobustScaler\n",
        "scaler = RobustScaler()\n",
        "\n",
        "dataset['scaled_amount'] = scaler.fit_transform(dataset['Amount'].values.reshape(-1,1))\n",
        "dataset['scaled_time'] = scaler.fit_transform(dataset['Time'].values.reshape(-1,1))\n",
        "\n",
        "dataset.drop(['Time','Amount'], axis=1, inplace=True)"
      ],
      "execution_count": 260,
      "outputs": []
    },
    {
      "cell_type": "markdown",
      "metadata": {
        "colab_type": "text",
        "id": "Of-yTHq8u7g8"
      },
      "source": [
        "### Along with having a common metric, AUPRC, for comparison, it is important to have the same test data to run the metric against. So how about we all use the following approach"
      ]
    },
    {
      "cell_type": "code",
      "metadata": {
        "colab_type": "code",
        "id": "ePb9a2gHu7g8",
        "colab": {}
      },
      "source": [
        "from sklearn.model_selection import train_test_split\n",
        "\n",
        "train_dataset, test_dataset = train_test_split(dataset, stratify=dataset['Class'], test_size=0.2, random_state=51)"
      ],
      "execution_count": 261,
      "outputs": []
    },
    {
      "cell_type": "markdown",
      "metadata": {
        "colab_type": "text",
        "id": "VzH4GPf1u7g-"
      },
      "source": [
        "### It is not necessary for comparison, but many people will further split the training data into training and validation via something like"
      ]
    },
    {
      "cell_type": "code",
      "metadata": {
        "colab_type": "code",
        "id": "taHvZiSlu7g_",
        "colab": {}
      },
      "source": [
        "train_dataset, validation_dataset = train_test_split(train_dataset, stratify=train_dataset['Class'], test_size=0.2, random_state=51)"
      ],
      "execution_count": 262,
      "outputs": []
    },
    {
      "cell_type": "code",
      "metadata": {
        "colab_type": "code",
        "id": "Wcd8o9-eu7hB",
        "colab": {
          "base_uri": "https://localhost:8080/",
          "height": 34
        },
        "outputId": "84407d70-2ea1-49d6-dd1a-afdcbcf26441"
      },
      "source": [
        "print(train_dataset.shape, validation_dataset.shape, test_dataset.shape)"
      ],
      "execution_count": 263,
      "outputs": [
        {
          "output_type": "stream",
          "text": [
            "(182276, 31) (45569, 31) (56962, 31)\n"
          ],
          "name": "stdout"
        }
      ]
    },
    {
      "cell_type": "code",
      "metadata": {
        "colab_type": "code",
        "id": "nCnzUmDpu7hC",
        "colab": {
          "base_uri": "https://localhost:8080/",
          "height": 34
        },
        "outputId": "5c142629-0e68-4071-9eb0-4b87522f1d1f"
      },
      "source": [
        "print(100*train_dataset.shape[0]/dataset.shape[0], 100*validation_dataset.shape[0]/dataset.shape[0], 100*test_dataset.shape[0]/dataset.shape[0])"
      ],
      "execution_count": 264,
      "outputs": [
        {
          "output_type": "stream",
          "text": [
            "63.99983146481652 15.99995786620413 20.000210668979342\n"
          ],
          "name": "stdout"
        }
      ]
    },
    {
      "cell_type": "code",
      "metadata": {
        "id": "CQ7fhZSJvo6t",
        "colab_type": "code",
        "colab": {}
      },
      "source": [
        "train_labels = train_dataset.pop('Class')\n",
        "validation_labels = validation_dataset.pop('Class')\n",
        "test_labels = test_dataset.pop('Class')"
      ],
      "execution_count": 265,
      "outputs": []
    },
    {
      "cell_type": "code",
      "metadata": {
        "colab_type": "code",
        "id": "xLFiCfEyunrk",
        "colab": {}
      },
      "source": [
        "def build_model():\n",
        "  tf.keras.backend.clear_session()\n",
        "\n",
        "  model = keras.Sequential([\n",
        "    layers.Dense(128, activation='relu', input_shape=[len(train_dataset.keys())]),\n",
        "    layers.BatchNormalization(),\n",
        "    layers.Dropout(0.33),\n",
        "    layers.Dense(64, activation='relu'),\n",
        "    layers.BatchNormalization(),\n",
        "    layers.Dropout(0.33),\n",
        "    layers.Dense(32, activation='relu'),\n",
        "    layers.BatchNormalization(),\n",
        "    layers.Dropout(0.33),\n",
        "    layers.Dense(1, activation='sigmoid')\n",
        "  ])\n",
        "\n",
        "  model.compile(loss='binary_crossentropy',\n",
        "                optimizer=tf.keras.optimizers.Adam(),\n",
        "                metrics=[tf.keras.metrics.AUC(curve='ROC', name='auroc'), \n",
        "                          tf.keras.metrics.AUC(curve='PR', name='auprc')])\n",
        "  \n",
        "  model.summary()\n",
        "\n",
        "  return model"
      ],
      "execution_count": 266,
      "outputs": []
    },
    {
      "cell_type": "code",
      "metadata": {
        "colab_type": "code",
        "id": "TrgXBMQyunrm",
        "colab": {
          "base_uri": "https://localhost:8080/",
          "height": 493
        },
        "outputId": "ff698f25-7e0f-4657-d6cb-d559e45d171d"
      },
      "source": [
        "model = build_model()"
      ],
      "execution_count": 267,
      "outputs": [
        {
          "output_type": "stream",
          "text": [
            "Model: \"sequential\"\n",
            "_________________________________________________________________\n",
            "Layer (type)                 Output Shape              Param #   \n",
            "=================================================================\n",
            "dense (Dense)                (None, 128)               3968      \n",
            "_________________________________________________________________\n",
            "batch_normalization (BatchNo (None, 128)               512       \n",
            "_________________________________________________________________\n",
            "dropout (Dropout)            (None, 128)               0         \n",
            "_________________________________________________________________\n",
            "dense_1 (Dense)              (None, 64)                8256      \n",
            "_________________________________________________________________\n",
            "batch_normalization_1 (Batch (None, 64)                256       \n",
            "_________________________________________________________________\n",
            "dropout_1 (Dropout)          (None, 64)                0         \n",
            "_________________________________________________________________\n",
            "dense_2 (Dense)              (None, 32)                2080      \n",
            "_________________________________________________________________\n",
            "batch_normalization_2 (Batch (None, 32)                128       \n",
            "_________________________________________________________________\n",
            "dropout_2 (Dropout)          (None, 32)                0         \n",
            "_________________________________________________________________\n",
            "dense_3 (Dense)              (None, 1)                 33        \n",
            "=================================================================\n",
            "Total params: 15,233\n",
            "Trainable params: 14,785\n",
            "Non-trainable params: 448\n",
            "_________________________________________________________________\n"
          ],
          "name": "stdout"
        }
      ]
    },
    {
      "cell_type": "code",
      "metadata": {
        "colab_type": "code",
        "id": "pbW6bQRzunrp",
        "colab": {}
      },
      "source": [
        "checkpoint_filepath = 'Structured-Data-Credit-Card-Fraud-Detection-v3.h5'\n",
        "\n",
        "model_checkpoint = tf.keras.callbacks.ModelCheckpoint(checkpoint_filepath, verbose=0, save_weights_only=True, \n",
        "                                                      monitor='val_auprc', mode='max', save_best_only=True)\n",
        "\n",
        "early_stopping = tf.keras.callbacks.EarlyStopping(monitor='val_auprc', patience=10, verbose=1, mode='max')"
      ],
      "execution_count": 268,
      "outputs": []
    },
    {
      "cell_type": "code",
      "metadata": {
        "colab_type": "code",
        "id": "JyYkFzzwunrq",
        "colab": {
          "base_uri": "https://localhost:8080/",
          "height": 1000
        },
        "outputId": "6f185339-81f6-4f3d-a71b-c5fd009838a1"
      },
      "source": [
        "EPOCHS = 100\n",
        "BATCH_SIZE = 256\n",
        "\n",
        "history_v3 = model.fit(\n",
        "  train_dataset, train_labels,\n",
        "  epochs=EPOCHS, \n",
        "  validation_data = (validation_dataset, validation_labels), \n",
        "  batch_size=BATCH_SIZE,\n",
        "  verbose=2,\n",
        "  callbacks=[model_checkpoint, early_stopping]\n",
        "  )"
      ],
      "execution_count": 269,
      "outputs": [
        {
          "output_type": "stream",
          "text": [
            "Epoch 1/100\n",
            "713/713 - 7s - loss: 0.1925 - auroc: 0.7291 - auprc: 0.1118 - val_loss: 0.0125 - val_auroc: 0.9131 - val_auprc: 0.7180\n",
            "Epoch 2/100\n",
            "713/713 - 7s - loss: 0.0117 - auroc: 0.8799 - auprc: 0.4835 - val_loss: 0.0062 - val_auroc: 0.9365 - val_auprc: 0.7603\n",
            "Epoch 3/100\n",
            "713/713 - 7s - loss: 0.0072 - auroc: 0.9094 - auprc: 0.5511 - val_loss: 0.0051 - val_auroc: 0.9303 - val_auprc: 0.7471\n",
            "Epoch 4/100\n",
            "713/713 - 7s - loss: 0.0059 - auroc: 0.9137 - auprc: 0.6528 - val_loss: 0.0044 - val_auroc: 0.9366 - val_auprc: 0.7556\n",
            "Epoch 5/100\n",
            "713/713 - 7s - loss: 0.0057 - auroc: 0.9279 - auprc: 0.6206 - val_loss: 0.0044 - val_auroc: 0.9429 - val_auprc: 0.7665\n",
            "Epoch 6/100\n",
            "713/713 - 6s - loss: 0.0049 - auroc: 0.9220 - auprc: 0.6748 - val_loss: 0.0041 - val_auroc: 0.9366 - val_auprc: 0.7575\n",
            "Epoch 7/100\n",
            "713/713 - 6s - loss: 0.0046 - auroc: 0.9255 - auprc: 0.6975 - val_loss: 0.0038 - val_auroc: 0.9429 - val_auprc: 0.7750\n",
            "Epoch 8/100\n",
            "713/713 - 7s - loss: 0.0044 - auroc: 0.9349 - auprc: 0.7003 - val_loss: 0.0035 - val_auroc: 0.9366 - val_auprc: 0.7764\n",
            "Epoch 9/100\n",
            "713/713 - 7s - loss: 0.0044 - auroc: 0.9383 - auprc: 0.7005 - val_loss: 0.0033 - val_auroc: 0.9554 - val_auprc: 0.7884\n",
            "Epoch 10/100\n",
            "713/713 - 7s - loss: 0.0039 - auroc: 0.9400 - auprc: 0.7147 - val_loss: 0.0036 - val_auroc: 0.9429 - val_auprc: 0.7781\n",
            "Epoch 11/100\n",
            "713/713 - 7s - loss: 0.0039 - auroc: 0.9353 - auprc: 0.7152 - val_loss: 0.0026 - val_auroc: 0.9490 - val_auprc: 0.8038\n",
            "Epoch 12/100\n",
            "713/713 - 6s - loss: 0.0036 - auroc: 0.9433 - auprc: 0.7569 - val_loss: 0.0037 - val_auroc: 0.9615 - val_auprc: 0.7908\n",
            "Epoch 13/100\n",
            "713/713 - 7s - loss: 0.0036 - auroc: 0.9416 - auprc: 0.7259 - val_loss: 0.0028 - val_auroc: 0.9554 - val_auprc: 0.7953\n",
            "Epoch 14/100\n",
            "713/713 - 7s - loss: 0.0036 - auroc: 0.9450 - auprc: 0.7487 - val_loss: 0.0026 - val_auroc: 0.9554 - val_auprc: 0.8193\n",
            "Epoch 15/100\n",
            "713/713 - 7s - loss: 0.0032 - auroc: 0.9513 - auprc: 0.7823 - val_loss: 0.0028 - val_auroc: 0.9365 - val_auprc: 0.7945\n",
            "Epoch 16/100\n",
            "713/713 - 6s - loss: 0.0032 - auroc: 0.9481 - auprc: 0.7879 - val_loss: 0.0026 - val_auroc: 0.9429 - val_auprc: 0.8177\n",
            "Epoch 17/100\n",
            "713/713 - 6s - loss: 0.0032 - auroc: 0.9514 - auprc: 0.7754 - val_loss: 0.0022 - val_auroc: 0.9554 - val_auprc: 0.8513\n",
            "Epoch 18/100\n",
            "713/713 - 6s - loss: 0.0029 - auroc: 0.9594 - auprc: 0.7981 - val_loss: 0.0022 - val_auroc: 0.9491 - val_auprc: 0.8628\n",
            "Epoch 19/100\n",
            "713/713 - 7s - loss: 0.0029 - auroc: 0.9672 - auprc: 0.7929 - val_loss: 0.0024 - val_auroc: 0.9554 - val_auprc: 0.8359\n",
            "Epoch 20/100\n",
            "713/713 - 7s - loss: 0.0029 - auroc: 0.9594 - auprc: 0.7864 - val_loss: 0.0026 - val_auroc: 0.9617 - val_auprc: 0.8460\n",
            "Epoch 21/100\n",
            "713/713 - 7s - loss: 0.0026 - auroc: 0.9628 - auprc: 0.8221 - val_loss: 0.0022 - val_auroc: 0.9618 - val_auprc: 0.8854\n",
            "Epoch 22/100\n",
            "713/713 - 7s - loss: 0.0027 - auroc: 0.9674 - auprc: 0.8138 - val_loss: 0.0023 - val_auroc: 0.9555 - val_auprc: 0.8690\n",
            "Epoch 23/100\n",
            "713/713 - 6s - loss: 0.0026 - auroc: 0.9706 - auprc: 0.8263 - val_loss: 0.0025 - val_auroc: 0.9428 - val_auprc: 0.8489\n",
            "Epoch 24/100\n",
            "713/713 - 7s - loss: 0.0026 - auroc: 0.9627 - auprc: 0.8340 - val_loss: 0.0023 - val_auroc: 0.9492 - val_auprc: 0.8642\n",
            "Epoch 25/100\n",
            "713/713 - 6s - loss: 0.0025 - auroc: 0.9644 - auprc: 0.8458 - val_loss: 0.0021 - val_auroc: 0.9617 - val_auprc: 0.8818\n",
            "Epoch 26/100\n",
            "713/713 - 6s - loss: 0.0025 - auroc: 0.9724 - auprc: 0.8324 - val_loss: 0.0022 - val_auroc: 0.9681 - val_auprc: 0.8892\n",
            "Epoch 27/100\n",
            "713/713 - 7s - loss: 0.0025 - auroc: 0.9643 - auprc: 0.8357 - val_loss: 0.0022 - val_auroc: 0.9553 - val_auprc: 0.8820\n",
            "Epoch 28/100\n",
            "713/713 - 7s - loss: 0.0023 - auroc: 0.9739 - auprc: 0.8516 - val_loss: 0.0024 - val_auroc: 0.9492 - val_auprc: 0.8686\n",
            "Epoch 29/100\n",
            "713/713 - 7s - loss: 0.0024 - auroc: 0.9661 - auprc: 0.8409 - val_loss: 0.0023 - val_auroc: 0.9616 - val_auprc: 0.8796\n",
            "Epoch 30/100\n",
            "713/713 - 7s - loss: 0.0022 - auroc: 0.9741 - auprc: 0.8693 - val_loss: 0.0024 - val_auroc: 0.9490 - val_auprc: 0.8665\n",
            "Epoch 31/100\n",
            "713/713 - 6s - loss: 0.0022 - auroc: 0.9756 - auprc: 0.8570 - val_loss: 0.0023 - val_auroc: 0.9617 - val_auprc: 0.8789\n",
            "Epoch 32/100\n",
            "713/713 - 7s - loss: 0.0022 - auroc: 0.9709 - auprc: 0.8695 - val_loss: 0.0022 - val_auroc: 0.9680 - val_auprc: 0.8888\n",
            "Epoch 33/100\n",
            "713/713 - 7s - loss: 0.0022 - auroc: 0.9740 - auprc: 0.8635 - val_loss: 0.0024 - val_auroc: 0.9554 - val_auprc: 0.8785\n",
            "Epoch 34/100\n",
            "713/713 - 6s - loss: 0.0020 - auroc: 0.9741 - auprc: 0.8770 - val_loss: 0.0024 - val_auroc: 0.9554 - val_auprc: 0.8604\n",
            "Epoch 35/100\n",
            "713/713 - 7s - loss: 0.0022 - auroc: 0.9803 - auprc: 0.8573 - val_loss: 0.0022 - val_auroc: 0.9618 - val_auprc: 0.8814\n",
            "Epoch 36/100\n",
            "713/713 - 7s - loss: 0.0020 - auroc: 0.9789 - auprc: 0.8788 - val_loss: 0.0023 - val_auroc: 0.9555 - val_auprc: 0.8798\n",
            "Epoch 00036: early stopping\n"
          ],
          "name": "stdout"
        }
      ]
    },
    {
      "cell_type": "code",
      "metadata": {
        "colab_type": "code",
        "id": "o_IRSQEkunrs",
        "colab": {
          "base_uri": "https://localhost:8080/",
          "height": 839
        },
        "outputId": "44f43aee-72e7-498c-da68-453319f6187a"
      },
      "source": [
        "plot_results(history_v3)"
      ],
      "execution_count": 270,
      "outputs": [
        {
          "output_type": "display_data",
          "data": {
            "image/png": "[encoded data removed]",
            "text/plain": [
              "<Figure size 1440x1008 with 2 Axes>"
            ]
          },
          "metadata": {
            "tags": [],
            "needs_background": "light"
          }
        }
      ]
    },
    {
      "cell_type": "code",
      "metadata": {
        "id": "__QA-SRsw4fo",
        "colab_type": "code",
        "colab": {
          "base_uri": "https://localhost:8080/",
          "height": 34
        },
        "outputId": "4f52eb80-b63b-4bb0-b2f1-32ed116ff1b3"
      },
      "source": [
        "y_pred = model.predict(test_dataset)\n",
        "auprc = tf.keras.metrics.AUC(curve='PR')\n",
        "auprc.update_state(test_labels, y_pred)\n",
        "TF_Model_AUPRC = auprc.result().numpy()\n",
        "TF_Model_AUPRC"
      ],
      "execution_count": 271,
      "outputs": [
        {
          "output_type": "execute_result",
          "data": {
            "text/plain": [
              "0.8083322"
            ]
          },
          "metadata": {
            "tags": []
          },
          "execution_count": 271
        }
      ]
    },
    {
      "cell_type": "code",
      "metadata": {
        "id": "aPe8ZrALxHB4",
        "colab_type": "code",
        "colab": {
          "base_uri": "https://localhost:8080/",
          "height": 85
        },
        "outputId": "7cfe7c3e-939d-45dd-cf3c-ffd5deabafce"
      },
      "source": [
        "TF_Model_metrics = compute_metrics(test_labels, y_pred)\n",
        "print_metrics(TF_Model_metrics)"
      ],
      "execution_count": 272,
      "outputs": [
        {
          "output_type": "stream",
          "text": [
            "Fraudulent Transactions Detected (True Positives): 78\n",
            "Fraudulent Transactions Missed (False Negatives): 20\n",
            "Legitimate Transactions Incorrectly Detected (False Positives): 12\n",
            "Legitimate Transactions Detected (True Negatives): 56852\n"
          ],
          "name": "stdout"
        }
      ]
    },
    {
      "cell_type": "code",
      "metadata": {
        "id": "aKD73mapxMZo",
        "colab_type": "code",
        "colab": {}
      },
      "source": [
        ""
      ],
      "execution_count": null,
      "outputs": []
    }
  ]
}